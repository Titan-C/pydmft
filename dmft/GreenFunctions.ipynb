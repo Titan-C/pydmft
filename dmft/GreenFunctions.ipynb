{
 "metadata": {
  "name": "",
  "signature": "sha256:82650acce00446b754149ad6d5eca11785cef88a0595805c16222b81a95c9e2d"
 },
 "nbformat": 3,
 "nbformat_minor": 0,
 "worksheets": [
  {
   "cells": [
    {
     "cell_type": "code",
     "collapsed": false,
     "input": [
      "import sympy\n",
      "sympy.init_printing()"
     ],
     "language": "python",
     "metadata": {},
     "outputs": [],
     "prompt_number": 39
    },
    {
     "cell_type": "code",
     "collapsed": false,
     "input": [
      "mu, ei, eu, ed, vu, vd, w = sympy.symbols('mu epsilon_d epsilon_\\uparrow \\epsilon_\\downarrow V_\\uparrow V_\\downarrow omega')"
     ],
     "language": "python",
     "metadata": {},
     "outputs": [],
     "prompt_number": 40
    },
    {
     "cell_type": "code",
     "collapsed": false,
     "input": [
      "G=sympy.eye(4)*w-sympy.Matrix([[ei-mu, vu, 0,0],[vu,eu-mu,0,0],[0,0,ei-mu, vd],[0,0,vd,ed-mu]])"
     ],
     "language": "python",
     "metadata": {},
     "outputs": [],
     "prompt_number": 41
    },
    {
     "cell_type": "code",
     "collapsed": false,
     "input": [
      "G"
     ],
     "language": "python",
     "metadata": {},
     "outputs": [
      {
       "latex": [
        "$$\\left[\\begin{matrix}- \\epsilon_{d} + \\mu + \\omega & - V_{\\uparrow} & 0 & 0\\\\- V_{\\uparrow} & - \\epsilon_{\\uparrow} + \\mu + \\omega & 0 & 0\\\\0 & 0 & - \\epsilon_{d} + \\mu + \\omega & - V_{\\downarrow}\\\\0 & 0 & - V_{\\downarrow} & - \\epsilon_{\\downarrow} + \\mu + \\omega\\end{matrix}\\right]$$"
       ],
       "metadata": {},
       "output_type": "pyout",
       "png": "[encoded data removed]",
       "prompt_number": 42,
       "text": [
        "\u23a1-\u03b5_d + \u03bc + \u03c9      -V_\\uparrow            0                     0             \n",
        "\u23a2                                                                             \n",
        "\u23a2-V_\\uparrow   -\u03b5_\\uparrow + \u03bc + \u03c9        0                     0             \n",
        "\u23a2                                                                             \n",
        "\u23a2     0                 0           -\u03b5_d + \u03bc + \u03c9          -V_\\downarrow       \n",
        "\u23a2                                                                             \n",
        "\u23a3     0                 0           -V_\\downarrow  -\\epsilon_\\downarrow + \u03bc + \n",
        "\n",
        " \u23a4\n",
        " \u23a5\n",
        " \u23a5\n",
        " \u23a5\n",
        " \u23a5\n",
        " \u23a5\n",
        "\u03c9\u23a6"
       ]
      }
     ],
     "prompt_number": 42
    },
    {
     "cell_type": "code",
     "collapsed": false,
     "input": [
      "sympy.simplify(G.inverse_ADJ())"
     ],
     "language": "python",
     "metadata": {},
     "outputs": [
      {
       "latex": [
        "$$\\left[\\begin{matrix}\\frac{\\epsilon_{\\uparrow} - \\mu - \\omega}{V_{\\uparrow}^{2} - \\epsilon_{\\uparrow} \\epsilon_{d} + \\epsilon_{\\uparrow} \\mu + \\epsilon_{\\uparrow} \\omega + \\epsilon_{d} \\mu + \\epsilon_{d} \\omega - \\mu^{2} - 2 \\mu \\omega - \\omega^{2}} & - \\frac{V_{\\uparrow}}{V_{\\uparrow}^{2} - \\epsilon_{\\uparrow} \\epsilon_{d} + \\epsilon_{\\uparrow} \\mu + \\epsilon_{\\uparrow} \\omega + \\epsilon_{d} \\mu + \\epsilon_{d} \\omega - \\mu^{2} - 2 \\mu \\omega - \\omega^{2}} & 0 & 0\\\\- \\frac{V_{\\uparrow}}{V_{\\uparrow}^{2} - \\epsilon_{\\uparrow} \\epsilon_{d} + \\epsilon_{\\uparrow} \\mu + \\epsilon_{\\uparrow} \\omega + \\epsilon_{d} \\mu + \\epsilon_{d} \\omega - \\mu^{2} - 2 \\mu \\omega - \\omega^{2}} & \\frac{\\epsilon_{d} - \\mu - \\omega}{V_{\\uparrow}^{2} - \\epsilon_{\\uparrow} \\epsilon_{d} + \\epsilon_{\\uparrow} \\mu + \\epsilon_{\\uparrow} \\omega + \\epsilon_{d} \\mu + \\epsilon_{d} \\omega - \\mu^{2} - 2 \\mu \\omega - \\omega^{2}} & 0 & 0\\\\0 & 0 & \\frac{\\epsilon_{\\downarrow} - \\mu - \\omega}{V_{\\downarrow}^{2} - \\epsilon_{\\downarrow} \\epsilon_{d} + \\epsilon_{\\downarrow} \\mu + \\epsilon_{\\downarrow} \\omega + \\epsilon_{d} \\mu + \\epsilon_{d} \\omega - \\mu^{2} - 2 \\mu \\omega - \\omega^{2}} & - \\frac{V_{\\downarrow}}{V_{\\downarrow}^{2} - \\epsilon_{\\downarrow} \\epsilon_{d} + \\epsilon_{\\downarrow} \\mu + \\epsilon_{\\downarrow} \\omega + \\epsilon_{d} \\mu + \\epsilon_{d} \\omega - \\mu^{2} - 2 \\mu \\omega - \\omega^{2}}\\\\0 & 0 & - \\frac{V_{\\downarrow}}{V_{\\downarrow}^{2} - \\epsilon_{\\downarrow} \\epsilon_{d} + \\epsilon_{\\downarrow} \\mu + \\epsilon_{\\downarrow} \\omega + \\epsilon_{d} \\mu + \\epsilon_{d} \\omega - \\mu^{2} - 2 \\mu \\omega - \\omega^{2}} & \\frac{\\epsilon_{d} - \\mu - \\omega}{V_{\\downarrow}^{2} - \\epsilon_{\\downarrow} \\epsilon_{d} + \\epsilon_{\\downarrow} \\mu + \\epsilon_{\\downarrow} \\omega + \\epsilon_{d} \\mu + \\epsilon_{d} \\omega - \\mu^{2} - 2 \\mu \\omega - \\omega^{2}}\\end{matrix}\\right]$$"
       ],
       "metadata": {},
       "output_type": "pyout",
       "png": "[encoded data removed]",
       "prompt_number": 43,
       "text": [
        "\u23a1                                     \u03b5_\\uparrow - \u03bc - \u03c9                      \n",
        "\u23a2\u2500\u2500\u2500\u2500\u2500\u2500\u2500\u2500\u2500\u2500\u2500\u2500\u2500\u2500\u2500\u2500\u2500\u2500\u2500\u2500\u2500\u2500\u2500\u2500\u2500\u2500\u2500\u2500\u2500\u2500\u2500\u2500\u2500\u2500\u2500\u2500\u2500\u2500\u2500\u2500\u2500\u2500\u2500\u2500\u2500\u2500\u2500\u2500\u2500\u2500\u2500\u2500\u2500\u2500\u2500\u2500\u2500\u2500\u2500\u2500\u2500\u2500\u2500\u2500\u2500\u2500\u2500\u2500\u2500\u2500\u2500\u2500\u2500\u2500\u2500\u2500\u2500\n",
        "\u23a2          2                                                                  \n",
        "\u23a2V_\\uparrow  - \u03b5_\\uparrow\u22c5\u03b5_d + \u03b5_\\uparrow\u22c5\u03bc + \u03b5_\\uparrow\u22c5\u03c9 + \u03b5_d\u22c5\u03bc + \u03b5_d\u22c5\u03c9 - \n",
        "\u23a2                                                                             \n",
        "\u23a2                                        -V_\\uparrow                          \n",
        "\u23a2\u2500\u2500\u2500\u2500\u2500\u2500\u2500\u2500\u2500\u2500\u2500\u2500\u2500\u2500\u2500\u2500\u2500\u2500\u2500\u2500\u2500\u2500\u2500\u2500\u2500\u2500\u2500\u2500\u2500\u2500\u2500\u2500\u2500\u2500\u2500\u2500\u2500\u2500\u2500\u2500\u2500\u2500\u2500\u2500\u2500\u2500\u2500\u2500\u2500\u2500\u2500\u2500\u2500\u2500\u2500\u2500\u2500\u2500\u2500\u2500\u2500\u2500\u2500\u2500\u2500\u2500\u2500\u2500\u2500\u2500\u2500\u2500\u2500\u2500\u2500\u2500\u2500\n",
        "\u23a2          2                                                                  \n",
        "\u23a2V_\\uparrow  - \u03b5_\\uparrow\u22c5\u03b5_d + \u03b5_\\uparrow\u22c5\u03bc + \u03b5_\\uparrow\u22c5\u03c9 + \u03b5_d\u22c5\u03bc + \u03b5_d\u22c5\u03c9 - \n",
        "\u23a2                                                                             \n",
        "\u23a2                                                                             \n",
        "\u23a2                                             0                               \n",
        "\u23a2                                                                             \n",
        "\u23a2                                                                             \n",
        "\u23a2                                                                             \n",
        "\u23a2                                                                             \n",
        "\u23a2                                             0                               \n",
        "\u23a2                                                                             \n",
        "\u23a3                                                                             \n",
        "\n",
        "                                                         -V_\\uparrow          \n",
        "\u2500\u2500\u2500\u2500\u2500\u2500\u2500\u2500\u2500\u2500\u2500\u2500\u2500\u2500\u2500  \u2500\u2500\u2500\u2500\u2500\u2500\u2500\u2500\u2500\u2500\u2500\u2500\u2500\u2500\u2500\u2500\u2500\u2500\u2500\u2500\u2500\u2500\u2500\u2500\u2500\u2500\u2500\u2500\u2500\u2500\u2500\u2500\u2500\u2500\u2500\u2500\u2500\u2500\u2500\u2500\u2500\u2500\u2500\u2500\u2500\u2500\u2500\u2500\u2500\u2500\u2500\u2500\u2500\u2500\u2500\u2500\u2500\u2500\u2500\u2500\u2500\n",
        " 2            2            2                                                  \n",
        "\u03bc  - 2\u22c5\u03bc\u22c5\u03c9 - \u03c9   V_\\uparrow  - \u03b5_\\uparrow\u22c5\u03b5_d + \u03b5_\\uparrow\u22c5\u03bc + \u03b5_\\uparrow\u22c5\u03c9 + \n",
        "                                                                              \n",
        "                                                         \u03b5_d - \u03bc - \u03c9          \n",
        "\u2500\u2500\u2500\u2500\u2500\u2500\u2500\u2500\u2500\u2500\u2500\u2500\u2500\u2500\u2500  \u2500\u2500\u2500\u2500\u2500\u2500\u2500\u2500\u2500\u2500\u2500\u2500\u2500\u2500\u2500\u2500\u2500\u2500\u2500\u2500\u2500\u2500\u2500\u2500\u2500\u2500\u2500\u2500\u2500\u2500\u2500\u2500\u2500\u2500\u2500\u2500\u2500\u2500\u2500\u2500\u2500\u2500\u2500\u2500\u2500\u2500\u2500\u2500\u2500\u2500\u2500\u2500\u2500\u2500\u2500\u2500\u2500\u2500\u2500\u2500\u2500\n",
        " 2            2            2                                                  \n",
        "\u03bc  - 2\u22c5\u03bc\u22c5\u03c9 - \u03c9   V_\\uparrow  - \u03b5_\\uparrow\u22c5\u03b5_d + \u03b5_\\uparrow\u22c5\u03bc + \u03b5_\\uparrow\u22c5\u03c9 + \n",
        "                                                                              \n",
        "                                                                              \n",
        "                                                              0               \n",
        "                                                                              \n",
        "                                                                              \n",
        "                                                                              \n",
        "                                                                              \n",
        "                                                              0               \n",
        "                                                                              \n",
        "                                                                              \n",
        "\n",
        "                                                                              \n",
        "\u2500\u2500\u2500\u2500\u2500\u2500\u2500\u2500\u2500\u2500\u2500\u2500\u2500\u2500\u2500\u2500\u2500\u2500\u2500\u2500\u2500\u2500\u2500\u2500\u2500\u2500\u2500\u2500\u2500\u2500\u2500                                               \n",
        "                 2            2                                               \n",
        "\u03b5_d\u22c5\u03bc + \u03b5_d\u22c5\u03c9 - \u03bc  - 2\u22c5\u03bc\u22c5\u03c9 - \u03c9                                                \n",
        "                                                                              \n",
        "                                                                              \n",
        "\u2500\u2500\u2500\u2500\u2500\u2500\u2500\u2500\u2500\u2500\u2500\u2500\u2500\u2500\u2500\u2500\u2500\u2500\u2500\u2500\u2500\u2500\u2500\u2500\u2500\u2500\u2500\u2500\u2500\u2500\u2500                                               \n",
        "                 2            2                                               \n",
        "\u03b5_d\u22c5\u03bc + \u03b5_d\u22c5\u03c9 - \u03bc  - 2\u22c5\u03bc\u22c5\u03c9 - \u03c9                                                \n",
        "                                                                              \n",
        "                                                                              \n",
        "                                 \u2500\u2500\u2500\u2500\u2500\u2500\u2500\u2500\u2500\u2500\u2500\u2500\u2500\u2500\u2500\u2500\u2500\u2500\u2500\u2500\u2500\u2500\u2500\u2500\u2500\u2500\u2500\u2500\u2500\u2500\u2500\u2500\u2500\u2500\u2500\u2500\u2500\u2500\u2500\u2500\u2500\u2500\u2500\u2500\u2500\n",
        "                                             2                                \n",
        "                                 V_\\downarrow  - \\epsilon_\\downarrow\u22c5\u03b5_d + \\ep\n",
        "                                                                              \n",
        "                                                                              \n",
        "                                 \u2500\u2500\u2500\u2500\u2500\u2500\u2500\u2500\u2500\u2500\u2500\u2500\u2500\u2500\u2500\u2500\u2500\u2500\u2500\u2500\u2500\u2500\u2500\u2500\u2500\u2500\u2500\u2500\u2500\u2500\u2500\u2500\u2500\u2500\u2500\u2500\u2500\u2500\u2500\u2500\u2500\u2500\u2500\u2500\u2500\n",
        "                                             2                                \n",
        "                                 V_\\downarrow  - \\epsilon_\\downarrow\u22c5\u03b5_d + \\ep\n",
        "\n",
        "                                                                              \n",
        "               0                                                              \n",
        "                                                                              \n",
        "                                                                              \n",
        "                                                                              \n",
        "                                                                              \n",
        "               0                                                              \n",
        "                                                                              \n",
        "                                                                              \n",
        "                                                                              \n",
        "  \\epsilon_\\downarrow - \u03bc - \u03c9                                                 \n",
        "\u2500\u2500\u2500\u2500\u2500\u2500\u2500\u2500\u2500\u2500\u2500\u2500\u2500\u2500\u2500\u2500\u2500\u2500\u2500\u2500\u2500\u2500\u2500\u2500\u2500\u2500\u2500\u2500\u2500\u2500\u2500\u2500\u2500\u2500\u2500\u2500\u2500\u2500\u2500\u2500\u2500\u2500\u2500\u2500\u2500\u2500\u2500\u2500\u2500\u2500\u2500\u2500\u2500\u2500\u2500\u2500\u2500\u2500\u2500\u2500\u2500\u2500\u2500\u2500\u2500\u2500\u2500\u2500\u2500\u2500\u2500\u2500\u2500\u2500\u2500\u2500  \n",
        "                                                              2            2  \n",
        "silon_\\downarrow\u22c5\u03bc + \\epsilon_\\downarrow\u22c5\u03c9 + \u03b5_d\u22c5\u03bc + \u03b5_d\u22c5\u03c9 - \u03bc  - 2\u22c5\u03bc\u22c5\u03c9 - \u03c9   \n",
        "                                                                              \n",
        "         -V_\\downarrow                                                        \n",
        "\u2500\u2500\u2500\u2500\u2500\u2500\u2500\u2500\u2500\u2500\u2500\u2500\u2500\u2500\u2500\u2500\u2500\u2500\u2500\u2500\u2500\u2500\u2500\u2500\u2500\u2500\u2500\u2500\u2500\u2500\u2500\u2500\u2500\u2500\u2500\u2500\u2500\u2500\u2500\u2500\u2500\u2500\u2500\u2500\u2500\u2500\u2500\u2500\u2500\u2500\u2500\u2500\u2500\u2500\u2500\u2500\u2500\u2500\u2500\u2500\u2500\u2500\u2500\u2500\u2500\u2500\u2500\u2500\u2500\u2500\u2500\u2500\u2500\u2500\u2500\u2500  \n",
        "                                                              2            2  \n",
        "silon_\\downarrow\u22c5\u03bc + \\epsilon_\\downarrow\u22c5\u03c9 + \u03b5_d\u22c5\u03bc + \u03b5_d\u22c5\u03c9 - \u03bc  - 2\u22c5\u03bc\u22c5\u03c9 - \u03c9   \n",
        "\n",
        "                                                                              \n",
        "                                                            0                 \n",
        "                                                                              \n",
        "                                                                              \n",
        "                                                                              \n",
        "                                                                              \n",
        "                                                            0                 \n",
        "                                                                              \n",
        "                                                                              \n",
        "                                                                              \n",
        "                                                      -V_\\downarrow           \n",
        "\u2500\u2500\u2500\u2500\u2500\u2500\u2500\u2500\u2500\u2500\u2500\u2500\u2500\u2500\u2500\u2500\u2500\u2500\u2500\u2500\u2500\u2500\u2500\u2500\u2500\u2500\u2500\u2500\u2500\u2500\u2500\u2500\u2500\u2500\u2500\u2500\u2500\u2500\u2500\u2500\u2500\u2500\u2500\u2500\u2500\u2500\u2500\u2500\u2500\u2500\u2500\u2500\u2500\u2500\u2500\u2500\u2500\u2500\u2500\u2500\u2500\u2500\u2500\u2500\u2500\u2500\u2500\u2500\u2500\u2500\u2500\u2500\u2500\u2500\u2500\u2500\u2500\u2500\n",
        "            2                                                                 \n",
        "V_\\downarrow  - \\epsilon_\\downarrow\u22c5\u03b5_d + \\epsilon_\\downarrow\u22c5\u03bc + \\epsilon_\\do\n",
        "                                                                              \n",
        "                                                       \u03b5_d - \u03bc - \u03c9            \n",
        "\u2500\u2500\u2500\u2500\u2500\u2500\u2500\u2500\u2500\u2500\u2500\u2500\u2500\u2500\u2500\u2500\u2500\u2500\u2500\u2500\u2500\u2500\u2500\u2500\u2500\u2500\u2500\u2500\u2500\u2500\u2500\u2500\u2500\u2500\u2500\u2500\u2500\u2500\u2500\u2500\u2500\u2500\u2500\u2500\u2500\u2500\u2500\u2500\u2500\u2500\u2500\u2500\u2500\u2500\u2500\u2500\u2500\u2500\u2500\u2500\u2500\u2500\u2500\u2500\u2500\u2500\u2500\u2500\u2500\u2500\u2500\u2500\u2500\u2500\u2500\u2500\u2500\u2500\n",
        "            2                                                                 \n",
        "V_\\downarrow  - \\epsilon_\\downarrow\u22c5\u03b5_d + \\epsilon_\\downarrow\u22c5\u03bc + \\epsilon_\\do\n",
        "\n",
        "                                           \u23a4\n",
        "                                           \u23a5\n",
        "                                           \u23a5\n",
        "                                           \u23a5\n",
        "                                           \u23a5\n",
        "                                           \u23a5\n",
        "                                           \u23a5\n",
        "                                           \u23a5\n",
        "                                           \u23a5\n",
        "                                           \u23a5\n",
        "                                           \u23a5\n",
        "\u2500\u2500\u2500\u2500\u2500\u2500\u2500\u2500\u2500\u2500\u2500\u2500\u2500\u2500\u2500\u2500\u2500\u2500\u2500\u2500\u2500\u2500\u2500\u2500\u2500\u2500\u2500\u2500\u2500\u2500\u2500\u2500\u2500\u2500\u2500\u2500\u2500\u2500\u2500\u2500\u2500\u2500\u2500\u23a5\n",
        "                             2            2\u23a5\n",
        "wnarrow\u22c5\u03c9 + \u03b5_d\u22c5\u03bc + \u03b5_d\u22c5\u03c9 - \u03bc  - 2\u22c5\u03bc\u22c5\u03c9 - \u03c9 \u23a5\n",
        "                                           \u23a5\n",
        "                                           \u23a5\n",
        "\u2500\u2500\u2500\u2500\u2500\u2500\u2500\u2500\u2500\u2500\u2500\u2500\u2500\u2500\u2500\u2500\u2500\u2500\u2500\u2500\u2500\u2500\u2500\u2500\u2500\u2500\u2500\u2500\u2500\u2500\u2500\u2500\u2500\u2500\u2500\u2500\u2500\u2500\u2500\u2500\u2500\u2500\u2500\u23a5\n",
        "                             2            2\u23a5\n",
        "wnarrow\u22c5\u03c9 + \u03b5_d\u22c5\u03bc + \u03b5_d\u22c5\u03c9 - \u03bc  - 2\u22c5\u03bc\u22c5\u03c9 - \u03c9 \u23a6"
       ]
      }
     ],
     "prompt_number": 43
    },
    {
     "cell_type": "code",
     "collapsed": false,
     "input": [
      "g2=-sympy.Matrix([[ed-mu, vu],[vu,eu-mu]])+sympy.eye(2)*w\n",
      "sympy.simplify(g2.inverse_ADJ())"
     ],
     "language": "python",
     "metadata": {},
     "outputs": [
      {
       "latex": [
        "$$\\left[\\begin{matrix}\\frac{\\epsilon_{\\uparrow} - \\mu - \\omega}{V_{\\uparrow}^{2} - \\left(- \\epsilon_{\\downarrow} + \\mu + \\omega\\right) \\left(- \\epsilon_{\\uparrow} + \\mu + \\omega\\right)} & - \\frac{V_{\\uparrow}}{V_{\\uparrow}^{2} - \\left(- \\epsilon_{\\downarrow} + \\mu + \\omega\\right) \\left(- \\epsilon_{\\uparrow} + \\mu + \\omega\\right)}\\\\- \\frac{V_{\\uparrow}}{V_{\\uparrow}^{2} - \\left(- \\epsilon_{\\downarrow} + \\mu + \\omega\\right) \\left(- \\epsilon_{\\uparrow} + \\mu + \\omega\\right)} & \\frac{\\epsilon_{\\downarrow} - \\mu - \\omega}{V_{\\uparrow}^{2} - \\left(- \\epsilon_{\\downarrow} + \\mu + \\omega\\right) \\left(- \\epsilon_{\\uparrow} + \\mu + \\omega\\right)}\\end{matrix}\\right]$$"
       ],
       "metadata": {},
       "output_type": "pyout",
       "png": "[encoded data removed]",
       "prompt_number": 44,
       "text": [
        "\u23a1                        \u03b5_\\uparrow - \u03bc - \u03c9                                   \n",
        "\u23a2\u2500\u2500\u2500\u2500\u2500\u2500\u2500\u2500\u2500\u2500\u2500\u2500\u2500\u2500\u2500\u2500\u2500\u2500\u2500\u2500\u2500\u2500\u2500\u2500\u2500\u2500\u2500\u2500\u2500\u2500\u2500\u2500\u2500\u2500\u2500\u2500\u2500\u2500\u2500\u2500\u2500\u2500\u2500\u2500\u2500\u2500\u2500\u2500\u2500\u2500\u2500\u2500\u2500\u2500\u2500\u2500\u2500\u2500\u2500\u2500\u2500\u2500\u2500\u2500\u2500\u2500  \u2500\u2500\u2500\u2500\u2500\u2500\u2500\u2500\u2500\n",
        "\u23a2          2                                                                  \n",
        "\u23a2V_\\uparrow  - (-\\epsilon_\\downarrow + \u03bc + \u03c9)\u22c5(-\u03b5_\\uparrow + \u03bc + \u03c9)  V_\\uparro\n",
        "\u23a2                                                                             \n",
        "\u23a2                           -V_\\uparrow                                       \n",
        "\u23a2\u2500\u2500\u2500\u2500\u2500\u2500\u2500\u2500\u2500\u2500\u2500\u2500\u2500\u2500\u2500\u2500\u2500\u2500\u2500\u2500\u2500\u2500\u2500\u2500\u2500\u2500\u2500\u2500\u2500\u2500\u2500\u2500\u2500\u2500\u2500\u2500\u2500\u2500\u2500\u2500\u2500\u2500\u2500\u2500\u2500\u2500\u2500\u2500\u2500\u2500\u2500\u2500\u2500\u2500\u2500\u2500\u2500\u2500\u2500\u2500\u2500\u2500\u2500\u2500\u2500\u2500  \u2500\u2500\u2500\u2500\u2500\u2500\u2500\u2500\u2500\n",
        "\u23a2          2                                                                  \n",
        "\u23a3V_\\uparrow  - (-\\epsilon_\\downarrow + \u03bc + \u03c9)\u22c5(-\u03b5_\\uparrow + \u03bc + \u03c9)  V_\\uparro\n",
        "\n",
        "                  -V_\\uparrow                            \u23a4\n",
        "\u2500\u2500\u2500\u2500\u2500\u2500\u2500\u2500\u2500\u2500\u2500\u2500\u2500\u2500\u2500\u2500\u2500\u2500\u2500\u2500\u2500\u2500\u2500\u2500\u2500\u2500\u2500\u2500\u2500\u2500\u2500\u2500\u2500\u2500\u2500\u2500\u2500\u2500\u2500\u2500\u2500\u2500\u2500\u2500\u2500\u2500\u2500\u2500\u2500\u2500\u2500\u2500\u2500\u2500\u2500\u2500\u2500\u23a5\n",
        " 2                                                       \u23a5\n",
        "w  - (-\\epsilon_\\downarrow + \u03bc + \u03c9)\u22c5(-\u03b5_\\uparrow + \u03bc + \u03c9)\u23a5\n",
        "                                                         \u23a5\n",
        "          \\epsilon_\\downarrow - \u03bc - \u03c9                    \u23a5\n",
        "\u2500\u2500\u2500\u2500\u2500\u2500\u2500\u2500\u2500\u2500\u2500\u2500\u2500\u2500\u2500\u2500\u2500\u2500\u2500\u2500\u2500\u2500\u2500\u2500\u2500\u2500\u2500\u2500\u2500\u2500\u2500\u2500\u2500\u2500\u2500\u2500\u2500\u2500\u2500\u2500\u2500\u2500\u2500\u2500\u2500\u2500\u2500\u2500\u2500\u2500\u2500\u2500\u2500\u2500\u2500\u2500\u2500\u23a5\n",
        " 2                                                       \u23a5\n",
        "w  - (-\\epsilon_\\downarrow + \u03bc + \u03c9)\u22c5(-\u03b5_\\uparrow + \u03bc + \u03c9)\u23a6"
       ]
      }
     ],
     "prompt_number": 44
    },
    {
     "cell_type": "code",
     "collapsed": false,
     "input": [],
     "language": "python",
     "metadata": {},
     "outputs": [],
     "prompt_number": 44
    }
   ],
   "metadata": {}
  }
 ]
}