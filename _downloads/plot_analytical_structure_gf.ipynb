{
  "cells": [
    {
      "cell_type": "code",
      "execution_count": null,
      "metadata": {
        "collapsed": false
      },
      "outputs": [],
      "source": [
        "%matplotlib inline"
      ]
    },
    {
      "cell_type": "markdown",
      "metadata": {},
      "source": [
        "\n==================================================\nThe Analytical Structure of a the Green's Function\n==================================================\n\nHere I plot the form of the Green's function in the upper complex\nplane. To show the connection between the Matsubara Green's function\nan the real frequency retarded Green's function.\n\n"
      ]
    },
    {
      "cell_type": "code",
      "execution_count": null,
      "metadata": {
        "collapsed": false
      },
      "outputs": [],
      "source": [
        "# Created Sat Aug 13 23:55:28 2016\n# Author: \u00d3scar N\u00e1jera\n\nfrom __future__ import division, absolute_import, print_function\n\nimport matplotlib.pyplot as plt\nimport numpy as np\nfrom mpl_toolkits.mplot3d import Axes3D\nfrom dmft.ipt_imag import dmft_loop\nfrom dmft.common import greenF, tau_wn_setup, pade_coefficients, pade_rec, semi_circle_hiltrans\n\nplt.matplotlib.rcParams.update({'axes.labelsize': 22,\n                                'axes.titlesize': 22, 'figure.autolayout': True})\n\n\ndef plot_complex_gf(omega, jomega, w_n, function, eps=1e-3):\n    O, W = np.meshgrid(omega, np.concatenate(([eps], jomega)))\n    Z = O + 1j * W\n\n    green_func = function(Z)\n    real_green_func = function(omega + 1j * eps)\n    imag_green_func = function(1j * jomega)\n    mats_green_func = function(1j * w_n)\n\n    fig = plt.figure()\n    ax = fig.gca(projection='3d')\n\n    surf = ax.plot_surface(O, W, green_func.real, color='blue',\n                           alpha=0.2, rstride=1, cstride=1, linewidth=0)\n    surf = ax.plot_surface(O, W, green_func.imag,\n                           color='red', alpha=0.3, rstride=1, cstride=1, linewidth=0)\n    ax.plot(omega, np.zeros_like(omega), real_green_func.real, 'b-', lw=3)\n    ax.plot(omega, np.zeros_like(omega), real_green_func.imag, 'r-', lw=3)\n\n    ax.plot(np.zeros_like(w_n), w_n, mats_green_func.real, 'bs:')\n    ax.plot(np.zeros_like(w_n), w_n, mats_green_func.imag, 'rs:')\n\n    ax.set_xlabel(r'$\\omega$')\n    ax.set_ylabel(r'$i\\omega_n$')\n    ax.set_zlabel(r'$G(z)$')\n    return ax"
      ]
    },
    {
      "cell_type": "markdown",
      "metadata": {},
      "source": [
        "A free single particle\n----------------------\n\n"
      ]
    },
    {
      "cell_type": "code",
      "execution_count": null,
      "metadata": {
        "collapsed": false
      },
      "outputs": [],
      "source": [
        "omega = np.linspace(-3, 3, 150)\njomega = np.linspace(1e-4, 3, 100)\nax = plot_complex_gf(omega, jomega, jomega, lambda z: 1 / (z + 0.7))\nax.view_init(15, -64)\nax.set_zlim3d(-1., 1.)"
      ]
    },
    {
      "cell_type": "markdown",
      "metadata": {},
      "source": [
        "The Semi-Circular Density of states\n-----------------------------------\n\n"
      ]
    },
    {
      "cell_type": "code",
      "execution_count": null,
      "metadata": {
        "collapsed": false
      },
      "outputs": [],
      "source": [
        "ax = plot_complex_gf(omega, jomega, jomega, semi_circle_hiltrans)\nax.view_init(15, -64)\nax.set_zlim3d(-2., 1.)"
      ]
    },
    {
      "cell_type": "markdown",
      "metadata": {},
      "source": [
        "Results from IPT\n----------------\n\nStarting from the Metallic seed on the Bethe Lattice the DMFT\nequations are solved iteratively in by perturbation theory in the\nMatsubara axis. The resulting Green's function is then approximated\nby its Pad\u00e9 approximant which allows to evaluate it on the upper\ncomplex plane.\n\n"
      ]
    },
    {
      "cell_type": "code",
      "execution_count": null,
      "metadata": {
        "collapsed": false
      },
      "outputs": [],
      "source": [
        "beta = 90.\nU = 2.7\ntau, w_n = tau_wn_setup(dict(BETA=beta, N_MATSUBARA=1024))\ng_iwn0 = greenF(w_n)\ng_iwn, s_iwn = dmft_loop(U, 0.5, g_iwn0, w_n, tau, conv=1e-12)\nx = int(2 * beta)\nw_set = np.arange(x)\n\npc = pade_coefficients(g_iwn[w_set], w_n[w_set])\n\nax = plot_complex_gf(omega, np.linspace(1e-3, 1.2, 30), w_n[:17],\n                     lambda z: pade_rec(pc, z, w_n[w_set]))\nax.view_init(15, -64)\nax.set_zlim3d([-2, 1])"
      ]
    },
    {
      "cell_type": "markdown",
      "metadata": {},
      "source": [
        "For the insulating solution\n\n"
      ]
    },
    {
      "cell_type": "code",
      "execution_count": null,
      "metadata": {
        "collapsed": false
      },
      "outputs": [],
      "source": [
        "U = 3.2\ntau, w_n = tau_wn_setup(dict(BETA=beta, N_MATSUBARA=1024))\ng_iwn0 = greenF(w_n)\ng_iwn, s_iwn = dmft_loop(\n    U, 0.5, 1 / (1j * w_n - 1 / g_iwn0), w_n, tau, conv=1e-12)\nx = int(2 * beta)\nw_set = np.arange(x)\n\npc = pade_coefficients(g_iwn[w_set], w_n[w_set])\n\nax = plot_complex_gf(omega, np.linspace(1e-3, 1.2, 30), w_n[:17],\n                     lambda z: pade_rec(pc, z, w_n[w_set]))\nax.view_init(15, -60)\nax.set_zlim3d([-1.3, 0.7])"
      ]
    },
    {
      "cell_type": "markdown",
      "metadata": {},
      "source": [
        "I find it totally surprising how much information is contained in\neach version of the Greens function and how it forces the complete\nstructure to obey it.\n\n"
      ]
    }
  ],
  "metadata": {
    "kernelspec": {
      "display_name": "Python 3",
      "language": "python",
      "name": "python3"
    },
    "language_info": {
      "codemirror_mode": {
        "name": "ipython",
        "version": 3
      },
      "file_extension": ".py",
      "mimetype": "text/x-python",
      "name": "python",
      "nbconvert_exporter": "python",
      "pygments_lexer": "ipython3",
      "version": "3.6.1"
    }
  },
  "nbformat": 4,
  "nbformat_minor": 0
}