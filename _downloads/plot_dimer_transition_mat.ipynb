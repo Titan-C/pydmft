{
  "cells": [
    {
      "cell_type": "code",
      "execution_count": null,
      "metadata": {
        "collapsed": false
      },
      "outputs": [],
      "source": [
        "%matplotlib inline"
      ]
    },
    {
      "cell_type": "markdown",
      "metadata": {},
      "source": [
        "\nDimer Mott transition\n=====================\n\nFollow the spectral function from the correlated metal into the dimer\nMott insulator. The spectral functions is decomposed into the bonding\nand anti-bonding contributions to make it explicit that is is a\nphenomenon of the quasiparticles opening a band gap.\n\nUsing Matsubara frequency solver\n\n.. seealso::\n    `sphx_glr_dimer_lattice_nature_dimer_plot_order_param_transition.py`\n\n"
      ]
    },
    {
      "cell_type": "code",
      "execution_count": null,
      "metadata": {
        "collapsed": false
      },
      "outputs": [],
      "source": [
        "# author: \u00d3scar N\u00e1jera\n\nfrom __future__ import division, absolute_import, print_function\n\nimport numpy as np\nimport matplotlib.pyplot as plt\n\nimport dmft.common as gf\nfrom dmft import ipt_imag\nimport dmft.dimer as dimer\n\n\ndef ipt_u_tp(urange, tp, beta, w):\n\n    tau, w_n = gf.tau_wn_setup(dict(BETA=beta, N_MATSUBARA=2**11))\n    giw_d, giw_o = dimer.gf_met(w_n, 0., tp, 0.5, 0.)\n\n    w_set = list(np.arange(0, 120, 2))\n    w_set = w_set + list(np.arange(120, 512, 8))\n    imgss = []\n\n    for u_int in urange:\n        giw_d, giw_o, loops = dimer.ipt_dmft_loop(\n            beta, u_int, tp, giw_d, giw_o, tau, w_n, 1e-9)\n        g0iw_d, g0iw_o = dimer.self_consistency(\n            1j * w_n, 1j * giw_d.imag, giw_o.real, 0., tp, 0.25)\n        siw_d, siw_o = ipt_imag.dimer_sigma(\n            u_int, tp, g0iw_d, g0iw_o, tau, w_n)\n\n        ss = gf.pade_continuation(\n            1j * siw_d.imag + siw_o.real, w_n, w + 0.0005j, w_set)  # A-bond\n\n        imgss.append(gf.semi_circle_hiltrans(\n            w - tp - (ss.real - 1j * np.abs(ss.imag))))\n    return imgss\n\n\nw = np.linspace(-4, 4, 2**12)\nBETA = 512.\ntp = 0.3\nuranget3 = [0.2, 1., 2., 3., 3.45, 3.5]\nimgsst3 = ipt_u_tp(uranget3, tp, BETA, w)\n\ntp = 0.8\nuranget8 = [0.2, 1., 1.2, 1.35, 2., 3.]\nimgsst8 = ipt_u_tp(uranget8, tp, BETA, w)\n\n\ndef plot_dos(urange, imgss, ax, labelx):\n    for i, (U, gss) in enumerate(zip(urange, imgss)):\n        imgss = -gss.imag\n        imgsa = imgss[::-1]\n        ax[i].plot(w, imgsa, 'C0:', lw=0.5)\n        ax[i].plot(w, imgss, 'C1-.', lw=0.5)\n        ax[i].plot(w, (imgss + imgsa) / 2, 'k', lw=2.5)\n        ax[i].text(labelx, 1.7, r\"$U={}$\".format(U), size=16)\n        ax[i].set_yticks(np.arange(3))\n        ax[i].set_xticks(np.arange(-3, 4))\n\n    ax[i].set_xlabel(r'$\\omega$')\n    ax[i].set_xlim([-3.2, 3.2])\n    ax[i].set_ylim([0, 2.4])\n\n\nplt.rcParams['figure.autolayout'] = False\nplt.rcParams['axes.labelsize'] = 'medium'\nplt.rcParams[\"axes.grid\"] = False\nplt.rcParams[\"ytick.labelsize\"] = 'x-small'\nplt.rcParams[\"xtick.labelsize\"] = 'x-small'\nplt.close()\nfig, axes = plt.subplots(6, 2, sharex=True, sharey=True)\nplot_dos(uranget3, imgsst3, axes[:, 0], -3)\nplot_dos(uranget8, imgsst8, axes[:, 1], 1.)\naxes[0, 0].set_title(r'$t_\\perp=0.3$')\nfor ax in axes:\n    ax[0].set_ylabel(r'$A(\\omega)$')\naxes[0, 1].set_title(r'$t_\\perp=0.8$')\nplt.subplots_adjust(wspace=0.04, hspace=0.09)\n# plt.savefig('dimer_transition_spectra.pdf')\n# plt.close()"
      ]
    }
  ],
  "metadata": {
    "kernelspec": {
      "display_name": "Python 3",
      "language": "python",
      "name": "python3"
    },
    "language_info": {
      "codemirror_mode": {
        "name": "ipython",
        "version": 3
      },
      "file_extension": ".py",
      "mimetype": "text/x-python",
      "name": "python",
      "nbconvert_exporter": "python",
      "pygments_lexer": "ipython3",
      "version": "3.6.1"
    }
  },
  "nbformat": 4,
  "nbformat_minor": 0
}