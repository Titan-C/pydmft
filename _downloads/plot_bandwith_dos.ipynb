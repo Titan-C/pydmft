{
  "cells": [
    {
      "cell_type": "code",
      "execution_count": null,
      "metadata": {
        "collapsed": false
      },
      "outputs": [],
      "source": [
        "%matplotlib inline"
      ]
    },
    {
      "cell_type": "markdown",
      "metadata": {},
      "source": [
        "\n# Evolution of DOS as function of temperature\n\n\nUsing a real frequency solver in the IPT scheme the Density of states\nis tracked through the first orders transition.\n\n"
      ]
    },
    {
      "cell_type": "code",
      "execution_count": null,
      "metadata": {
        "collapsed": false
      },
      "outputs": [],
      "source": [
        "# Created Tue Jun 14 15:44:38 2016\n# Author: \u00d3scar N\u00e1jera\n\nfrom __future__ import division, absolute_import, print_function\n\nimport numpy as np\nimport scipy.signal as signal\nfrom scipy.integrate import trapz\nimport matplotlib.pyplot as plt\nfrom joblib import Parallel, delayed\n\nimport dmft.common as gf\nimport dmft.ipt_real as ipt\nfrom dmft.utils import optical_conductivity\n\nplt.matplotlib.rcParams.update({'axes.labelsize': 22,\n                                'xtick.labelsize': 14, 'ytick.labelsize': 14,\n                                'axes.titlesize': 22})\n\n\ndef loop_bandwidth(drange, tp, beta, seed='mott gap'):\n    \"\"\"Solves IPT dimer and return Im Sigma_AA, Re Simga_AB\n\n    returns list len(betarange) x 2 Sigma arrays\n\"\"\"\n\n    s = []\n    g = []\n    w = np.linspace(-6, 6, 2**13)\n    dw = w[1] - w[0]\n    gssi = gf.semi_circle_hiltrans(w + 5e-3j - tp - 1)\n    gsai = gf.semi_circle_hiltrans(w + 5e-3j + tp + 1)\n    nfp = gf.fermi_dist(w, beta)\n    for D in drange:\n        print('D/U: ', D, 'tp/U: ', tp, 'Beta', beta)\n        (gss, gsa), (ss, sa) = ipt.dimer_dmft(\n            1, tp, nfp, w, dw, gssi, gssi, conv=1e-2, t=(D / 2))\n        g.append((gss, gsa))\n        s.append((ss, sa))\n\n    return np.array(g), np.array(s), w, nfp\n\n\ndef plot_spectralfunc(gwi, drange, yshift=False):\n    plt.figure()\n    shift = 0\n    for (gss, gsa), D in zip(gwi, drange):\n        Awloc = -.5 * (gss + gsa).imag / np.pi\n        print(trapz(Awloc, w))\n        plt.plot(w,  Awloc, label=r'D/U={:.2}'.format(D))\n        plt.plot(w,  Awloc * nfp, 'k:')\n\n    plt.xlabel(r'$\\omega$')\n    plt.ylabel(r'$A(\\omega)$')\n    plt.legend(loc=0)\n    plt.xlim([-1.7, 0])\n\ndrange = 1 / np.array([2.5, 2.7, 2.9])\ngiw, swi, w, nfp = loop_bandwidth(drange, 0.2, 60)\nplot_spectralfunc(giw, drange)\nplt.title(r\"Bandwidth drop @ $t_\\perp/U=0.2$, $\\beta/U=60$\")\n\n#giw, swi, w, nfp = loop_bandwidth(drange, 0.3, 180)\n#plot_spectralfunc(giw, drange)\n#plt.title(r\"Bandwidth drop @ $t_\\perp/U=0.17$, $\\beta/U=150$\")"
      ]
    }
  ],
  "metadata": {
    "kernelspec": {
      "display_name": "Python 3",
      "language": "python",
      "name": "python3"
    },
    "language_info": {
      "codemirror_mode": {
        "name": "ipython",
        "version": 3
      },
      "file_extension": ".py",
      "mimetype": "text/x-python",
      "name": "python",
      "nbconvert_exporter": "python",
      "pygments_lexer": "ipython3",
      "version": "3.6.1"
    }
  },
  "nbformat": 4,
  "nbformat_minor": 0
}