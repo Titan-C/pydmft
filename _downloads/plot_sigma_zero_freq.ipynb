{
  "cells": [
    {
      "cell_type": "code",
      "execution_count": null,
      "metadata": {
        "collapsed": false
      },
      "outputs": [],
      "source": [
        "%matplotlib inline"
      ]
    },
    {
      "cell_type": "markdown",
      "metadata": {},
      "source": [
        "\n# Zero frequency behavior of Sigma\n\n\n\n"
      ]
    },
    {
      "cell_type": "code",
      "execution_count": null,
      "metadata": {
        "collapsed": false
      },
      "outputs": [],
      "source": [
        "# Created Mon Mar  7 19:19:04 2016\n# Author: \u00d3scar N\u00e1jera\n\nfrom __future__ import division, absolute_import, print_function\n\n\nimport os\nfrom math import log, ceil\nimport numpy as np\nimport matplotlib.pyplot as plt\nimport dmft.common as gf\nimport dmft.dimer as dimer\nimport dmft.ipt_imag as ipt\n\n\ndef estimate_zero_w_sigma_U_vs_tp(tpr, u_range, beta, phase):\n    sd_zew, so_zew = [], []\n    tau, w_n = gf.tau_wn_setup(\n        dict(BETA=beta, N_MATSUBARA=max(2**ceil(log(8 * beta) / log(2)), 256)))\n    u_range = u_range if phase == 'met' else u_range[::-1]\n\n    save_file = 'dimer_ipt_{}_Z_B{}.npy'.format(phase, beta)\n    if os.path.exists(save_file):\n        return np.load(save_file)\n\n    for tp in tpr:\n        filestr = 'disk/phase_Dimer_ipt_{}_B{}/tp{:.3}/giw.npy'.format(\n            phase, beta, tp)\n        gfs = np.load(filestr)\n\n        for i, u_int in enumerate(u_range):\n            giw_d, giw_o = 1j * gfs[i][0], gfs[i][1]\n            g0iw_d, g0iw_o = dimer.self_consistency(\n                1j * w_n, giw_d, giw_o, 0., tp, 0.25)\n            siw_d, siw_o = ipt.dimer_sigma(u_int, tp, g0iw_d, g0iw_o, tau, w_n)\n            sd_zew.append(np.polyfit(w_n[:2], siw_d[:2].imag, 1))\n            so_zew.append(np.polyfit(w_n[:2], siw_o[:2].real, 1))\n\n    sd_zew = np.array(sd_zew).reshape(len(tpr), len(u_range), -1)\n    so_zew = np.array(so_zew).reshape(len(tpr), len(u_range), -1)\n    np.save(save_file, (sd_zew, so_zew))\n\n    return sd_zew, so_zew\n\n\ndef plot_z_diagram_U_vs_tp(tpr, ur, beta, ax):\n\n    x, y = np.meshgrid(tpr, ur)\n\n    sd_zew, so_zew = estimate_zero_w_sigma_U_vs_tp(tpr, ur, beta, 'met')\n    z = np.ma.masked_array(sd_zew[:, :, 0], sd_zew[:, :, 1] < -0.1)\n    ax.pcolormesh(x, y, 1 / (1 - z.T), cmap=plt.get_cmap(r'viridis'))\n\n    sd_zew, so_zew = estimate_zero_w_sigma_U_vs_tp(tpr, ur, beta, 'ins')\n    z = np.ma.masked_array(sd_zew[:, ::-1, 0], sd_zew[:, ::-1, 1] < -0.1)\n    ax.pcolormesh(x, y, 1 / (1 - z.T),\n                  cmap=plt.get_cmap(r'viridis'), alpha=0.2)\n    ax.axis([x.min(), x.max(), y.min(), y.max()])\n\nTPR = np.arange(0, 1.1, 0.02)\nUR = np.arange(0, 4.5, 0.1)\nf, ax = plt.subplots()\nplot_z_diagram_U_vs_tp(TPR, UR, 1000., ax)\n\n\ndef estimate_zero_w_sigma_T_vs_U(tp, u_range, temp, phase):\n    sd_zew, so_zew = [], []\n    u_range = u_range if phase == 'met' else u_range[::-1]\n\n    save_file = 'dimer_ipt_{}_Z_tp{:.2}.npy'.format(phase, tp)\n    if os.path.exists(save_file):\n        return np.load(save_file)\n\n    for T in temp:\n        beta = 1 / T\n        tau, w_n = gf.tau_wn_setup(\n            dict(BETA=beta, N_MATSUBARA=max(2**ceil(log(6 * beta) / log(2)), 256)))\n        filestr = 'disk/phase_Dimer_ipt_{}_tp{:.2}/B{:.5}/giw.npy'.format(\n            phase, tp, beta)\n        gfs = np.load(filestr)\n\n        for i, u_int in enumerate(u_range):\n            giw_d, giw_o = 1j * gfs[i][0], gfs[i][1]\n            g0iw_d, g0iw_o = dimer.self_consistency(\n                1j * w_n, giw_d, giw_o, 0., tp, 0.25)\n            siw_d, siw_o = ipt.dimer_sigma(u_int, tp, g0iw_d, g0iw_o, tau, w_n)\n            sd_zew.append(np.polyfit(w_n[:2], siw_d[:2].imag, 1))\n            so_zew.append(np.polyfit(w_n[:2], siw_o[:2].real, 1))\n\n    sd_zew = np.array(sd_zew).reshape(len(temp), len(u_range), -1)\n    so_zew = np.array(so_zew).reshape(len(temp), len(u_range), -1)\n    np.save(save_file, (sd_zew, so_zew))\n\n    return sd_zew, so_zew\n\n\ndef plot_z_diagram_T_vs_U(tp, ur, temp, ax):\n\n    x, y = np.meshgrid(ur, temp)\n\n    sd_zew, so_zew = estimate_zero_w_sigma_T_vs_U(tp, ur, temp, 'met')\n    z = np.ma.masked_array(sd_zew[:, :, 0], sd_zew[:, :, 0] > 70)\n    #z = sd_zew[:, :, 0]\n    c = ax.pcolormesh(x, y, z, cmap=plt.get_cmap(r'viridis'))\n    plt.colorbar(c)\n    CS = ax.contour(x, y, sd_zew[:, :, 1],\n                    levels=[-.5, -.1, -.005])\n    ax.clabel(CS, inline=1, fontsize=10)\n    CS = ax.contour(x, y, sd_zew[:, :, 0],\n                    levels=[-5, -.1, 0, 10])\n    ax.clabel(CS, inline=1, fontsize=10)\n\n#    sd_zew, so_zew = estimate_zero_w_sigma_T_vs_U(tp, ur, temp, 'ins')\n#    z = np.ma.masked_array(sd_zew[:, ::-1, 0], sd_zew[:, ::-1, 0] > 2)\n#    #z = sd_zew[:, ::-1, 0]\n#    ax.pcolormesh(x, y, - z, cmap=plt.get_cmap(r'viridis'), alpha=0.5)\n#    CS = ax.contour(x, y, sd_zew[:, ::-1, 1],\n#                    levels=-np.arange(.1, 5, .5)[::-1])\n#    ax.clabel(CS, inline=1, fontsize=10)\n#    CS = ax.contour(x, y, sd_zew[:, ::-1, 0],\n#                    levels=np.arange(-.1, 10, .5))\n#    ax.clabel(CS, inline=1, fontsize=10)\n    ax.axis([x.min(), x.max(), y.min(), y.max()])\n\nf, ax = plt.subplots()\nTEMP = np.arange(1 / 500., .14, 1 / 400.)\nplot_z_diagram_T_vs_U(0.3, UR, TEMP, ax)\nf, ax = plt.subplots()\nplot_z_diagram_T_vs_U(0., UR, TEMP, ax)"
      ]
    },
    {
      "cell_type": "code",
      "execution_count": null,
      "metadata": {
        "collapsed": false
      },
      "outputs": [],
      "source": [
        "def plot_z_diagram_U_vs_tp(tpr, ur, beta, ax):\n\n    x, y = np.meshgrid(tpr, ur)\n\n    sd_zew, so_zew = estimate_zero_w_sigma_U_vs_tp(tpr, ur, beta, 'met')\n    z = np.ma.masked_array(sd_zew[:, :, 0], sd_zew[:, :, 1] < -0.1)\n    ax[0].pcolormesh(x, y, 1 / (1 - z.T), cmap=plt.get_cmap(r'viridis'))\n    ax[0].axis([x.min(), x.max(), y.min(), y.max()])\n\n    sd_zew, so_zew = estimate_zero_w_sigma_U_vs_tp(tpr, ur, beta, 'ins')\n    z = np.ma.masked_array(sd_zew[:, ::-1, 0], sd_zew[:, ::-1, 1] < -0.1)\n    ax[1].pcolormesh(x, y, 1 / (1 - z.T),\n                     cmap=plt.get_cmap(r'viridis'))\n    ax[1].axis([x.min(), x.max(), y.min(), y.max()])\n\nf, ax = plt.subplots(3, 2, sharex=True)\n\nfor i, beta in enumerate([1000., 100., 30.]):\n    plot_z_diagram_U_vs_tp(TPR, UR, beta, ax[i])\n    ax[i][0].set_title(\n        'Phase diagram $\\\\beta={}$,\\n color represents $Z$'.format(beta))\nax[2][0].set_xlabel(r'$t_\\perp/D$')\nax[2][0].set_ylabel(r'$U/D$')"
      ]
    },
    {
      "cell_type": "markdown",
      "metadata": {},
      "source": [
        "Plots over the shapes of Sigma at zero frequency\n------------------------------------------------\n\n"
      ]
    },
    {
      "cell_type": "code",
      "execution_count": null,
      "metadata": {
        "collapsed": false
      },
      "outputs": [],
      "source": [
        "sdm_zew, som_zew = estimate_zero_w_sigma_U_vs_tp(TPR, UR, 100., 'met')\nsdi_zew, soi_zew = estimate_zero_w_sigma_U_vs_tp(TPR, UR, 100., 'ins')\n\nfor i, tp in list(enumerate(TPR))[:20:2]:\n    # \\Alpha\n    plt.figure()\n    plt.plot(UR, sdm_zew[i, :, 0], label='metal')\n    plt.plot(UR, sdi_zew[i, ::-1, 0], label='insulator')\n\n    min_y = np.min(np.concatenate((sdm_zew[i, :, 0], sdi_zew[i, ::-1, 0])))\n    #plt.ylim([min_y, 0])\n    plt.legend()\n    plt.ylabel(r'$\\alpha$')\n    plt.xlabel(r'U/D')\n    plt.title(r'$\\alpha$ tp{} $\\beta$=100'.format(tp))\n    plt.savefig('SIGMA_AA_alpha_tp{}_B100.png'.format(tp))\n    # plt.close()\n\n# \\Sigma AB\n    plt.figure()\n    plt.plot(UR, som_zew[i, :, 1], label='metal')\n    plt.plot(UR, soi_zew[i, ::-1, 1], label='insulator')\n\n    plt.legend()\n    plt.ylabel(r'$\\Sigma_{{AB}}(w=0)$')\n    plt.xlabel(r'U/D')\n    plt.title(r'$\\Sigma_{{AB}}(w=0)$ tp{} $\\beta$=100'.format(tp))\n    plt.savefig('SIGMA_AB_cut_tp{}_B100.png'.format(tp))\n    # plt.close()\n\n\nfor i, u_int in list(enumerate(UR))[20::3]:\n    # Alpha\n    plt.figure()\n    plt.plot(TPR, sdm_zew[:, i, 0], label='metal')\n    plt.plot(TPR, sdi_zew[:, -1 - i, 0], label='insulator')\n\n    min_y = np.min(np.concatenate((sdm_zew[:, i, 0], sdi_zew[:, -1 - i, 0])))\n    plt.ylim([min_y, 0])\n    plt.legend()\n    plt.ylabel(r'$\\alpha$')\n    plt.xlabel(r'tp/D')\n    plt.title(r'$\\alpha$ U{} $\\beta$=100'.format(u_int))\n    plt.savefig('SIGMA_AA_alpha_U{}_B100.png'.format(u_int))\n    # plt.close()\n\n# \\Sigma AB\n    plt.figure()\n    plt.plot(TPR, som_zew[:, i, 1], label='metal')\n    plt.plot(TPR, soi_zew[:, -1 - i, 1], label='insulator')\n\n    plt.legend()\n    plt.ylabel(r'$\\Sigma_{{AB}}(w=0)$')\n    plt.xlabel(r'tp/D')\n    plt.title(r'$\\Sigma_{{AB}}(w=0)$ U{} $\\beta$=100'.format(u_int))\n    plt.savefig('SIGMA_AB_cut_U{}_B100.png'.format(u_int))\n    # plt.close()"
      ]
    },
    {
      "cell_type": "markdown",
      "metadata": {},
      "source": [
        "Quasiparticle observables\n-------------------------\n\n"
      ]
    },
    {
      "cell_type": "code",
      "execution_count": null,
      "metadata": {
        "collapsed": false
      },
      "outputs": [],
      "source": [
        "for i, tp in list(enumerate(TPR))[::10]:\n    # Z\n    plt.figure()\n    plt.plot(UR, np.clip(1 / (1 - sdm_zew[i, :, 0]), 0, 1), label='metal')\n    plt.plot(UR, np.clip(\n        1 / (1 - sdi_zew[i, ::-1, 0]), 0, 1), label='insulator')\n\n    plt.legend()\n    plt.ylim([0, 1])\n    plt.ylabel(r'Z')\n    plt.xlabel(r'U/D')\n    plt.title(r'$Z$ tp{} $\\beta$=100'.format(tp))\n    plt.savefig('Z_tp{}_B100.png'.format(tp))\n    # plt.close()\n# Z \\Sigma AB\n    plt.figure()\n    plt.plot(UR, (tp + som_zew[i, :, 1]) * np.clip(1 /\n                                                   (1 - sdm_zew[i, :, 0]), 0, 1), label='metal')\n    plt.plot(UR, (tp + soi_zew[i, ::-1, 1]) * np.clip(1 /\n                                                      (1 - sdi_zew[i, ::-1, 0]), 0, 1), label='insulator')\n\n    plt.legend()\n    plt.ylabel(r'$Z(t_\\perp + \\Sigma_{{AB}}(w=0))$')\n    plt.xlabel(r'U/D')\n    plt.title(r'$Z(t_\\perp + \\Sigma_{{AB}}(w=0))$ tp{} $\\beta$=100'.format(tp))\n    plt.savefig('ZSIGMA_AB_cut_tp{}_B100.png'.format(tp))\n    # plt.close()\n\n\nfor i, u_int in list(enumerate(UR))[20::3]:\n    # Z\n    plt.figure()\n    plt.plot(TPR, np.clip(1 / (1 - sdm_zew[:, i, 0]), 0, 1), label='metal')\n    plt.plot(TPR, np.clip(\n        1 / (1 - sdi_zew[:, -1 - i, 0]), 0, 1), label='insulator')\n\n    min_y = np.min(np.concatenate((sdm_zew[:, i, 0], sdi_zew[:, -1 - i, 0])))\n    plt.ylim([0, 1])\n    plt.legend()\n    plt.ylabel(r'$Z$')\n    plt.xlabel(r'tp/D')\n    plt.title(r'$Z$ U{} $\\beta$=100'.format(u_int))\n    plt.savefig('Z_U{}_B100.png'.format(u_int))\n    # plt.close()\n# Z \\Sigma AB\n    plt.figure()\n    plt.plot(TPR, (tp + som_zew[:, i, 1]) * np.clip(1 /\n                                                    (1 - sdm_zew[:, i, 0]), 0, 1), label='metal')\n    plt.plot(TPR, (tp + soi_zew[:, -1 - i, 1]) * np.clip(1 /\n                                                         (1 - sdi_zew[:, -1 - i, 0]), 0, 1), label='insulator')\n\n    plt.legend()\n    plt.ylabel(r'$Z\\Sigma_{{AB}}(w=0)$')\n    plt.xlabel(r'tp/D')\n    plt.title(r'$Z\\Sigma_{{AB}}(w=0)$ U{} $\\beta$=100'.format(u_int))\n    plt.savefig('ZSIGMA_AB_cut_U{}_B100.png'.format(u_int))\n    # plt.close()"
      ]
    }
  ],
  "metadata": {
    "kernelspec": {
      "display_name": "Python 3",
      "language": "python",
      "name": "python3"
    },
    "language_info": {
      "codemirror_mode": {
        "name": "ipython",
        "version": 3
      },
      "file_extension": ".py",
      "mimetype": "text/x-python",
      "name": "python",
      "nbconvert_exporter": "python",
      "pygments_lexer": "ipython3",
      "version": "3.6.1"
    }
  },
  "nbformat": 4,
  "nbformat_minor": 0
}