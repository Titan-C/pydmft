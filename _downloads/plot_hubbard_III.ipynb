{
  "cells": [
    {
      "cell_type": "code",
      "execution_count": null,
      "metadata": {
        "collapsed": false
      },
      "outputs": [],
      "source": [
        "%matplotlib inline"
      ]
    },
    {
      "cell_type": "markdown",
      "metadata": {},
      "source": [
        "\n# Hubbard III for dimer\n\n\nDescribing the position of the Self-Energy pole in the diagonal basis\n\n"
      ]
    },
    {
      "cell_type": "code",
      "execution_count": null,
      "metadata": {
        "collapsed": false
      },
      "outputs": [],
      "source": [
        "# Created Mon Mar 14 13:56:37 2016\n# Author: \u00d3scar N\u00e1jera\nfrom __future__ import absolute_import, division, print_function\n\nimport matplotlib.pyplot as plt\nimport numpy as np\n\nimport dmft.common as gf\nimport dmft.dimer as dimer\nfrom dmft.plot import plot_band_dispersion\nimport slaveparticles.quantum.operators as op"
      ]
    },
    {
      "cell_type": "markdown",
      "metadata": {},
      "source": [
        "The Dimer limit\n---------------\n\nHere I study the shape of spectral function and the origin of its\npoles looking for the zeros of the self energy\n\n"
      ]
    },
    {
      "cell_type": "code",
      "execution_count": null,
      "metadata": {
        "collapsed": false
      },
      "outputs": [],
      "source": [
        "def molecule_sigma_d(omega, U, mu, tp, beta):\n    \"\"\"Return molecule self-energy in the given frequency axis\"\"\"\n\n    h_at, oper = dimer.hamiltonian_diag(U, mu, tp)\n    oper_pair = [[oper[0], oper[0]], [oper[1], oper[1]]]\n\n    eig_e, eig_v = op.diagonalize(h_at.todense())\n    gfsU = np.array([op.gf_lehmann(eig_e, eig_v, c.T, beta, omega, d)\n                     for c, d in oper_pair])\n\n    plt.plot(omega.real, -(gfsU[1]).imag, label='Anti-Bond')\n    plt.plot(omega.real, -(gfsU[0]).imag, label='Bond')\n    plt.xlabel(r'$\\omega$')\n    plt.ylabel(r'$A(\\omega)$')\n    plt.title(r'Isolated dimer $U={}$, $t_\\perp={}$, $\\beta={}$'.format(U, tp, beta))\n    plt.legend(loc=0)\n\n    return [omega + tp - 1 / gfsU[0], omega - tp - 1 / gfsU[1]]\n\n\nw = np.linspace(-3, 3, 800)\nU = 2.5\ntp = 0.3\n\n\nplt.figure()\nsig_b, sig_a = molecule_sigma_d(w + 5e-2j, U, 0, tp, 500)\nplt.plot(w, sig_a.real - w + tp, label=r'$\\Sigma_{A} - w + t_\\perp$')\nplt.plot(w, sig_b.real - w - tp, label=r'$\\Sigma_{B} - w - t_\\perp$')\nplt.legend(loc=0)"
      ]
    },
    {
      "cell_type": "markdown",
      "metadata": {},
      "source": [
        "Hubbard III approximation\n-------------------------\n\nTaking advantage of the rotated basis which is diagonal I can\nindependently treat each system on its own and solve 2 decoupled\nsystem equations.\n\nIn this case the poles of the green function are equally weighted,\nonly its position is correct, in comparison to the isolated dimer\ngreen function\n\n"
      ]
    },
    {
      "cell_type": "code",
      "execution_count": null,
      "metadata": {
        "collapsed": false
      },
      "outputs": [],
      "source": [
        "sp_2 = (U**2 + 16 * tp**2) / 4.\ng0_1_a = w - tp + 5e-2j + 2 * tp  # The excitation out of the singlet has\ng0_1_b = w + tp + 5e-2j - 2 * tp  # this extra contribution of 2tp\n\nplt.figure()\nx = .60\nplt.plot(w, -((1 - (1 - 2 * x) * sp_2 / g0_1_a) /\n              (g0_1_a - sp_2 / g0_1_a)).imag, label='Anti-bond')\nplt.plot(w, -((1 + (1 - 2 * x) * sp_2 / g0_1_b) /\n              (g0_1_b - sp_2 / g0_1_b)).imag, label='Bond')\nplt.xlabel(r'$\\omega$')\nplt.ylabel(r'$A(\\omega)$')\nplt.title(r'Isolated dimer approximation $U={}$, $t_\\perp={}$'.format(U, tp))\nplt.legend(loc=0)\n\nfor i in range(2000):\n    g0_1_a = w - tp - .25 * (1 - (1 - 2 * x) * sp_2 /\n                             g0_1_a) / (g0_1_a - sp_2 / g0_1_a)\n    g0_1_b = w + tp - .25 * (1 + (1 - 2 * x) * sp_2 /\n                             g0_1_b) / (g0_1_b - sp_2 / g0_1_b)"
      ]
    },
    {
      "cell_type": "markdown",
      "metadata": {},
      "source": [
        "The Self-Energy\n---------------\n\n"
      ]
    },
    {
      "cell_type": "code",
      "execution_count": null,
      "metadata": {
        "collapsed": false
      },
      "outputs": [],
      "source": [
        "plt.figure()\nsb = sp_2 * ((1 - 2 * x) + 1 / g0_1_b) / (1 + (1 - 2 * x) * sp_2 / g0_1_b)\nplt.plot(w, sb.real, label=r\"Re Bond\")\nplt.plot(w, sb.imag, label=r\"Im Bond\")\n\nsa = sp_2 * (-(1 - 2 * x) + 1 / g0_1_a) / (1 - (1 - 2 * x) * sp_2 / g0_1_a)\nplt.plot(w, sa.real, label=r\"Re Anti-Bond\")\nplt.plot(w, sa.imag, label=r\"Im Anti-Bond\")\n\nplt.ylabel(r'$\\Sigma(\\omega)$')\nplt.xlabel(r'$\\omega$')\nplt.title(r'$\\Sigma(\\omega)$ at $U= {}$'.format(U))\nplt.legend(loc=0)\nplt.ylim([-3.5, 2])"
      ]
    },
    {
      "cell_type": "markdown",
      "metadata": {},
      "source": [
        "The Green Function\n------------------\n\n"
      ]
    },
    {
      "cell_type": "code",
      "execution_count": null,
      "metadata": {
        "collapsed": false
      },
      "outputs": [],
      "source": [
        "plt.figure()\ng_b = 1 / (w + tp - sb)\nplt.plot(w, g_b.real, label=r\"Re Bond\")\nplt.plot(w, g_b.imag, label=r\"Im Bond\")\nplt.figure()\ng_b = gf.greenF(-1j * w, sb, tp)\nzeta = w + tp - sb\ng_b = 2 * zeta * (1 - np.sqrt(1 - 1 / zeta**2))\ng_b = 1 / (g0_1_b - sb)\nplt.plot(w, g_b.real, label=r\"Re Bond\")\nplt.plot(w, g_b.imag, label=r\"Im Bond\")\nplt.plot(w, sb.real - w - tp, label=r'$\\Sigma_{S} - w + t_\\perp$')\n\nplt.ylabel(r'$G(\\omega)$')\nplt.xlabel(r'$\\omega$')\nplt.title(r'$G(\\omega)$ at $U= {}$'.format(U))\nplt.ylim([-3.5, 2])\nplt.legend(loc=0)"
      ]
    },
    {
      "cell_type": "markdown",
      "metadata": {},
      "source": [
        "The Band Dispersion\n-------------------\n\n"
      ]
    },
    {
      "cell_type": "code",
      "execution_count": null,
      "metadata": {
        "collapsed": false
      },
      "outputs": [],
      "source": [
        "eps_k = np.linspace(-1, 1, 61)\nlat_gf = 1 / (np.add.outer(-eps_k, w + tp + 8e-2j) - sp_2 / g0_1_b) + \\\n    1 / (np.add.outer(-eps_k, w - tp + 8e-2j) - sp_2 / g0_1_a)\nAw = -lat_gf.imag / np.pi / 2\n\n\nplot_band_dispersion(w, Aw, 'Hubbard III band dispersion', eps_k)"
      ]
    }
  ],
  "metadata": {
    "kernelspec": {
      "display_name": "Python 3",
      "language": "python",
      "name": "python3"
    },
    "language_info": {
      "codemirror_mode": {
        "name": "ipython",
        "version": 3
      },
      "file_extension": ".py",
      "mimetype": "text/x-python",
      "name": "python",
      "nbconvert_exporter": "python",
      "pygments_lexer": "ipython3",
      "version": "3.6.1"
    }
  },
  "nbformat": 4,
  "nbformat_minor": 0
}