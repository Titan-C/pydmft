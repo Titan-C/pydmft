{
  "cells": [
    {
      "cell_type": "code",
      "execution_count": null,
      "metadata": {
        "collapsed": false
      },
      "outputs": [],
      "source": [
        "%matplotlib inline"
      ]
    },
    {
      "cell_type": "markdown",
      "metadata": {},
      "source": [
        "\nDimer Bethe lattice\n===================\n\nNon interacting dimer of a Bethe lattice\n\n"
      ]
    },
    {
      "cell_type": "code",
      "execution_count": null,
      "metadata": {
        "collapsed": false
      },
      "outputs": [],
      "source": [
        "import numpy as np\nimport matplotlib.pyplot as plt\nimport dmft.common as gf\nimport dmft.dimer as dimer"
      ]
    },
    {
      "cell_type": "markdown",
      "metadata": {},
      "source": [
        "Real frequency spectral function\n================================\n\n"
      ]
    },
    {
      "cell_type": "code",
      "execution_count": null,
      "metadata": {
        "collapsed": false
      },
      "outputs": [],
      "source": [
        "w = 1e-3j + np.linspace(-4, 4, 2**10)\nmu, t = 0, 0.5\nt2 = t**2\n\nplt.figure()\nfor tab in [0, 0.25, 0.5, 0.75, 1.1]:\n\n    Gd, Gc = dimer.gf_met(-1j * w, mu, tab, t, 0.)\n    Gd, Gc = dimer.self_consistency(w, Gd, Gc, mu, tab, t2)\n\n    plt.plot(w.real, -Gd.imag / np.pi, label=r'$t_c={}$'.format(tab))\n#    plt.plot(w.real, Gd.real, label=r'$\\Re e Gd$')\n#    plt.plot(w.real, Gc.real, label=r'$\\Re e Gc$')\n#    plt.plot(w.real, Gc.imag, label=r'$\\Im m Gc$')\n\nplt.legend(loc=0)\nplt.xlabel(r'$\\omega$')\nplt.ylabel(r'$A(\\omega)$')"
      ]
    },
    {
      "cell_type": "markdown",
      "metadata": {},
      "source": [
        "Matsubara frequency Green's function\n====================================\n\n"
      ]
    },
    {
      "cell_type": "code",
      "execution_count": null,
      "metadata": {
        "collapsed": false
      },
      "outputs": [],
      "source": [
        "w_n = gf.matsubara_freq(50., 512)\niw_n = 1j * w_n\nplt.figure()\nfor tab in [0, 0.25, 0.5, 0.75, 1.1]:\n\n    Gd, Gc = dimer.gf_met(w_n, mu, tab, t, 0.)\n    Gd, Gc = dimer.self_consistency(iw_n, Gd, Gc, mu, tab, t2)\n\n    plt.plot(w_n, Gd.imag, 'o-', label=r'$t_c={}$'.format(tab))\n\nplt.legend(loc=0)\nplt.xlim([0, 6.5])\nplt.xlabel(r'$i\\omega_n$')\nplt.ylabel(r'$G(i\\omega_n)$')"
      ]
    }
  ],
  "metadata": {
    "kernelspec": {
      "display_name": "Python 3",
      "language": "python",
      "name": "python3"
    },
    "language_info": {
      "codemirror_mode": {
        "name": "ipython",
        "version": 3
      },
      "file_extension": ".py",
      "mimetype": "text/x-python",
      "name": "python",
      "nbconvert_exporter": "python",
      "pygments_lexer": "ipython3",
      "version": "3.6.1"
    }
  },
  "nbformat": 4,
  "nbformat_minor": 0
}