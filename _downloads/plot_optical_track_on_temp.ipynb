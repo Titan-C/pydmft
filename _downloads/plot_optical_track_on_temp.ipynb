{
  "cells": [
    {
      "cell_type": "code",
      "execution_count": null,
      "metadata": {
        "collapsed": false
      },
      "outputs": [],
      "source": [
        "%matplotlib inline"
      ]
    },
    {
      "cell_type": "markdown",
      "metadata": {},
      "source": [
        "\nDimer Mott transition Optical response with temperature\n=======================================================\n\nTrack the optical conductivity of the correlated metal as the system\nis warmed up. Temperature induces a loss of spectral weight and\ncoherence in the quasiparticles. Is is clear that the Drude peak and\nthe Mid-Infra-Red resonance broaden. The high energy features remain\nbroad. For reference in IPT at $U/D=2.5$ $t_\\perp/D=0.3$\nthe insulator to metal transition occurs around $\\beta D \\sim\n50$\n\n.. seealso::\n    `sphx_glr_dimer_lattice_nature_dimer_plot_dimer_transition.py`\n    `sphx_glr_dimer_lattice_nature_dimer_plot_order_param_transition.py`\n\n"
      ]
    },
    {
      "cell_type": "code",
      "execution_count": null,
      "metadata": {
        "collapsed": false
      },
      "outputs": [],
      "source": [
        "# author: \u00d3scar N\u00e1jera\n\nfrom __future__ import division, absolute_import, print_function\n\nimport numpy as np\nimport matplotlib.pyplot as plt\n\nimport dmft.common as gf\nimport dmft.ipt_real as ipt\nimport dmft.dimer as dimer\n\nplt.matplotlib.rcParams.update({'axes.labelsize': 22,\n                                'xtick.labelsize': 14, 'ytick.labelsize': 14,\n                                'axes.titlesize': 22,\n                                'mathtext.fontset': 'cm'})\n\nw = np.linspace(-4, 4, 2**12)\ndw = w[1] - w[0]\n\n\nU = 2.5\ntp = 0.3\ngss = gf.semi_circle_hiltrans(w + 5e-3j - tp)\ngsa = gf.semi_circle_hiltrans(w + 5e-3j + tp)\neps_k = np.linspace(-1, 1, 61)\npos_freq = w > 0\nnuv = w[pos_freq]\n\nBETARANGE = [800., 100., 50., 40., 30., 20., 10.]\nplt.close('all')\nfor BETA in BETARANGE:\n    nfp = gf.fermi_dist(w, BETA)\n    (gss, gsa), (ss, sa) = ipt.dimer_dmft(\n        U, tp, nfp, w, dw, gss, gsa, conv=1e-4)\n\n    s_intra, s_inter = dimer.optical_conductivity(BETA, ss, sa, w, tp, eps_k)\n\n    ddm_sigma_E_sum = .5 * (s_intra + s_inter)\n\n    plt.plot(nuv, ddm_sigma_E_sum, label=r'$\\beta D={}$'.format(BETA))\n\nplt.xlabel(r'$\\omega$')\nplt.ylabel(r'$\\sigma(\\omega)$')\nplt.xlim(0, 1)\nplt.ylim(0, 2)\nplt.legend(loc=0)"
      ]
    }
  ],
  "metadata": {
    "kernelspec": {
      "display_name": "Python 3",
      "language": "python",
      "name": "python3"
    },
    "language_info": {
      "codemirror_mode": {
        "name": "ipython",
        "version": 3
      },
      "file_extension": ".py",
      "mimetype": "text/x-python",
      "name": "python",
      "nbconvert_exporter": "python",
      "pygments_lexer": "ipython3",
      "version": "3.6.1"
    }
  },
  "nbformat": 4,
  "nbformat_minor": 0
}