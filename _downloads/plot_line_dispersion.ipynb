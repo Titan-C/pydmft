{
  "cells": [
    {
      "cell_type": "code",
      "execution_count": null,
      "metadata": {
        "collapsed": false
      },
      "outputs": [],
      "source": [
        "%matplotlib inline"
      ]
    },
    {
      "cell_type": "markdown",
      "metadata": {},
      "source": [
        "\n# Dispersion of the spectral function\n\n\n\n"
      ]
    },
    {
      "cell_type": "code",
      "execution_count": null,
      "metadata": {
        "collapsed": false
      },
      "outputs": [],
      "source": [
        "# Author: \u00d3scar N\u00e1jera\n\nfrom __future__ import (absolute_import, division, print_function,\n                        unicode_literals)\n\nimport matplotlib.pyplot as plt\nimport numpy as np\n\nimport dmft.common as gf\nimport dmft.dimer as dimer\nimport dmft.ipt_imag as ipt\nfrom dmft.plot import plot_band_dispersion\n\n\ndef loop_u_tp(u_range, tprange, beta, seed='mott gap'):\n    tau, w_n = gf.tau_wn_setup(dict(BETA=beta, N_MATSUBARA=max(5 * beta, 256)))\n    giw_d, giw_o = dimer.gf_met(w_n, 0., 0., 0.5, 0.)\n    if seed == 'mott gap':\n        giw_d, giw_o = 1 / (1j * w_n + 4j / w_n), np.zeros_like(w_n) + 0j\n\n    giw_s = []\n    sigma_iw = []\n    iterations = []\n    for u_int, tp in zip(u_range, tprange):\n        giw_d, giw_o, loops = dimer.ipt_dmft_loop(\n            beta, u_int, tp, giw_d, giw_o, tau, w_n)\n        giw_s.append((giw_d, giw_o))\n        iterations.append(loops)\n        g0iw_d, g0iw_o = dimer.self_consistency(\n            1j * w_n, 1j * giw_d.imag, giw_o.real, 0., tp, 0.25)\n        siw_d, siw_o = ipt.dimer_sigma(u_int, tp, g0iw_d, g0iw_o, tau, w_n)\n        sigma_iw.append((siw_d.copy(), siw_o.copy()))\n\n    print(np.array(iterations))\n\n    return np.array(giw_s), np.array(sigma_iw), w_n\n\n\ndef plot_greenfunct(w, gfunc, title, ylabel, ax=None):\n    if ax is None:\n        f, ax = plt.subplots(1)\n    ax.plot(w, gfunc.real, label=r'$\\Re e$' + ylabel)\n    ax.plot(w, -gfunc.imag, label=r'$-\\Im m$' + ylabel)\n    ax.legend(loc=0)\n    ax.set_xlabel(r'$\\omega$')\n    ax.set_ylabel(ylabel + r'$(\\omega)$')\n    ax.set_title(title)\n    ax.set_ylim([-3, 3])\n    return ax\n\n\ndef plot_pole_eq(w, gf, sig, title):\n    plt.figure()\n    plt.plot(w, sig.imag, label=r'$\\Im m \\Sigma$')\n    plt.plot(w, (1 / gf).real, label=r'$\\Re e G^{-1}$')\n    plt.plot(w, -gf.imag, label='DOS')\n    plt.legend(loc=0)\n    plt.title(title)\n    plt.ylim([-3, 3])\n\n\ndef plot_dispersions(giw_s, sigma_iw, ur, tp, w_n, w, w_set):\n\n    for U, (giw_d, giw_o), (sig_d, sig_o) in zip(ur, giw_s, sigma_iw):\n        gs, ga = dimer.pade_diag(giw_d, giw_o, w_n, w_set, w)\n        ss, sa = dimer.pade_diag(sig_d, sig_o, w_n, w_set, w)\n        gst = gf.semi_circle_hiltrans(\n            w - tp - (ss.real - 1j * np.abs(ss.imag)))\n\n        lat_gfs = 1 / np.add.outer(-eps_k, w - tp + 5e-3j - ss)\n        lat_gfa = 1 / np.add.outer(-eps_k, w + tp + 5e-3j - sa)\n        #Aw = np.clip(-.5 * (lat_gfa + lat_gfs).imag / np.pi, 0, 2)\n\n        Aw = np.clip(-lat_gfs.imag / np.pi, 0, 2)\n\n        title = r'IPT lattice dimer $U={}$, $t_\\perp={}$, $\\beta={}$'.format(\n            U, tp, BETA)\n        ax = plot_greenfunct(w, gs, title, r'$G$')\n        plot_greenfunct(w, gst, title, r'$G$', ax)\n        plot_greenfunct(w, 1 / (w - tp - .25 * gst), title, r'$G0$', ax)\n        ax = plot_greenfunct(w, ss, title, r'$\\Sigma$')\n\n        plot_pole_eq(w, gst, ss, title)\n        plot_band_dispersion(w, Aw, title, eps_k)"
      ]
    },
    {
      "cell_type": "markdown",
      "metadata": {},
      "source": [
        "Metals\n------\n\n\n"
      ]
    },
    {
      "cell_type": "code",
      "execution_count": null,
      "metadata": {
        "collapsed": false
      },
      "outputs": [],
      "source": [
        "urange = [1.5, 2., 2.175, 2.5, 3.]\nBETA = 100.\ntp = 0.3\ngiw_s, sigma_iw, w_n = loop_u_tp(urange, tp * np.ones_like(urange), BETA, \"M\")\nw = np.linspace(-4, 4, 800)\neps_k = np.linspace(-1., 1., 61)\nw_set = np.concatenate((np.arange(100), np.arange(100, 200, 2)))\nplot_dispersions(giw_s, sigma_iw, urange, tp, w_n, w, w_set)"
      ]
    },
    {
      "cell_type": "markdown",
      "metadata": {},
      "source": [
        "Insulators\n----------\n\n"
      ]
    },
    {
      "cell_type": "code",
      "execution_count": null,
      "metadata": {
        "collapsed": false
      },
      "outputs": [],
      "source": [
        "tp = 0.3\nurange = [0, .5, 1, 2.175, 2.5, 3., 3.5, 4., 5.]\ngiw_s, sigma_iw, w_n = loop_u_tp(\n    urange, tp * np.ones_like(urange), BETA)\n\neps_k = np.linspace(-1., 1., 61)\nplot_dispersions(giw_s, sigma_iw, urange, tp, w_n, w, w_set)"
      ]
    },
    {
      "cell_type": "markdown",
      "metadata": {},
      "source": [
        "Insulators\n----------\n\n"
      ]
    },
    {
      "cell_type": "code",
      "execution_count": null,
      "metadata": {
        "collapsed": false
      },
      "outputs": [],
      "source": [
        "tp = 0.5\nurange = [0, .5, 2.175, 2.5, 3., 3.5, 4., 5.]\ngiw_s, sigma_iw, w_n = loop_u_tp(\n    urange, tp * np.ones_like(urange), BETA)\n\neps_k = np.linspace(-1., 1., 61)\nplot_dispersions(giw_s, sigma_iw, urange, tp, w_n, w, w_set)"
      ]
    },
    {
      "cell_type": "markdown",
      "metadata": {},
      "source": [
        "Insulators\n----------\n\n"
      ]
    },
    {
      "cell_type": "code",
      "execution_count": null,
      "metadata": {
        "collapsed": false
      },
      "outputs": [],
      "source": [
        "tp = 0.8\nurange = [0, .5, 1.2, 1.5, 2., 2.5, 3., 3.5, 4., 5.]\ngiw_s, sigma_iw, w_n = loop_u_tp(\n    urange, tp * np.ones_like(urange), BETA)\n\neps_k = np.linspace(-1., 1., 61)\nplot_dispersions(giw_s, sigma_iw, urange, tp, w_n, w, w_set)"
      ]
    },
    {
      "cell_type": "markdown",
      "metadata": {},
      "source": [
        "Insulators\n----------\n\n"
      ]
    },
    {
      "cell_type": "code",
      "execution_count": null,
      "metadata": {
        "collapsed": false
      },
      "outputs": [],
      "source": [
        "tp = 0.95\nurange = [0, .5, 1.2, 1.5, 2., 2.5, 3., 3.5, 4., 5.]\ngiw_s, sigma_iw, w_n = loop_u_tp(\n    urange, tp * np.ones_like(urange), BETA)\n\neps_k = np.linspace(-1., 1., 61)\nplot_dispersions(giw_s, sigma_iw, urange, tp, w_n, w, w_set)\n\n\n#urange = [3.2]\n#beta = 100.\n#tp = 0.2\n# giw_s, sigma_iw, w_n = loop_u_tp(\n# urange, tp * np.ones_like(urange), beta)\n#\n#w = np.linspace(-8, 8, 1600)\n#w_set = np.concatenate((np.arange(80), np.arange(90, 140, 25)))\n#eps_k = np.linspace(-2., 1., 61)\n#ss, gs = plot_dispersions(giw_s, sigma_iw, urange, tp, w_n, w, w_set)\n#\n#\n#tau, w_n = gf.tau_wn_setup(dict(BETA=beta, N_MATSUBARA=max(5 * beta, 256)))\n#tp = 0.2\n# g0iw_d, g0iw_o = dimer.self_consistency(\n# 1j * w_n, giw_s[0], giw_s[0], 0., tp, 0.25)\n#siw_d, siw_o = ipt.dimer_sigma(urange[0], tp, g0iw_d, g0iw_o, tau, w_n)\n#giw_d, giw_o = dimer.dimer_dyson(g0iw_d, g0iw_o, siw_d, siw_o)\n# g0iw_d, g0iw_o = dimer.self_consistency(\n# 1j * w_n, giw_s[0], giw_s[0], 0., tp, 0.25)\n#siw_d, siw_o = ipt.dimer_sigma(urange[0], tp, g0iw_d, g0iw_o, tau, w_n)\n# ss, gs = plot_dispersions(\n# np.array([giw_d, giw_o]), np.array([siw_d, siw_o]), urange, tp, w_n, w,\n# w_set)"
      ]
    }
  ],
  "metadata": {
    "kernelspec": {
      "display_name": "Python 3",
      "language": "python",
      "name": "python3"
    },
    "language_info": {
      "codemirror_mode": {
        "name": "ipython",
        "version": 3
      },
      "file_extension": ".py",
      "mimetype": "text/x-python",
      "name": "python",
      "nbconvert_exporter": "python",
      "pygments_lexer": "ipython3",
      "version": "3.6.1"
    }
  },
  "nbformat": 4,
  "nbformat_minor": 0
}