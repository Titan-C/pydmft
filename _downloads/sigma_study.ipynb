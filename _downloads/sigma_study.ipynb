{
  "cells": [
    {
      "cell_type": "code",
      "execution_count": null,
      "metadata": {
        "collapsed": false
      },
      "outputs": [],
      "source": [
        "%matplotlib inline"
      ]
    },
    {
      "cell_type": "markdown",
      "metadata": {},
      "source": [
        "\n# Study of self energy\n\n\n\n"
      ]
    },
    {
      "cell_type": "code",
      "execution_count": null,
      "metadata": {
        "collapsed": false
      },
      "outputs": [],
      "source": [
        "# Created Wed Apr  6 08:40:36 2016\n# Author: \u00d3scar N\u00e1jera\n\nfrom __future__ import division, absolute_import, print_function\n\nimport argparse\nimport numpy as np\nimport matplotlib\nmatplotlib.use('Agg')\nimport matplotlib.pyplot as plt\nimport dmft.plot.triqs_dimer as tdp\nimport dmft.dimer as dimer\nimport dmft.common as gf\nfrom dmft.plot import plot_band_dispersion\nimport dmft.plot.hf_single_site\nimport dmft.ipt_imag as ipt\n\n\ndef plot_greenfunct(w, gfunc, title, ylabel, ax=None):\n    if ax is None:\n        f, ax = plt.subplots(1)\n    ax.plot(w, gfunc.real, label=r'$\\Re e$' + ylabel)\n    ax.plot(w, -gfunc.imag, label=r'$-\\Im m$' + ylabel)\n    ax.legend(loc=0)\n    ax.set_xlabel(r'$\\omega$')\n    ax.set_ylabel(ylabel + r'$(\\omega)$')\n    ax.set_title(title)\n    ax.set_ylim([-3, 3])\n    return ax\n\n\ndef plot_pole_eq(w, gf, sig, title):\n    plt.figure()\n    plt.plot(w, sig.imag, label=r'$\\Im m \\Sigma$')\n    plt.plot(w, (1 / gf).real, label=r'$\\Re e G^{-1}$')\n    plt.plot(w, -gf.imag, label='DOS')\n    plt.legend(loc=0)\n    plt.title(title)\n    plt.ylim([-3, 3])\n\n\nif __name__ == '__main__':\n    parser = argparse.ArgumentParser(description='Make plots out of CTQMC results',\n                                     formatter_class=argparse.ArgumentDefaultsHelpFormatter)\n    parser.add_argument('-BETA', metavar='B', type=float,\n                        default=200., help='The inverse temperature')\n    parser.add_argument('-tp', default=0.18, type=float,\n                        help='The dimerization strength')\n    parser.add_argument('-file', default='DIMER_{simt}_B{BETA}_tp{tp}.h5',\n                        help='File to process')\n    args = parser.parse_args()\n\n    BETA = args.BETA\n    tp = args.tp\n    w_n = gf.matsubara_freq(100., 300)\n    w = np.linspace(-4, 4, 1000)\n    w_set = np.arange(100)\n    eps_k = np.linspace(-1., 1., 61)\n    with tdp.HDFArchive(args.file) as data:\n        for u_str in data:\n            giw = tdp.get_giw(data[u_str], slice(-1, -5, -1))\n\n            giw_s = np.squeeze(.5 * (giw['sym_up'].data + giw['sym_dw'].data))\n            giw_s = giw_s[len(giw_s) / 2:len(giw_s) / 2 + 300]\n\n            gs = gf.pade_continuation(giw_s, w_n, w, w_set)\n            siw_s = 1j * w_n - tp - .25 * giw_s - 1 / giw_s\n            ss = gf.pade_continuation(siw_s, w_n, w, w_set)\n            gst = gf.semi_circle_hiltrans(\n                w - tp - (ss.real - 1j * np.abs(ss.imag)))\n            lat_gfs = 1 / np.add.outer(-eps_k, w - tp + 5e-2j - ss)\n            Aw = np.clip(-lat_gfs.imag / np.pi, 0, 2)\n\n            U = float(u_str[1:])\n            title = r'IPT lattice dimer $U={}$, $t_\\perp={}$, $\\beta={}$'.format(\n                U, tp, BETA)\n            ax = plot_greenfunct(w, gs, title, r'$G$')\n            plot_greenfunct(w, gst, title, r'$G$', ax)\n            plot_greenfunct(w, 1 / (w - tp - .25 * gst), title, r'$G0$', ax)\n            plt.savefig('DOS_B100_tp{}_U{}.png'.format(tp, U))\n\n            ax = plot_greenfunct(w, ss, title, r'$\\Sigma$')\n            plt.savefig('Sigma_B100_tp{}_U{}.png'.format(tp, U))\n\n            plot_pole_eq(w, gst, ss, title)\n            plt.savefig('Pole_eq_B100_tp{}_U{}.png'.format(tp, U))\n            plot_band_dispersion(w, Aw, title, eps_k)\n            plt.savefig('Arpes_eq_B100_tp{}_U{}.png'.format(tp, U))\n            plt.savefig('Arpes_den_eq_B100_tp{}_U{}.png'.format(tp, U))"
      ]
    }
  ],
  "metadata": {
    "kernelspec": {
      "display_name": "Python 3",
      "language": "python",
      "name": "python3"
    },
    "language_info": {
      "codemirror_mode": {
        "name": "ipython",
        "version": 3
      },
      "file_extension": ".py",
      "mimetype": "text/x-python",
      "name": "python",
      "nbconvert_exporter": "python",
      "pygments_lexer": "ipython3",
      "version": "3.6.1"
    }
  },
  "nbformat": 4,
  "nbformat_minor": 0
}