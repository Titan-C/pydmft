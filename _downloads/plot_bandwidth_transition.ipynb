{
  "cells": [
    {
      "cell_type": "code",
      "execution_count": null,
      "metadata": {
        "collapsed": false
      },
      "outputs": [],
      "source": [
        "%matplotlib inline"
      ]
    },
    {
      "cell_type": "markdown",
      "metadata": {},
      "source": [
        "\n# IPT bandwidth controlled\n\n\nHave a look at the coexistence region and the metal insulator\ntransition from the point of view of a change in bandwidth\n\n\n"
      ]
    },
    {
      "cell_type": "code",
      "execution_count": null,
      "metadata": {
        "collapsed": false
      },
      "outputs": [],
      "source": [
        "from __future__ import division, absolute_import, print_function\n\nfrom dmft.ipt_imag import dmft_loop\nfrom dmft.common import greenF, tau_wn_setup, fit_gf\nfrom dmft.twosite import matsubara_Z\n\nimport numpy as np\nimport matplotlib.pylab as plt\n\n\ndef hysteresis(beta, D_range):\n    log_g_sig = []\n    tau, w_n = tau_wn_setup(dict(BETA=beta, N_MATSUBARA=2**11))\n    g_iwn = greenF(w_n, D=1)\n    for D in D_range:\n        g_iwn, sigma = dmft_loop(1, D / 2, g_iwn, w_n, tau)\n        log_g_sig.append((g_iwn, sigma))\n    return log_g_sig\n\n\nresults = []\nDrange = np.linspace(0.25, .75, 61)\nDrange = np.concatenate((Drange[::-1], Drange + .005))\nbetarange = [16, 17.85, 19.2, 20., 21.3, 25, 50, 100, 200, 512]\nfor beta in betarange:\n    results.append(hysteresis(beta, Drange))"
      ]
    },
    {
      "cell_type": "markdown",
      "metadata": {},
      "source": [
        "Quasiparticle weight\n--------------------\n\n"
      ]
    },
    {
      "cell_type": "code",
      "execution_count": null,
      "metadata": {
        "collapsed": false
      },
      "outputs": [],
      "source": [
        "figz, axz = plt.subplots()\nfor beta, result in zip(betarange, results):\n    u_zet = [matsubara_Z(sigma.imag, beta) for _, sigma in result]\n    axz.plot(Drange, u_zet, '+-', label='$\\\\beta={}$'.format(beta))\n    axz.set_title('Hysteresis loop of the quasiparticle weigth')\n    axz.legend(loc=0)\n    axz.set_ylabel('Z')\n    axz.set_xlabel('D/U')"
      ]
    },
    {
      "cell_type": "markdown",
      "metadata": {},
      "source": [
        "Spectral density at Fermi level\n-------------------------------\n\n"
      ]
    },
    {
      "cell_type": "code",
      "execution_count": null,
      "metadata": {
        "collapsed": false
      },
      "outputs": [],
      "source": [
        "figf, axf = plt.subplots()\nfor beta, result in zip(betarange, results):\n    tau, w_n = tau_wn_setup(dict(BETA=beta, N_MATSUBARA=3))\n    u_fl = [-fit_gf(w_n, g_iwn.imag)(0.)for g_iwn, _ in result]\n    axf.plot(Drange, u_fl, 'x:', label='$\\\\beta={}$'.format(beta))\n\naxf.set_ylabel('Dos(0)')\naxf.set_xlabel('D/U')"
      ]
    },
    {
      "cell_type": "markdown",
      "metadata": {},
      "source": [
        "Double occupation\n-----------------\n\n\n"
      ]
    },
    {
      "cell_type": "code",
      "execution_count": null,
      "metadata": {
        "collapsed": false
      },
      "outputs": [],
      "source": [
        "figd, axd = plt.subplots()\nfor beta, result in zip(betarange, results):\n    tau, w_n = tau_wn_setup(dict(BETA=beta, N_MATSUBARA=2**11))\n    V = np.asarray([2 * (0.5 * s * g + 1 / 8. / w_n**2).real.sum() / beta\n                    for (g, s) in result]) - 0.25 * beta * 1 / 8.\n\n    D = 2. * V + 0.25\n    axd.plot(Drange, D, '-', label='$\\\\beta={}$'.format(beta))\n\naxd.set_title('Double occupation')\naxd.legend(loc=0)\naxd.set_ylabel(r'$\\langle n_\\uparrow n_\\downarrow \\rangle$')\naxd.set_xlabel('D/U')"
      ]
    }
  ],
  "metadata": {
    "kernelspec": {
      "display_name": "Python 3",
      "language": "python",
      "name": "python3"
    },
    "language_info": {
      "codemirror_mode": {
        "name": "ipython",
        "version": 3
      },
      "file_extension": ".py",
      "mimetype": "text/x-python",
      "name": "python",
      "nbconvert_exporter": "python",
      "pygments_lexer": "ipython3",
      "version": "3.6.1"
    }
  },
  "nbformat": 4,
  "nbformat_minor": 0
}