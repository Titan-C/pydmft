{
  "cells": [
    {
      "cell_type": "code",
      "execution_count": null,
      "metadata": {
        "collapsed": false
      },
      "outputs": [],
      "source": [
        "%matplotlib inline"
      ]
    },
    {
      "cell_type": "markdown",
      "metadata": {},
      "source": [
        "\nBethe lattice semi-elliptical DOS\n=================================\n\nThe Bethe lattice has a simple form of the self-consistency. This is\nsolved by iteration where introducing the poles in the Green function\nto recover such density of states.\n\n"
      ]
    },
    {
      "cell_type": "code",
      "execution_count": null,
      "metadata": {
        "collapsed": false
      },
      "outputs": [],
      "source": [
        "import numpy as np\nimport matplotlib.pyplot as plt\n\nomega = 1e-3j + np.linspace(-4, 4, 800)\ngf_w = np.zeros_like(omega)\nt = 0.5\n\nfor i in range(1, int(1e4 + 1)):\n    gf_w = 1 / (omega - t**2 * gf_w)\n    if i in [1, 4, 10000]:\n        plt.plot(omega.real, gf_w.real, label='iteration ' + str(i))\n\nplt.plot(omega.real, -gf_w.imag / np.pi, label=r'$A(\\omega)$')\nplt.legend(loc=0)\nplt.ylim([-3, 3])\nplt.xlabel(r'$\\omega$')\nplt.ylabel(r'$\\Re e G(\\omega)$')"
      ]
    }
  ],
  "metadata": {
    "kernelspec": {
      "display_name": "Python 3",
      "language": "python",
      "name": "python3"
    },
    "language_info": {
      "codemirror_mode": {
        "name": "ipython",
        "version": 3
      },
      "file_extension": ".py",
      "mimetype": "text/x-python",
      "name": "python",
      "nbconvert_exporter": "python",
      "pygments_lexer": "ipython3",
      "version": "3.6.1"
    }
  },
  "nbformat": 4,
  "nbformat_minor": 0
}