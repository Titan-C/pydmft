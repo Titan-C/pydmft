{
  "cells": [
    {
      "cell_type": "code",
      "execution_count": null,
      "metadata": {
        "collapsed": false
      },
      "outputs": [],
      "source": [
        "%matplotlib inline"
      ]
    },
    {
      "cell_type": "markdown",
      "metadata": {},
      "source": [
        "\n# The change of Sigma_12\n\n\n\n"
      ]
    },
    {
      "cell_type": "code",
      "execution_count": null,
      "metadata": {
        "collapsed": false
      },
      "outputs": [],
      "source": [
        "# Created Mon Mar  7 01:14:02 2016\n# Author: \u00d3scar N\u00e1jera\n\nfrom __future__ import division, absolute_import, print_function\n\nfrom math import log, ceil\nimport numpy as np\nimport matplotlib.pyplot as plt\nimport dmft.dimer as dimer\nfrom dmft import ipt_imag\nimport dmft.common as gf\n\n\ndef ipt_u_tp(tprange, u_int, beta):\n\n    tau, w_n = gf.tau_wn_setup(dict(BETA=beta, N_MATSUBARA=2**11))\n    giw_d, giw_o = dimer.gf_met(w_n, 0., tprange[0], 0.5, 0.)\n\n    giw_d, giw_o, loops = dimer.ipt_dmft_loop(\n        beta, u_int + 3, tprange[0], giw_d, giw_o, tau, w_n, 1e-10)\n    sigma = []\n\n    for tp in tprange:\n        giw_d, giw_o, loops = dimer.ipt_dmft_loop(\n            beta, u_int, tp, giw_d, giw_o, tau, w_n, 1e-10)\n        g0iw_d, g0iw_o = dimer.self_consistency(\n            1j * w_n, 1j * giw_d.imag, giw_o.real, 0., tp, 0.25)\n        siw_d, siw_o = ipt_imag.dimer_sigma(\n            u_int, tp, g0iw_d, g0iw_o, tau, w_n)\n        sigma.append(siw_o.real)\n\n    return np.array(sigma)\n\n\ntprange = np.arange(0.1, 1, 0.1)\nBETA = 512.\ntau, w_n = gf.tau_wn_setup(dict(BETA=BETA, N_MATSUBARA=2**11))\nsigma = ipt_u_tp(tprange, 3, BETA)\nplt.plot(w_n, sigma.T)\nplt.show()\nle = [np.polyfit(w_n[:2], s[:2], 1)[1] for s in sigma]\nplt.plot(tprange, sigma[:, 0])\nplt.plot(tprange, le + tprange)\nplt.show()"
      ]
    }
  ],
  "metadata": {
    "kernelspec": {
      "display_name": "Python 3",
      "language": "python",
      "name": "python3"
    },
    "language_info": {
      "codemirror_mode": {
        "name": "ipython",
        "version": 3
      },
      "file_extension": ".py",
      "mimetype": "text/x-python",
      "name": "python",
      "nbconvert_exporter": "python",
      "pygments_lexer": "ipython3",
      "version": "3.6.1"
    }
  },
  "nbformat": 4,
  "nbformat_minor": 0
}