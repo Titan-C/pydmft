{
  "cells": [
    {
      "cell_type": "code",
      "execution_count": null,
      "metadata": {
        "collapsed": false
      },
      "outputs": [],
      "source": [
        "%matplotlib inline"
      ]
    },
    {
      "cell_type": "markdown",
      "metadata": {},
      "source": [
        "\n# Evolution of DOS as function of temperature\n\n\nUsing a real frequency solver in the IPT scheme the Density of states\nis tracked through the first orders transition.\n\n"
      ]
    },
    {
      "cell_type": "code",
      "execution_count": null,
      "metadata": {
        "collapsed": false
      },
      "outputs": [],
      "source": [
        "# Created Tue Jun 14 15:44:38 2016\n# Author: \u00d3scar N\u00e1jera\n\nfrom __future__ import division, absolute_import, print_function\n\nimport numpy as np\nimport scipy.signal as signal\nfrom scipy.integrate import trapz\nimport matplotlib.pyplot as plt\nfrom joblib import Parallel, delayed\n\nimport dmft.common as gf\nimport dmft.ipt_real as ipt\nfrom dmft.utils import optical_conductivity\n\nfrom slaveparticles.quantum.operators import fermi_dist\nimport slaveparticles.quantum.dos as dos\n\nplt.matplotlib.rcParams.update({'axes.labelsize': 22,\n                                'xtick.labelsize': 14, 'ytick.labelsize': 14,\n                                'axes.titlesize': 22})\n\n\ndef loop_bandwidth(w, simval, beta, seed='mott gap'):\n    \"\"\"Solves IPT dimer and return Im Sigma_AA, Re Simga_AB\n\n    returns list len(betarange) x 2 Sigma arrays\n\"\"\"\n\n    s = []\n    g = []\n    dw = w[1] - w[0]\n    gss = gf.semi_circle_hiltrans(w + 5e-3j - 1.3)\n    gsa = gf.semi_circle_hiltrans(w + 5e-3j + 1.3)\n    nfp = dos.fermi_dist(w, beta)\n    for U, D, tp in simval:\n        print('D: ', D, 'tp/U: ', tp, 'Beta', beta)\n        (gss, gsa), (ss, sa) = ipt.dimer_dmft(\n            U, tp, nfp, w, dw, gss, gsa, conv=1e-4, t=(D / 2))\n        g.append((gss, gsa))\n        s.append((ss, sa))\n\n    return np.array(g), np.array(s), nfp\n\n\ndef plot_spectralfunc(w, gwi, simval, rf, yshift=False):\n    shift = 0\n    for (gss, gsa), (U, D, tp), r in zip(gwi, simval, rf):\n        Awloc = -.5 * (gss + gsa).imag / np.pi\n        print(trapz(Awloc, w))\n        plt.plot(w, r * Awloc, label=r'U, {}D={:.2},tp={}'.format(U, D, tp))\n        #plt.plot(w,  Awloc * nfp, 'k:')\n\n    plt.xlabel(r'$\\omega$')\n    plt.ylabel(r'$A(\\omega)$')\n    plt.legend(loc=0)\n    plt.xlim([-4, 4])\n\nw = np.linspace(-6, 6, 2**13)\nsimvals = [(3.5, 1., .3), (4.5, 1., .3)]\ngiw, swi, nfp = loop_bandwidth(w, simvals, 100 / 3.5)\nplt.figure()\nplt.plot(w / 3.5, -.5 * (giw[0][0]).imag / np.pi)\nplt.plot(w / 1.5, -.5 * (giw[0][0]).imag / np.pi)\n\nsimvals = [(1, 1. / 3.5, .12), (1., 1. / 4.5, .12)]\ngiw, swi,  nfp = loop_bandwidth(w / 3.5, simvals, 100)\nplt.figure()\nplot_spectralfunc(w / 3.5, giw, simvals, np.ones(len(simvals)))\nplt.figure()\nplt.plot(w / 3.5, -.5 * (giw[0][0]).imag / np.pi / 1.14, 'b-')\nplt.plot(w / 3.5, .5 * (swi[0][0]).imag / np.pi / 1.14, 'r-')\nplt.plot(w / 3.5, .5 * (swi[0][0]).imag / np.pi / 1.14, 'r-')\nplt.plot(w / 3.5, -.5 * (giw[0][1]).imag / np.pi / 1.14, 'b-')\nplt.plot(w / 3.5, .5 * (swi[1][1]).imag / np.pi / 1.14, 'k-')\nplt.plot(w / 3.5, -.5 * (giw[1][0]).imag / np.pi / 1.45, 'g-')\nplt.plot(w / 3.5, -.5 * (giw[1][1]).imag / np.pi / 1.45, 'g-')\n\nplt.figure()\nsimvals = [(2.5, 1., .3)]\ngiw, swi, nfp = loop_bandwidth(w, simvals, 100)\nplot_spectralfunc(w, giw, simvals, np.ones(len(simvals)))\n\nsimvals = [(1, 1. / 2.5, .3 / 2.5)]\ngiw, swi, nfp = loop_bandwidth(w / 2.5, simvals, 200)\nplot_spectralfunc(w, giw / 2.5, simvals, np.ones(len(simvals)))\n\n# plt.figure()\nsimvals = [(3, 1., .3), (3.3, 1., .33), (3.5, 1., .35)]\ngiw, swi, nfp = loop_bandwidth(w, simvals, 100)\nplot_spectralfunc(w, giw, simvals, np.ones(len(simvals)))\n\nrenorm = [1. / .88, 1 / .85, 1 / .82]\nrenorm = [1 / .85, 1 / .82]\nplt.figure()\nplot_spectralfunc(w, giw, simvals, renorm)\n\nplt.figure()\nsimvals = [(1., 1 / 3., .1), (1., 1 / 3., .12), (1., 1 / 2.7, .12)]\ngiw, swi, nfp = loop_bandwidth(w, simvals, 250)\nplot_spectralfunc(w, giw, simvals, np.ones(len(simvals)))"
      ]
    }
  ],
  "metadata": {
    "kernelspec": {
      "display_name": "Python 3",
      "language": "python",
      "name": "python3"
    },
    "language_info": {
      "codemirror_mode": {
        "name": "ipython",
        "version": 3
      },
      "file_extension": ".py",
      "mimetype": "text/x-python",
      "name": "python",
      "nbconvert_exporter": "python",
      "pygments_lexer": "ipython3",
      "version": "3.6.1"
    }
  },
  "nbformat": 4,
  "nbformat_minor": 0
}