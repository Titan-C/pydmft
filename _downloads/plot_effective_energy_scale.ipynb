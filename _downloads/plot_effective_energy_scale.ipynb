{
  "cells": [
    {
      "cell_type": "code",
      "execution_count": null,
      "metadata": {
        "collapsed": false
      },
      "outputs": [],
      "source": [
        "%matplotlib inline"
      ]
    },
    {
      "cell_type": "markdown",
      "metadata": {},
      "source": [
        "\nEffective energy scale\n======================\n\nThis describes the renormalized energy scales of the metallic dimer\n\n"
      ]
    },
    {
      "cell_type": "code",
      "execution_count": null,
      "metadata": {
        "collapsed": false
      },
      "outputs": [],
      "source": [
        "# Author: \u00d3scar N\u00e1jera\n\nfrom __future__ import division, absolute_import, print_function\n\nimport numpy as np\nimport matplotlib.pyplot as plt\nfrom scipy.interpolate import splrep, splev\n\nimport dmft.common as gf\nfrom dmft import ipt_real\nfrom dmft import ipt_imag\nimport dmft.dimer as dimer\n\n\ndef low_en_qp(ss):\n    glp = np.array([0.])\n    sigtck = splrep(w, ss.real, s=0)\n    sig_0 = splev(glp, sigtck, der=0)[0]\n    dw_sig0 = splev(glp, sigtck, der=1)[0]\n    quas_z = 1 / (1 - dw_sig0)\n    return quas_z, sig_0, dw_sig0\n\n\nw = np.linspace(-4, 4, 2**12)\ndw = w[1] - w[0]\n\nBETA = 512.\nnfp = gf.fermi_dist(w, BETA)\n\n\ndef plot_low_energy(u_int, tp):\n    gss = gf.semi_circle_hiltrans(w + 5e-3j)\n    gsa = gf.semi_circle_hiltrans(w + 5e-3j)\n\n    (gss, _), (ss, _) = ipt_real.dimer_dmft(\n        u_int, tp, nfp, w, dw, gss, gsa, conv=1e-3)\n\n    quas_z, sig_0, dw_sig0 = low_en_qp(ss)\n    tpp = (tp + sig_0) * quas_z\n    ax = plt.subplot(111)\n    ax.plot(w, -gss.imag, 'C0')\n    llg = gf.semi_circle_hiltrans(w + 1e-8j - tpp, quas_z) * quas_z\n    ax.plot(w, -llg.imag, \"C3--\", lw=2)\n    plt.title(r'$U={}$; $t_\\perp={}$'.format(u_int, tp), fontsize=14)\n\n    plt.ylabel(r'$-\\Im m G_{AB}(\\omega)$')\n    plt.xlim(-2.3, 2.3)\n    plt.ylim(0, 2.5)\n    plt.xlabel(r'$\\omega$')\n    plt.arrow(0, 2, tpp, 0, shape='right',\n              width=0.05, length_includes_head=True,\n              head_width=0.1, head_length=0.1)\n    plt.text(0, 2.1, r\"$\\tilde{t}_\\perp$\", color=\"C0\", size=26)\n    plt.arrow(tpp, 0, -quas_z, 0, shape='left',\n              width=0.05, length_includes_head=True,\n              head_width=0.1, head_length=0.1)\n    plt.arrow(tpp, 0, quas_z, 0, shape='right',\n              width=0.05, length_includes_head=True,\n              head_width=0.1, head_length=0.1)\n    plt.text(tpp, 0.1, r\"$2\\tilde{D}$\", color=\"C0\", size=26)"
      ]
    },
    {
      "cell_type": "code",
      "execution_count": null,
      "metadata": {
        "collapsed": false
      },
      "outputs": [],
      "source": [
        "plot_low_energy(2, 0.3)\n# plt.savefig(\"low_en_qp_U2_tp0.3.pdf\")"
      ]
    },
    {
      "cell_type": "code",
      "execution_count": null,
      "metadata": {
        "collapsed": false
      },
      "outputs": [],
      "source": [
        "plot_low_energy(2, 0.5)"
      ]
    },
    {
      "cell_type": "code",
      "execution_count": null,
      "metadata": {
        "collapsed": false
      },
      "outputs": [],
      "source": [
        "plot_low_energy(1.4, 0.8)"
      ]
    }
  ],
  "metadata": {
    "kernelspec": {
      "display_name": "Python 3",
      "language": "python",
      "name": "python3"
    },
    "language_info": {
      "codemirror_mode": {
        "name": "ipython",
        "version": 3
      },
      "file_extension": ".py",
      "mimetype": "text/x-python",
      "name": "python",
      "nbconvert_exporter": "python",
      "pygments_lexer": "ipython3",
      "version": "3.6.1"
    }
  },
  "nbformat": 4,
  "nbformat_minor": 0
}