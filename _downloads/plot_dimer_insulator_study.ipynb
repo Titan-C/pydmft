{
  "cells": [
    {
      "cell_type": "code",
      "execution_count": null,
      "metadata": {
        "collapsed": false
      },
      "outputs": [],
      "source": [
        "%matplotlib inline"
      ]
    },
    {
      "cell_type": "markdown",
      "metadata": {},
      "source": [
        "\n# Study the behavior of the Dimer Bethe lattice in the Insulator region\n\n\nSpecific Regions of the phase diagram are reviewed to inspect the\nbehavior of the insulating state \n"
      ]
    },
    {
      "cell_type": "code",
      "execution_count": null,
      "metadata": {
        "collapsed": false
      },
      "outputs": [],
      "source": [
        "import numpy as np\nimport matplotlib.pyplot as plt\nfrom mpl_toolkits.mplot3d import axes3d\nimport dmft.dimer as dimer\nimport dmft.common as gf\nimport dmft.ipt_imag as ipt\n\n\ndef loop_u_tp(u_range, tprange, beta, seed='mott gap'):\n    tau, w_n = gf.tau_wn_setup(dict(BETA=beta, N_MATSUBARA=max(5 * beta, 256)))\n    giw_d, giw_o = dimer.gf_met(w_n, 0., 0., 0.5, 0.)\n    if seed == 'mott gap':\n        giw_d, giw_o = 1 / (1j * w_n + 4j / w_n), np.zeros_like(w_n) + 0j\n\n    giw_s = []\n    sigma_iw = []\n    ekin, epot = [], []\n    iterations = []\n    for u_int, tp in zip(u_range, tprange):\n        giw_d, giw_o, loops = dimer.ipt_dmft_loop(\n            beta, u_int, tp, giw_d, giw_o, tau, w_n)\n        giw_s.append((giw_d, giw_o))\n        iterations.append(loops)\n        g0iw_d, g0iw_o = dimer.self_consistency(\n            1j * w_n, 1j * giw_d.imag, giw_o.real, 0., tp, 0.25)\n        siw_d, siw_o = ipt.dimer_sigma(u_int, tp, g0iw_d, g0iw_o, tau, w_n)\n        sigma_iw.append((siw_d.copy(), siw_o.copy()))\n\n        ekin.append(dimer.ekin(giw_d, giw_o, w_n, tp, beta))\n\n        epot.append(dimer.epot(giw_d, w_n, beta, u_int **\n                               2 / 4 + tp**2, ekin[-1], u_int) / 4)  # last division because I want per spin epot\n\n    print(np.array(iterations))\n\n    return np.array(giw_s), np.array(sigma_iw), np.array(ekin), np.array(epot), w_n"
      ]
    },
    {
      "cell_type": "code",
      "execution_count": null,
      "metadata": {
        "collapsed": false
      },
      "outputs": [],
      "source": [
        "tpr = np.hstack((np.arange(0, 0.5, 0.02), np.arange(0.5, 1.1, 0.05)))\nur = np.arange(0, 4.5, 0.1)\nx, y = np.meshgrid(tpr, ur)\nBETA = 512.\nmetal_phases = np.load(\n    'disk/dimer_07_2015/Dimer_ipt_metal_seed_FL_DOS_BUt.npy')[1]\ninsulator_phases = np.load(\n    'disk/dimer_07_2015/Dimer_ipt_insulator_seed_FL_DOS_BUt.npy')[1]"
      ]
    },
    {
      "cell_type": "markdown",
      "metadata": {},
      "source": [
        "Starting just above $U_{c1}$\n============================\n\nHere I increase the strength of the dimer bond starting from the\nMott insulating solution for a single impurity problem. I need to\nemphasize that there appears not to exist a connection between the\nfinite dimer bonding strength and the decoupled impurities case. A\nmetallic states seems to appear in between if they are close\nenough. To cure this behavior one needs to go to ever colder\ntemperatures each time.\n\n"
      ]
    },
    {
      "cell_type": "code",
      "execution_count": null,
      "metadata": {
        "collapsed": false
      },
      "outputs": [],
      "source": [
        "tprr = np.arange(0, 1.2, 0.04)\n\nplt.pcolormesh(x, y, metal_phases, cmap=plt.get_cmap(r'viridis'))\nplt.axis([x.min(), x.max(), y.min(), y.max()])\nplt.colorbar()\nplt.pcolormesh(x, y, insulator_phases, alpha=0.2,\n               cmap=plt.get_cmap(r'viridis'))\n\nplt.xlabel(r'$t_\\perp$')\nplt.ylabel(r'U/D')\nplt.title(\n    'Phase diagram $\\\\beta={}$,\\n color represents $-\\\\Im G_{{AA}}(0)$'.format(BETA))\nplt.plot(tprr, 2.65 * np.ones_like(tprr), 'rx-', lw=2)"
      ]
    },
    {
      "cell_type": "code",
      "execution_count": null,
      "metadata": {
        "collapsed": false
      },
      "outputs": [],
      "source": [
        "giw_s, sigma_iw, ekin, epot, w_n = loop_u_tp(\n    2.65 * np.ones_like(tprr), tprr, 512.)"
      ]
    },
    {
      "cell_type": "markdown",
      "metadata": {},
      "source": [
        "Change of G_{AA}\n----------------\n\nThere is not much out of the ordinary here. An always gaped function\n\n"
      ]
    },
    {
      "cell_type": "code",
      "execution_count": null,
      "metadata": {
        "collapsed": false
      },
      "outputs": [],
      "source": [
        "fig = plt.figure()\nax = fig.gca(projection='3d')\nX, Y = np.meshgrid(np.arange(0, 1.2, 0.04), w_n[:500])\nax.plot_surface(X, Y, giw_s[:, 0, :500].imag.T)\nax.set_xlabel(r'$t_\\perp/D$')\nax.set_ylabel(r'$i\\omega_n$')\nax.set_zlabel(r'$\\Im m G_{AA} (i\\omega_n)$')"
      ]
    },
    {
      "cell_type": "code",
      "execution_count": null,
      "metadata": {
        "collapsed": false
      },
      "outputs": [],
      "source": [
        "slopes = [np.polyfit(w_n[:5], giw_s[i, 0, :5].imag, 1)[0]\n          for i in range(len(tprr))]\nplt.plot(tprr, slopes, '+-', label='data')\nplt.title(r'Slope of $Im G_{AA}$')\nplt.xlabel(r'$t_\\perp/D$')\nplt.ylabel(r\"$\\Im m G'_{AA}(0)$\")"
      ]
    },
    {
      "cell_type": "markdown",
      "metadata": {},
      "source": [
        "Analytical Continuation\n-----------------------\n\n"
      ]
    },
    {
      "cell_type": "code",
      "execution_count": null,
      "metadata": {
        "collapsed": false
      },
      "outputs": [],
      "source": [
        "w_set = np.concatenate((np.arange(8) * 256, np.arange(1, 241, 1)))\nw = np.linspace(0, 3., 500)\nplt.figure()\nfor i, tp in enumerate(tprr):\n    pc = gf.pade_coefficients(1j * giw_s[i, 0, w_set].imag, w_n[w_set])\n    plt.plot(w, -2 * tp - gf.pade_rec(pc, w, w_n[w_set]).imag)\nplt.xlabel(r'$\\omega$')\nplt.ylabel(r'$A(\\omega) - 2 t_\\perp$')"
      ]
    },
    {
      "cell_type": "markdown",
      "metadata": {},
      "source": [
        "Change of G_{AB}\n----------------\n\n"
      ]
    },
    {
      "cell_type": "code",
      "execution_count": null,
      "metadata": {
        "collapsed": false
      },
      "outputs": [],
      "source": [
        "for i in [1, 2, 4, 7, 11, 16]:\n    plt.plot(w_n, giw_s[i, 1].real, 's-',\n             label=r'$t_\\perp={}$'.format(tprr[i]))\nplt.xlabel(r'$i\\omega_n$')\nplt.ylabel(r'$\\Re e G_{AB} (i\\omega_n)$')\nplt.legend(loc=0)\nplt.xlim([0, 3])\n\n\nplt.figure()\n\nslopes = np.array([np.polyfit(w_n[:5], giw_s[i, 1, :5].real, 1)\n                   for i in range(len(tprr))])\n\nplt.plot(tprr, slopes.T[0], '+-', label='Slope')\nplt.plot(tprr, slopes.T[1], '+-', label='Cut')\n\nplt.title(r'Slope of $\\Re G_{AB}$ and zero frequency cut')\nplt.xlabel(r'$t_\\perp/D$')\nplt.ylabel(r\"$\\Re e G'_{AB}(0)$\")\nplt.legend(loc=0)"
      ]
    },
    {
      "cell_type": "markdown",
      "metadata": {},
      "source": [
        "Sigma AA\n--------\n\n"
      ]
    },
    {
      "cell_type": "code",
      "execution_count": null,
      "metadata": {
        "collapsed": false
      },
      "outputs": [],
      "source": [
        "for i in range(6):\n    plt.plot(w_n, sigma_iw[i, 0].imag, 'o:',\n             label=r'$t_\\perp={}$'.format(tprr[i]))\nplt.xlabel(r'$i\\omega_n$')\nplt.ylabel(r'$\\Im m \\Sigma_{AA} (i\\omega_n)$')\nplt.legend(loc=0)\nplt.xlim([0, .5])\nplt.ylim([-8, 0])\n\nplt.figure()\nfor i in range(6):\n    plt.loglog(w_n, -sigma_iw[i, 0].imag, 'o:',\n               label=r'$t_\\perp={}$'.format(tprr[i]))\nplt.xlabel(r'$i\\omega_n$')\nplt.ylabel(r'$-\\Im m \\Sigma_{AA} (i\\omega_n)$')\nplt.legend(loc=0)"
      ]
    },
    {
      "cell_type": "code",
      "execution_count": null,
      "metadata": {
        "collapsed": false
      },
      "outputs": [],
      "source": [
        "slopes = np.array([np.polyfit(w_n[:3], sigma_iw[i, 0, :3].imag, 1)\n                   for i in range(1, len(tprr))])\n\nplt.plot(tprr[1:], slopes.T[0], '+-', label='Slope')\nplt.plot(tprr[1:], slopes.T[1], '+-', label='Cut')\n\nplt.title(r'Slope of $\\Im \\Sigma_{AA}$ and zero frequency cut')\nplt.xlabel(r'$t_\\perp/D$')\nplt.ylabel(r'$\\Im \\Sigma_{AA}(0)$')\nplt.legend(loc=0)"
      ]
    },
    {
      "cell_type": "markdown",
      "metadata": {},
      "source": [
        "Sigma AB\n--------\n\n"
      ]
    },
    {
      "cell_type": "code",
      "execution_count": null,
      "metadata": {
        "collapsed": false
      },
      "outputs": [],
      "source": [
        "plt.figure()\nfor i in [1, 4, 9, 16, 21, 25]:\n    plt.plot(w_n, sigma_iw[i, 1].real, 's-',\n             label=r'$t_\\perp={}$'.format(tprr[i]))\nplt.xlabel(r'$i\\omega_n$')\nplt.ylabel(r'$\\Re e \\Sigma_{AB} (i\\omega_n)$')\nplt.xlim([0, 3.2])\nplt.ylim([-0.1, 2])\nplt.legend(loc=0)\n\nplt.figure()\nfor i in [1, 4, 9, 16, 21, 25]:\n    plt.loglog(w_n, sigma_iw[i, 1].real, 's-',\n               label=r'$t_\\perp={}$'.format(tprr[i]))\nplt.xlabel(r'$i\\omega_n$')\nplt.ylabel(r'$\\Re e \\Sigma_{AB} (i\\omega_n)$')\nplt.legend(loc=0)"
      ]
    },
    {
      "cell_type": "code",
      "execution_count": null,
      "metadata": {
        "collapsed": false
      },
      "outputs": [],
      "source": [
        "slopes = np.array([np.polyfit(w_n[:3], sigma_iw[i, 1, :3].real, 1)\n                   for i in range(1, len(tprr))])\n\nplt.plot(tprr[1:], slopes.T[0], '+-', label='Slope')\nplt.plot(tprr[1:], slopes.T[1], '+-', label='Cut')\n\nplt.title(r'Slope of $\\Re \\Sigma_{AB}$ and zero frequency cut')\nplt.xlabel(r'$t_\\perp/D$')\nplt.ylabel(r'$\\Re e \\Sigma_{AB}(0)$')\nplt.legend(loc=0)"
      ]
    },
    {
      "cell_type": "markdown",
      "metadata": {},
      "source": [
        "The Energy\n----------\n\n"
      ]
    },
    {
      "cell_type": "code",
      "execution_count": null,
      "metadata": {
        "collapsed": false
      },
      "outputs": [],
      "source": [
        "plt.plot(tprr, ekin + epot)\nplt.title(r'Internal Energy per spin')\nplt.ylabel(r'$\\langle H \\rangle$')\nplt.xlabel(r'$t_\\perp/D$')"
      ]
    },
    {
      "cell_type": "markdown",
      "metadata": {},
      "source": [
        "Double occupation\n-----------------\n\n"
      ]
    },
    {
      "cell_type": "code",
      "execution_count": null,
      "metadata": {
        "collapsed": false
      },
      "outputs": [],
      "source": [
        "plt.plot(tprr, 2 * epot / 2.65)\nplt.title(r'Double Occupation')\nplt.ylabel(r'$\\langle n_\\uparrow n_\\downarrow \\rangle$')\nplt.xlabel(r'$t_\\perp/D$')"
      ]
    },
    {
      "cell_type": "markdown",
      "metadata": {},
      "source": [
        "Following $U_{c1}$\n==================\n\nHere I simultaneously vary $U$ and $t_\\perp$ just to stay above $U_{c1}$\n\n"
      ]
    },
    {
      "cell_type": "code",
      "execution_count": null,
      "metadata": {
        "collapsed": false
      },
      "outputs": [],
      "source": [
        "giw_s, sigma_iw, ekin, epot, w_n = loop_u_tp(2.8 - .65 / .4 * tprr, tprr, 512.)\n\nplt.pcolormesh(x, y, metal_phases, cmap=plt.get_cmap(r'viridis'))\nplt.axis([x.min(), x.max(), y.min(), y.max()])\nplt.colorbar()\nplt.pcolormesh(x, y, insulator_phases, alpha=0.2,\n               cmap=plt.get_cmap(r'viridis'))\n\nplt.xlabel(r'$t_\\perp$')\nplt.ylabel(r'U/D')\nplt.title(\n    'Phase diagram $\\\\beta={}$,\\n color represents $-\\\\Im G_{{AA}}(0)$'.format(BETA))\nplt.plot(tprr, 2.8 - .65 / .4 * tprr, 'rx-', lw=2)"
      ]
    },
    {
      "cell_type": "markdown",
      "metadata": {},
      "source": [
        "Change of G_{AA}\n----------------\n\nThere is not much out of the ordinary here. An always gaped function\n\n"
      ]
    },
    {
      "cell_type": "code",
      "execution_count": null,
      "metadata": {
        "collapsed": false
      },
      "outputs": [],
      "source": [
        "fig = plt.figure()\nax = fig.gca(projection='3d')\nX, Y = np.meshgrid(np.arange(0, 1.2, 0.04), w_n[:500])\nax.plot_surface(X, Y, giw_s[:, 0, :500].imag.T)\nax.set_xlabel(r'$t_\\perp/D$')\nax.set_ylabel(r'$i\\omega_n$')\nax.set_zlabel(r'$\\Im m G_{AA} (i\\omega_n)$')"
      ]
    },
    {
      "cell_type": "code",
      "execution_count": null,
      "metadata": {
        "collapsed": false
      },
      "outputs": [],
      "source": [
        "slopes = [np.polyfit(w_n[:5], giw_s[i, 0, :5].imag, 1)[0]\n          for i in range(len(tprr))]\nplt.plot(tprr, slopes, '+-', label='data')\nplt.title(r'Slope of $Im G_{AA}$')\nplt.xlabel(r'$t_\\perp/D$')\nplt.ylabel(r\"$\\Im m G'_{AA}(0)$\")"
      ]
    },
    {
      "cell_type": "markdown",
      "metadata": {},
      "source": [
        "Analytical Continuation\n-----------------------\n\n"
      ]
    },
    {
      "cell_type": "code",
      "execution_count": null,
      "metadata": {
        "collapsed": false
      },
      "outputs": [],
      "source": [
        "w_set = np.concatenate((np.arange(7) * 256, np.arange(1, 237, 1)))\nw = np.linspace(0, 2.5, 500)\nplt.figure()\nfor i, tp in enumerate(tprr):\n    pc = gf.pade_coefficients(1j * giw_s[i, 0, w_set].imag, w_n[w_set])\n    plt.plot(w, -2 * tp - gf.pade_rec(pc, w, w_n[w_set]).imag)\nplt.xlabel(r'$\\omega$')\nplt.ylabel(r'$A(\\omega) - 2 t_\\perp$')"
      ]
    },
    {
      "cell_type": "markdown",
      "metadata": {},
      "source": [
        "Change of G_{AB}\n----------------\n\n"
      ]
    },
    {
      "cell_type": "code",
      "execution_count": null,
      "metadata": {
        "collapsed": false
      },
      "outputs": [],
      "source": [
        "for i in [1, 2, 4, 7, 11, 16]:\n    plt.plot(w_n, giw_s[i, 1].real, 's-',\n             label=r'$t_\\perp={}$'.format(tprr[i]))\nplt.xlabel(r'$i\\omega_n$')\nplt.ylabel(r'$\\Re e G_{AB} (i\\omega_n)$')\nplt.legend(loc=0)\nplt.xlim([0, 3])\n\n\nplt.figure()\n\nslopes = np.array([np.polyfit(w_n[:5], giw_s[i, 1, :5].real, 1)\n                   for i in range(len(tprr))])\n\nplt.plot(tprr, slopes.T[0], '+-', label='Slope')\nplt.plot(tprr, slopes.T[1], '+-', label='Cut')\n\nplt.title(r'Slope of $\\Re G_{AB}$ and zero frequency cut')\nplt.xlabel(r'$t_\\perp/D$')\nplt.ylabel(r\"$\\Re e G'_{AB}(0)$\")\nplt.legend(loc=0)"
      ]
    },
    {
      "cell_type": "markdown",
      "metadata": {},
      "source": [
        "Sigma AA\n--------\n\n"
      ]
    },
    {
      "cell_type": "code",
      "execution_count": null,
      "metadata": {
        "collapsed": false
      },
      "outputs": [],
      "source": [
        "for i in range(6):\n    plt.plot(w_n, sigma_iw[i, 0].imag, 'o:',\n             label=r'$t_\\perp={}$'.format(tprr[i]))\nplt.xlabel(r'$i\\omega_n$')\nplt.ylabel(r'$\\Im m \\Sigma_{AA} (i\\omega_n)$')\nplt.legend(loc=0)\nplt.xlim([0, 2.5])\nplt.ylim([-9, 0])\n\nplt.figure()\nfor i in range(6):\n    plt.loglog(w_n, -sigma_iw[i, 0].imag, 'o:',\n               label=r'$t_\\perp={}$'.format(tprr[i]))\nplt.xlabel(r'$i\\omega_n$')\nplt.ylabel(r'-$\\Im m \\Sigma_{AA} (i\\omega_n)$')\nplt.legend(loc=0)"
      ]
    },
    {
      "cell_type": "code",
      "execution_count": null,
      "metadata": {
        "collapsed": false
      },
      "outputs": [],
      "source": [
        "slopes = np.array([np.polyfit(w_n[:3], sigma_iw[i, 0, :3].imag, 1)\n                   for i in range(1, len(tprr))])\n\nplt.plot(tprr[1:], slopes.T[0], '+-', label='Slope')\nplt.plot(tprr[1:], slopes.T[1], '+-', label='Cut')\n\nplt.title(r'Slope of $\\Im \\Sigma_{AA}$ and zero frequency cut')\nplt.xlabel(r'$t_\\perp/D$')\nplt.ylabel(r'$\\Im \\Sigma_{AA}(0)$')\nplt.legend(loc=0)"
      ]
    },
    {
      "cell_type": "markdown",
      "metadata": {},
      "source": [
        "Sigma AB\n--------\n\n"
      ]
    },
    {
      "cell_type": "code",
      "execution_count": null,
      "metadata": {
        "collapsed": false
      },
      "outputs": [],
      "source": [
        "plt.figure()\nfor i in [1, 4, 9, 16, 21, 25]:\n    plt.plot(w_n, sigma_iw[i, 1].real, 's-',\n             label=r'$t_\\perp={}$'.format(tprr[i]))\nplt.xlabel(r'$i\\omega_n$')\nplt.ylabel(r'$\\Re e \\Sigma_{AB} (i\\omega_n)$')\nplt.xlim([0, 3.2])\nplt.ylim([-0.1, 2])\nplt.legend(loc=0)\n\nplt.figure()\nfor i in [1, 4, 9, 16, 21, 25]:\n    plt.loglog(w_n, sigma_iw[i, 1].real, 's-',\n               label=r'$t_\\perp={}$'.format(tprr[i]))\nplt.xlabel(r'$i\\omega_n$')\nplt.ylabel(r'$\\Re e \\Sigma_{AB} (i\\omega_n)$')\nplt.legend(loc=0)"
      ]
    },
    {
      "cell_type": "code",
      "execution_count": null,
      "metadata": {
        "collapsed": false
      },
      "outputs": [],
      "source": [
        "slopes = np.array([np.polyfit(w_n[:3], sigma_iw[i, 1, :3].real, 1)\n                   for i in range(1, len(tprr))])\n\nplt.plot(tprr[1:], slopes.T[0], '+-', label='Slope')\nplt.plot(tprr[1:], slopes.T[1], '+-', label='Cut')\n\nplt.title(r'Slope of $\\Re \\Sigma_{AB}$ and zero frequency cut')\nplt.xlabel(r'$t_\\perp/D$')\nplt.ylabel(r'$\\Re e \\Sigma_{AB}(0)$')\nplt.legend(loc=0)"
      ]
    },
    {
      "cell_type": "markdown",
      "metadata": {},
      "source": [
        "The Energy\n----------\n\n"
      ]
    },
    {
      "cell_type": "code",
      "execution_count": null,
      "metadata": {
        "collapsed": false
      },
      "outputs": [],
      "source": [
        "plt.plot(tprr, ekin + epot)\nplt.title(r'Internal Energy per spin')\nplt.ylabel(r'$\\langle H \\rangle$')\nplt.xlabel(r'$t_\\perp/D$')"
      ]
    },
    {
      "cell_type": "markdown",
      "metadata": {},
      "source": [
        "Double occupation\n-----------------\n\n"
      ]
    },
    {
      "cell_type": "code",
      "execution_count": null,
      "metadata": {
        "collapsed": false
      },
      "outputs": [],
      "source": [
        "plt.plot(tprr, 2 * epot / (2.8 - .65 / .4 * tprr))\nplt.title(r'Double Occupation')\nplt.ylabel(r'$\\langle n_\\uparrow n_\\downarrow \\rangle$')\nplt.xlabel(r'$t_\\perp/D$')"
      ]
    },
    {
      "cell_type": "markdown",
      "metadata": {},
      "source": [
        "High in the Mott insulator\n==========================\n\n"
      ]
    },
    {
      "cell_type": "code",
      "execution_count": null,
      "metadata": {
        "collapsed": false
      },
      "outputs": [],
      "source": [
        "giw_s, sigma_iw, ekin, epot, w_n = loop_u_tp(\n    4.3 * np.ones_like(tprr), tprr, 512.)\n\nplt.pcolormesh(x, y, metal_phases, cmap=plt.get_cmap(r'viridis'))\nplt.axis([x.min(), x.max(), y.min(), y.max()])\nplt.colorbar()\nplt.pcolormesh(x, y, insulator_phases, alpha=0.2,\n               cmap=plt.get_cmap(r'viridis'))\n\nplt.xlabel(r'$t_\\perp$')\nplt.ylabel(r'U/D')\nplt.title(\n    'Phase diagram $\\\\beta={}$,\\n color represents $-\\\\Im G_{{AA}}(0)$'.format(BETA))\nplt.plot(tprr, 4.3 * np.ones_like(tprr), 'rx-', lw=2)"
      ]
    },
    {
      "cell_type": "markdown",
      "metadata": {},
      "source": [
        "Change of G_{AA}\n----------------\n\nThere is not much out of the ordinary here. An always gaped function\n\n"
      ]
    },
    {
      "cell_type": "code",
      "execution_count": null,
      "metadata": {
        "collapsed": false
      },
      "outputs": [],
      "source": [
        "fig = plt.figure()\nax = fig.gca(projection='3d')\nX, Y = np.meshgrid(np.arange(0, 1.2, 0.04), w_n[:500])\nax.plot_surface(X, Y, giw_s[:, 0, :500].imag.T)\nax.set_xlabel(r'$t_\\perp/D$')\nax.set_ylabel(r'$i\\omega_n$')\nax.set_zlabel(r'$\\Im m G_{AA} (i\\omega_n)$')"
      ]
    },
    {
      "cell_type": "code",
      "execution_count": null,
      "metadata": {
        "collapsed": false
      },
      "outputs": [],
      "source": [
        "slopes = [np.polyfit(w_n[:5], giw_s[i, 0, :5].imag, 1)[0]\n          for i in range(len(tprr))]\nplt.plot(tprr, slopes, '+-', label='data')\nplt.title(r'Slope of $Im G_{AA}$')\nplt.xlabel(r'$t_\\perp/D$')\nplt.ylabel(r\"$\\Im m G'_{AA}(0)$\")"
      ]
    },
    {
      "cell_type": "markdown",
      "metadata": {},
      "source": [
        "Analytical Continuation\n-----------------------\n\n"
      ]
    },
    {
      "cell_type": "code",
      "execution_count": null,
      "metadata": {
        "collapsed": false
      },
      "outputs": [],
      "source": [
        "w_set = np.concatenate((np.arange(7) * 256, np.arange(1, 237, 1)))\nw = np.linspace(0.5, 3.5, 500)\nplt.figure()\nfor i, tp in enumerate(tprr):\n    pc = gf.pade_coefficients(1j * giw_s[i, 0, w_set].imag, w_n[w_set])\n    plt.plot(w, -2 * tp - gf.pade_rec(pc, w, w_n[w_set]).imag)\nplt.xlabel(r'$\\omega$')\nplt.ylabel(r'$A(\\omega) - 2 t_\\perp$')"
      ]
    },
    {
      "cell_type": "markdown",
      "metadata": {},
      "source": [
        "Change of G_{AB}\n----------------\n\n"
      ]
    },
    {
      "cell_type": "code",
      "execution_count": null,
      "metadata": {
        "collapsed": false
      },
      "outputs": [],
      "source": [
        "for i in [1, 2, 4, 7, 11, 16]:\n    plt.plot(w_n, giw_s[i, 1].real, 's-',\n             label=r'$t_\\perp={}$'.format(tprr[i]))\nplt.xlabel(r'$i\\omega_n$')\nplt.ylabel(r'$\\Re e G_{AB} (i\\omega_n)$')\nplt.legend(loc=0)\nplt.xlim([0, 3])\n\n\nplt.figure()\n\nslopes = np.array([np.polyfit(w_n[:5], giw_s[i, 1, :5].real, 1)\n                   for i in range(len(tprr))])\n\nplt.plot(tprr, slopes.T[0], '+-', label='Slope')\nplt.plot(tprr, slopes.T[1], '+-', label='Cut')\n\nplt.title(r'Slope of $\\Re G_{AB}$ and zero frequency cut')\nplt.xlabel(r'$t_\\perp/D$')\nplt.ylabel(r\"$\\Re e G'_{AB}(0)$\")\nplt.legend(loc=0)"
      ]
    },
    {
      "cell_type": "markdown",
      "metadata": {},
      "source": [
        "Sigma AA\n--------\n\n"
      ]
    },
    {
      "cell_type": "code",
      "execution_count": null,
      "metadata": {
        "collapsed": false
      },
      "outputs": [],
      "source": [
        "for i in range(6):\n    plt.plot(w_n, sigma_iw[i, 0].imag, 'o:',\n             label=r'$t_\\perp={}$'.format(tprr[i]))\nplt.xlabel(r'$i\\omega_n$')\nplt.ylabel(r'$\\Im m \\Sigma_{AA} (i\\omega_n)$')\nplt.legend(loc=0)\nplt.xlim([0, 2.5])\nplt.ylim([-25, 0])\n\nplt.figure()\nfor i in range(6):\n    plt.loglog(w_n, -sigma_iw[i, 0].imag, 'o:',\n               label=r'$t_\\perp={}$'.format(tprr[i]))\nplt.xlabel(r'$i\\omega_n$')\nplt.ylabel(r'$-\\Im m \\Sigma_{AA} (i\\omega_n)$')\nplt.legend(loc=0)"
      ]
    },
    {
      "cell_type": "code",
      "execution_count": null,
      "metadata": {
        "collapsed": false
      },
      "outputs": [],
      "source": [
        "slopes = np.array([np.polyfit(w_n[:3], sigma_iw[i, 0, :3].imag, 1)\n                   for i in range(1, len(tprr))])\n\nplt.plot(tprr[1:], slopes.T[0], '+-', label='Slope')\nplt.plot(tprr[1:], slopes.T[1], '+-', label='Cut')\n\nplt.title(r'Slope of $\\Im \\Sigma_{AA}$ and zero frequency cut')\nplt.xlabel(r'$t_\\perp/D$')\nplt.ylabel(r'$\\Im \\Sigma_{AA}(0)$')\nplt.legend(loc=0)"
      ]
    },
    {
      "cell_type": "markdown",
      "metadata": {},
      "source": [
        "Sigma AB\n--------\n\n"
      ]
    },
    {
      "cell_type": "code",
      "execution_count": null,
      "metadata": {
        "collapsed": false
      },
      "outputs": [],
      "source": [
        "plt.figure()\nfor i in [1, 4, 9, 16, 21, 25]:\n    plt.plot(w_n, sigma_iw[i, 1].real, 's-',\n             label=r'$t_\\perp={}$'.format(tprr[i]))\nplt.xlabel(r'$i\\omega_n$')\nplt.ylabel(r'$\\Re e \\Sigma_{AB} (i\\omega_n)$')\nplt.xlim([0, 3.2])\nplt.ylim([-0.1, 6])\nplt.legend(loc=0)\n\n\nplt.figure()\nfor i in [1, 4, 9, 16, 21, 25]:\n    plt.loglog(w_n, sigma_iw[i, 1].real, 's-',\n               label=r'$t_\\perp={}$'.format(tprr[i]))\nplt.xlabel(r'$i\\omega_n$')\nplt.ylabel(r'$\\Re e \\Sigma_{AB} (i\\omega_n)$')\nplt.legend(loc=0)"
      ]
    },
    {
      "cell_type": "code",
      "execution_count": null,
      "metadata": {
        "collapsed": false
      },
      "outputs": [],
      "source": [
        "slopes = np.array([np.polyfit(w_n[:3], sigma_iw[i, 1, :3].real, 1)\n                   for i in range(1, len(tprr))])\n\nplt.plot(tprr[1:], slopes.T[0], '+-', label='Slope')\nplt.plot(tprr[1:], slopes.T[1], '+-', label='Cut')\n\nplt.title(r'Slope of $\\Re \\Sigma_{AB}$ and zero frequency cut')\nplt.xlabel(r'$t_\\perp/D$')\nplt.ylabel(r'$\\Re e \\Sigma_{AB}(0)$')\nplt.legend(loc=0)"
      ]
    },
    {
      "cell_type": "markdown",
      "metadata": {},
      "source": [
        "The Energy\n----------\n\n"
      ]
    },
    {
      "cell_type": "code",
      "execution_count": null,
      "metadata": {
        "collapsed": false
      },
      "outputs": [],
      "source": [
        "plt.plot(tprr, ekin + epot)\nplt.title(r'Internal Energy per spin')\nplt.ylabel(r'$\\langle H \\rangle$')\nplt.xlabel(r'$t_\\perp/D$')"
      ]
    },
    {
      "cell_type": "markdown",
      "metadata": {},
      "source": [
        "Double occupation\n-----------------\n\n"
      ]
    },
    {
      "cell_type": "code",
      "execution_count": null,
      "metadata": {
        "collapsed": false
      },
      "outputs": [],
      "source": [
        "plt.plot(tprr, 2 * epot / 4.3)\nplt.title(r'Double Occupation')\nplt.ylabel(r'$\\langle n_\\uparrow n_\\downarrow \\rangle$')\nplt.xlabel(r'$t_\\perp/D$')"
      ]
    },
    {
      "cell_type": "markdown",
      "metadata": {},
      "source": [
        "High in the Band insulator\n==========================\n\n"
      ]
    },
    {
      "cell_type": "code",
      "execution_count": null,
      "metadata": {
        "collapsed": false
      },
      "outputs": [],
      "source": [
        "urange = np.linspace(0.5, 4.5, len(tprr))\ngiw_s, sigma_iw, ekin, epot, w_n = loop_u_tp(\n    urange, 1.02 * np.ones_like(urange), 512.)\n\nplt.pcolormesh(x, y, metal_phases, cmap=plt.get_cmap(r'viridis'))\nplt.axis([x.min(), x.max(), y.min(), y.max()])\nplt.colorbar()\nplt.pcolormesh(x, y, insulator_phases, alpha=0.2,\n               cmap=plt.get_cmap(r'viridis'))\n\nplt.xlabel(r'$t_\\perp$')\nplt.ylabel(r'U/D')\nplt.title(\n    'Phase diagram $\\\\beta={}$,\\n color represents $-\\\\Im G_{{AA}}(0)$'.format(BETA))\n\nplt.plot(1.02 * np.ones_like(urange), urange, 'rx-', lw=2)"
      ]
    },
    {
      "cell_type": "markdown",
      "metadata": {},
      "source": [
        "Change of G_{AA}\n----------------\n\nThere is not much out of the ordinary here. An always gaped function\n\n"
      ]
    },
    {
      "cell_type": "code",
      "execution_count": null,
      "metadata": {
        "collapsed": false
      },
      "outputs": [],
      "source": [
        "fig = plt.figure()\nax = fig.gca(projection='3d')\nX, Y = np.meshgrid(urange, w_n[:500])\nax.plot_surface(X, Y, giw_s[:, 0, :500].imag.T)\nax.set_xlabel(r'$U/D$')\nax.set_ylabel(r'$i\\omega_n$')\nax.set_zlabel(r'$\\Im m G_{AA} (i\\omega_n)$')"
      ]
    },
    {
      "cell_type": "code",
      "execution_count": null,
      "metadata": {
        "collapsed": false
      },
      "outputs": [],
      "source": [
        "slopes = [np.polyfit(w_n[:5], giw_s[i, 0, :5].imag, 1)[0]\n          for i in range(len(urange))]\nplt.plot(urange, slopes, '+-', label='data')\nplt.title(r'Slope of $Im G_{AA}$')\nplt.xlabel(r'$U/D$')\nplt.ylabel(r\"$\\Im m G'_{AA}(0)$\")"
      ]
    },
    {
      "cell_type": "markdown",
      "metadata": {},
      "source": [
        "Analytical Continuation\n-----------------------\n\n"
      ]
    },
    {
      "cell_type": "code",
      "execution_count": null,
      "metadata": {
        "collapsed": false
      },
      "outputs": [],
      "source": [
        "w_set = np.concatenate((np.arange(7) * 256, np.arange(1, 247, 1)))\nw = np.linspace(0, 3.5, 500)\nplt.figure()\nfor i, u in enumerate(urange):\n    pc = gf.pade_coefficients(1j * giw_s[i, 0, w_set].imag, w_n[w_set])\n    plt.plot(w, -u - gf.pade_rec(pc, w, w_n[w_set]).imag)\nplt.xlabel(r'$\\omega$')\nplt.ylabel(r'$A(\\omega) - U$')"
      ]
    },
    {
      "cell_type": "markdown",
      "metadata": {},
      "source": [
        "Change of G_{AB}\n----------------\n\n"
      ]
    },
    {
      "cell_type": "code",
      "execution_count": null,
      "metadata": {
        "collapsed": false
      },
      "outputs": [],
      "source": [
        "for i in [3, 7, 11, 16, 23, 28]:\n    plt.plot(w_n, giw_s[i, 1].real, 's-', label=r'$U={:.2}$'.format(urange[i]))\nplt.xlabel(r'$i\\omega_n$')\nplt.ylabel(r'$\\Re e G_{AB} (i\\omega_n)$')\nplt.legend(loc=0)\nplt.xlim([0, 3])\n\n\nplt.figure()\n\nslopes = np.array([np.polyfit(w_n[:5], giw_s[i, 1, :5].real, 1)\n                   for i in range(len(urange))])\n\nplt.plot(urange, slopes.T[0], '+-', label='Slope')\nplt.plot(urange, slopes.T[1], '+-', label='Cut')\n\nplt.title(r'Slope of $\\Re G_{AB}$ and zero frequency cut')\nplt.xlabel(r'$U/D$')\nplt.ylabel(r\"$\\Re e G'_{AB}(0)$\")\nplt.legend(loc=0)"
      ]
    },
    {
      "cell_type": "markdown",
      "metadata": {},
      "source": [
        "Sigma AA\n--------\n\n"
      ]
    },
    {
      "cell_type": "code",
      "execution_count": null,
      "metadata": {
        "collapsed": false
      },
      "outputs": [],
      "source": [
        "for i in [3, 7, 11, 16, 23, 28]:\n    plt.plot(w_n, sigma_iw[i, 0].imag, 'o:',\n             label=r'$U={:.2}$'.format(urange[i]))\nplt.xlabel(r'$i\\omega_n$')\nplt.ylabel(r'$\\Im m \\Sigma_{AA} (i\\omega_n)$')\nplt.legend(loc=0)\nplt.xlim([0, 3.2])\n\nplt.figure()\nfor i in [3, 7, 11, 16, 23, 28]:\n    plt.loglog(w_n, -sigma_iw[i, 0].imag, 'o:',\n               label=r'$U={:.2}$'.format(urange[i]))\nplt.xlabel(r'$i\\omega_n$')\nplt.ylabel(r'$-\\Im m \\Sigma_{AA} (i\\omega_n)$')\nplt.legend(loc=0)"
      ]
    },
    {
      "cell_type": "code",
      "execution_count": null,
      "metadata": {
        "collapsed": false
      },
      "outputs": [],
      "source": [
        "slopes = np.array([np.polyfit(w_n[:3], sigma_iw[i, 0, :3].imag, 1)\n                   for i in range(len(urange))])\n\nplt.plot(urange, slopes.T[0], '+-', label='Slope')\nplt.plot(urange, slopes.T[1], '+-', label='Cut')\n\nplt.title(r'Slope of $\\Im \\Sigma_{AA}$ and zero frequency cut')\nplt.xlabel(r'$U/D$')\nplt.ylabel(r'$\\Im \\Sigma_{AA}(0)$')\nplt.legend(loc=0)"
      ]
    },
    {
      "cell_type": "markdown",
      "metadata": {},
      "source": [
        "Sigma AB\n--------\n\n"
      ]
    },
    {
      "cell_type": "code",
      "execution_count": null,
      "metadata": {
        "collapsed": false
      },
      "outputs": [],
      "source": [
        "plt.figure()\nfor i in [3, 7, 11, 16, 23, 28]:\n    plt.plot(w_n, sigma_iw[i, 1].real, 's-',\n             label=r'$U={:.2}$'.format(urange[i]))\nplt.xlabel(r'$i\\omega_n$')\nplt.ylabel(r'$\\Re e \\Sigma_{AB} (i\\omega_n)$')\nplt.xlim([0, 3.2])\nplt.ylim([-0.1, 2])\nplt.legend(loc=0)\n\nplt.figure()\nfor i in [3, 7, 11, 16, 23, 28]:\n    plt.loglog(w_n, sigma_iw[i, 1].real, 's-',\n               label=r'$U={:.2}$'.format(urange[i]))\nplt.xlabel(r'$i\\omega_n$')\nplt.ylabel(r'$\\Re e \\Sigma_{AB} (i\\omega_n)$')\nplt.legend(loc=0)"
      ]
    },
    {
      "cell_type": "code",
      "execution_count": null,
      "metadata": {
        "collapsed": false
      },
      "outputs": [],
      "source": [
        "slopes = np.array([np.polyfit(w_n[:3], sigma_iw[i, 1, :3].real, 1)\n                   for i in range(len(urange))])\n\nplt.plot(urange, slopes.T[0], '+-', label='Slope')\nplt.plot(urange, slopes.T[1], '+-', label='Cut')\n\nplt.title(r'Slope of $\\Re \\Sigma_{AB}$ and zero frequency cut')\nplt.xlabel(r'$U/D$')\nplt.ylabel(r'$\\Re e \\Sigma_{AB}(0)$')\nplt.legend(loc=0)"
      ]
    },
    {
      "cell_type": "markdown",
      "metadata": {},
      "source": [
        "The Energy\n----------\n\n"
      ]
    },
    {
      "cell_type": "code",
      "execution_count": null,
      "metadata": {
        "collapsed": false
      },
      "outputs": [],
      "source": [
        "plt.plot(urange, ekin + epot)\nplt.title(r'Internal Energy per spin')\nplt.ylabel(r'$\\langle H \\rangle$')\nplt.xlabel(r'$U/D$')"
      ]
    },
    {
      "cell_type": "markdown",
      "metadata": {},
      "source": [
        "Double occupation\n-----------------\n\n"
      ]
    },
    {
      "cell_type": "code",
      "execution_count": null,
      "metadata": {
        "collapsed": false
      },
      "outputs": [],
      "source": [
        "plt.plot(urange, 2 * epot / urange)\nplt.title(r'Double occupation')\nplt.ylabel(r'$\\langle n_\\uparrow n_\\downarrow \\rangle$')\nplt.xlabel(r'$U/D$')"
      ]
    }
  ],
  "metadata": {
    "kernelspec": {
      "display_name": "Python 3",
      "language": "python",
      "name": "python3"
    },
    "language_info": {
      "codemirror_mode": {
        "name": "ipython",
        "version": 3
      },
      "file_extension": ".py",
      "mimetype": "text/x-python",
      "name": "python",
      "nbconvert_exporter": "python",
      "pygments_lexer": "ipython3",
      "version": "3.6.1"
    }
  },
  "nbformat": 4,
  "nbformat_minor": 0
}