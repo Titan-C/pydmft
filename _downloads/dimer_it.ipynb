{
  "cells": [
    {
      "cell_type": "code",
      "execution_count": null,
      "metadata": {
        "collapsed": false
      },
      "outputs": [],
      "source": [
        "%matplotlib inline"
      ]
    },
    {
      "cell_type": "markdown",
      "metadata": {},
      "source": [
        "\nIterator for CTQMC of a dimer\n=============================\n\nThis module runs ctqmc impurity solver for one-band model.\nThe executable shoule exist in directory params['exe']\n\n"
      ]
    },
    {
      "cell_type": "code",
      "execution_count": null,
      "metadata": {
        "collapsed": false
      },
      "outputs": [],
      "source": [
        "from glob import glob\nimport argparse\nimport dmft.common as gf\nimport numpy as np\nimport os\nimport dmft.plot.cthyb_h_single_site as psb\nimport shutil\nimport subprocess\nimport sys\n\nparser = argparse.ArgumentParser(description='DMFT loop for CTHYB single band',\n                                 formatter_class=argparse.ArgumentDefaultsHelpFormatter)\nparser.add_argument('-BETA', metavar='B', type=float,\n                    default=64., help='The inverse temperature')\nparser.add_argument('-Niter', metavar='N', type=int,\n                    default=10, help='Number of iterations')\nparser.add_argument('-U', metavar='U', nargs='+', type=float,\n                    default=[2.7], help='Local interaction strength')\n\nparser.add_argument('-odir', default='coex/B{BETA}_U{U}',\n                    help='Output directory')\nparser.add_argument('-new_seed', type=float, nargs=3, default=False,\n                    metavar=('U_src', 'U_target', 'avg_over'),\n                    help='Resume DMFT loops from on disk data files')\nargs = parser.parse_args()\n\nNiter = args.Niter\nBETA = args.BETA\nM = 10e6\n\n\nparams = {\"exe\":          ['ctqmc',        \"# Path to executable\"],\n          \"Delta\":        [\"Delta.inp\",    \"# Input bath function hybridization\"],\n          \"cix\":          [\"dim_band.imp\", \"# Input file with atomic state\"],\n          \"beta\":         [BETA,           \"# Inverse temperature\"],\n          \"M\":            [M,              \"# Number of Monte Carlo steps\"],\n          \"nom\":          [BETA,           \"# number of Matsubara frequency points to sample\"],\n          \"nomD\":         [0,              \"# number of Matsubara points using the Dyson Equation\"],\n          \"Segment\":      [0,              \"# Whether to use segment type algorithm\"],\n          \"aom\":          [5,              \"# number of frequency points to determin high frequency tail\"],\n          \"tsample\":      [30,             \"# how often to record the measurements\" ],\n          \"PChangeOrder\": [0.9,            \"# Ratio between trial steps: add-remove-a-kink / move-a-kink\"],\n          \"OCA_G\":        [False,          \"# No OCA diagrams being computed - for speed\"],\n          \"minM\":         [1e-10,          \"# The smallest allowed value for the atomic trace\"],\n          \"minD\":         [1e-10,          \"# The smallest allowed value for the determinant\"],\n          \"Nmax\":         [BETA*2,         \"# Maximum perturbation order allowed\"],\n          \"GlobalFlip\":   [100000,         \"# Global flip shold be tried\"],\n          }\n\n\ndef CreateInputFile(params):\n    \" Creates input file (PARAMS) for CT-QMC solver\"\n    with open('PARAMS', 'w') as parfile:\n        for key, vaule in params.iteritems():\n            parfile.write('{}\\t{}\\t{}\\n'.format(key, vaule[0], vaule[1]))\n\n\ndef DMFT_SCC(fDelta):\n    \"\"\"This subroutine creates Delta.inp from Gf.out for DMFT on bethe\n    lattice: Delta=t^2*G If Gf.out does not exist, it creates Gf.out\n    which corresponds to the non-interacting model In the latter case\n    also creates the inpurity cix file, which contains information\n    about the atomic states.\"\"\"\n    fileGf = 'Gf.out'\n    try:\n        Gf = np.loadtxt(fileGf).T\n        # If output file exists, start from previous iteration\n    except Exception:  # otherwise start from non-interacting limit\n        print('Starting from non-interacting model at beta'+str(BETA))\n        w_n = gf.matsubara_freq(BETA)\n        Gf = gf.greenF(w_n)\n        Gf = np.array([w_n, Gf.real, Gf.imag])\n\n    # Preparing input file Delta.inp\n    delta = np.array([Gf[0], 0.25*Gf[1], 0.25*Gf[2], 0.25*Gf[1], 0.25*Gf[2]]).T\n    np.savetxt(fDelta, delta)\n\n\ndef set_new_seed(setup):\n    new_seed = setup.new_seed\n    avg_over = int(new_seed[2])\n\n    prev_iter = sorted(glob(setup.odir.format(BETA=setup.BETA, U=new_seed[0]) +\n                            '/Gf.out.*'))[-avg_over:]\n    giw = psb.averager(prev_iter).T\n\n    udir = setup.odir.format(BETA=setup.BETA, U=new_seed[1])\n    if not os.path.exists(udir):\n        os.makedirs(udir)\n    np.savetxt(udir + '/Gf.out', giw)\n    # creating impurity cix file\n    with open(udir + '/' + params['cix'][0], 'w') as f:\n        f.write(icix)\n\n\ndef dmft_loop_pm(Uc):\n    \"\"\"Creating parameters file PARAMS for qmc execution\"\"\"\n    uparams = {\"mu\": [Uc/2., \"# Chemical potential\"]}\n    params.update(uparams)\n    CreateInputFile(params)\n\n    mpi_prefix = 'mpirun -np 12'\n\n    fh_info = open('info.dat', 'w')\n\n    prev_iter = len(glob('Gf.out.*'))\n    print('Loop at beta ', BETA, ' U=', Uc)\n\n    for it in range(prev_iter, prev_iter + Niter):\n        # Constructing bath Delta.inp from Green's function\n        DMFT_SCC(params['Delta'][0])\n\n        # Running ctqmc\n        print('Running ---- qmc it: ', it, '-----')\n        sys.stdout.flush()\n\n        cmd = mpi_prefix+' '+params['exe'][0]+'  PARAMS > nohup_imp.out 2>&1 '\n        subprocess.call(cmd, shell=True, stdout=fh_info, stderr=fh_info)\n        fh_info.flush()\n\n        # Some copying to store data obtained so far (at each iteration)\n        shutil.copy('Gf.out', 'Gf.out.{:02}'.format(it))\n        shutil.copy('Sig.out', 'Sig.out.{:02}'.format(it))\n\n\nCWD = os.getcwd()\nif args.new_seed:\n    set_new_seed(args)\n    sys.exit()\n\nfor Uc in args.U:\n\n    udir = args.odir.format(BETA=BETA, U=Uc)\n    if not os.path.exists(udir):\n        os.makedirs(udir)\n        shutil.copy(params['cix'][0], udir + '/' + params['cix'][0])\n\n    os.chdir(udir)\n    dmft_loop_pm(Uc)\n    os.chdir(CWD)"
      ]
    }
  ],
  "metadata": {
    "kernelspec": {
      "display_name": "Python 3",
      "language": "python",
      "name": "python3"
    },
    "language_info": {
      "codemirror_mode": {
        "name": "ipython",
        "version": 3
      },
      "file_extension": ".py",
      "mimetype": "text/x-python",
      "name": "python",
      "nbconvert_exporter": "python",
      "pygments_lexer": "ipython3",
      "version": "3.6.1"
    }
  },
  "nbformat": 4,
  "nbformat_minor": 0
}