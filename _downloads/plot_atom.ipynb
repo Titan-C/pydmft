{
  "cells": [
    {
      "cell_type": "code",
      "execution_count": null,
      "metadata": {
        "collapsed": false
      },
      "outputs": [],
      "source": [
        "%matplotlib inline"
      ]
    },
    {
      "cell_type": "markdown",
      "metadata": {},
      "source": [
        "\n# Interacting atom spectral function\n\n\nFor the case of contact interaction in the single orbital case\nthe atomic Green function as given by the Lehmann Representation.\n\n"
      ]
    },
    {
      "cell_type": "code",
      "execution_count": null,
      "metadata": {
        "collapsed": false
      },
      "outputs": [],
      "source": [
        "# author: \u00d3scar N\u00e1jera\n\nfrom __future__ import division, absolute_import, print_function\nimport numpy as np\nimport matplotlib.pyplot as plt\nfrom dmft.common import matsubara_freq, gw_invfouriertrans\nfrom slaveparticles.quantum import fermion\nfrom slaveparticles.quantum.operators import gf_lehmann, diagonalize\n\n\ndef hamiltonian(U, mu):\n    r\"\"\"Generate a single orbital isolated atom Hamiltonian in particle-hole\n    symmetry. Include chemical potential for grand Canonical calculations\n\n    .. math::\n        \\mathcal{H} - \\mu N = -\\frac{U}{2}(n_\\uparrow - n_\\downarrow)^2\n        - \\mu(n_\\uparrow + n_\\downarrow)\n\n    \"\"\"\n    d_up, d_dw = [fermion.destruct(2, sigma) for sigma in range(2)]\n    sigma_z = d_up.T * d_up - d_dw.T * d_dw\n    H = - U / 2 * sigma_z * sigma_z - mu * (d_up.T * d_up + d_dw.T * d_dw)\n    return H, d_up, d_dw\n\n\ndef gf(w, U, mu, beta):\n    \"\"\"Calculate by Lehmann representation the green function\"\"\"\n    H, d_up, d_dw = hamiltonian(U, mu)\n    e, v = diagonalize(H.todense())\n    g_up = gf_lehmann(e, v, d_up.T, beta, w)\n    return g_up\n\n\nbeta = 50\nU = 1.\nmu_v = np.array([0, 0.2, 0.45, 0.5, 0.65])\nc_v = ['b', 'g', 'r', 'k', 'm']\n\nf, axw = plt.subplots(2, sharex=True)\nf.subplots_adjust(hspace=0)\nw = np.linspace(-1.5, 1.5, 500) + 1j * 1e-2\nfor mu, c in zip(mu_v, c_v):\n    gw = gf(w, U, mu, beta)\n    axw[0].plot(w.real, gw.real, c, label=r'$\\mu={}$'.format(mu))\n    axw[1].plot(w.real, -1 * gw.imag / np.pi, c)\naxw[0].legend()\naxw[0].set_title(r'Real Frequencies Green functions, $\\beta={}$'.format(beta))\naxw[0].set_ylabel(r'$\\Re e G(\\omega)$')\naxw[1].set_ylabel(r'$A(\\omega)$')\naxw[1].set_xlabel(r'$\\omega$')\n\n\ngwp, axwn = plt.subplots(2, sharex=True)\ngwp.subplots_adjust(hspace=0)\ngtp, axt = plt.subplots()\nwn = matsubara_freq(beta, 64)\ntau = np.linspace(0, beta, 2**10)\nfor mu, c in zip(mu_v, c_v):\n    giw = gf(1j * wn, U, mu, beta)\n    axwn[0].plot(wn, giw.real, c + 's-', label=r'$\\mu={}$'.format(mu))\n    axwn[1].plot(wn, giw.imag, c + 'o-')\n\n    gt = gw_invfouriertrans(giw, tau, wn)\n    axt.plot(tau, gt, label=r'$\\mu={}$'.format(mu))\n\naxwn[0].legend()\naxwn[0].set_title(r'Matsubara Green functions, $\\beta={}$'.format(beta))\naxwn[1].set_xlabel(r'$\\omega_n$')\naxwn[0].set_ylabel(r'$\\Re e G(i\\omega_n)$')\naxwn[1].set_ylabel(r'$\\Im m G(i\\omega_n)$')\n\naxt.set_ylim(top=0.05)\naxt.legend(loc=0)\naxt.set_title(r'Imaginary time Green functions, $\\beta={}$'.format(beta))\naxt.set_xlabel(r'$\\tau$')\naxt.set_ylabel(r'$G(\\tau)$')"
      ]
    }
  ],
  "metadata": {
    "kernelspec": {
      "display_name": "Python 3",
      "language": "python",
      "name": "python3"
    },
    "language_info": {
      "codemirror_mode": {
        "name": "ipython",
        "version": 3
      },
      "file_extension": ".py",
      "mimetype": "text/x-python",
      "name": "python",
      "nbconvert_exporter": "python",
      "pygments_lexer": "ipython3",
      "version": "3.6.1"
    }
  },
  "nbformat": 4,
  "nbformat_minor": 0
}