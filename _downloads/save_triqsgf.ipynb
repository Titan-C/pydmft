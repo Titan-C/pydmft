{
  "cells": [
    {
      "cell_type": "code",
      "execution_count": null,
      "metadata": {
        "collapsed": false
      },
      "outputs": [],
      "source": [
        "%matplotlib inline"
      ]
    },
    {
      "cell_type": "markdown",
      "metadata": {},
      "source": [
        "\nSaving high temp gf\n===================\n\nUsing a spectral function create the higher temperature versions\n\n"
      ]
    },
    {
      "cell_type": "code",
      "execution_count": null,
      "metadata": {
        "collapsed": false
      },
      "outputs": [],
      "source": [
        "# Created Mon Jan 30 19:17:19 2017\n# Author: \u00d3scar N\u00e1jera\n\nfrom __future__ import division, absolute_import, print_function\nimport numpy as np\nimport matplotlib.pyplot as plt\n\nfrom pytriqs.gf.local import GfImFreq, BlockGf\nfrom pytriqs.archive import HDFArchive\n\nimport dmft.common as gf\nimport py3qs.dimer_lattice as dlat\nfrom pymaxent.tools import hilbert_trans, differential_weight\n\ntp = 0.3\nu_int = 1.8\n# u_int = 2.01\n# u_int = 2.15\n\ndata = np.load('AwmetB25tp0.3U{}G_sym.npz'.format(u_int))\nAw = data['Aw']\nw = data['w']\n\nplt.plot(w, Aw)\nplt.show()"
      ]
    },
    {
      "cell_type": "markdown",
      "metadata": {},
      "source": [
        "High temperature seeds\n----------------------\n\n"
      ]
    },
    {
      "cell_type": "code",
      "execution_count": null,
      "metadata": {
        "collapsed": false
      },
      "outputs": [],
      "source": [
        "hot_beta = np.round(1 / np.arange(1 / 25, .2, 1.44e-3), 3)\ngfsiw = []\nwnli = []\nfor beta in hot_beta:\n    freq = 2 * int(beta * 3)\n    wnh = gf.matsubara_freq(beta, freq, 1 - freq)\n    wnli.append(wnh)\n    print(beta)\n    gfsiw.append(hilbert_trans(1j * wnh, w, differential_weight(w), Aw, 0))\n    plt.plot(wnh, gfsiw[-1].imag, 'o:')\n    plt.plot(wnh, gfsiw[-1].real, 'o:')\n\n    # triqs blocks\n    gfarr = GfImFreq(indices=[0], beta=beta, n_points=int(beta * 3))\n    G_iw = BlockGf(name_list=['asym_dw', 'asym_up', 'sym_dw', 'sym_up'],\n                   block_list=(gfarr, gfarr, gfarr, gfarr), make_copies=True)\n    dlat.gf_sym_2_triqs_blockgf(gfsiw[-1], G_iw, u_int, tp)\n\n    with HDFArchive('DIMER_PM_met_B{}_tp0.3.h5'.format(beta), 'a') as dest:\n        dest['/U{}/it000/G_iw'.format(u_int)] = G_iw\n\n# block_names = ['sym_up', 'sym_dw', 'asym_up', 'asym_dw']\n# gref = np.squeeze([G_iw[name].data for name in block_names])\n# plt.plot(wnh, gref.T.real)\n# plt.plot(wnh, gref.T.imag)"
      ]
    }
  ],
  "metadata": {
    "kernelspec": {
      "display_name": "Python 3",
      "language": "python",
      "name": "python3"
    },
    "language_info": {
      "codemirror_mode": {
        "name": "ipython",
        "version": 3
      },
      "file_extension": ".py",
      "mimetype": "text/x-python",
      "name": "python",
      "nbconvert_exporter": "python",
      "pygments_lexer": "ipython3",
      "version": "3.6.1"
    }
  },
  "nbformat": 4,
  "nbformat_minor": 0
}