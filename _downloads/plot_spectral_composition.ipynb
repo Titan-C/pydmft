{
  "cells": [
    {
      "cell_type": "code",
      "execution_count": null,
      "metadata": {
        "collapsed": false
      },
      "outputs": [],
      "source": [
        "%matplotlib inline"
      ]
    },
    {
      "cell_type": "markdown",
      "metadata": {},
      "source": [
        "\nSpectral composition\n====================\n\nThe energy resolved spectral function is plotted to view the quality of\nthe Fermi Liquid approximation\n\n\n"
      ]
    },
    {
      "cell_type": "code",
      "execution_count": null,
      "metadata": {
        "collapsed": false
      },
      "outputs": [],
      "source": [
        "from __future__ import division, absolute_import, print_function\n\nimport numpy as np\nimport matplotlib.pyplot as plt\nfrom scipy.interpolate import splrep, splev\n\nimport dmft.common as gf\nimport dmft.ipt_imag as ipt\nimport dmft.dimer as dimer\n\n\ndef ipt_u_tp(u_int, tp, beta, seed='ins'):\n\n    tau, w_n = gf.tau_wn_setup(dict(BETA=beta, N_MATSUBARA=2**11))\n    giw_d, giw_o = dimer.gf_met(w_n, 0., 0., 0.5, 0.)\n\n    if 'ins' in seed:\n        giw_d, giw_o = 1 / (1j * w_n + 4j / w_n), np.zeros_like(w_n) + 0j\n\n    giw_d, giw_o, loops = dimer.ipt_dmft_loop(\n        beta, u_int, tp, giw_d, giw_o, tau, w_n, 1e-12)\n    g0iw_d, g0iw_o = dimer.self_consistency(\n        1j * w_n, 1j * giw_d.imag, giw_o.real, 0., tp, 0.25)\n    siw_d, siw_o = ipt.dimer_sigma(u_int, tp, g0iw_d, g0iw_o, tau, w_n)\n\n    return giw_d, giw_o, siw_d, siw_o, w_n\n\n\ndef ipt_g_s(u_int, tp, BETA, seed, w):\n    giw_d, giw_o, siw_d, siw_o, w_n = ipt_u_tp(u_int, tp, BETA, seed)\n\n    w_set = np.arange(0, 541, 4)\n    ss = gf.pade_continuation(\n        1j * siw_d.imag + siw_o.real, w_n, w + 0.0005j, w_set)  # A-bond\n\n    gst = gf.semi_circle_hiltrans(w - tp - (ss.real - 1j * np.abs(ss.imag)))\n    return gst, ss, w\n\n\ndef low_en_qp(ss):\n    glp = np.array([0.])\n    sigtck = splrep(w, ss.real, s=0)\n    sig_0 = splev(glp, sigtck, der=0)[0]\n    dw_sig0 = splev(glp, sigtck, der=1)[0]\n    quas_z = 1 / (1 - dw_sig0)\n    return quas_z, sig_0, dw_sig0\n\n\ndef plot_spectral(omega, tp, gss, ss, axes, xlim):\n\n    (axsg, axgf, axsd) = axes\n    quas_z, sig_0, dw_sig0 = low_en_qp(ss)\n    tpp = (tp + sig_0) * quas_z\n    axgf.plot(-gss.imag / np.pi, omega, 'C0')\n    llg = gf.semi_circle_hiltrans(omega + 1e-8j - tpp, quas_z) * quas_z\n    axgf.plot(-llg.imag / np.pi, omega, \"C3--\", lw=2)\n    axgf.invert_xaxis()\n    axgf.set_xlabel(r'$A_{AB}(\\omega)$')\n    plt.xticks(rotation=40)\n\n    # plt.plot(omega, gst.real)\n    axsg.plot(ss.real, omega, 'C4', label=r'$\\Re e$')\n    axsg.plot(ss.imag, omega, 'C2', label=r'$\\Im m$')\n    axsg.plot(sig_0 + dw_sig0 * omega, omega, 'k:')\n    axsg.legend(loc=2)\n    axsg.invert_xaxis()\n\n    axsg.set_ylabel(r'$\\omega$')\n    axsg.set_xlabel(r'$\\Sigma_{AB}(\\omega)$')\n    axsg.set_xlim(*xlim)\n\n    eps_k = np.linspace(-1., 1., 61)\n    lat_gfs = 1 / np.add.outer(-eps_k, omega - tp - ss + 0.007j)\n    Aw = -lat_gfs.imag / np.pi\n    x, y = np.meshgrid(eps_k, omega)\n    axsd.pcolormesh(x, y, Aw.T, cmap=plt.get_cmap(r'viridis'), vmin=0, vmax=2)\n    axsd.plot(eps_k, eps_k * quas_z + tpp, \"C3--\")\n    axsd.set_ylim([-2.3,  2.3])\n\n    axsd.set_xlabel(r'$\\epsilon$')\n\n\nBETA = 512.\n\nw = np.linspace(-4, 4, 2**12)"
      ]
    },
    {
      "cell_type": "markdown",
      "metadata": {},
      "source": [
        "Along $U_{c_1}$\n---------------------\n\n"
      ]
    },
    {
      "cell_type": "code",
      "execution_count": null,
      "metadata": {
        "collapsed": false
      },
      "outputs": [],
      "source": [
        "for i, (U, tp, xlim) in enumerate([\n    (2.2, 0.3, (-4, 3)),\n    (1.67, 0.55, (-1.52, 1)),\n    (1.42, 0.8, (-1, 0.5)),\n]):\n\n    fig, ax = plt.subplots(1, 3, sharey=True, gridspec_kw=dict(\n        wspace=0.05, hspace=0.1, width_ratios=[1, 1, 2.4]))\n    gss, ss, w = ipt_g_s(U, tp, BETA, 'ins', w)\n    plot_spectral(w, tp, gss, ss, ax, xlim)\n    ax[2].set_title(r'$U/D={}$ ; $t_\\perp/D={}$'.format(U, tp))"
      ]
    },
    {
      "cell_type": "markdown",
      "metadata": {},
      "source": [
        "Along the Mott insulator\n------------------------\n\n"
      ]
    },
    {
      "cell_type": "code",
      "execution_count": null,
      "metadata": {
        "collapsed": false
      },
      "outputs": [],
      "source": [
        "for i, (U, tp, xlim) in enumerate([\n    (2.3, 0.3, (-4, 2.7)),\n    (2.3, 0.48, (-4, 2.7)),\n        (2.3, 0.85, (-2.2, 2.2))]):\n\n    fig, ax = plt.subplots(1, 3, sharey=True, gridspec_kw=dict(\n        wspace=0.05, hspace=0.1, width_ratios=[1, 1, 2.4]))\n    gss, ss, w = ipt_g_s(U, tp, BETA, 'ins', w)\n    plot_spectral(w, tp, gss, ss, ax, xlim)\n    ax[2].set_title(r'$U/D={}$ ; $t_\\perp/D={}$'.format(U, tp))"
      ]
    }
  ],
  "metadata": {
    "kernelspec": {
      "display_name": "Python 3",
      "language": "python",
      "name": "python3"
    },
    "language_info": {
      "codemirror_mode": {
        "name": "ipython",
        "version": 3
      },
      "file_extension": ".py",
      "mimetype": "text/x-python",
      "name": "python",
      "nbconvert_exporter": "python",
      "pygments_lexer": "ipython3",
      "version": "3.6.1"
    }
  },
  "nbformat": 4,
  "nbformat_minor": 0
}