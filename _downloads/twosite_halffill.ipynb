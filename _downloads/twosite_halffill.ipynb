{
  "cells": [
    {
      "cell_type": "code",
      "execution_count": null,
      "metadata": {
        "collapsed": false
      },
      "outputs": [],
      "source": [
        "%matplotlib inline"
      ]
    },
    {
      "cell_type": "markdown",
      "metadata": {},
      "source": [
        "\nSome extra scripts for movie generation\n=======================================\n\n\n"
      ]
    },
    {
      "cell_type": "code",
      "execution_count": null,
      "metadata": {
        "collapsed": false
      },
      "outputs": [],
      "source": [
        "from __future__ import division, absolute_import, print_function\nimport matplotlib.pyplot as plt\nimport matplotlib.animation as anim\nimport numpy as np\nfrom dmft.twosite import dmft_loop, TwoSite_Matsubara\nfrom slaveparticles.quantum import dos\n\ndef movie_feature(res, name):\n    \"\"\"Outputs an animate movie of the evolution of an specific feature\"\"\"\n    figi, ax = plt.subplots()\n    line, = ax.plot([], [], '*-')\n    ax.set_ylim(-1e-8, 0)\n    beta = res[0, 2].beta\n    sim = TwoSite_Matsubara(beta, res[0, 2].t, 30*beta)\n\n    iwn = np.arange(1, 30*beta, 2) / beta\n    ax.set_xlim(0, iwn.max())\n    ax.set_xlabel('$i\\\\omega_n$')\n    ax.set_ylabel(r'$Im \\Sigma$')\n    ax.set_title('Evolution of the Self Energy at $\\\\beta=${}'.format(beta))\n\n\n    def run(i):\n        # update the data\n        u_int = res[i, 0]\n        sim.mu = u_int / 2.\n        sim.solve(u_int/2., u_int, res[i, 2].hyb_V())\n        s = sim.GF[r'$\\Sigma$'].imag\n        ymin, ymax = ax.get_ylim()\n\n        if s.min() <= ymin and s.min() >= -12:\n            ax.set_ylim(np.max([2*s.min(), -12]), 0)\n            ax.figure.canvas.draw()\n        line.set_data(iwn, s)\n        plt.legend([line], ['U={:.2f}'.format(u_int)])\n        return line,\n\n    ani = anim.FuncAnimation(figi, run, blit=True, interval=150,\n                             frames=res.shape[0])\n    ani.save(name+'.mp4')\n    plt.close(figi)\n\n\ndef movie_feature_real(res, name):\n    \"\"\"Outputs an animate movie of the evolution of an specific feature\"\"\"\n    f, (ax1, ax2, ax3) = plt.subplots(3, sharex=True)\n\n    line, = ax1.plot([], [], '--')\n    ax1.set_xlim([-6, 6])\n    ax1.set_ylim([0, 0.66])\n\n    line2, = ax2.plot([], [], '-')\n    ax2.set_ylim([-6, 6])\n\n    line3, = ax3.plot([], [], '-')\n    ax3.set_ylim([-6, 6])\n\n    beta = res[0, 2].beta\n    ax1.set_xlabel('$\\\\omega / t$')\n    ax1.set_ylabel(r'$A(\\omega)$')\n    ax2.set_ylabel(r'$\\Sigma(\\omega)$')\n    ax3.set_ylabel(r'$G_{imp}(\\omega)$')\n    f.subplots_adjust(hspace=0)\n\n    def init():\n        line.set_data([], [])\n        line2.set_data([], [])\n        line3.set_data([], [])\n        return line, line2, line3,\n\n    def run(i):\n        u_int = res[i, 0]\n        w = res[i, 2].omega\n        s = res[i, 2].GF[r'$\\Sigma$']\n        g = res[i, 2].GF['Imp G']\n        ra = w+u_int/2.-s\n        rho = dos.bethe_lattice(ra, res[i, 2].t)\n\n        line.set_data(w, rho)\n        line2.set_data(w, s)\n        line3.set_data(w, g)\n        ax1.set_title('Transition to Mott Insulator at '\n                      '$\\\\beta=${} and U/D={}'.format(beta, u_int))\n\n        return line, line2, line3\n\n    ani = anim.FuncAnimation(f, run, blit=True, interval=150, init_func=init,\n                             frames=res.shape[0])\n    ani.save(name+'.mp4')\n    plt.close(f)\n\n\ndef run_halffill(axis='matsubara', du=0.05):\n    fig = plt.figure()\n    u_int = np.arange(0, 6.2, du)\n    for beta in [6, 10, 20, 30, 50, 100, 1e3]:\n        out_file = axis+'_halffill_b{}_dU{}'.format(beta, du)\n        try:\n            res = np.load(out_file+'.npy')\n        except IOError:\n            res = dmft_loop(u_int, axis, beta=beta, hop=1)\n            np.save(out_file, res)\n\n        plt.plot(res[:, 0]/2, res[:, 1], '+-', label='$\\\\beta = {}$'.format(beta))\n\n    plt.legend(loc=0)\n    plt.title('Quasiparticle weigth, estimated in {} frequencies'.format(axis))\n    plt.ylabel('Z')\n    plt.xlabel('U/D')\n    fig.savefig(out_file+'_Z.png', format='png',\n                transparent=False, bbox_inches='tight', pad_inches=0.05)\n    plt.close(fig)\n\nif __name__ == \"__main__\":\n    run_halffill('real')\n    run_halffill('matsubara')"
      ]
    }
  ],
  "metadata": {
    "kernelspec": {
      "display_name": "Python 3",
      "language": "python",
      "name": "python3"
    },
    "language_info": {
      "codemirror_mode": {
        "name": "ipython",
        "version": 3
      },
      "file_extension": ".py",
      "mimetype": "text/x-python",
      "name": "python",
      "nbconvert_exporter": "python",
      "pygments_lexer": "ipython3",
      "version": "3.6.1"
    }
  },
  "nbformat": 4,
  "nbformat_minor": 0
}