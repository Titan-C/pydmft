{
  "cells": [
    {
      "cell_type": "code",
      "execution_count": null,
      "metadata": {
        "collapsed": false
      },
      "outputs": [],
      "source": [
        "%matplotlib inline"
      ]
    },
    {
      "cell_type": "markdown",
      "metadata": {},
      "source": [
        "\n# Dispersion of the spectral function\n\n\nComparison of the energy resolved spectral functions in the Dimer Hubbard\nModel in the coexistence region. For the metallic and insulating\nsolution. Figure is discussed in reference [Najera2017]_\n\n\n.. [Najera2017] O. N\u00e1jera, Civelli, M., V. Dobrosavljevic, & Rozenberg,\n  M. J. (2017). Resolving the VO_2 controversy: Mott mechanism dominates\n  the insulator-to-metal transition. Physical Review B, 95(3),\n  035113. http://dx.doi.org/10.1103/physrevb.95.035113\n\n\n"
      ]
    },
    {
      "cell_type": "code",
      "execution_count": null,
      "metadata": {
        "collapsed": false
      },
      "outputs": [],
      "source": [
        "# Author: \u00d3scar N\u00e1jera\n\nfrom __future__ import (absolute_import, division, print_function,\n                        unicode_literals)\n\nimport matplotlib.pyplot as plt\nimport numpy as np\n\nimport dmft.common as gf\nimport dmft.dimer as dimer\nimport dmft.ipt_imag as ipt\n\n\ndef ipt_u_tp(u_int, tp, beta, seed='ins'):\n    tau, w_n = gf.tau_wn_setup(dict(BETA=beta, N_MATSUBARA=2**12))\n    giw_d, giw_o = dimer.gf_met(w_n, 0., 0., 0.5, 0.)\n    if seed == 'ins':\n        giw_d, giw_o = 1 / (1j * w_n + 4j / w_n), np.zeros_like(w_n) + 0j\n\n    giw_d, giw_o, loops = dimer.ipt_dmft_loop(\n        beta, u_int, tp, giw_d, giw_o, tau, w_n, 1e-13)\n    g0iw_d, g0iw_o = dimer.self_consistency(\n        1j * w_n, 1j * giw_d.imag, giw_o.real, 0., tp, 0.25)\n    siw_d, siw_o = ipt.dimer_sigma(u_int, tp, g0iw_d, g0iw_o, tau, w_n)\n\n    return siw_d, siw_o, w_n\n\n\ndef calculate_Aw(sig_d, sig_o, w_n, w_set, w, eps_k, tp):\n    ss, sa = dimer.pade_diag(1j * sig_d.imag, sig_o.real, w_n, w_set, w)\n\n    lat_gfs = 1 / np.add.outer(-eps_k, w - tp + 7e-3j - ss)\n    lat_gfa = 1 / np.add.outer(-eps_k, w + tp + 7e-3j - sa)\n    Aw = -.5 * (lat_gfa + lat_gfs).imag / np.pi\n\n    return Aw, ss, sa\n\n\ndef plot_spectra(u_int, tp, beta, w, w_set, eps_k, axes):\n    pdm, pam, pdi, pai = axes\n    x, y = np.meshgrid(eps_k, w)\n    # metal\n    siw_d, siw_o, w_n = ipt_u_tp(u_int, tp, beta, 'met')\n    Aw, ss, sa = calculate_Aw(siw_d, siw_o, w_n, w_set, w, eps_k, tp)\n    Aw = np.clip(Aw, 0, 1,)\n    pdm.pcolormesh(x, y, Aw.T, cmap=plt.get_cmap(r'inferno'))\n    gsts = gf.semi_circle_hiltrans(w - tp - (ss.real - 1j * np.abs(ss.imag)))\n    gsta = gf.semi_circle_hiltrans(w + tp - (sa.real - 1j * np.abs(sa.imag)))\n    gloc = 0.5 * (gsts + gsta)\n    pam.plot(-gloc.imag / np.pi, w)\n\n    # insulator\n    siw_d, siw_o, w_n = ipt_u_tp(u_int, tp, beta, 'ins')\n    Aw, ss, sa = calculate_Aw(siw_d, siw_o, w_n, w_set, w, eps_k, tp)\n    Aw = np.clip(Aw, 0, 1,)\n    pdi.pcolormesh(x, y, Aw.T, cmap=plt.get_cmap(r'inferno'))\n    gsts = gf.semi_circle_hiltrans(w - tp - (ss.real - 1j * np.abs(ss.imag)))\n    gsta = gf.semi_circle_hiltrans(w + tp - (sa.real - 1j * np.abs(sa.imag)))\n    gloc = 0.5 * (gsts + gsta)\n    pai.plot(-gloc.imag / np.pi, w)\n\n\ndef write_labels_e_struct(axes):\n    axes[0].set_xticklabels([])\n    axes[0].set_yticks(np.linspace(-2.5, 2.5, 5))\n    axes[1].set_yticks(np.linspace(-2.5, 2.5, 5))\n    axes[1].set_yticklabels([])\n    axes[1].set_xticklabels([])\n    axes[2].set_yticks(np.linspace(-2.5, 2.5, 5))\n    axes[3].set_yticks(np.linspace(-2.5, 2.5, 5))\n    axes[3].set_yticklabels([])\n    axes[3].set_xticklabels([])\n    axes[0].set_ylabel(r'$\\omega$')\n    axes[2].set_ylabel(r'$\\omega$')\n    axes[2].set_xlabel(r'$\\epsilon$')\n    axes[3].set_xlabel(r'$A(\\omega)$')\n\n\nw = np.linspace(-3, 3, 1000)\neps_k = np.linspace(-1., 1., 61)\nw_set = np.arange(150)\nfor U in [2.5]:\n    fig, ax = plt.subplots(2, 2, gridspec_kw=dict(\n        wspace=0.05, hspace=0.1, width_ratios=[3, 1]))\n    axes = ax.flatten()\n    plot_spectra(U, .3, 100, w, w_set, eps_k, axes)\n\n    write_labels_e_struct(axes)\n    axes[0].set_title(\n        r\"$\\beta={}$, $t_\\perp={}$, $U={}$\".format(100, .3, U))\n\n#plt.savefig('ipt_arpes_MIT.pdf', format='pdf', transparent=False, bbox_inches='tight', pad_inches=0.05)"
      ]
    }
  ],
  "metadata": {
    "kernelspec": {
      "display_name": "Python 3",
      "language": "python",
      "name": "python3"
    },
    "language_info": {
      "codemirror_mode": {
        "name": "ipython",
        "version": 3
      },
      "file_extension": ".py",
      "mimetype": "text/x-python",
      "name": "python",
      "nbconvert_exporter": "python",
      "pygments_lexer": "ipython3",
      "version": "3.6.1"
    }
  },
  "nbformat": 4,
  "nbformat_minor": 0
}