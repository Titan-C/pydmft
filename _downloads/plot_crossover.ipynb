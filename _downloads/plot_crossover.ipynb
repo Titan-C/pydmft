{
  "cells": [
    {
      "cell_type": "code",
      "execution_count": null,
      "metadata": {
        "collapsed": false
      },
      "outputs": [],
      "source": [
        "%matplotlib inline"
      ]
    },
    {
      "cell_type": "markdown",
      "metadata": {},
      "source": [
        "\n# IPT Transition at crossover\n\n\nStudy the end of the crossover region\n\n"
      ]
    },
    {
      "cell_type": "code",
      "execution_count": null,
      "metadata": {
        "collapsed": false
      },
      "outputs": [],
      "source": [
        "from __future__ import division, absolute_import, print_function\n\nfrom dmft.ipt_imag import dmft_loop\nfrom dmft.common import greenF, tau_wn_setup, fit_gf\nfrom dmft.twosite import matsubara_Z\n\nimport numpy as np\nimport matplotlib.pylab as plt\n\n\ndef hysteresis(beta, u_range):\n    log_g_sig = []\n    tau, w_n = tau_wn_setup(dict(BETA=beta, N_MATSUBARA=beta))\n    g_iwn = greenF(w_n)\n    for u_int in u_range:\n        g_iwn, sigma = dmft_loop(u_int, 0.5, g_iwn, w_n, tau)\n        log_g_sig.append((g_iwn, sigma))\n    return log_g_sig\n\n\nU = np.linspace(2.2, 2.5, 100)\nresults = []\nbetarange = [16, 17.85, 19.2, 20., 21.3]\nfor beta in betarange:\n    results.append(hysteresis(beta, U))"
      ]
    },
    {
      "cell_type": "markdown",
      "metadata": {},
      "source": [
        "Quasiparticle weight\n--------------------\n\n"
      ]
    },
    {
      "cell_type": "code",
      "execution_count": null,
      "metadata": {
        "collapsed": false
      },
      "outputs": [],
      "source": [
        "figz, axz = plt.subplots()\nfor beta, result in zip(betarange, results):\n    u_zet = [matsubara_Z(sigma.imag, beta) for _, sigma in result]\n    axz.plot(U, u_zet, '+-', label='$\\\\beta={}$'.format(beta))\naxz.set_title('Quasiparticle weigth')\naxz.legend(loc=0)\naxz.set_ylabel('Z')\naxz.set_xlabel('U/D')"
      ]
    },
    {
      "cell_type": "markdown",
      "metadata": {},
      "source": [
        "Spectral density at Fermi level\n-------------------------------\n\n"
      ]
    },
    {
      "cell_type": "code",
      "execution_count": null,
      "metadata": {
        "collapsed": false
      },
      "outputs": [],
      "source": [
        "figf, axf = plt.subplots()\nfor beta, result in zip(betarange, results):\n    tau, w_n = tau_wn_setup(dict(BETA=beta, N_MATSUBARA=3))\n    u_fl = [-fit_gf(w_n, g_iwn.imag)(0.)for g_iwn, _ in result]\n    axf.plot(U, u_fl, 'x:', label='$\\\\beta={}$'.format(beta))\n\naxf.set_ylabel('Dos(0)')\naxz.set_title('Density of states at Fermi level')\naxf.set_xlabel('U/D')"
      ]
    },
    {
      "cell_type": "markdown",
      "metadata": {},
      "source": [
        "Double occupation\n-----------------\n\nIs proportional to the Potential energy which is defined in\n`potential_energy` the tail of this function behaves as\n\n\\begin{align}\\Sigma G(i\\omega_n\\rightarrow \\infty)= \\frac{U^2}{8(i\\omega_n)^2}\\end{align}\n\nThen to find out the double occupation one uses the relation\n\n\\begin{align}\\langle n_\\uparrow n_\\downarrow \\rangle = \\frac{2\\langle V \\rangle}{U}+\\frac{1}{4}\\end{align}\n\n\n\n"
      ]
    },
    {
      "cell_type": "code",
      "execution_count": null,
      "metadata": {
        "collapsed": false
      },
      "outputs": [],
      "source": [
        "figd, axd = plt.subplots()\nfor beta, result in zip(betarange, results):\n    tau, w_n = tau_wn_setup(dict(BETA=beta, N_MATSUBARA=beta))\n    V = np.asarray([2 * (0.5 * s * g + u**2 / 8. / w_n**2).real.sum() / beta\n                    for (g, s), u in zip(result, U)]) - 0.25 * beta * U**2 / 8.\n\n    D = 2. / U * V + 0.25\n    axd.plot(U, D, '-', label='$\\\\beta={}$'.format(beta))\n\naxd.set_title('Double occupation')\naxd.legend(loc=0)\naxd.set_ylabel(r'$\\langle n_\\uparrow n_\\downarrow \\rangle$')\naxd.set_xlabel('U/D')"
      ]
    }
  ],
  "metadata": {
    "kernelspec": {
      "display_name": "Python 3",
      "language": "python",
      "name": "python3"
    },
    "language_info": {
      "codemirror_mode": {
        "name": "ipython",
        "version": 3
      },
      "file_extension": ".py",
      "mimetype": "text/x-python",
      "name": "python",
      "nbconvert_exporter": "python",
      "pygments_lexer": "ipython3",
      "version": "3.6.1"
    }
  },
  "nbformat": 4,
  "nbformat_minor": 0
}