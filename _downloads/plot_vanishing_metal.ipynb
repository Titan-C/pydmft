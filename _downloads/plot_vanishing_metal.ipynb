{
  "cells": [
    {
      "cell_type": "code",
      "execution_count": null,
      "metadata": {
        "collapsed": false
      },
      "outputs": [],
      "source": [
        "%matplotlib inline"
      ]
    },
    {
      "cell_type": "markdown",
      "metadata": {},
      "source": [
        "\nDisolution of order parameter\n=============================\n\n\n\n"
      ]
    },
    {
      "cell_type": "code",
      "execution_count": null,
      "metadata": {
        "collapsed": false
      },
      "outputs": [],
      "source": [
        "# Created Tue Apr 25 10:31:35 2017\n# Author: \u00d3scar N\u00e1jera\nfrom __future__ import division, absolute_import, print_function\n\nimport numpy as np\nimport matplotlib.pyplot as plt\n\nimport dmft.common as gf\nimport dmft.ipt_imag as ipt\nimport dmft.dimer as dimer\n\nBETA = 756.\n\nplt.rcParams['font.size'] = 20\nplt.rcParams['axes.labelsize'] = 'medium'\nplt.rcParams['figure.autolayout'] = False\n\n\ndef zero_f_meas(giw_d, giw_o, murange, tp, u_cut):\n    sd_zew, so_zew = [], []\n    for u_int in murange:\n        giw_d, giw_o, _ = dimer.ipt_dmft_loop(\n            BETA, u_int, tp, giw_d, giw_o, tau, w_n, 1e-3)\n        g0iw_d, g0iw_o = dimer.self_consistency(\n            1j * w_n, 1j * giw_d.imag, giw_o.real, 0., TP, 0.25)\n        siw_d, siw_o = ipt.dimer_sigma(u_int, tp, g0iw_d, g0iw_o, tau, w_n)\n        sd_zew.append(np.polyfit(w_n[:2], siw_d[:2].imag, 1))\n        so_zew.append(np.polyfit(w_n[:2], siw_o[:2].real, 1))\n\n    sd_zew, so_zew = np.array(sd_zew), np.array(so_zew)\n    dw_sig11 = np.ma.masked_array(sd_zew[:, 0], murange >= u_cut)\n    zet = 1 / (1 - dw_sig11.T)\n    tpp = (TP + so_zew[:, 1].T)\n\n    return zet, tpp\n\n\ntau, w_n = gf.tau_wn_setup(dict(BETA=BETA, N_MATSUBARA=2**12))\n\n\n# TP 0.3\nTP = 0.3\ngiw_d, giw_o = dimer.gf_met(w_n, 0., TP, 0.5, 0.)\nmurange03 = np.array(sorted(list(np.arange(2.3, 3.46, .1)) +\n                            [3.46, 3.47]))\nzet03, tpp03 = zero_f_meas(giw_d, giw_o, murange03, TP, 3.47)\n\nplt.plot(murange03, zet03, '-', lw=2, label=r'$Z$')\nplt.show()\n\n# TP 0.5\nTP = 0.5\nmurange05 = np.array(sorted(list(np.arange(1.2, 2.35, .1)) +\n                            list(np.arange(2.327, 2.33, 0.00051))))\nzet05, tpp05 = zero_f_meas(giw_d, giw_o, murange05, TP, 3.47)\nplt.plot(murange05, zet05, '-', lw=2, label=r'$Z$')\nplt.plot(murange05, np.abs(zet05 * (1 - tpp05)), '*-',\n         lw=2, label=r'$|\\eta|$')\nplt.show()\n\n# TP 0.8\nTP = 0.8\ngiw_d, giw_o = dimer.gf_met(w_n, 0., TP, 0.5, 0.)\nmurange08 = np.arange(0.1, 2.5, 0.1)\nzet08, tpp08 = zero_f_meas(giw_d, giw_o, murange08, TP, 8)\n\nplt.close('all')\nf, (ax3, ax5, ax8) = plt.subplots(\n    1, 3, sharey=True, sharex=True, figsize=(8, 4))\nax3.plot(3.465 - murange03, zet03, '-', lw=2, label=r'$Z$')\nax3.plot(3.465 - murange03, np.abs(zet03 * (1 - tpp03)), '--',\n         lw=2, label=r'$|\\eta|$')\nax3.legend(loc=0)\nax3.invert_xaxis()\nax3.set_xlabel(r'$(U_{c_2}-U)/D$')\n\nax5.plot(2.35 - murange05[:-1], zet05[:-1], '-', lw=2, label=r'$Z$')\nax5.plot(2.35 - murange05[:-1], np.abs(zet05 *\n                                       (1 - tpp05))[:-1], '--', lw=2, label=r'$|\\eta|$')\nax5.legend(loc=0)\nax5.invert_xaxis()\nax5.set_xlabel(r'$(U_{c_2}-U)/D$')\n\nax8.plot(1.3 - murange08, zet08, '-', lw=2, label=r'$Z$')\nax8.plot(1.3 - murange08, np.abs((1 - tpp08) * zet08), '--',\n         lw=2, label=r'$|\\eta|$')\nax8.legend(loc=0)\nax8.invert_xaxis()\nax8.set_xlim(1.1, -0.1)\nax8.set_xlabel(r'$(U_c-U)/D$')\n\nax8.set_ylim(0., 1.)\nfor ax, tp in zip((ax3, ax5, ax8), [0.3, 0.5, 0.8]):\n    ax.set_title(r'$t_\\perp/D={}$'.format(tp))\nplt.subplots_adjust(wspace=0.05)\nplt.savefig('IPT_transition_Uc2.pdf')\nplt.show()"
      ]
    }
  ],
  "metadata": {
    "kernelspec": {
      "display_name": "Python 3",
      "language": "python",
      "name": "python3"
    },
    "language_info": {
      "codemirror_mode": {
        "name": "ipython",
        "version": 3
      },
      "file_extension": ".py",
      "mimetype": "text/x-python",
      "name": "python",
      "nbconvert_exporter": "python",
      "pygments_lexer": "ipython3",
      "version": "3.6.1"
    }
  },
  "nbformat": 4,
  "nbformat_minor": 0
}