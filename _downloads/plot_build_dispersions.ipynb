{
  "cells": [
    {
      "cell_type": "code",
      "execution_count": null,
      "metadata": {
        "collapsed": false
      },
      "outputs": [],
      "source": [
        "%matplotlib inline"
      ]
    },
    {
      "cell_type": "markdown",
      "metadata": {},
      "source": [
        "\n# Various schemes for obtaining the spectral dispersion\n\n\n\n"
      ]
    },
    {
      "cell_type": "code",
      "execution_count": null,
      "metadata": {
        "collapsed": false
      },
      "outputs": [],
      "source": [
        "# Created Mon Apr 11 14:17:29 2016\n# Author: \u00d3scar N\u00e1jera\n\nfrom __future__ import division, absolute_import, print_function\n\nimport matplotlib.pyplot as plt\nimport numpy as np\n\nimport dmft.common as gf\nimport dmft.dimer as dimer\nimport dmft.ipt_imag as ipt\nfrom dmft.plot import plot_band_dispersion\n\n\ndef ipt_u_tp(u_int, tp, beta, seed='ins'):\n    tau, w_n = gf.tau_wn_setup(dict(BETA=beta, N_MATSUBARA=1024))\n    giw_d, giw_o = dimer.gf_met(w_n, 0., 0., 0.5, 0.)\n    if seed == 'ins':\n        giw_d, giw_o = 1 / (1j * w_n + 4j / w_n), np.zeros_like(w_n) + 0j\n\n    giw_d, giw_o, loops = dimer.ipt_dmft_loop(\n        beta, u_int, tp, giw_d, giw_o, tau, w_n, 1e-12)\n    g0iw_d, g0iw_o = dimer.self_consistency(\n        1j * w_n, 1j * giw_d.imag, giw_o.real, 0., tp, 0.25)\n    siw_d, siw_o = ipt.dimer_sigma(u_int, tp, g0iw_d, g0iw_o, tau, w_n)\n\n    return siw_d, siw_o, w_n\n\n\ndef construct_dispersions(BETA, u_int, tp, seed):\n    siw_d, siw_o, w_n = ipt_u_tp(u_int, tp, BETA, seed)\n\n    w = np.linspace(-3, 3, 800)\n    eps_k = np.linspace(-1., 1., 61)\n    w_set = np.arange(200)\n\n    ss = gf.pade_continuation(\n        1j * siw_d.imag + siw_o.real, w_n, w, w_set)  # A-bond\n    sa = gf.pade_continuation(\n        1j * siw_d.imag - siw_o.real, w_n, w, w_set)  # bond\n    lat_gfs = 1 / np.add.outer(-eps_k, w - tp + 5e-2j - ss)\n    lat_gfa = 1 / np.add.outer(-eps_k, w + tp + 5e-2j - sa)\n    Aw = np.clip(-.5 * (lat_gfa + lat_gfs).imag / np.pi, 0, 2)\n\n    title = 'Spectral Function dispersion\\n$U={}$, $t_\\\\perp={}$, $\\\\beta={}$'.format(\n        u_int, tp, BETA)\n\n    # Continuate in Sigma Diagonal then return to local\n    plot_band_dispersion(w, Aw, 'Local ' + title, eps_k, 'intensity')\n    file_r = \"Aew_B{}U{}tp{}_{}_\".format(BETA, u_int, tp, seed)\n    plt.savefig(file_r + 'psl.png', format='png',\n                transparent=False, bbox_inches='tight', pad_inches=0.05)\n\n    # Continuate in Sigma Diagonal only plot anti-bonding\n    Aw = np.clip(-lat_gfs.imag / np.pi, 0, 2)\n    plot_band_dispersion(w,  Aw, 'Anti-Bond ' + title, eps_k,  'intensity')\n    plt.savefig(file_r + 'psa.png', format='png',\n                transparent=False, bbox_inches='tight', pad_inches=0.05)\n\n    # Continuate the dispersion on G(e, w)_AA\n    Ag = []\n    for e in eps_k:\n        gd = dimer.mat_inv(1j * w_n - e - 1j * siw_d.imag, -tp - siw_o.real)[0]\n        Ag.append(np.clip(\n            np.abs(-gf.pade_continuation(gd, w_n, w + 1e-2j, w_set).imag / np.pi), 0, 2))\n\n    plot_band_dispersion(w, np.asarray(\n        Ag), 'Local ' + title, eps_k, 'intensity')\n    plt.savefig(file_r + 'pgl.png', format='png',\n                transparent=False, bbox_inches='tight', pad_inches=0.05)\n\n    # Continuate on G(e, w)_AA but skipping frequencies for smooth output\n    w_set = np.arange(0, 200, 4)\n    Ag = []\n    for e in eps_k:\n        gd = dimer.mat_inv(1j * w_n - e - 1j * siw_d.imag, -tp - siw_o.real)[0]\n        Ag.append(np.clip(\n            np.abs(-gf.pade_continuation(gd, w_n, w + 1e-2j, w_set).imag / np.pi), 0, 2))\n\n    plot_band_dispersion(w, np.asarray(\n        Ag), 'Local ' + title, eps_k, 'intensity')\n    plt.savefig(file_r + 'pgls.png', format='png',\n                transparent=False, bbox_inches='tight', pad_inches=0.05)\n\n\nconstruct_dispersions(100., 2.5, .3, 'met')\nconstruct_dispersions(100., 2.5, .3, 'ins')"
      ]
    }
  ],
  "metadata": {
    "kernelspec": {
      "display_name": "Python 3",
      "language": "python",
      "name": "python3"
    },
    "language_info": {
      "codemirror_mode": {
        "name": "ipython",
        "version": 3
      },
      "file_extension": ".py",
      "mimetype": "text/x-python",
      "name": "python",
      "nbconvert_exporter": "python",
      "pygments_lexer": "ipython3",
      "version": "3.6.1"
    }
  },
  "nbformat": 4,
  "nbformat_minor": 0
}