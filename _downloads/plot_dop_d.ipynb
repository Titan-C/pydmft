{
  "cells": [
    {
      "cell_type": "code",
      "execution_count": null,
      "metadata": {
        "collapsed": false
      },
      "outputs": [],
      "source": [
        "%matplotlib inline"
      ]
    },
    {
      "cell_type": "markdown",
      "metadata": {},
      "source": [
        "\n# Double occupation of the Impurity\n\n\nPlot of the double occupation average on the Impurity site as a function\nof the lattice doping and at diffent local interaction strenghs\n\n"
      ]
    },
    {
      "cell_type": "code",
      "execution_count": null,
      "metadata": {
        "collapsed": false
      },
      "outputs": [],
      "source": [
        "# Code source: \u00d3scar N\u00e1jera\n# License: BSD 3 clause\n\nfrom __future__ import division, absolute_import, print_function\nimport matplotlib.pyplot as plt\nimport numpy as np\nfrom dmft.twosite_dop import dmft_loop_dop\n\n\ndef plot_d(axis='real', beta=1e3, u_int=np.array([2., 4., 5.85, 6., 8., 10., 100.])):\n    fig = plt.figure()\n    for u in u_int:\n        out_file = axis + '_dop_b{}_U{}'.format(beta, u)\n        try:\n            res = np.load(out_file + '.npy')\n        except IOError:\n            res = dmft_loop_dop(u)\n            np.save(out_file, res)\n\n        d = [sim.double_ocupation() for sim in res[:, 1]]\n        plt.plot(res[:, 0], d, '+-', label='$U/t= {}$'.format(u))\n\n    plt.legend(loc=0)\n    plt.title('Impurity double occupation at $\\\\beta={}$'.format(beta))\n    plt.ylabel('$\\\\langle n_\\\\uparrow n_\\\\downarrow \\\\rangle$')\n    plt.xlabel('n')\n    plt.xlim([0, 1])\n    fig.savefig(out_file + '_b.png', format='png',\n                transparent=False, bbox_inches='tight', pad_inches=0.05)\n\nplot_d()"
      ]
    }
  ],
  "metadata": {
    "kernelspec": {
      "display_name": "Python 3",
      "language": "python",
      "name": "python3"
    },
    "language_info": {
      "codemirror_mode": {
        "name": "ipython",
        "version": 3
      },
      "file_extension": ".py",
      "mimetype": "text/x-python",
      "name": "python",
      "nbconvert_exporter": "python",
      "pygments_lexer": "ipython3",
      "version": "3.6.1"
    }
  },
  "nbformat": 4,
  "nbformat_minor": 0
}