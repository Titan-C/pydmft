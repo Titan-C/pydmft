{
  "cells": [
    {
      "cell_type": "code",
      "execution_count": null,
      "metadata": {
        "collapsed": false
      },
      "outputs": [],
      "source": [
        "%matplotlib inline"
      ]
    },
    {
      "cell_type": "markdown",
      "metadata": {},
      "source": [
        "\n# Comparing Spectral functions\n\n\n\n"
      ]
    },
    {
      "cell_type": "code",
      "execution_count": null,
      "metadata": {
        "collapsed": false
      },
      "outputs": [],
      "source": [
        "# Created Mon Apr 11 14:17:29 2016\n# Author: \u00d3scar N\u00e1jera\n\nfrom __future__ import division, absolute_import, print_function\n\nimport matplotlib.pyplot as plt\nimport numpy as np\n\nimport dmft.common as gf\nimport dmft.dimer as dimer\nimport dmft.ipt_imag as ipt\n\n\ndef ipt_u_tp(u_int, tp, beta, seed='ins'):\n    tau, w_n = gf.tau_wn_setup(dict(BETA=beta, N_MATSUBARA=1024))\n    giw_d, giw_o = dimer.gf_met(w_n, 0., 0., 0.5, 0.)\n    if seed == 'ins':\n        giw_d, giw_o = 1 / (1j * w_n + 4j / w_n), np.zeros_like(w_n) + 0j\n\n    giw_d, giw_o, loops = dimer.ipt_dmft_loop(\n        beta, u_int, tp, giw_d, giw_o, tau, w_n, 1e-13)\n    g0iw_d, g0iw_o = dimer.self_consistency(\n        1j * w_n, 1j * giw_d.imag, giw_o.real, 0., tp, 0.25)\n    siw_d, siw_o = ipt.dimer_sigma(u_int, tp, g0iw_d, g0iw_o, tau, w_n)\n\n    return siw_d, siw_o, w_n\n\n\ndef plot_pole_eq(w, gf, sig, pole, sty, ax):\n    ax.plot(w, -np.abs(sig.imag),\n            'r' + sty, label=r'$\\Im m \\Sigma$')\n    ax.plot(w, sig.real,\n            'g' + sty, label=r'$\\Re e \\Sigma$')\n    ax.plot(w, -gf.imag / np.pi, 'b' + sty,  label='DOS')\n    if pole:\n        ax.plot(w, (1 / gf).real, 'c' + sty, label=r'$\\Re e G^{-1}$')\n    ax.set_ylim([-1, .7])\n    ax.axvline(0)\n    ax.axhline(0)\n    ax.set_xticks(np.arange(-3, 4))\n    ax.set_xticklabels(np.arange(-3, 4))\n    ax.set_yticklabels([])\n\n\ndef plot_spectral(u_int, tp, BETA, seed, w, w_set, pole, sty, ax):\n\n    siw_d, siw_o, w_n = ipt_u_tp(u_int, tp, BETA, seed)\n    ss, _ = dimer.pade_diag(siw_d, siw_o, w_n, w_set, w)\n    gst = gf.semi_circle_hiltrans(w - tp - (ss.real - 1j * np.abs(ss.imag)))\n\n    plot_pole_eq(w, gst, ss, pole, sty, ax)"
      ]
    },
    {
      "cell_type": "markdown",
      "metadata": {},
      "source": [
        "Metals\n------\n\n\n"
      ]
    },
    {
      "cell_type": "code",
      "execution_count": null,
      "metadata": {
        "collapsed": false
      },
      "outputs": [],
      "source": [
        "BETA = 100.\nw = np.linspace(-4, 4, 800)\nw_set = np.concatenate((np.arange(75), np.arange(75, 150, 20)))\nf, ax = plt.subplots(2, 3, sharex=True)\nax[0, 0].set_title(r'$U=2.5$')\nax[0, 0].set_ylabel(r'$t_\\perp=0$ $\\Im m \\Sigma (\\omega)$  |   $A(\\omega)$')\nplot_spectral(2.5, 0., BETA, 'met', w, w_set, True, '-', ax[0, 0])\nax[0, 1].set_title(r'$U=2.9$')\nplot_spectral(2.9, 0., BETA, 'met', w, w_set, False, '-', ax[0, 1])\nplot_spectral(2.9, 0., BETA, 'ins', w, w_set, False, '-', ax[0, 1])\nax[0, 2].set_title(r'$U=3.5$')\nplot_spectral(3.5, 0., BETA, 'ins', w, w_set, True, '-', ax[0, 2])\n\nax[1, 0].set_ylabel(\n    r'$t_\\perp=0.3$ $\\Im m \\Sigma (\\omega)$ |  $A(\\omega)$    ')\nplot_spectral(2.5, 0.3, BETA, 'met', w, w_set, True, '-', ax[1, 0])\nplot_spectral(2.9, 0.3, BETA, 'met', w, w_set, False, '-', ax[1, 1])\nplot_spectral(2.9, 0.3, BETA, 'ins', w, w_set, False, '-', ax[1, 1])\nplot_spectral(3.5, 0.3, BETA, 'ins', w, w_set, True, '-', ax[1, 2])\nax[1, 0].set_xlabel(r'$\\omega$')\nax[1, 1].set_xlabel(r'$\\omega$')\nax[1, 2].set_xlabel(r'$\\omega$')\nplt.tight_layout()\nplt.subplots_adjust(wspace=0, hspace=0)\n\nf, ax = plt.subplots(2, 3, sharex=True)\nax[0, 0].set_title(r'$U=1.0$')\nax[0, 0].set_ylabel(\n    r'$t_\\perp=0.5$ $\\Im m \\Sigma (\\omega)$ |  $A(\\omega)$     ')\nplot_spectral(1.0, 0.5, BETA, 'met', w, w_set, True, '-', ax[0, 0])\nax[0, 1].set_title(r'$U=2.1$')\nplot_spectral(2.1, 0.5, BETA, 'met', w, w_set, False, '-', ax[0, 1])\nplot_spectral(2.1, 0.5, BETA, 'ins', w, w_set, False, '-', ax[0, 1])\nax[0, 2].set_title(r'$U=3.0$')\nplot_spectral(3.0, 0.5, BETA, 'ins', w, w_set, True, '-', ax[0, 2])\n\nax[1, 0].set_ylabel(\n    r'$t_\\perp=0.8$ $\\Im m \\Sigma (\\omega)$ |  $A(\\omega)$     ')\nplot_spectral(1.0, 0.8, BETA, 'met', w, w_set, True, '-', ax[1, 0])\nplot_spectral(2.1, 0.8, BETA, 'ins', w, w_set, False, '-', ax[1, 1])\nplot_spectral(3.0, 0.8, BETA, 'ins', w, w_set, True, '-', ax[1, 2])\nax[1, 0].set_xlabel(r'$\\omega$')\nax[1, 1].set_xlabel(r'$\\omega$')\nax[1, 2].set_xlabel(r'$\\omega$')\nplt.tight_layout()\nplt.subplots_adjust(wspace=0, hspace=0)\n\nf, a = plt.subplots()\ng, b = plt.subplots()\nw = np.linspace(-4, 4, 800)\nw_set = np.concatenate((np.arange(75), np.arange(75, 150, 20)))\nplot_spectral(2.9, 0.3, 100., 'met', w, w_set, False, '-', a)\nplot_spectral(2.9, 0.3, 100., 'ins', w, w_set, False, '-', b)\na.set_xlabel(r'$\\omega$')\na.legend()\nb.set_xlabel(r'$\\omega$')\nb.legend()"
      ]
    }
  ],
  "metadata": {
    "kernelspec": {
      "display_name": "Python 3",
      "language": "python",
      "name": "python3"
    },
    "language_info": {
      "codemirror_mode": {
        "name": "ipython",
        "version": 3
      },
      "file_extension": ".py",
      "mimetype": "text/x-python",
      "name": "python",
      "nbconvert_exporter": "python",
      "pygments_lexer": "ipython3",
      "version": "3.6.1"
    }
  },
  "nbformat": 4,
  "nbformat_minor": 0
}