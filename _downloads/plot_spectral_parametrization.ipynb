{
  "cells": [
    {
      "cell_type": "code",
      "execution_count": null,
      "metadata": {
        "collapsed": false
      },
      "outputs": [],
      "source": [
        "%matplotlib inline"
      ]
    },
    {
      "cell_type": "markdown",
      "metadata": {},
      "source": [
        "\nComparison of Spectral functions\n================================\n\nHere I compare the spectral function parametrizations to the Fermi\nLiquid theory at zero temperature for relevant points in the dimer\nphase diagram.\n\n"
      ]
    },
    {
      "cell_type": "code",
      "execution_count": null,
      "metadata": {
        "collapsed": false
      },
      "outputs": [],
      "source": [
        "# Author: \u00d3scar N\u00e1jera\n\nfrom __future__ import division, absolute_import, print_function\n\nimport numpy as np\nimport matplotlib.pyplot as plt\nfrom scipy.interpolate import splrep, splev\n\nimport dmft.common as gf\nfrom dmft import ipt_real\nfrom dmft import ipt_imag\nimport dmft.dimer as dimer\n\n\ndef ipt_u_tp(u_int, tp, beta, seed='ins'):\n\n    tau, w_n = gf.tau_wn_setup(dict(BETA=beta, N_MATSUBARA=2**11))\n    giw_d, giw_o = dimer.gf_met(w_n, 0., 0., 0.5, 0.)\n\n    if 'ins' in seed:\n        giw_d, giw_o = 1 / (1j * w_n + 4j / w_n), np.zeros_like(w_n) + 0j\n\n    giw_d, giw_o, loops = dimer.ipt_dmft_loop(\n        beta, u_int, tp, giw_d, giw_o, tau, w_n, 1e-12)\n    g0iw_d, g0iw_o = dimer.self_consistency(\n        1j * w_n, 1j * giw_d.imag, giw_o.real, 0., tp, 0.25)\n    siw_d, siw_o = ipt_imag.dimer_sigma(u_int, tp, g0iw_d, g0iw_o, tau, w_n)\n\n    return giw_d, giw_o, siw_d, siw_o, w_n\n\n\ndef ipt_g_s(u_int, tp, BETA, seed, w):\n    giw_d, giw_o, siw_d, siw_o, w_n = ipt_u_tp(u_int, tp, BETA, seed)\n\n    w_set = np.arange(0, 581, 4)\n    ss = gf.pade_continuation(\n        1j * siw_d.imag + siw_o.real, w_n, w + 0.0005j, w_set)  # A-bond\n\n    gst = gf.semi_circle_hiltrans(w - tp - (ss.real - 1j * np.abs(ss.imag)))\n    return gst, ss, w\n\n\ndef low_en_qp(ss):\n    glp = np.array([0.])\n    sigtck = splrep(w, ss.real, s=0)\n    sig_0 = splev(glp, sigtck, der=0)[0]\n    dw_sig0 = splev(glp, sigtck, der=1)[0]\n    quas_z = 1 / (1 - dw_sig0)\n    return quas_z, sig_0, dw_sig0\n\n\ndef plot_spectral(w, U, tp, gss, ss, ax, ylim):\n    quas_z, sig_0, dw_sig0 = low_en_qp(ss)\n    tpp = (tp + sig_0) * quas_z\n    ax[0].plot(w, -gss.imag, 'C0')\n    llg = gf.semi_circle_hiltrans(w + 1e-8j - tpp, quas_z) * quas_z\n    ax[0].plot(w, -llg.imag, \"C3--\", lw=2)\n    ax[0].text(0.05, 0.72, r'$Z={:.3}$'.format(quas_z) + '\\n' +\n               r'$\\tilde{{t}}_\\perp={:.2f}$'.format(tpp),\n               transform=ax[0].transAxes, fontsize=14)\n    for a in ax:\n        a.set_title(r'$U={}$; $t_\\perp={}$'.format(U, tp), fontsize=14)\n    # plt.plot(w, gst.real)\n    ax[1].plot(w, ss.real, 'C4', label=r'$\\Re e$')\n    ax[1].plot(w, ss.imag, 'C2', label=r'$\\Im m$')\n    ax[1].plot(w, sig_0 + dw_sig0 * w, 'k:')\n    ax[0].set_ylim(0, 2)\n    ax[0].set_yticks([0, 1, 2])\n    ax[0].set_yticklabels([0, 1, 2])\n    ax[1].legend(loc=2)\n    ax[1].set_ylim(*ylim)\n    ax[0].set_xlim([-2.5, 2.5])\n    ax[1].set_xlim([-2.5, 2.5])\n\n\nw = np.linspace(-4, 4, 2**12)\ndw = w[1] - w[0]\n\nBETA = 512.\nnfp = gf.fermi_dist(w, BETA)\n\nplt.close('all')\nfig_g, axg = plt.subplots(2, 2, sharex=True, sharey=True)\nfig_s, axs = plt.subplots(2, 2, sharex=True, sharey=True)\n\ngss = gf.semi_circle_hiltrans(w + 5e-3j)\ngsa = gf.semi_circle_hiltrans(w + 5e-3j)\nfor ax, (U, TP) in zip(zip(axg.flatten(), axs.flatten()),\n                       [(3.45, 0.3), (1.2, 0.8),\n                        (1.5, 0.8), (2.3, 0.3)]):\n    (gss, _), (ss, _) = ipt_real.dimer_dmft(\n        U, TP, nfp, w, dw, gss, gsa, conv=1e-3)\n    if U == 2.3:\n        gss, ss, w = ipt_g_s(U, TP, BETA, 'ins', w)\n    plot_spectral(w, U, TP, gss, ss, ax, (-2.5, 2.5))\n\nfor b in [axg[0, 0], axg[1, 0]]:\n    b.set_ylabel(r'$-\\Im m G_{AB}(\\omega)$')\n\nfor b in [axs[0, 0], axs[1, 0]]:\n    b.set_ylabel(r'$\\Sigma_{AB}(\\omega)$')\n\nfor b in [axg[1, 0], axg[1, 1], axs[1, 0], axs[1, 1], ]:\n    b.set_xlabel(r'$\\omega$')\n\nfor f in [fig_g, fig_s]:\n    f.subplots_adjust(wspace=0.25, hspace=0.05)\n\n# fig_g.savefig('IPT_EF_qp_DOS.pdf')\n# fig_s.savefig('IPT_EF_qp_sigma.pdf')"
      ]
    }
  ],
  "metadata": {
    "kernelspec": {
      "display_name": "Python 3",
      "language": "python",
      "name": "python3"
    },
    "language_info": {
      "codemirror_mode": {
        "name": "ipython",
        "version": 3
      },
      "file_extension": ".py",
      "mimetype": "text/x-python",
      "name": "python",
      "nbconvert_exporter": "python",
      "pygments_lexer": "ipython3",
      "version": "3.6.1"
    }
  },
  "nbformat": 4,
  "nbformat_minor": 0
}