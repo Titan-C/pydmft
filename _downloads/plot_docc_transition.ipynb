{
  "cells": [
    {
      "cell_type": "code",
      "execution_count": null,
      "metadata": {
        "collapsed": false
      },
      "outputs": [],
      "source": [
        "%matplotlib inline"
      ]
    },
    {
      "cell_type": "markdown",
      "metadata": {},
      "source": [
        "\nLandau Theory of the Mott transition\n====================================\n\nPerform a fit of the order parameter, linked to double occupation to\nmatch a Landau theory formulation in correspondence to Kotliar, G.,\nLange, E., & Rozenberg, M. J. (2000). Landau Theory of the Finite\nTemperature Mott Transition. Phys. Rev. Lett., 84(22),\n5180\u20135183. http://dx.doi.org/10.1103/PhysRevLett.84.5180\n\nStudy above the critical point\n\n"
      ]
    },
    {
      "cell_type": "code",
      "execution_count": null,
      "metadata": {
        "collapsed": false
      },
      "outputs": [],
      "source": [
        "from scipy.optimize import curve_fit\nimport numpy as np\nimport matplotlib.pyplot as plt\nimport dmft.dimer as dimer\nimport dmft.common as gf\nimport dmft.ipt_imag as ipt\n\n\ndef loop_u_tp(u_range, tprange, beta, seed='mott gap'):\n    tau, w_n = gf.tau_wn_setup(dict(BETA=beta, N_MATSUBARA=256))\n    giw_d, giw_o = dimer.gf_met(w_n, 0., 0., 0.5, 0.)\n    if seed == 'ins':\n        giw_d, giw_o = 1 / (1j * w_n + 4j / w_n), np.zeros_like(w_n) + 0j\n\n    giw_s = []\n    sigma_iw = []\n    ekin, epot = [], []\n    iterations = []\n    for u_int, tp in zip(u_range, tprange):\n        giw_d, giw_o, loops = dimer.ipt_dmft_loop(\n            beta, u_int, tp, giw_d, giw_o, tau, w_n)\n        giw_s.append((giw_d, giw_o))\n        iterations.append(loops)\n        g0iw_d, g0iw_o = dimer.self_consistency(\n            1j * w_n, 1j * giw_d.imag, giw_o.real, 0., tp, 0.25)\n        siw_d, siw_o = ipt.dimer_sigma(u_int, tp, g0iw_d, g0iw_o, tau, w_n)\n        sigma_iw.append((siw_d.copy(), siw_o.copy()))\n\n        ekin.append(dimer.ekin(giw_d, giw_o, w_n, tp, beta))\n\n        epot.append(dimer.epot(giw_d, w_n, beta, u_int **\n                               2 / 4 + tp**2, ekin[-1], u_int))\n    print(np.array(iterations))\n    # last division in energies because I want per spin epot\n    return np.array(giw_s), np.array(sigma_iw), np.array(ekin) / 4, np.array(epot) / 4, w_n\n\n\n# calculating multiple regions\nfac = np.arctan(.55 * np.sqrt(3) / .15)\nudelta = np.tan(np.linspace(-fac, fac, 121)) * .15 / np.sqrt(3)\ndudelta = np.diff(udelta)\nbet_uc = [(18, 3.312),\n          (19, 3.258),\n          (20, 3.214),\n          (20.5, 3.193),\n          (21, 3.17),\n          (21.5, 3.1467),\n          (21.7, 3.138)]\n\ndata = []\nfor beta, uc in bet_uc:\n    urange = udelta + uc + .07\n    giw_s, sigma_iw, ekin, epot, w_n = loop_u_tp(\n        urange, .3 * np.ones_like(urange), beta, 'met')\n    data.append(2 * epot / urange - 0.003)\n\nplt.figure()\nbc = [b for b, _ in bet_uc]\nd_c = [dc[int(len(udelta) / 2)] for dc in data]\nfor dd, dc, (beta, uc) in zip(data, d_c, bet_uc):\n    plt.plot(uc + udelta, dd, '+-', label=r'$\\beta={}$'.format(beta))\n\nplt.plot([uc for _, uc in bet_uc], d_c, 'o')\n\nplt.gca().set_color_cycle(None)\nfor dd, (beta, uc) in zip(data, bet_uc):\n    chi = np.diff(dd) / dudelta\n    plt.plot(uc + udelta[:-1], chi / np.min(chi) * .035, ':')\n\nplt.title(r'Double occupation')\nplt.ylabel(r'$\\langle n_\\uparrow n_\\downarrow \\rangle$')\nplt.xlabel(r'$U/D$')\nplt.legend()\nplt.savefig(\"dimer_tp0.3_docc.pdf\",\n            transparent=False, bbox_inches='tight', pad_inches=0.05)\n\n# effective scaling\n# cubic + linear over constant + linear\n\n\ndef fit_cube_lin(eta, c, p, q, s):\n    return (c * eta**3 + p * eta + s) / (1 + q * eta)\n\n\nplt.figure()\nfor dd, dc, (beta, uc) in zip(data, d_c, bet_uc):\n    plt.plot(udelta, dd - dc, lw=2)\n\nplt.gca().set_color_cycle(None)\nbb = [10, 30, 35, 42, 45, 48, 50]\nfits = []\nfor dd, dc, bound, (beta, uc) in zip(data, d_c, bb, bet_uc):\n    rd = dd - dc\n    popt, pcov = curve_fit(\n        fit_cube_lin, rd[bound:-bound], udelta[bound:-bound], p0=[-4e4, -3, 3, 1])\n    fits.append((popt, pcov))\n    ft = fit_cube_lin(rd, *popt)\n    plt.plot(ft, rd, label=r'$\\beta={}$'.format(beta))\n    plt.plot(ft[bound:-bound], rd[bound:-bound], \"k+\")\n    print(popt)\n\nplt.xlim([-.08, .08])\nplt.ylim([-.007, .01])\n\nplt.title(r'Reduced Double occupation fitted to theory')\nplt.ylabel(r'$\\eta$')\nplt.xlabel(r'$U-U_c$')\nplt.legend()\nplt.savefig(\"dimer_tp0.3_eta_landau.pdf\",\n            transparent=False, bbox_inches='tight', pad_inches=0.05)"
      ]
    }
  ],
  "metadata": {
    "kernelspec": {
      "display_name": "Python 3",
      "language": "python",
      "name": "python3"
    },
    "language_info": {
      "codemirror_mode": {
        "name": "ipython",
        "version": 3
      },
      "file_extension": ".py",
      "mimetype": "text/x-python",
      "name": "python",
      "nbconvert_exporter": "python",
      "pygments_lexer": "ipython3",
      "version": "3.6.1"
    }
  },
  "nbformat": 4,
  "nbformat_minor": 0
}