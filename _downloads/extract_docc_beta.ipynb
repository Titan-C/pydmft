{
  "cells": [
    {
      "cell_type": "code",
      "execution_count": null,
      "metadata": {
        "collapsed": false
      },
      "outputs": [],
      "source": [
        "%matplotlib inline"
      ]
    },
    {
      "cell_type": "markdown",
      "metadata": {},
      "source": [
        "\nExtract the double occupation from dimer data files\n===================================================\n\n\n"
      ]
    },
    {
      "cell_type": "code",
      "execution_count": null,
      "metadata": {
        "collapsed": false
      },
      "outputs": [],
      "source": [
        "# Author: \u00d3scar N\u00e1jera\n\nfrom __future__ import division, absolute_import, print_function\n\nimport argparse\nimport re\nfrom glob import glob\nimport numpy as np\nimport py3qs.triqs_dimer as tdm\n\n\ndef density_obs(moments):\n    moments = np.array(moments).T\n    d = (moments[1] + moments[4]) / 2\n    ma = (moments[0] - moments[2] - moments[3] + moments[5])\n    return d, ma\n\n\ndef extract_obs(filelist, u_shift=0):\n    u_list = []\n    tp_list = []\n    d_list = []\n    for filename in filelist:\n        tp = re.findall(r'PM_.+tp(\\d+\\.\\d+)', filename)[0]\n        try:\n            nn, u = tdm.extract_density_correlators(filename, 'density')\n            d = density_obs(nn)[0]\n            u_list.append(u + u_shift)\n            tp_list.append(float(tp))\n            d_list.append(d)\n        except IOError:\n            pass\n    return u_list, tp_list, d_list\n\n\ndef main():\n    parser = argparse.ArgumentParser(description=\"Extract and save the double occupation of all datafiles to construct a phase diagram\",\n                                     formatter_class=argparse.ArgumentDefaultsHelpFormatter)\n    parser.add_argument('-B', '--beta', type=float, default=100.0,\n                        help=\"Simulation inverse temperature\")\n    parser.add_argument('workdir', help=\"Data directory\")\n\n    args = parser.parse_args()\n    beta = args.beta\n    workdir = args.workdir\n\n    # metal seeds\n    datafiles = glob(workdir + '/DIMER_PM*_B{}_tp*h5'.format(beta))\n    mu_list, mtp_list, md_list = extract_obs(datafiles)\n    np.savez('met_B{}_Utp'.format(beta), u_int=mu_list,\n             tp=mtp_list, docc=md_list)\n    print(\"Saved data for metallic seed files for Beta{}\".format(beta))\n\n    # insulator seeds\n    datafiles = glob(workdir + '/DIMER_PM_ins*_B{}_tp*h5'.format(beta))\n    iu_list, itp_list, id_list = extract_obs(datafiles, 1e-5)\n    np.savez('ins_B{}_Utp'.format(beta), u_int=iu_list,\n             tp=itp_list, docc=id_list)\n    print(\"Saved data for insulating seed files for Beta{}\".format(beta))\n\n\nif __name__ == '__main__':\n    main()"
      ]
    }
  ],
  "metadata": {
    "kernelspec": {
      "display_name": "Python 3",
      "language": "python",
      "name": "python3"
    },
    "language_info": {
      "codemirror_mode": {
        "name": "ipython",
        "version": 3
      },
      "file_extension": ".py",
      "mimetype": "text/x-python",
      "name": "python",
      "nbconvert_exporter": "python",
      "pygments_lexer": "ipython3",
      "version": "3.6.1"
    }
  },
  "nbformat": 4,
  "nbformat_minor": 0
}