{
  "cells": [
    {
      "cell_type": "code",
      "execution_count": null,
      "metadata": {
        "collapsed": false
      },
      "outputs": [],
      "source": [
        "%matplotlib inline"
      ]
    },
    {
      "cell_type": "markdown",
      "metadata": {},
      "source": [
        "\nThe insulator gap\n=================\n\nTracking the size of the gap in the dimer insulator.\n\n"
      ]
    },
    {
      "cell_type": "code",
      "execution_count": null,
      "metadata": {
        "collapsed": false
      },
      "outputs": [],
      "source": [
        "from __future__ import division, absolute_import, print_function\n\nfrom math import ceil, log\nimport os\n\nimport numpy as np\nimport matplotlib.pyplot as plt\n\nimport dmft.common as gf\nimport dmft.dimer as dimer\n\nplt.matplotlib.rcParams.update({'axes.labelsize': 22,\n                                'xtick.labelsize': 14, 'ytick.labelsize': 14,\n                                'axes.titlesize': 22,\n                                'mathtext.fontset': 'cm'})\n\n\ndef measure_gap(gloc, rw):\n    gapped = gloc.imag[rw] > -0.15\n    try:\n        lb = w[rw][gapped][0]\n        ub = w[rw][gapped][-1]\n    except IndexError:\n        return 0\n\n    if gloc.imag[int(len(w) / 2)] < -0.3:\n        return 0\n\n    if lb is not None and ub is not None:\n        gap = ub - lb\n    else:\n        gap = 0\n    return gap\n\n\ndef estimate_gap_U_vs_tp(tpr, u_range, beta, phase):\n    w_n = gf.matsubara_freq(beta, max(2**ceil(log(6 * beta) / log(2)), 256))\n\n    gaps = []\n    for tp in tpr:\n        filestr = 'disk/phase_Dimer_ipt_{}_B{}/tp{:.3}/giw.npy'.format(\n            phase, beta, tp)\n        gfs = np.load(filestr)\n\n        for i, u_int in enumerate(u_range):\n            gf_aa, gf_ab = 1j * gfs[i][0], gfs[i][1]\n            gr_ss, gr_sa = dimer.pade_diag(\n                gf_aa, gf_ab, w_n, np.arange(0, beta + 100, 9, dtype=np.int), w)\n            gloc = (gr_ss + gr_sa) / 2\n\n            gaps.append(measure_gap(gloc, rw))\n            #plt.plot(w, -gloc.imag + i * 0.1)\n            #plt.plot(gaps[-1] / 2, i * 0.1, 'o')\n\n    gaps = np.array(gaps).reshape(len(tpr), len(u_range)).T\n\n    return gaps\n\nTPR = np.arange(0, 1.1, 0.02)\nUR = np.arange(0, 4.5, 0.1)[::-1]\nx, y = np.meshgrid(TPR, UR)\n\nw = np.linspace(-5, 5, 2**10)\nrw = np.abs(w) < 1.5\ndw = w[1] - w[0]\n\n\ngaps = estimate_gap_U_vs_tp(TPR, UR, 1000., 'ins') / 2\n\nplt.figure()\n#gaps = np.ma.masked_array(gaps, gaps <= 0)\nplt.pcolormesh(x, y, gaps)\n# plt.colorbar()\ncs = plt.contour(x, y, gaps, 15, colors='k')\nplt.clabel(cs, inline=1, fontsize=10, colors='k')\nplt.xlabel(r'$t_\\perp/D$')\nplt.ylabel(r'$U/D$')\nplt.grid()\nplt.xlim(0, 1.0801)\nplt.savefig('IPT_Uc1_gap.png')"
      ]
    }
  ],
  "metadata": {
    "kernelspec": {
      "display_name": "Python 3",
      "language": "python",
      "name": "python3"
    },
    "language_info": {
      "codemirror_mode": {
        "name": "ipython",
        "version": 3
      },
      "file_extension": ".py",
      "mimetype": "text/x-python",
      "name": "python",
      "nbconvert_exporter": "python",
      "pygments_lexer": "ipython3",
      "version": "3.6.1"
    }
  },
  "nbformat": 4,
  "nbformat_minor": 0
}