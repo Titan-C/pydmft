{
  "cells": [
    {
      "cell_type": "code",
      "execution_count": null,
      "metadata": {
        "collapsed": false
      },
      "outputs": [],
      "source": [
        "%matplotlib inline"
      ]
    },
    {
      "cell_type": "markdown",
      "metadata": {},
      "source": [
        "\nCompare the spectra and Fermi Liquid Parametrization\n====================================================\n\nUsing a calculation in Matsubara frequencies then estimating the Fermi\nLiquid behavior on those frequencies calculate the low energy\ntheory. Then continuate by Pad\u00e9. Also continuate Sigma by Pad\u00e9 and do\nthe parametrization. Finally do everything on Real frequency IPT.\n\n"
      ]
    },
    {
      "cell_type": "code",
      "execution_count": null,
      "metadata": {
        "collapsed": false
      },
      "outputs": [],
      "source": [
        "# Author: \u00d3scar N\u00e1jera\n\nfrom __future__ import division, absolute_import, print_function\nimport numpy as np\nimport matplotlib.pyplot as plt\nfrom scipy.interpolate import splrep, splev\n\nimport dmft.common as gf\nfrom dmft import ipt_imag\nfrom dmft import ipt_real\nimport dmft.dimer as dimer\n\n\ndef zero_f_meas_mat(siw_d, siw_o):\n    sd_zew = np.polyfit(w_n[:2], siw_d[:2].imag, 1)\n    so_zew = np.polyfit(w_n[:2], siw_o[:2].real, 1)\n\n    zet = 1 / (1 - sd_zew[0])\n\n    return zet, so_zew[1], sd_zew[0]\n\n\ndef low_en_qp(ss):\n    glp = np.array([0.])\n    sigtck = splrep(w, ss.real, s=0)\n    sig_0 = splev(glp, sigtck, der=0)[0]\n    dw_sig0 = splev(glp, sigtck, der=1)[0]\n    quas_z = 1 / (1 - dw_sig0)\n    return quas_z, sig_0, dw_sig0\n\n\ndef plot_spectral(w, tp, ss, ax, ylim, low_en):\n    quas_z, sig_0, dw_sig0 = low_en\n    tpp = (tp + sig_0) * quas_z\n    gss = gf.semi_circle_hiltrans(w + 1e-8j - tp - ss)\n    llg = gf.semi_circle_hiltrans(w + 1e-8j - tpp, quas_z) * quas_z\n    ax[0].plot(w, -gss.imag, \"C1-\", lw=2)\n    ax[0].plot(w, -llg.imag, \"C3--\", lw=2)\n    ax[0].set_title(\n        r'$\\beta={}$; $U={}$; $t_\\perp={}$'.format(BETA, U, tp), fontsize=14)\n    ax[0].text(0.05, 0.75, r'$Z={:.3}$'.format(quas_z) + '\\n' +\n               r'$\\tilde{{t}}_\\perp={:.3f}$'.format(tpp),\n               transform=ax[0].transAxes, fontsize=14)\n    ax[1].plot(w, ss.real, 'C4', label=r'$\\Re e$')\n    ax[1].plot(w, ss.imag, 'C2', label=r'$\\Im m$')\n    ax[1].plot(w, sig_0 + dw_sig0 * w, 'k:')\n    ax[1].set_xlim(-2, 2)\n    ax[1].set_ylim(*ylim)\n\n\nw = np.linspace(-4, 4, 2**12)\ndw = w[1] - w[0]\n\nBETA = 756.\n\ntau, w_n = gf.tau_wn_setup(dict(BETA=BETA, N_MATSUBARA=2**12))\nnfp = gf.fermi_dist(w, BETA)\n\nU, tp = 3.4, 0.3\n\n# Matsubara\ngiw_d, giw_o = dimer.gf_met(w_n, 0., tp, 0.5, 0.)\ngiw_d, giw_o, _ = dimer.ipt_dmft_loop(\n    BETA, U, tp, giw_d, giw_o, tau, w_n, 5e-4)\ng0iw_d, g0iw_o = dimer.self_consistency(\n    1j * w_n, 1j * giw_d.imag, giw_o.real, 0., tp, 0.25)\nsiw_d, siw_o = ipt_imag.dimer_sigma(U, tp, g0iw_d, g0iw_o, tau, w_n)\n\n# Continuate sigma with Pad\u00e9\nw_set = np.array([0, 3] + list(range(5, 761, 7)))\nss, _ = dimer.pade_diag(1j * siw_d.imag, siw_o.real, w_n, w_set, w + 0.0005j)"
      ]
    },
    {
      "cell_type": "markdown",
      "metadata": {},
      "source": [
        "Low Energy in Sigma matsubara\n-----------------------------\n\n"
      ]
    },
    {
      "cell_type": "code",
      "execution_count": null,
      "metadata": {
        "collapsed": false
      },
      "outputs": [],
      "source": [
        "fig, ax = plt.subplots(2, 1, sharex=True)\nplot_spectral(w, tp, ss, ax, (-7, 5), zero_f_meas_mat(siw_d, siw_o))\n# ax[1].set_title('Low Energy Matsubara sigma + Pad\u00e9 Sigma for plot')\n# fig.savefig('IPT_comp_mat_lowe.pdf')"
      ]
    },
    {
      "cell_type": "markdown",
      "metadata": {},
      "source": [
        "Low Energy in continuated sigma\n-------------------------------\n\n"
      ]
    },
    {
      "cell_type": "code",
      "execution_count": null,
      "metadata": {
        "collapsed": false
      },
      "outputs": [],
      "source": [
        "fig, ax = plt.subplots(2, 1, sharex=True)\nplot_spectral(w, tp, ss, ax, (-7, 5), low_en_qp(ss))\n# ax[1].set_title('Low Energy Pad\u00e9 Sigma')\n# fig.savefig('IPT_comp_pade_lowe.pdf')"
      ]
    },
    {
      "cell_type": "markdown",
      "metadata": {},
      "source": [
        "All in real frequencies\n-----------------------\n\n"
      ]
    },
    {
      "cell_type": "code",
      "execution_count": null,
      "metadata": {
        "collapsed": false
      },
      "outputs": [],
      "source": [
        "gss = gf.semi_circle_hiltrans(w + 5e-3j)\ngsa = gf.semi_circle_hiltrans(w + 5e-3j)\n(gss, gsa), (ss, sa) = ipt_real.dimer_dmft(\n    U, tp, nfp, w, dw, gss, gsa, conv=1e-3)\n\nfig, ax = plt.subplots(2, 1, sharex=True)\nplot_spectral(w, tp, ss, ax, (-7, 5), low_en_qp(ss))\n# ax[1].set_title('All Real frequency IPT')\n# fig.savefig('IPT_comp_real_lowe.pdf')\n# plt.close('all')"
      ]
    }
  ],
  "metadata": {
    "kernelspec": {
      "display_name": "Python 3",
      "language": "python",
      "name": "python3"
    },
    "language_info": {
      "codemirror_mode": {
        "name": "ipython",
        "version": 3
      },
      "file_extension": ".py",
      "mimetype": "text/x-python",
      "name": "python",
      "nbconvert_exporter": "python",
      "pygments_lexer": "ipython3",
      "version": "3.6.1"
    }
  },
  "nbformat": 4,
  "nbformat_minor": 0
}