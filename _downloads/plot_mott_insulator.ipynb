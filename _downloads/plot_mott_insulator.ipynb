{
  "cells": [
    {
      "cell_type": "code",
      "execution_count": null,
      "metadata": {
        "collapsed": false
      },
      "outputs": [],
      "source": [
        "%matplotlib inline"
      ]
    },
    {
      "cell_type": "markdown",
      "metadata": {},
      "source": [
        "\n# INSULATOR\n\n\n\n"
      ]
    },
    {
      "cell_type": "code",
      "execution_count": null,
      "metadata": {
        "collapsed": false
      },
      "outputs": [],
      "source": [
        "# Author: \u00d3scar N\u00e1jera\n\nfrom __future__ import (absolute_import, division, print_function,\n                        unicode_literals)\n\nimport matplotlib.pyplot as plt\nimport numpy as np\n\nimport dmft.common as gf\nimport dmft.ipt_imag as ipt\nfrom dmft.ipt_real import dimer_dmft as dimer_dmft_real\nimport dmft.dimer as dimer\nfrom slaveparticles.quantum import dos\n\n\ndef plot_gf(gw, sw, axes):\n    axes[0].plot(w, -gw.imag / np.pi)\n    axes[1].plot(w, sw.real)\n    axes[1].axhline(0, color='k')\n    axes[2].plot(w, -sw.imag)"
      ]
    },
    {
      "cell_type": "markdown",
      "metadata": {},
      "source": [
        "Insulator in IPT Imag local basis\n---------------------------------\n\n\n"
      ]
    },
    {
      "cell_type": "code",
      "execution_count": null,
      "metadata": {
        "collapsed": false
      },
      "outputs": [],
      "source": [
        "def dmft_solve(giw_d, giw_o, beta, u_int, tp, tau, w_n):\n    giw_d, giw_o, loops = dimer.ipt_dmft_loop(\n        BETA, u_int, tp, giw_d, giw_o, tau, w_n, 1e-12)\n    g0iw_d, g0iw_o = dimer.self_consistency(\n        1j * w_n, 1j * giw_d.imag, giw_o.real, 0., tp, 0.25)\n    siw_d, siw_o = ipt.dimer_sigma(u_int, tp, g0iw_d, g0iw_o, tau, w_n)\n    return giw_d, giw_o, siw_d, siw_o\n\n\nplt.close('all')\nu_int = 3.5\nBETA = 100.\n\ntau, w_n = gf.tau_wn_setup(dict(BETA=BETA, N_MATSUBARA=1024))\ngiw_d, giw_o = 1 / (1j * w_n + 4j / w_n), np.zeros_like(w_n) + 0j\nw = np.linspace(-4, 4, 2**13 + 1)\n\n\ngiw_dt0, giw_ot0, siw_dt0, siw_ot0 = dmft_solve(\n    giw_d, giw_o, BETA, u_int, 0, tau, w_n)\n\nw_set = np.concatenate((np.arange(80), np.arange(80, 150, 5)))\ngwdt0 = gf.pade_continuation(1j * giw_dt0.imag, w_n, w, w_set)\nswdt0 = gf.pade_continuation(1j * siw_dt0.imag, w_n, w, w_set)\nswdt0 = swdt0.real - 1j * np.abs(swdt0.imag)\n\ngiw_dt03, giw_ot03, siw_dt03, siw_ot03 = dmft_solve(\n    giw_d, giw_o, BETA, u_int, 0.3, tau, w_n)\n\ngwdt03 = gf.pade_continuation(1j * giw_dt03.imag, w_n, w, w_set)\nswdt03 = gf.pade_continuation(1j * siw_dt03.imag, w_n, w, w_set)\nswdt03 = swdt03.real - 1j * np.abs(swdt03.imag)\n\nfig, axes = plt.subplots(3, 2, sharex=True)\nfig.subplots_adjust(hspace=0, wspace=0.0)\nplot_gf(gwdt0, swdt0, axes[:, 0])\nplot_gf(gwdt03, swdt03, axes[:, 1])\naxes[0, 0].set_ylabel(r'$A_{11}(\\omega)$')\naxes[1, 0].set_ylabel(r'$\\Re e \\Sigma_{11}(\\omega)$')\naxes[2, 0].set_ylabel(r'$-\\Im m \\Sigma_{11}(\\omega)$')\n\nfor ax, lim in zip(axes, [[0, 0.7], [-8, 8], [0, 2]]):\n    ax[0].set_ylim(lim)\n    ax[0].set_yticklabels([])\n    ax[1].set_ylim(lim)\n\naxes[2, 0].set_xlabel(r'$\\omega$')\naxes[2, 1].set_xlabel(r'$\\omega$')\nplt.savefig('IPT_imag_Dimer_mott_ins_panels.pdf', transparent=False,\n            bbox_inches='tight', pad_inches=0.05)"
      ]
    },
    {
      "cell_type": "markdown",
      "metadata": {},
      "source": [
        "Insulator in IPT Imag diagonal basis\n------------------------------------\n\n\n"
      ]
    },
    {
      "cell_type": "code",
      "execution_count": null,
      "metadata": {
        "collapsed": false
      },
      "outputs": [],
      "source": [
        "w_set = np.concatenate((np.arange(80), np.arange(80, 150, 5)))\ngwst0 = gf.pade_continuation(1j * giw_dt0.imag + giw_ot0.real, w_n, w, w_set)\nswst0 = gf.pade_continuation(1j * siw_dt0.imag + siw_ot0.real, w_n, w, w_set)\n#swst0 = swst0.real - 1j * np.abs(swst0.imag)\n\n\ngwst03 = gf.pade_continuation(\n    1j * giw_dt03.imag + giw_ot03.real, w_n, w, w_set)\nswst03 = gf.pade_continuation(\n    1j * siw_dt03.imag + siw_ot03.real, w_n, w, w_set)\n#swst03 = swst03.real - 1j * np.abs(swst03.imag)\n\nfig, axes = plt.subplots(3, 2, sharex=True)\nfig.subplots_adjust(hspace=0, wspace=0.0)\nplot_gf(gwst0, swst0, axes[:, 0])\n#plot_gf(gwst03, swst03, axes[:, 1])\nplot_gf(gf.semi_circle_hiltrans(w - 0.3 - swst03), swst03, axes[:, 1])\naxes[0, 0].set_ylabel(r'$A_{sym}(\\omega)$')\naxes[1, 0].set_ylabel(r'$\\Re e \\Sigma_{sym}(\\omega)$')\naxes[2, 0].set_ylabel(r'$-\\Im m \\Sigma_{sym}(\\omega)$')\n\nfor ax, lim in zip(axes, [[0, 2], [-8, 8], [0, 2]]):\n    ax[0].set_ylim(lim)\n    ax[0].set_yticks([])\n    ax[1].set_ylim(lim)\n\naxes[2, 1].set_ylim([0, 2.6])\n\naxes[2, 0].set_xlabel(r'$\\omega$')\naxes[2, 1].set_xlabel(r'$\\omega$')\nplt.savefig('IPT_imag_Dimer_mott_ins_panels_sym.pdf', transparent=False,\n            bbox_inches='tight', pad_inches=0.05)"
      ]
    },
    {
      "cell_type": "markdown",
      "metadata": {},
      "source": [
        "Insulator in real IPT diagonal basis\n------------------------------------\n\n\n"
      ]
    },
    {
      "cell_type": "code",
      "execution_count": null,
      "metadata": {
        "collapsed": false
      },
      "outputs": [],
      "source": [
        "w = np.linspace(-6, 6, 2**13)\ndw = w[1] - w[0]\nprint(dw)\nBETA = 100.\nnfp = dos.fermi_dist(w, BETA)\ngseeds = gf.semi_circle_hiltrans(w + 1e-6j + 1.2)\ngseeda = gf.semi_circle_hiltrans(w + 1e-6j - 1.2)\n(gsst0, _), (sst0, _) = dimer_dmft_real(u_int, 0., nfp, w, dw, gseeds, gseeda)\n\n(gsst03, ga), (sst03, sa) = dimer_dmft_real(\n    u_int, 0.3, nfp, w, dw, gseeds, gseeda)\n\n\nfig, axes = plt.subplots(3, 2, sharex=True)\nfig.subplots_adjust(hspace=0, wspace=0.0)\nplot_gf(gsst0, sst0, axes[:, 0])\nplot_gf(gsst03 + ga, sst03 + sa, axes[:, 1])\naxes[0, 0].set_ylabel(r'$A_{sym}(\\omega)$')\naxes[1, 0].set_ylabel(r'$\\Re e \\Sigma_{sym}(\\omega)$')\naxes[2, 0].set_ylabel(r'$-\\Im m \\Sigma_{sym}(\\omega)$')\n\nfor ax, lim in zip(axes, [[0, 2], [-4, 4], [0, 4]]):\n    ax[0].set_ylim(lim)\n    ax[0].set_yticks([])\n    ax[1].set_ylim(lim)\n\naxes[2, 0].set_xlabel(r'$\\omega$')\naxes[2, 1].set_xlabel(r'$\\omega$')\nplt.xlim([-4, 4])\n\nplt.savefig('IPT_real_Dimer_mott_ins_panels_sym.pdf', transparent=False,\n            bbox_inches='tight', pad_inches=0.05)\nplt.show()"
      ]
    }
  ],
  "metadata": {
    "kernelspec": {
      "display_name": "Python 3",
      "language": "python",
      "name": "python3"
    },
    "language_info": {
      "codemirror_mode": {
        "name": "ipython",
        "version": 3
      },
      "file_extension": ".py",
      "mimetype": "text/x-python",
      "name": "python",
      "nbconvert_exporter": "python",
      "pygments_lexer": "ipython3",
      "version": "3.6.1"
    }
  },
  "nbformat": 4,
  "nbformat_minor": 0
}