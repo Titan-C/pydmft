{
  "cells": [
    {
      "cell_type": "code",
      "execution_count": null,
      "metadata": {
        "collapsed": false
      },
      "outputs": [],
      "source": [
        "%matplotlib inline"
      ]
    },
    {
      "cell_type": "markdown",
      "metadata": {},
      "source": [
        "\nFourier Transforms\n==================\n\nTransforming the non-interacting Green's Function for the Bethe\nlattice.  Using the analytical expression for the tails. It is\nimportant to note that to get good enough resolution in the time\ndomain at least $\\beta$ Matsubara frequencies are needed.\n\nIf the Greens Functions is very asymmetric one better use\n$2\\beta$ Matsubara frequencies as for the Fourier transform\nimproves with a large interval of zeros.\n\n"
      ]
    },
    {
      "cell_type": "code",
      "execution_count": null,
      "metadata": {
        "collapsed": false
      },
      "outputs": [],
      "source": [
        "# Author: \u00d3scar N\u00e1jera\n\nfrom __future__ import division, absolute_import, print_function\nimport dmft.common as gf\nimport matplotlib.pyplot as plt\nplt.matplotlib.rcParams.update({'figure.figsize': (8, 8), 'axes.labelsize': 22,\n                                'axes.titlesize': 22, 'figure.autolayout': True})\n\ntau, w_n = gf.tau_wn_setup(dict(BETA=64, N_MATSUBARA=128))\nfig, ax = plt.subplots(2, 1)\nc_v = ['b', 'g', 'r', 'y']\n\nfor mu, c in zip([0, 0.3, 0.6, 1.], c_v):\n    giw = gf.greenF(w_n, mu=mu)\n    gtau = gf.gw_invfouriertrans(giw, tau, w_n, [1., -mu, 0.25])\n\n    ax[0].plot(w_n, giw.real, c+'o:', label=r'$\\Re G$, $\\mu={}$'.format(mu))\n    ax[0].plot(w_n, giw.imag, c+'s:')\n    ax[1].plot(tau, gtau, c, lw=2, label=r'$\\mu={}$'.format(mu))\n\nax[0].set_xlim([0, 6])\nax[0].set_xlabel(r'$i\\omega_n$')\nax[0].set_ylabel(r'$G(i\\omega_n)$')\nax[1].set_xlabel(r'$\\tau$')\nax[1].set_ylabel(r'$G(\\tau)$')\nax[1].set_xlim([0, 64])\nax[0].legend(loc=0)\nax[1].legend(loc=0)"
      ]
    },
    {
      "cell_type": "markdown",
      "metadata": {},
      "source": [
        "Review on resolution\n--------------------\n\nHere comes to evidence the need of having a long contribution of\nzeros from the tail subtracted Matsubara Green function. There is\na reduced noise in the function transformed with its third moment\ncoming from the self-consistency(Black line)\n\n"
      ]
    },
    {
      "cell_type": "code",
      "execution_count": null,
      "metadata": {
        "collapsed": false
      },
      "outputs": [],
      "source": [
        "fig, ax = plt.subplots(2, 1, sharex=True, sharey=True)\nax[1].set_xlabel(r'$\\tau$')\nax[1].set_ylabel(r'$G(\\tau)$')\nc_v = ['b', 'g', 'r', 'y']\n\nfor mu, c in zip([0, 0.3, 0.6, 1.], c_v):\n    tau, w_n = gf.tau_wn_setup(dict(BETA=64, N_MATSUBARA=64))\n    giw = gf.greenF(w_n, mu=mu)\n    gtau = gf.gw_invfouriertrans(giw, tau, w_n, [1., -mu, 0.])\n    ax[0].semilogy(tau, -gtau, c, lw=2, label=r'$\\mu={}$'.format(mu))\n    gtau = gf.gw_invfouriertrans(giw, tau, w_n, [1., -mu, 0.25])\n    ax[0].semilogy(tau, -gtau, 'k', lw=1)\n\n    tau, w_n = gf.tau_wn_setup(dict(BETA=64, N_MATSUBARA=128))\n    giw = gf.greenF(w_n, mu=mu)\n    gtau = gf.gw_invfouriertrans(giw, tau, w_n, [1., -mu, 0.])\n    ax[1].semilogy(tau, -gtau, c, lw=2, label=r'$\\mu={}$'.format(mu))\n    gtau = gf.gw_invfouriertrans(giw, tau, w_n, [1., -mu, 0.25])\n    ax[1].semilogy(tau, -gtau, 'k', lw=1)\n\nax[0].set_ylabel(r'$\\ln (-G(\\tau))$')\nax[0].set_title(r'$\\beta$ frequencies')\nax[1].set_ylabel(r'$\\ln (-G(\\tau))$')\nax[1].set_title(r'$2\\beta$ frequencies')\nax[1].set_xlabel(r'$\\tau$')\nax[1].set_xlim([0, 64])\nax[0].legend(loc=0)\nax[1].legend(loc=0)"
      ]
    },
    {
      "cell_type": "markdown",
      "metadata": {},
      "source": [
        "Including the self-energy of the atomic limit so to have a third moment\n-----------------------------------------------------------------------\n\nHere the there are the 3 improvements. Large tail subtracted\nMatsubara Green function, tail from the Self-Energy and tail of the\nself-consistency\n\n"
      ]
    },
    {
      "cell_type": "code",
      "execution_count": null,
      "metadata": {
        "collapsed": false
      },
      "outputs": [],
      "source": [
        "fig, ax = plt.subplots(2, 1)\nsigma = 2.5**2/4/(1j*w_n)\ngiiw = gf.greenF(w_n, mu=0, sigma=sigma)\ngitau = gf.gw_invfouriertrans(giiw, tau, w_n, [1., 0, 2.5**2/4+0.25])\nax[0].plot(w_n, giiw.imag)\nax[1].plot(tau, gitau)\n\nax[0].set_xlim([0, 6])\nax[0].set_title('Green function in the atomic limit')\nax[0].set_xlabel(r'$i\\omega_n$')\nax[0].set_ylabel(r'$\\Im m G(i\\omega_n)$')\nax[1].set_xlabel(r'$\\tau$')\nax[1].set_ylabel(r'$G(\\tau)$')\nax[1].set_xlim([0, 64])"
      ]
    },
    {
      "cell_type": "code",
      "execution_count": null,
      "metadata": {
        "collapsed": false
      },
      "outputs": [],
      "source": [
        "fig, ax = plt.subplots(2, 1, sharex=True, sharey=True)\ntau, w_n = gf.tau_wn_setup(dict(BETA=64, N_MATSUBARA=64))\nsigma = 2.5**2/4/(1j*w_n)\ngiiw = gf.greenF(w_n, mu=0, sigma=sigma)\ngitau = gf.gw_invfouriertrans(giiw, tau, w_n, [1., 0, 2.5**2/4+0.25])\nax[0].semilogy(tau, -gitau, 'k')\ngitau = gf.gw_invfouriertrans(giiw, tau, w_n, [1., 0, 2.5**2/4])\nax[0].semilogy(tau, -gitau)\n\ntau, w_n = gf.tau_wn_setup(dict(BETA=64, N_MATSUBARA=128))\nsigma = 2.5**2/4/(1j*w_n)\ngiiw = gf.greenF(w_n, mu=0, sigma=sigma)\ngitau = gf.gw_invfouriertrans(giiw, tau, w_n, [1., 0, 2.5**2/4+0.25])\nax[1].semilogy(tau, -gitau, 'k', lw=2)\ngitau = gf.gw_invfouriertrans(giiw, tau, w_n, [1., 0, 2.5**2/4])\nax[1].semilogy(tau, -gitau)\ngitau = gf.gw_invfouriertrans(giiw, tau, w_n, [1., 0, 2.5**2/4+0.25])\nax[1].semilogy(tau, gf.np.abs(gitau), 'r')\n\nax[0].set_title('Green function in the atomic limit')\nax[0].set_ylabel(r'$\\ln (-G(\\tau))$')\nax[0].set_title(r'$\\beta$ frequencies')\nax[1].set_ylabel(r'$\\ln (-G(\\tau))$')\nax[1].set_title(r'$2\\beta$ frequencies')\nax[1].set_xlabel(r'$\\tau$')\nax[1].set_xlim([0, 64])"
      ]
    }
  ],
  "metadata": {
    "kernelspec": {
      "display_name": "Python 3",
      "language": "python",
      "name": "python3"
    },
    "language_info": {
      "codemirror_mode": {
        "name": "ipython",
        "version": 3
      },
      "file_extension": ".py",
      "mimetype": "text/x-python",
      "name": "python",
      "nbconvert_exporter": "python",
      "pygments_lexer": "ipython3",
      "version": "3.6.1"
    }
  },
  "nbformat": 4,
  "nbformat_minor": 0
}