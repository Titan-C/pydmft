{
  "cells": [
    {
      "cell_type": "code",
      "execution_count": null,
      "metadata": {
        "collapsed": false
      },
      "outputs": [],
      "source": [
        "%matplotlib inline"
      ]
    },
    {
      "cell_type": "markdown",
      "metadata": {},
      "source": [
        "\nHubbard I solver\n================\n\nAtomic limit expression of the self-energy\nis described by\n\n\\begin{align}\\Sigma(\\omega) =\\frac{U n}{2} + \\frac{ \\frac{U^{2} n}{2} \\left( 1 - \\frac{n}{2}\\right)}{\\omega + \\mu  - U \\left(1 - \\frac{n}{2}\\right)}\\end{align}\n\nThis approximation is most accurate in the limit of strong coupling,\nas there the atomic case is closer. Nevertheless it is possible to see\nthe formation of the Hubbard Bands and the redistribution of spectral\nweight.\n\n"
      ]
    },
    {
      "cell_type": "code",
      "execution_count": null,
      "metadata": {
        "collapsed": false
      },
      "outputs": [],
      "source": [
        "# Created Mon Sep 28 15:25:30 2015\n# Author: \u00d3scar N\u00e1jera\n\nfrom __future__ import division, absolute_import, print_function\nimport matplotlib.pyplot as plt\nimport numpy as np\nplt.matplotlib.rcParams.update({'figure.figsize': (8, 8), 'axes.labelsize': 22,\n                                'axes.titlesize': 22, 'figure.autolayout': True})\n\n\ndef hubbard_aprox(n, U, dmu, omega):\n\n    k = np.linspace(0, np.pi, 65)\n\n    mu = U/2 + dmu\n\n    sigma = n*U/2 + n/2*(1-n/2)*U**2/(omega + 0.05j + mu - (1 - n/2)*U)\n    eps_k = -2*np.cos(k)\n\n    lat_gf = 1/(np.subtract.outer(omega + 0.05j + mu - sigma,  eps_k))\n    A_kw = -lat_gf.imag/np.pi\n\n    plt.figure()\n    plt.pcolormesh(k, omega, A_kw , cmap='hot_r')\n    plt.xticks([0, np.pi], [r'$\\Gamma$', r'$X$'])\n    plt.xlim([0, np.pi])\n    plt.xlabel('k')\n    plt.ylabel(r'$\\omega$')\n    plt.colorbar()\n    plt.title(r'Band dispersion for $\\langle n\\rangle$=' + str(n))\n\n    fig, ax = plt.subplots(2, 1, sharex=True,\n                           gridspec_kw=dict(hspace=0, height_ratios=[1, 3]))\n    A_kw /= np.max(A_kw)\n    A_w = np.sum(A_kw, axis=1)\n\n    ax[0].plot(omega, A_w/max(A_w))\n    ax[0].set_ylabel(r'$A(\\omega)$')\n    ax[0].set_yticklabels([])\n    ax[0].set_title(r'Spectral function for $\\langle n\\rangle$=' + str(n))\n    A_kw += k\n\n    ax[1].plot(omega, A_kw[:, ::2], 'k')\n    ax[1].set_xlim([min(omega), max(omega)])\n    ax[1].set_xlabel(r'$\\omega$')\n    ax[1].set_yticks([0, np.pi])\n    ax[1].set_yticklabels([r'$\\Gamma$', r'$X$'])\n    ax[1].set_ylabel(r'$A(k, \\omega)$')"
      ]
    },
    {
      "cell_type": "markdown",
      "metadata": {},
      "source": [
        "Starting with the half-filling case where the system is particle hole\nsymmetric and there is a simple way to describe the Fermi energy. For\nthis simple ilustration the 1D problem is worked on as the Self-energy\nis still momentum independent.\n\n"
      ]
    },
    {
      "cell_type": "code",
      "execution_count": null,
      "metadata": {
        "collapsed": false
      },
      "outputs": [],
      "source": [
        "omega = np.linspace(-4, 4, 600)\nhubbard_aprox(1, 3, 0, omega)"
      ]
    },
    {
      "cell_type": "markdown",
      "metadata": {},
      "source": [
        "When doping the system it is possible to see the spectral weight\nredistribution. How the less occupied band is wider.\n\n<div class=\"alert alert-danger\"><h4>Warning</h4><p>Chemical potential is not well set for the target occupation</p></div>\n\n"
      ]
    },
    {
      "cell_type": "code",
      "execution_count": null,
      "metadata": {
        "collapsed": false
      },
      "outputs": [],
      "source": [
        "hubbard_aprox(0.6, 3, -0.6, omega)"
      ]
    }
  ],
  "metadata": {
    "kernelspec": {
      "display_name": "Python 3",
      "language": "python",
      "name": "python3"
    },
    "language_info": {
      "codemirror_mode": {
        "name": "ipython",
        "version": 3
      },
      "file_extension": ".py",
      "mimetype": "text/x-python",
      "name": "python",
      "nbconvert_exporter": "python",
      "pygments_lexer": "ipython3",
      "version": "3.6.1"
    }
  },
  "nbformat": 4,
  "nbformat_minor": 0
}