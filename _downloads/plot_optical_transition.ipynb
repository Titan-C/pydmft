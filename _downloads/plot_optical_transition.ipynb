{
  "cells": [
    {
      "cell_type": "code",
      "execution_count": null,
      "metadata": {
        "collapsed": false
      },
      "outputs": [],
      "source": [
        "%matplotlib inline"
      ]
    },
    {
      "cell_type": "markdown",
      "metadata": {},
      "source": [
        "\nDimer Mott transition Optical response\n======================================\n\nTrack the optical conductivity from the correlated metal up to the\ntransition point. The lost of overlap of bonding and anti-bonding\nbands at the Fermi level implies the transition. From the optical\nsignal the Drude weight drops with raising U and the Inter-band\ntransition signal lowers its excitation energy signaling how the two\nquasiparticles are renormalized closer together.\n\n\n.. seealso::\n    `sphx_glr_dimer_lattice_nature_dimer_plot_dimer_transition.py`\n    `sphx_glr_dimer_lattice_nature_dimer_plot_order_param_transition.py`\n\n"
      ]
    },
    {
      "cell_type": "code",
      "execution_count": null,
      "metadata": {
        "collapsed": false
      },
      "outputs": [],
      "source": [
        "# author: \u00d3scar N\u00e1jera\n\nfrom __future__ import division, absolute_import, print_function\n\nimport numpy as np\nimport matplotlib.pyplot as plt\n\nimport dmft.common as gf\nimport dmft.ipt_real as ipt\nimport dmft.dimer as dimer\n\nplt.matplotlib.rcParams.update({'axes.labelsize': 22,\n                                'xtick.labelsize': 14, 'ytick.labelsize': 14,\n                                'axes.titlesize': 22,\n                                'mathtext.fontset': 'cm'})\n\nw = np.linspace(-4, 4, 2**12)\ndw = w[1] - w[0]\n\nBETA = 800.\nnfp = gf.fermi_dist(w, BETA)\n\ntp = 0.3\ngss = gf.semi_circle_hiltrans(w + 5e-3j - tp)\ngsa = gf.semi_circle_hiltrans(w + 5e-3j + tp)\nurange = np.arange(0.2, 3.3, 0.3)\nurange = [0.2, 1., 2., 3., 3.47]\nplt.close('all')\neps_k = np.linspace(-1, 1, 61)\npos_freq = w > 0\nnuv = w[pos_freq]\n\nfor i, U in enumerate(urange):\n    (gss, gsa), (ss, sa) = ipt.dimer_dmft(\n        U, tp, nfp, w, dw, gss, gsa, conv=1e-4)\n\n    s_intra, s_inter = dimer.optical_conductivity(BETA, ss, sa, w, tp, eps_k)\n\n    ddm_sigma_E_sum = .5 * (s_intra + s_inter)\n\n    shift = -2.1 * i\n    plt.plot(nuv, ddm_sigma_E_sum, label=r'$U/D={}$'.format(U))\n\nplt.xlabel(r'$\\omega$')\nplt.ylabel(r'$\\sigma(\\omega)$')\nplt.xlim(0, 2)\nplt.ylim(0, 2)\nplt.legend(loc=0)"
      ]
    }
  ],
  "metadata": {
    "kernelspec": {
      "display_name": "Python 3",
      "language": "python",
      "name": "python3"
    },
    "language_info": {
      "codemirror_mode": {
        "name": "ipython",
        "version": 3
      },
      "file_extension": ".py",
      "mimetype": "text/x-python",
      "name": "python",
      "nbconvert_exporter": "python",
      "pygments_lexer": "ipython3",
      "version": "3.6.1"
    }
  },
  "nbformat": 4,
  "nbformat_minor": 0
}