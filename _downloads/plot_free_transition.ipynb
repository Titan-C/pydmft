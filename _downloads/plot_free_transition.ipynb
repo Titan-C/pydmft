{
  "cells": [
    {
      "cell_type": "code",
      "execution_count": null,
      "metadata": {
        "collapsed": false
      },
      "outputs": [],
      "source": [
        "%matplotlib inline"
      ]
    },
    {
      "cell_type": "markdown",
      "metadata": {},
      "source": [
        "\nTransition on free energy\n=========================\n\nUsing the formalism presented in [1]_ I calculate the stability of the\nIPT solution within the coexistence region.\n\n.. [1] Moeller, G., V. Dobrosavljevi\\'c, & Ruckenstein, A. E. (1999). RKKY\n  interactions and the Mott transition. Physical Review B, 59(10),\n  6846\u20136854. http://dx.doi.org/10.1103/physrevb.59.6846\n\n\n"
      ]
    },
    {
      "cell_type": "code",
      "execution_count": null,
      "metadata": {
        "collapsed": false
      },
      "outputs": [],
      "source": [
        "# Created Fri Apr 21 15:11:05 2017\n# Author: \u00d3scar N\u00e1jera\n\nfrom __future__ import division, absolute_import, print_function\nimport numpy as np\nfrom scipy.integrate import trapz\nimport matplotlib.pylab as plt\n\nfrom dmft.ipt_imag import dmft_loop, single_band_ipt_solver\nfrom dmft.common import greenF, tau_wn_setup\n\n\ndef mix(gmet, gins, l):\n    return (1 - l) * gins + l * gmet\n\n\ndef one_loop(giw, t, u_int, w_n, tau):\n    iw_n = 1j * w_n\n    g_0_iwn = 1. / (iw_n - t**2 * giw)\n    g_iwn, sigma_iwn = single_band_ipt_solver(u_int, g_0_iwn, w_n, tau)\n    return g_iwn\n\n\ndef free_energy_change(beta, u_int, mix_grid):\n\n    tau, w_n = tau_wn_setup(dict(BETA=beta, N_MATSUBARA=2**11))\n\n    ig_iwn, is_iwn = dmft_loop(\n        u_int, 0.5, -1.j / (w_n - 1 / w_n), w_n, tau, conv=1e-10)\n\n    mg_iwn, ms_iwn = dmft_loop(u_int, 0.5, greenF(w_n), w_n, tau, conv=1e-10)\n\n    solution_diff = mg_iwn - ig_iwn\n\n    integrand = []\n    for l in mix_grid:\n        g_in = mix(mg_iwn, ig_iwn, l)\n        g_grad = one_loop(g_in, 0.5, U, w_n, tau) - g_in\n        integrand.append(np.dot(g_grad, solution_diff).real / beta)\n\n    return np.array([0] + [trapz(integrand[:i], mix_grid[:i])\n                           for i in range(2, len(mix_grid) + 1)])\n\n\nmix_grid = np.linspace(0, 1, 201)"
      ]
    },
    {
      "cell_type": "markdown",
      "metadata": {},
      "source": [
        "High in the coexistence region\n\n"
      ]
    },
    {
      "cell_type": "code",
      "execution_count": null,
      "metadata": {
        "collapsed": false
      },
      "outputs": [],
      "source": [
        "U = 2.6\nfor temp in [0.003, 0.009, 0.015, 0.021, 0.027, 0.033, 0.037]:\n    beta = 1 / temp\n    delta_f = free_energy_change(beta, U, mix_grid)\n    plt.plot(mix_grid, delta_f, label='T={:.3}'.format(1 / beta))\nplt.xlabel('$l$ Admixture of metallic solution')\nplt.ylabel(r'$\\Delta F(l)$: Change in free energy')\nplt.title('$U/D={}$'.format(U))\nplt.legend(loc=0)\nplt.show()"
      ]
    },
    {
      "cell_type": "markdown",
      "metadata": {},
      "source": [
        "Lower in the coexistence region\n\n"
      ]
    },
    {
      "cell_type": "code",
      "execution_count": null,
      "metadata": {
        "collapsed": false
      },
      "outputs": [],
      "source": [
        "U = 3\nfor beta in [52., 57.38, 64., 100.]:\n    delta_f = free_energy_change(beta, U, mix_grid)\n    plt.plot(mix_grid, delta_f, label='T={:.3}'.format(1 / beta))\nplt.xlabel('$l$ Admixture of metallic solution')\nplt.ylabel(r'$\\Delta F(l)$: Change in free energy')\nplt.title('$U/D={}$'.format(U))\nplt.legend(loc=0)"
      ]
    }
  ],
  "metadata": {
    "kernelspec": {
      "display_name": "Python 3",
      "language": "python",
      "name": "python3"
    },
    "language_info": {
      "codemirror_mode": {
        "name": "ipython",
        "version": 3
      },
      "file_extension": ".py",
      "mimetype": "text/x-python",
      "name": "python",
      "nbconvert_exporter": "python",
      "pygments_lexer": "ipython3",
      "version": "3.6.1"
    }
  },
  "nbformat": 4,
  "nbformat_minor": 0
}