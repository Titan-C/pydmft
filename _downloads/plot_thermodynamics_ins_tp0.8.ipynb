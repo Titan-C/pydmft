{
  "cells": [
    {
      "cell_type": "code",
      "execution_count": null,
      "metadata": {
        "collapsed": false
      },
      "outputs": [],
      "source": [
        "%matplotlib inline"
      ]
    },
    {
      "cell_type": "markdown",
      "metadata": {},
      "source": [
        "\nThermodynamics of the Band insulator in the Dimer lattice\n=========================================================\n\nIn the weakly correlated region at $t_\\perp=0.8$ the Thermodynamics of\nthe system is calculated.\n\n\n"
      ]
    },
    {
      "cell_type": "code",
      "execution_count": null,
      "metadata": {
        "collapsed": false
      },
      "outputs": [],
      "source": [
        "from math import log, ceil\nimport numpy as np\nfrom scipy.integrate import simps\nimport matplotlib.pyplot as plt\nimport dmft.dimer as dimer\nimport dmft.common as gf\nfrom dmft.utils import differential_weight"
      ]
    },
    {
      "cell_type": "code",
      "execution_count": null,
      "metadata": {
        "collapsed": false
      },
      "outputs": [],
      "source": [
        "def loop_beta(u_int, tp, betarange, seed):\n    avgH = []\n    for beta in betarange:\n        tau, w_n = gf.tau_wn_setup(\n            dict(BETA=beta, N_MATSUBARA=max(2**ceil(log(8 * beta) / log(2)), 256)))\n        giw_d, giw_o = dimer.gf_met(w_n, 0., 0., 0.5, 0.)\n        if seed == 'I':\n            giw_d, giw_o = 1 / (1j * w_n - 4j / w_n), np.zeros_like(w_n) + 0j\n\n        giw_d, giw_o, _ = dimer.ipt_dmft_loop(\n            beta, u_int, tp, giw_d, giw_o, tau, w_n, 1e-6)\n\n        ekin = dimer.ekin(giw_d[:int(8 * beta)], giw_o[:int(8 * beta)],\n                          w_n[:int(8 * beta)], tp, beta)\n\n        epot = dimer.epot(giw_d[:int(8 * beta)], w_n[:int(8 * beta)],\n                          beta, u_int ** 2 / 4 + tp**2 + 0.25, ekin, u_int)\n        avgH.append(ekin + epot)\n\n    return np.array(avgH)\n\nfac = np.arctan(25 * np.sqrt(3) / 0.45)\ntemp = np.tan(np.linspace(5e-3, fac, 185)) * 0.45 / np.sqrt(3)\nBETARANGE = 1 / temp\n\nU_int = [1.8, 2.5, 3.3, 4.5]\nTP = 0.8\navgH = [loop_beta(u_int, TP, BETARANGE, 'I') for u_int in U_int]"
      ]
    },
    {
      "cell_type": "markdown",
      "metadata": {},
      "source": [
        "Internal Energy\n---------------\n\nThe internal energy decreases and upon cooling but in the insulator it\nfinds two energy plateaus\n\n"
      ]
    },
    {
      "cell_type": "code",
      "execution_count": null,
      "metadata": {
        "collapsed": false
      },
      "outputs": [],
      "source": [
        "plt.figure()\ntemp_cut = sum(temp < 3)\nfor u, sol in zip(U_int, avgH):\n    plt.plot(temp[:temp_cut], sol[:temp_cut], '+-', label='U={}'.format(u))\n\nplt.xlim(0, 2.5)\nplt.title('Internal Energy')\nplt.xlabel('$T/D$')\nplt.ylabel(r'$\\langle  H \\rangle$')\nplt.legend(loc=0)"
      ]
    },
    {
      "cell_type": "markdown",
      "metadata": {},
      "source": [
        "Specific Heat\n-------------\n\nIn the heat capacity it is very noticeable how close one is to the\nQuantum Critical Point as the Heat capacity is almost diverging for the\nsmallest $U$ insulator\n\n"
      ]
    },
    {
      "cell_type": "code",
      "execution_count": null,
      "metadata": {
        "collapsed": false
      },
      "outputs": [],
      "source": [
        "plt.figure()\ntemp_cut = sum(temp < 3)\nCV = [differential_weight(H) / differential_weight(temp) for H in avgH]\nfor u, cv, h in zip(U_int, CV, avgH):\n    plt.plot(temp[: temp_cut], cv[: temp_cut], lw=1, label='U={}'.format(u))\n\nplt.xlim(-0.1, 2.)\nplt.ylim(-0.1, 2)\nplt.title('Internal Energy')\nplt.title('Heat Capacity')\nplt.xlabel('$T/D$')\nplt.ylabel(r'$C_V$')\nplt.legend(loc=0)"
      ]
    },
    {
      "cell_type": "markdown",
      "metadata": {},
      "source": [
        "Entropy\n-------\n\nEntropy again find two plateaus as first evidenced by the internal\nenergy, it is also noteworthy that entropy seems to remain finite for\nthis insulator and would seem that is the same value for all cases being\nnumerical uncertainties to blame for the curves not matching at zero\ntemperature. It still remains unknown what the finite entropy value\ncorresponds to. In this particula case is $\\sim \\ln(1.6)$\n\n"
      ]
    },
    {
      "cell_type": "code",
      "execution_count": null,
      "metadata": {
        "collapsed": false
      },
      "outputs": [],
      "source": [
        "ENDS = []\nfor cv in CV:\n    cv_temp = np.clip(cv, 0, 1) / temp\n    s_t = np.array([simps(cv_temp[i:], temp[i:], even='last')\n                    for i in range(len(temp))])\n    ENDS.append(log(16.) - s_t)\n\nplt.figure()\ntemp_cut = -1\nfor u, s in zip(U_int, ENDS):\n    plt.plot(temp[: temp_cut], s[: temp_cut], label='U={}'.format(u))\n\nplt.title('Entropy')\nplt.xlabel('$T/D$')\nplt.ylabel(r'$S$')\nplt.legend(loc=0)\n\nplt.xlim(-0.01, 0.9)\nplt.yticks([0, log(2), log(2) * 2, log(2) * 4],\n           [0, r'$\\ln 2$', r'$2\\ln 2$', r'$4\\ln 2$'])\n\nplt.show()"
      ]
    }
  ],
  "metadata": {
    "kernelspec": {
      "display_name": "Python 3",
      "language": "python",
      "name": "python3"
    },
    "language_info": {
      "codemirror_mode": {
        "name": "ipython",
        "version": 3
      },
      "file_extension": ".py",
      "mimetype": "text/x-python",
      "name": "python",
      "nbconvert_exporter": "python",
      "pygments_lexer": "ipython3",
      "version": "3.6.1"
    }
  },
  "nbformat": 4,
  "nbformat_minor": 0
}