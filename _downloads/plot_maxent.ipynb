{
  "cells": [
    {
      "cell_type": "code",
      "execution_count": null,
      "metadata": {
        "collapsed": false
      },
      "outputs": [],
      "source": [
        "%matplotlib inline"
      ]
    },
    {
      "cell_type": "markdown",
      "metadata": {},
      "source": [
        "\nAnalytically continue a dimer GF by Maxent\n==========================================\n\nHere I continue an insulator\n\n"
      ]
    },
    {
      "cell_type": "code",
      "execution_count": null,
      "metadata": {
        "collapsed": false
      },
      "outputs": [],
      "source": [
        "# Created Mon Jan 30 14:13:23 2017\n# Author: \u00d3scar N\u00e1jera\n\nfrom __future__ import division, absolute_import, print_function\nimport matplotlib.pyplot as plt\nimport numpy as np\nimport dmft.common as gf\nfrom dmft import dimer\nfrom pymaxent.maxent import Maxent\nfrom pymaxent.draw import gf_plot_study\nfrom pymaxent.tools import gaussian, hilbert_trans, differential_weight\n\n# Output for G_sym= G_AA+G_AB\n# G0 = w -tp - (G_sym)\n# S = w -tp - t^2 G_sym - G_sym^-1\n\nfac = np.arctan(10 * np.sqrt(3) / 2.5)\nomega = np.tan(np.linspace(-fac, fac, 351)) * 2.5 / np.sqrt(3)\n\ntp = 0.5\nBETA = 100.\nu_int = 1.67\nu_str = 'U' + str(u_int)\nworkdir = \"/home/oscar/orlando/dev/dmft-learn/examples/dimer_bethe/tp03f/\"\nworkdir = \"/home/oscar/orlando/dev/dmft-learn/examples/dimer_bethe/\"\n\nfilename = workdir + 'DIMER_PM_{}_B{}_tp{}.h5'.format('ins', BETA, tp)\ngiw = dimer.extract_flat_gf_iter(filename, u_int, 2)\nnfreq = giw.shape[-1]\nwn = gf.matsubara_freq(BETA, nfreq, 1 - nfreq)\n\ngiw = giw.reshape(-1, 2, 2, nfreq)\ngiw[:, 1] = -giw[:, 1].conjugate()\ngiw = giw.reshape(-1, nfreq)\ngerr = giw.std(0).clip(3e-4)\n\n\ndefaultM = gaussian(omega, tp, tp**2 + 0.25 + u_int**2 / 4)\n\nModel_gw = Maxent(omega=omega, defaultModel=defaultM, tol=1e-5,\n                  minimizer='Bryan', w_n=wn, giw=giw.mean(0),\n                  giw_std=gerr, max_nfreq=int(2 * BETA))\nModel_gw.getAllSpecFs(alphamin=0.6, alphamax=2, numAlpha=24)\n\nfig, ax = plt.subplots(1, 2, gridspec_kw=dict(\n    wspace=0.05, hspace=0.1, width_ratios=[3, 1]))\ngf_plot_study(omega, Model_gw, \"{AB}\", ax=ax)\nax[0].set_title(r'$U={}$, $t_\\perp={}$, $\\beta={}$'.format(u_int, tp, BETA))\nplt.show()\n\n# np.savez('AwmetB25tp0.3{}G_sym'.format(u_str), Aw = Model_gw.aveSpecFs, w = Model_gw.omega)"
      ]
    },
    {
      "cell_type": "markdown",
      "metadata": {},
      "source": [
        "How was the Green function fitted\n---------------------------------\n\n"
      ]
    },
    {
      "cell_type": "code",
      "execution_count": null,
      "metadata": {
        "collapsed": false
      },
      "outputs": [],
      "source": [
        "gs, gs_ax = plt.subplots(2, 1, sharex=True)\ngfit = Model_gw.restoreG(Model_gw.aveSpecFs)\nwnfit = Model_gw.wn\n\ngs_ax[0].plot(wn, giw.mean(0).real, 's:', label=r'$\\Re e$')\ngs_ax[0].plot(wn, giw.mean(0).imag, 'o:', label=r'$\\Im m$')\ngs_ax[0].plot(wnfit, gfit.real, 'xk', label=r'MEM')\ngs_ax[0].plot(wnfit, gfit.imag, 'xk')\ngs_ax[0].set_ylabel(r'$\\bar{G}_{AB}$')\ngs_ax[0].legend()\n\nsiw = 1j * wnfit - tp - 0.25 * gfit - 1 / gfit\ngs_ax[1].plot(wnfit, siw.real, 's:', label=r'$\\Re e$')\ngs_ax[1].plot(wnfit, siw.imag, 'o:', label=r'$\\Im m$')\ngs_ax[1].set_ylabel(r'$\\bar{\\Sigma}_{AB}$')\ngs_ax[1].legend()\nplt.xlabel(r'$\\omega_n$')\ngs_ax[0].set_title(r'$U={}$, $t_\\perp={}$, $\\beta={}$'.format(u_int, tp, BETA))\nplt.xlim(-5, 5)\n\n\nplt.figure('gd')\nplt.plot(wn, gerr, label='std(G)')\nplt.plot(wnfit, np.abs(gfit - giw.mean(0)\n                       [int(len(wn) / 2 - BETA):int(len(wn) / 2 + BETA)]), label='$|G-G_{MEM}|$')\nplt.legend()\nplt.xlabel(r'$\\omega_n$')\nplt.ylabel('error')\nplt.title(r'$U={}$, $t_\\perp={}$, $\\beta={}$'.format(u_int, tp, BETA))\nplt.xlim(-5, 5)\n\nplt.show()"
      ]
    }
  ],
  "metadata": {
    "kernelspec": {
      "display_name": "Python 3",
      "language": "python",
      "name": "python3"
    },
    "language_info": {
      "codemirror_mode": {
        "name": "ipython",
        "version": 3
      },
      "file_extension": ".py",
      "mimetype": "text/x-python",
      "name": "python",
      "nbconvert_exporter": "python",
      "pygments_lexer": "ipython3",
      "version": "3.6.1"
    }
  },
  "nbformat": 4,
  "nbformat_minor": 0
}