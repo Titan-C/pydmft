{
  "cells": [
    {
      "cell_type": "code",
      "execution_count": null,
      "metadata": {
        "collapsed": false
      },
      "outputs": [],
      "source": [
        "%matplotlib inline"
      ]
    },
    {
      "cell_type": "markdown",
      "metadata": {},
      "source": [
        "\n# Landau Theory of the Mott transition\n\n\nPerform a fit of the order parameter, linked to double occupation to\nmatch a Landau theory formulation in correspondence to Kotliar, G.,\nLange, E., & Rozenberg, M. J. (2000). Landau Theory of the Finite\nTemperature Mott Transition. Phys. Rev. Lett., 84(22),\n5180\u20135183. http://dx.doi.org/10.1103/PhysRevLett.84.5180\n\nStudy above the critical point\n\n"
      ]
    },
    {
      "cell_type": "code",
      "execution_count": null,
      "metadata": {
        "collapsed": false
      },
      "outputs": [],
      "source": [
        "from scipy.optimize import curve_fit\nimport numpy as np\nimport matplotlib.pyplot as plt\nimport dmft.dimer as dimer\nimport dmft.common as gf\nimport dmft.ipt_imag as ipt\n\nplt.matplotlib.rcParams.update({'figure.figsize': (8, 8), 'axes.labelsize': 22,\n                                'axes.titlesize': 22, 'figure.autolayout': True})\n\n\ndef dmft_solve(giw_d, giw_o, u_int, tp, beta, tau, w_n):\n    giw_d, giw_o, loops = dimer.ipt_dmft_loop(\n        beta, u_int, tp, giw_d, giw_o, tau, w_n)\n    g0iw_d, g0iw_o = dimer.self_consistency(\n        1j * w_n, 1j * giw_d.imag, giw_o.real, 0., tp, 0.25)\n    siw_d, siw_o = ipt.dimer_sigma(u_int, tp, g0iw_d, g0iw_o, tau, w_n)\n\n    ekin = dimer.ekin(giw_d, giw_o, w_n, tp, beta)\n\n    # last division because I want per spin epot\n    epot = dimer.epot(giw_d, w_n, beta, u_int ** 2 /\n                      4 + tp**2, ekin, u_int) / 4\n    return (giw_d, giw_o), (siw_d, siw_o), ekin, epot, loops\n\n\ndef loop_u_tp(u_range, tprange, beta, seed='mott gap'):\n    tau, w_n = gf.tau_wn_setup(dict(BETA=beta, N_MATSUBARA=256))\n    giw_d, giw_o = dimer.gf_met(w_n, 0., 0., 0.5, 0.)\n    if seed == 'ins':\n        giw_d, giw_o = 1 / (1j * w_n + 4j / w_n), np.zeros_like(w_n) + 0j\n\n    sols = [dmft_solve(giw_d, giw_o, u_int, tp, beta, tau, w_n)\n            for u_int, tp in zip(u_range, tprange)]\n    giw_s = np.array([g[0] for g in sols])\n    sigma_iw = np.array([g[1] for g in sols])\n    ekin = np.array([g[2] for g in sols])\n    epot = np.array([g[3] for g in sols])\n    iterations = np.array([g[4] for g in sols])\n\n    print(iterations)\n\n    return giw_s, sigma_iw, ekin, epot, w_n\n\n# below the critical point\nfac = np.arctan(.55 * np.sqrt(3) / .25)\nudelta = np.tan(np.linspace(-fac, fac, 71)) * .15 / np.sqrt(3)\nudelta = udelta[:int(len(udelta) / 2) + 10]\ndudelta = np.diff(udelta)\ndatabm = []\ndatabi = []\n\nbet_ucm = [(24, 3.064),\n           (28, 3.028),\n           (30, 3.023),\n           ]\n\nfor beta, uc in bet_ucm:\n    urange = udelta + uc + .07\n    giw_s, sigma_iw, ekin, epot, w_n = loop_u_tp(\n        urange, .3 * np.ones_like(urange), beta, 'met')\n    databm.append(2 * epot / urange - 0.003)\n\nbet_uci = [(24, 3.01),\n           (28, 2.8),\n           (30, 2.719),\n           ]\n\ndatabi = []\nfor beta, uc in bet_uci:\n    urange = -udelta + uc + .07\n    giw_s, sigma_iw, ekin, epot, w_n = loop_u_tp(\n        urange, .3 * np.ones_like(urange), beta, 'ins')\n    databi.append(2 * epot / urange - 0.003)\n\nplt.figure()\nfor dd, (beta, uc) in zip(databm, bet_ucm):\n    plt.plot(uc + udelta, dd, '+-', label=r'$\\beta={}$'.format(beta))\n\nplt.gca().set_color_cycle(None)\nd_c = [dc[int(len(udelta) / 2)] for dc in databi]\nfor dd, dc, (beta, uc) in zip(databi, d_c, bet_uci):\n    plt.plot(uc - udelta, dd, '+-')  # , label=r'$\\beta={}$'.format(beta))\n\nplt.title(r'Double occupation')\nplt.ylabel(r'$\\langle n_\\uparrow n_\\downarrow \\rangle$')\nplt.xlabel(r'$U/D$')\nplt.legend()\nplt.savefig(\"dimer_tp0.3_docc_bTc.pdf\",\n            transparent=False, bbox_inches='tight', pad_inches=0.05)\n\n\ndef fit_cube_lin(eta, c, p, q, d):\n    return (c * (eta - d)**3 + p * (eta - d) + q)  # / (1 + q * eta)\n\nu_cen = [0.027, 0.114, 0.152]\nplt.figure()\nplt.gca().set_color_cycle(None)\nbc = [b for b, _ in bet_ucm]\nfor ddm, ddi, uc, beta in zip(databm, databi, u_cen, bc):\n    cent = (ddm[-11] + ddi[-11]) / 2\n    plt.plot(udelta + uc, ddm - cent, '-', lw=2,\n             label=r'$\\beta={}$'.format(beta))\n\nplt.gca().set_color_cycle(None)\nfor ddm, ddi, uc in zip(databm, databi, u_cen):\n    cent = (ddm[-11] + ddi[-11]) / 2\n    plt.plot(-uc - udelta, ddi - cent, '-', lw=2)\n\nplt.gca().set_color_cycle(None)\nbb = [9, 9, 9]\nlb = 12\nbc = [b for b, _ in bet_uci]\nfor dd, ddi, bound, beta, uc in zip(databm, databi, bb, bc, u_cen):\n    cent = (dd[-11] + ddi[-11]) / 2\n    popt, pcov = curve_fit(\n        fit_cube_lin, dd[lb:-bound], udelta[lb:-bound], p0=[4e4, -17, -.1, 0.035])\n    ft = fit_cube_lin(dd, *popt) + uc\n    plt.plot(ft[:-bound], dd[:-bound] - cent)\n    #plt.plot(ft[lb:-bound], dd[lb:-bound], \"k+\")\n    plt.plot(ft[lb:-bound], dd[lb:-bound] - cent, \"k+-\")\n    print(popt)\n\n\ndef fit_cube_lin(eta, c, p, q, d):\n    return (c * (eta - d)**3 + p * (eta - d))  # / (1 + q * eta)\n\nplt.gca().set_color_cycle(None)\nbb = [9, 10, 9]\nlb = 10\nfor ddm, dd, bound, uc in zip(databm, databi, bb, u_cen):\n    cent = (ddm[-11] + dd[-11]) / 2\n    popt, pcov = curve_fit(\n        fit_cube_lin, dd[lb:-bound], -udelta[lb:-bound], p0=[-4e4, 7, 0, 0.035])\n    ft = fit_cube_lin(dd, *popt) - uc\n    plt.plot(ft[:-bound], dd[:-bound] - cent)\n    plt.plot(ft[lb:-bound], dd[lb:-bound] - cent, \"k+-\")\n    print(popt)\n\nplt.title(r'Reduced Double occupation fitted to theory')\nplt.ylabel(r'$\\eta$')\nplt.xlabel(r'$U-U_c$')\nplt.legend()\n\nplt.savefig(\"dimer_tp0.3_eta_landau_bTc.pdf\",\n            transparent=False, bbox_inches='tight', pad_inches=0.05)"
      ]
    }
  ],
  "metadata": {
    "kernelspec": {
      "display_name": "Python 3",
      "language": "python",
      "name": "python3"
    },
    "language_info": {
      "codemirror_mode": {
        "name": "ipython",
        "version": 3
      },
      "file_extension": ".py",
      "mimetype": "text/x-python",
      "name": "python",
      "nbconvert_exporter": "python",
      "pygments_lexer": "ipython3",
      "version": "3.6.1"
    }
  },
  "nbformat": 4,
  "nbformat_minor": 0
}