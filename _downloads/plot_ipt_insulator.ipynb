{
  "cells": [
    {
      "cell_type": "code",
      "execution_count": null,
      "metadata": {
        "collapsed": false
      },
      "outputs": [],
      "source": [
        "%matplotlib inline"
      ]
    },
    {
      "cell_type": "markdown",
      "metadata": {},
      "source": [
        "\n# INSULATOR\n\n\n\n"
      ]
    },
    {
      "cell_type": "code",
      "execution_count": null,
      "metadata": {
        "collapsed": false
      },
      "outputs": [],
      "source": [
        "# Author: \u00d3scar N\u00e1jera\n\nfrom __future__ import (absolute_import, division, print_function,\n                        unicode_literals)\n\nimport matplotlib.pyplot as plt\nimport numpy as np\n\nimport dmft.common as gf\nimport dmft.ipt_imag as ipt\nfrom dmft.ipt_real import dimer_dmft as dimer_dmft_real\nimport dmft.dimer as dimer\nfrom slaveparticles.quantum import dos\n\n\ndef ipt_u_tp(u_int, tp, beta, seed=\"ins\"):\n    tau, w_n = gf.tau_wn_setup(dict(BETA=beta, N_MATSUBARA=1024))\n    giw_d, giw_o = dimer.gf_met(w_n, 0., 0., 0.5, 0.)\n    if seed == \"ins\":\n        giw_d, giw_o = 1 / (1j * w_n + 4j / w_n), np.zeros_like(w_n) + 0j\n\n    giw_d, giw_o, loops = dimer.ipt_dmft_loop(\n        beta, u_int, tp, giw_d, giw_o, tau, w_n, 1e-12)\n    g0iw_d, g0iw_o = dimer.self_consistency(\n        1j * w_n, 1j * giw_d.imag, giw_o.real, 0., tp, 0.25)\n    siw_d, siw_o = ipt.dimer_sigma(u_int, tp, g0iw_d, g0iw_o, tau, w_n)\n\n    return giw_d, giw_o, siw_d, siw_o, g0iw_d, g0iw_o, w_n"
      ]
    },
    {
      "cell_type": "markdown",
      "metadata": {},
      "source": [
        "Insulator\n---------\n\n\n"
      ]
    },
    {
      "cell_type": "code",
      "execution_count": null,
      "metadata": {
        "collapsed": false
      },
      "outputs": [],
      "source": [
        "u_int = 3.5\nBETA = 100.\ntp = 0.3\ntitle = \"IPT lattice dimer\\n\" r\"$U = {}$, $t_\\perp = {}$, $\\beta = {}$\".format(\n    u_int, tp, BETA)\ngiw_d, giw_o, siw_d, siw_o, g0iw_d, g0iw_o, w_n = ipt_u_tp(\n    u_int, tp, BETA, \"ins\")\nw = np.linspace(-3, 3, 800)\neps_k = np.linspace(-1., 1., 61)\nw_set = np.concatenate((np.arange(100), np.arange(100, 200, 2)))\n\nplt.figure()\ng0wd = gf.pade_continuation(1j * g0iw_d.imag, w_n, w, w_set)\nplt.plot(w, g0wd.real, label=r\"$\\Re e G0_{11}$\")\nplt.plot(w, g0wd.imag, label=r\"$\\Im m G0_{11}$\")\nplt.legend(loc=0)\nplt.ylim([-2, 4])\nplt.xlabel(r\"$\\omega$\")\nplt.ylabel(r\"$G0_{11}(\\omega)$\")\nplt.title(title)\nplt.xticks(np.linspace(-3, 3, 13))\n\nplt.figure()\ng0wo = gf.pade_continuation(g0iw_o.real, w_n, w, w_set)\nplt.plot(w, g0wo.real, label=r\"$\\Re e G0_{12}$\")\nplt.plot(w, g0wo.imag, label=r\"$\\Im m G0_{12}$\")\nplt.legend(loc=0)\nplt.ylim([-5, 1])\nplt.xlabel(r\"$\\omega$\")\nplt.ylabel(r\"$G0_{12}(\\omega)$\")\nplt.title(title)\nplt.xticks(np.linspace(-3, 3, 13))\n\nplt.figure()\ngwd = gf.pade_continuation(1j * giw_d.imag, w_n, w, w_set)\nplt.plot(w, gwd.real, label=r\"$\\Re e G_{11}$\")\nplt.plot(w, gwd.imag, label=r\"$\\Im m G_{11}$\")\nplt.legend(loc=0)\nplt.ylim([-2, 2])\nplt.xlabel(r\"$\\omega$\")\nplt.ylabel(r\"$G_{11}(\\omega)$\")\nplt.title(title)\nplt.xticks(np.linspace(-3, 3, 13))\n\nplt.figure()\ngwo = gf.pade_continuation(giw_o.real, w_n, w, w_set)\nplt.plot(w, gwo.real, label=r\"$\\Re e G_{12}$\")\nplt.plot(w, gwo.imag, label=r\"$\\Im m G_{12}$\")\nplt.legend(loc=0)\nplt.ylim([-2, 2])\nplt.xlabel(r\"$\\omega$\")\nplt.ylabel(r\"$G_{12}(\\omega)$\")\nplt.title(title)\nplt.xticks(np.linspace(-3, 3, 13))\n\nplt.figure()\nswd = gf.pade_continuation(1j * siw_d.imag, w_n, w, w_set)\nswd = swd.real - 1j * np.abs(swd.imag)\nplt.plot(w, swd.real, label=r\"$\\Re e \\Sigma_{11}$\")\nplt.plot(w, swd.imag, label=r\"$\\Im m \\Sigma_{11}$\")\nplt.legend(loc=0)\nplt.ylim([-3, 3])\nplt.xlabel(r\"$\\omega$\")\nplt.ylabel(r\"$\\Sigma_{11}(\\omega)$\")\nplt.title(title)\nplt.xticks(np.linspace(-3, 3, 13))\n\nplt.figure()\nswo = gf.pade_continuation(siw_o.real, w_n, w, w_set)\nplt.plot(w, swo.real, label=r\"$\\Re e \\Sigma_{12}$\")\nplt.plot(w, swo.imag, label=r\"$\\Im m \\Sigma_{12}$\")\nplt.legend(loc=0)\nplt.ylim([-3, 3])\nplt.xlabel(r\"$\\omega$\")\nplt.ylabel(r\"$\\Sigma_{12}(\\omega)$\")\nplt.title(title)\nplt.xticks(np.linspace(-3, 3, 13))"
      ]
    },
    {
      "cell_type": "markdown",
      "metadata": {},
      "source": [
        "Reconstruction\n\n"
      ]
    },
    {
      "cell_type": "code",
      "execution_count": null,
      "metadata": {
        "collapsed": false
      },
      "outputs": [],
      "source": [
        "GAB = gf.semi_circle_hiltrans(w + 1e-2j - tp - (swd + swo))\nG_B = gf.semi_circle_hiltrans(w + 1e-2j + tp - (swd - swo))\n\nbackl = .5 * (GAB + G_B)\nplt.figure()\nplt.plot(w, gwd.imag, label=r\"$\\Im m G_{11} ref$\")\nplt.plot(w, backl.real, label=r\"$\\Re e G_{11}$\")\nplt.plot(w, backl.imag, label=r\"$\\Im m G_{11}$\")\nplt.legend(loc=0)\nplt.ylim([-2, 2])\nplt.xlabel(r\"$\\omega$\")\nplt.ylabel(r\"$G_{11}(\\omega)$\")\nplt.title(title)\nplt.xticks(np.linspace(-3, 3, 13))\n\nbacko = .5 * (GAB - G_B)\nplt.figure()\nplt.plot(w, gwo.imag, label=r\"$\\Im m G_{12} ref$\")\nplt.plot(w, backo.real, label=r\"$\\Re e G_{12}$\")\nplt.plot(w, backo.imag, label=r\"$\\Im m G_{12}$\")\n\nplt.legend(loc=0)\nplt.ylim([-2, 2])\nplt.xlabel(r\"$\\omega$\")\nplt.ylabel(r\"$G_{11}(\\omega)$\")\nplt.title(title)\nplt.xticks(np.linspace(-3, 3, 13))"
      ]
    },
    {
      "cell_type": "markdown",
      "metadata": {},
      "source": [
        "Insulator in IPT Imag\n---------------------\n\n\n"
      ]
    },
    {
      "cell_type": "code",
      "execution_count": null,
      "metadata": {
        "collapsed": false
      },
      "outputs": [],
      "source": [
        "plt.close(\"all\")\nu_int = 2.5\nBETA = 100.\ntp = 0.3\ntitle = \"IPT lattice dimer\\n\" r\" $U = {}$, $t_\\perp = {}$, $\\beta = {}$\".format(\n    u_int, tp, BETA)\ngiw_d, giw_o, siw_d, siw_o, g0iw_d, g0iw_o, w_n = ipt_u_tp(\n    u_int, tp, BETA, \"ins\")\nw = np.linspace(-3, 3, 800)\neps_k = np.linspace(-1., 1., 61)\nw_set = np.concatenate((np.arange(100), np.arange(100, 200, 2)))\n\nplt.figure()\ngwd = gf.pade_continuation(1j * giw_d.imag, w_n, w, w_set)\nplt.plot(w, gwd.real, label=r\"$\\Re e G_{11}$\")\nplt.plot(w, -gwd.imag, label=r\"$-\\Im m G_{11}$\")\n\nswd = gf.pade_continuation(1j * siw_d.imag, w_n, w, w_set)\nswd = swd.real - 1j * np.abs(swd.imag)\nplt.plot(w, swd.real, label=r\"$\\Re e \\Sigma_{11}$\")\nplt.plot(w, swd.imag, label=r\"$\\Im m \\Sigma_{11}$\")\nplt.legend(loc=0)\nplt.ylim([-3, 3])\nplt.xlabel(r\"$\\omega$\")\nplt.title(\"Matsubara \" + title)\nplt.xticks(np.linspace(-3, 3, 13))\nplt.savefig(\"IPT_imag_Dimer_mott_ins.pdf\", transparent=False,\n            bbox_inches=\"tight\", pad_inches=0.05)"
      ]
    },
    {
      "cell_type": "markdown",
      "metadata": {},
      "source": [
        "Insulator in IPT Real\n---------------------\n\n"
      ]
    },
    {
      "cell_type": "code",
      "execution_count": null,
      "metadata": {
        "collapsed": false
      },
      "outputs": [],
      "source": [
        "w = np.linspace(-6, 6, 2**13)\ndw = w[1] - w[0]\nnfp = dos.fermi_dist(w, BETA)\ngwd = gf.pade_continuation(1j * giw_d.imag, w_n, w, w_set)\n(gss, gsa), (ss, sa) = dimer_dmft_real(u_int, tp, nfp, w, dw, gwd, gwd)\n\nrgwd = 0.5 * (gss + gsa)\nrswd = 0.5 * (ss + sa)\n\nplt.close(\"all\")\nplt.plot(w, rgwd.real, label=r\"$\\Re e G_{11}$\")\nplt.plot(w, -rgwd.imag, label=r\"$-\\Im m G_{11}$\")\nplt.plot(w, rswd.real, label=r\"$\\Re e \\Sigma_{11}$\")\nplt.plot(w, rswd.imag, label=r\"$\\Im m \\Sigma_{11}$\")\nplt.legend(loc=0)\nplt.xlim([-3, 3])\nplt.ylim([-2, 2.5])\nplt.xlabel(r\"$\\omega$\")\nplt.title(\"Real \" + title)\nplt.xticks(np.linspace(-3, 3, 13))\nplt.savefig(\"IPT_real_Dimer_mott_ins.pdf\", transparent=False,\n            bbox_inches=\"tight\", pad_inches=0.05)"
      ]
    }
  ],
  "metadata": {
    "kernelspec": {
      "display_name": "Python 3",
      "language": "python",
      "name": "python3"
    },
    "language_info": {
      "codemirror_mode": {
        "name": "ipython",
        "version": 3
      },
      "file_extension": ".py",
      "mimetype": "text/x-python",
      "name": "python",
      "nbconvert_exporter": "python",
      "pygments_lexer": "ipython3",
      "version": "3.6.1"
    }
  },
  "nbformat": 4,
  "nbformat_minor": 0
}