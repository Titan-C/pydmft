{
  "cells": [
    {
      "cell_type": "code",
      "execution_count": null,
      "metadata": {
        "collapsed": false
      },
      "outputs": [],
      "source": [
        "%matplotlib inline"
      ]
    },
    {
      "cell_type": "markdown",
      "metadata": {},
      "source": [
        "\n# The Metal Mott Insulator transition\n\n\nUsing a real frequency IPT solver follow the spectral function along\nthe metal to insulator transition.\n\n\n"
      ]
    },
    {
      "cell_type": "code",
      "execution_count": null,
      "metadata": {
        "collapsed": false
      },
      "outputs": [],
      "source": [
        "from __future__ import division, absolute_import, print_function\n\nimport numpy as np\nimport matplotlib.pylab as plt\n\nimport dmft.common as gf\nimport dmft.ipt_real as ipt\n\n\nw = np.linspace(-4, 4, 2**12)\ngloc = gf.semi_circle_hiltrans(w + 1e-3j)\n\nurange = [0.2, 1., 2., 3., 3.5, 4.]\nplt.close('all')\nfor i, U in enumerate(urange):\n    gloc, sigma_loc = ipt.ss_dmft_loop(gloc, w, U, 400, 1e-5)\n\n    plt.gca().set_prop_cycle(None)\n    shift = -2.1 * i\n    plt.plot(w, shift + -gloc.imag)\n    plt.axhline(shift, color='k', lw=0.5)\n\nplt.xlabel(r'$\\omega$')\nplt.xlim([-4, 4])\nplt.ylim([shift, 2.1])\nplt.yticks(0.5 - 2.1 * np.arange(len(urange)), ['U=' + str(u) for u in urange])"
      ]
    }
  ],
  "metadata": {
    "kernelspec": {
      "display_name": "Python 3",
      "language": "python",
      "name": "python3"
    },
    "language_info": {
      "codemirror_mode": {
        "name": "ipython",
        "version": 3
      },
      "file_extension": ".py",
      "mimetype": "text/x-python",
      "name": "python",
      "nbconvert_exporter": "python",
      "pygments_lexer": "ipython3",
      "version": "3.6.1"
    }
  },
  "nbformat": 4,
  "nbformat_minor": 0
}