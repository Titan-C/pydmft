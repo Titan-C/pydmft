{
  "cells": [
    {
      "cell_type": "code",
      "execution_count": null,
      "metadata": {
        "collapsed": false
      },
      "outputs": [],
      "source": [
        "%matplotlib inline"
      ]
    },
    {
      "cell_type": "markdown",
      "metadata": {},
      "source": [
        "\n# Phase diagrams\n\n\n\n"
      ]
    },
    {
      "cell_type": "code",
      "execution_count": null,
      "metadata": {
        "collapsed": false
      },
      "outputs": [],
      "source": [
        "# Author: \u00d3scar N\u00e1jera\n\nfrom __future__ import division, absolute_import, print_function\nimport os\nfrom math import log, ceil\nimport numpy as np\nimport matplotlib.pyplot as plt\nimport dmft.common as gf\nimport dmft.dimer as dimer\nimport dmft.ipt_imag as ipt\n\n\ndef estimate_dos_at_fermi_level_U_vs_tp(tpr, ulist, beta, phase):\n    dos_fl = []\n    w_n = gf.matsubara_freq(beta, 3)\n    save_file = 'dimer_ipt_{}_B{}.npy'.format(phase, beta)\n    if os.path.exists(save_file):\n        return -np.load(save_file).T\n\n    for tp in tpr:\n        filestr = 'disk/phase_Dimer_ipt_{}_B{}/tp{:.3}/giw.npy'.format(\n            phase, beta, tp)\n        gfs = np.load(filestr)\n        dos_fl.append(np.array([gf.fit_gf(w_n, gfs[i][0][:3])(0.)\n                                for i in ulist]))\n\n    np.save(save_file, dos_fl)\n\n    return -np.array(dos_fl).T\n\n\ndef plot_phase_diagram_U_vs_tp(tpr, ur, beta, ax):\n\n    x, y = np.meshgrid(tpr, ur)\n    ax.pcolormesh(x, y, estimate_dos_at_fermi_level_U_vs_tp(\n        tpr, range(len(ur)), beta, 'met'), cmap=plt.get_cmap(r'viridis'), vmin=0, vmax=2)\n    ax.axis([x.min(), x.max(), y.min(), y.max()])\n    ax.pcolormesh(x, y, estimate_dos_at_fermi_level_U_vs_tp(\n        tpr, range(len(ur))[::-1], beta, 'ins'), alpha=0.2, cmap=plt.get_cmap(r'viridis'), vmin=0, vmax=2)\n\n\nTPR = np.arange(0, 1.1, 0.02)\nUR = np.arange(0, 4.5, 0.1)\nurange = np.linspace(2.4, 3.6, 41)\n\nfor beta in [100., 1000.]:\n    f, ax = plt.subplots()\n    plot_phase_diagram_U_vs_tp(TPR, UR, beta, ax)\n    ax.set_xlabel(r'$t_\\perp/D$')\n    ax.set_ylabel(r'$U/D$')\n    ax.set_title(\n        'Phase diagram $\\\\beta={}$,\\n color represents $-\\\\Im G_{{AA}}(0)$'.format(beta))\n    ax.plot([0, 0, 0, .3, .3, .3, .5, .5, .5, .8, .8, .8],\n            [2.5, 2.9, 3.5, 2.5, 2.9, 3.5, 1, 2.1, 3, 1, 2.1, 3], 'ro', markersize=10)"
      ]
    },
    {
      "cell_type": "code",
      "execution_count": null,
      "metadata": {
        "collapsed": false
      },
      "outputs": [],
      "source": [
        "def estimate_dos_at_fermi_level_T_vs_U(tp, ulist, temp, phase):\n    dos_fl = []\n    save_file = 'dimer_ipt_{}_tp{:.2}.npy'.format(phase, tp)\n    if os.path.exists(save_file):\n        return -np.load(save_file)\n\n    for T in temp:\n        w_n = gf.matsubara_freq(1 / T, 3)\n        filestr = 'disk/phase_Dimer_ipt_{}_tp{}/B{:.5}/giw.npy'.format(\n            phase, tp, 1 / T)\n        gfs = np.load(filestr)\n        dos_fl.append(np.array([gf.fit_gf(w_n, gfs[i][0][:3])(0.)\n                                for i in ulist]))\n\n    np.save(save_file, dos_fl)\n\n    return -np.array(dos_fl)\n\n\ndef plot_phase_diagram_T_vs_U(tp, ur, temp, ax):\n\n    x, y = np.meshgrid(ur, temp)\n    ax.pcolormesh(x, y, estimate_dos_at_fermi_level_T_vs_U(\n        tp, range(len(ur)), temp, 'met'), cmap=plt.get_cmap(r'viridis'), vmin=0, vmax=2)\n    ax.axis([x.min(), x.max(), y.min(), y.max()])\n    ax.pcolormesh(x, y, estimate_dos_at_fermi_level_T_vs_U(\n        tp, range(len(ur))[::-1], temp, 'ins'), alpha=0.2, cmap=plt.get_cmap(r'viridis'), vmin=0, vmax=2)\n\nTEMP = np.arange(1 / 500., .14, 1 / 400)\nfor tp in [0., .15, .3, .5]:\n    f, ax = plt.subplots()\n    plot_phase_diagram_T_vs_U(tp, UR, TEMP, ax)\n    ax.set_ylabel(r'$T/D$')\n    ax.set_xlabel(r'$U/D$')\n    ax.set_title(\n        'Phase diagram $t_\\\\perp={}$,\\n color represents $-\\\\Im G_{{AA}}(0)$'.format(tp))\n\nplt.show()"
      ]
    },
    {
      "cell_type": "code",
      "execution_count": null,
      "metadata": {
        "collapsed": false
      },
      "outputs": [],
      "source": [
        "ax_Bk = plt.subplot(231)\nax_Bc = plt.subplot(232)\nax_Br = plt.subplot(233)\nax_t0 = plt.subplot(234)\nax_t15 = plt.subplot(235)\nax_t3 = plt.subplot(236)\nplot_phase_diagram_U_vs_tp(TPR, UR, 1000., ax_Bk)\nax_Bk.set_ylabel(r'$U/D$')\nax_Bk.set_xlabel(r'$t_\\perp/D$')\nax_Bk.plot(0.15 * np.ones_like(UR), UR, 'r-')\nax_Bk.plot(0.3 * np.ones_like(UR), UR, 'r-')\n\nLowt = plt.subplot(111)\nplot_phase_diagram_U_vs_tp(TPR, UR, 30., Lowt)\nLowt.set_ylabel(r'$U/D$')\nLowt.set_xlabel(r'$t_\\perp/D$')\nplt.show()\n\n\nplot_phase_diagram_U_vs_tp(TPR, UR, 100., ax_Bc)\nax_Bc.set_xlabel(r'$t_\\perp/D$')\nax_Bc.axes.get_yaxis().set_ticklabels([])\nplot_phase_diagram_U_vs_tp(TPR, UR, 30., ax_Br)\nax_Br.set_xlabel(r'$t_\\perp/D$')\nax_Br.axes.get_yaxis().set_ticklabels([])\nplot_phase_diagram_T_vs_U(0.0, UR, TEMP, ax_t0)\nax_t0.set_xlabel(r'$U/D$')\nax_t0.set_ylabel(r'$T/D$')\nax_t0.locator_params(axis='x', tight=True, nbins=6)\n\ntp0 = plt.subplot(111)\nplot_phase_diagram_T_vs_U(0.3, UR, TEMP, tp0)\ntp0.set_xlabel(r'$U/D$')\ntp0.set_ylabel(r'$T/D$')\ntp0.locator_params(axis='x', tight=True, nbins=6)\nplt.show()\n\nplot_phase_diagram_T_vs_U(0.15, UR, TEMP, ax_t15)\nax_t15.set_xlabel(r'$U/D$')\nax_t15.locator_params(axis='x', tight=True, nbins=6)\nax_t15.axes.get_yaxis().set_ticklabels([])\n\nplot_phase_diagram_T_vs_U(0.3, UR, TEMP, ax_t3)\nax_t3.set_xlabel(r'$U/D$')\nax_t3.locator_params(axis='x', tight=True, nbins=6)\nax_t3.axes.get_yaxis().set_ticklabels([])\nplt.subplots_adjust(wspace=0.05, hspace=0.25)"
      ]
    },
    {
      "cell_type": "code",
      "execution_count": null,
      "metadata": {
        "collapsed": false
      },
      "outputs": [],
      "source": [
        "def estimate_zero_w_sigma_U_vs_tp(tpr, u_range, beta, phase):\n    sd_zew, so_zew = [], []\n    tau, w_n = gf.tau_wn_setup(\n        dict(BETA=beta, N_MATSUBARA=max(2**ceil(log(8 * beta) / log(2)), 256)))\n    u_range = u_range if phase == 'met' else u_range[::-1]\n\n    save_file = 'dimer_ipt_{}_Z_B{}.npy'.format(phase, beta)\n    if os.path.exists(save_file):\n        return np.load(save_file)\n\n    for tp in tpr:\n        filestr = 'disk/phase_Dimer_ipt_{}_B{}/tp{:.3}/giw.npy'.format(\n            phase, beta, tp)\n        gfs = np.load(filestr)\n\n        for i, u_int in enumerate(u_range):\n            giw_d, giw_o = 1j * gfs[i][0], gfs[i][1]\n            g0iw_d, g0iw_o = dimer.self_consistency(\n                1j * w_n, giw_d, giw_o, 0., tp, 0.25)\n            siw_d, siw_o = ipt.dimer_sigma(u_int, tp, g0iw_d, g0iw_o, tau, w_n)\n            sd_zew.append(np.polyfit(w_n[:2], siw_d[:2].imag, 1))\n            so_zew.append(np.polyfit(w_n[:2], siw_o[:2].real, 1))\n\n    sd_zew = np.array(sd_zew).reshape(len(tpr), len(u_range), -1)\n    so_zew = np.array(so_zew).reshape(len(tpr), len(u_range), -1)\n    np.save(save_file, (sd_zew, so_zew))\n\n    return sd_zew, so_zew\n\n\ndef plot_z_diagram_U_vs_tp(tpr, ur, beta, ax):\n\n    x, y = np.meshgrid(tpr, ur)\n\n    sd_zew, so_zew = estimate_zero_w_sigma_U_vs_tp(tpr, ur, beta, 'met')\n    z = np.ma.masked_array(sd_zew[:, :, 0], sd_zew[:, :, 1] < -0.1)\n    ax.pcolormesh(x, y, 1 / (1 - z.T), cmap=plt.get_cmap(r'viridis'))\n\n    sd_zew, so_zew = estimate_zero_w_sigma_U_vs_tp(tpr, ur, beta, 'ins')\n    z = np.ma.masked_array(sd_zew[:, ::-1, 0], sd_zew[:, ::-1, 1] < -0.1)\n    ax.pcolormesh(x, y, 1 / (1 - z.T),\n                  cmap=plt.get_cmap(r'viridis'), alpha=0.2)\n    ax.axis([x.min(), x.max(), y.min(), y.max()])\n\nf, ax = plt.subplots(1, 3, sharex=True)\n\nfor i, beta in enumerate([1000., 100., 30.]):\n    plot_z_diagram_U_vs_tp(TPR, UR, beta, ax[i])\n    ax[i].set_xlabel(r'$t_\\perp/D$')\nax[0].set_ylabel(r'$U/D$')\nax[0].set_title(\n    'Phase diagram $\\\\beta={}$,\\n color represents $Z$'.format(beta))"
      ]
    }
  ],
  "metadata": {
    "kernelspec": {
      "display_name": "Python 3",
      "language": "python",
      "name": "python3"
    },
    "language_info": {
      "codemirror_mode": {
        "name": "ipython",
        "version": 3
      },
      "file_extension": ".py",
      "mimetype": "text/x-python",
      "name": "python",
      "nbconvert_exporter": "python",
      "pygments_lexer": "ipython3",
      "version": "3.6.1"
    }
  },
  "nbformat": 4,
  "nbformat_minor": 0
}