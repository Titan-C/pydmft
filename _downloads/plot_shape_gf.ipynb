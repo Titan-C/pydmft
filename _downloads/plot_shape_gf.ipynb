{
  "cells": [
    {
      "cell_type": "code",
      "execution_count": null,
      "metadata": {
        "collapsed": false
      },
      "outputs": [],
      "source": [
        "%matplotlib inline"
      ]
    },
    {
      "cell_type": "markdown",
      "metadata": {},
      "source": [
        "\nForm of the Greens Functions\n============================\n\n\n"
      ]
    },
    {
      "cell_type": "code",
      "execution_count": null,
      "metadata": {
        "collapsed": false
      },
      "outputs": [],
      "source": [
        "# Author: \u00d3scar N\u00e1jera\n\nfrom __future__ import (absolute_import, division, print_function,\n                        unicode_literals)\n\nfrom math import log, ceil\nimport matplotlib.pyplot as plt\nimport numpy as np\n\nimport dmft.common as gf\nimport dmft.ipt_imag as ipt\nimport dmft.dimer as dimer\n\n\ndef ipt_u_tp(u_int, tp, beta, seed='ins'):\n    tau, w_n = gf.tau_wn_setup(dict(BETA=beta, N_MATSUBARA=2**8))\n    tau, w_n = gf.tau_wn_setup(\n        dict(BETA=beta, N_MATSUBARA=max(2**ceil(log(8 * beta) / log(2)), 256)))\n    giw_d, giw_o = dimer.gf_met(w_n, 0., 0., 0.5, 0.)\n    if seed == 'ins':\n        giw_d, giw_o = 1 / (1j * w_n + 4j / w_n), np.zeros_like(w_n) + 0j\n\n    giw_d, giw_o, loops = dimer.ipt_dmft_loop(\n        beta, u_int, tp, giw_d, giw_o, tau, w_n, 1e-7)\n    g0iw_d, g0iw_o = dimer.self_consistency(\n        1j * w_n, 1j * giw_d.imag, giw_o.real, 0., tp, 0.25)\n    siw_d, siw_o = ipt.dimer_sigma(u_int, tp, g0iw_d, g0iw_o, tau, w_n)\n\n    return giw_d, giw_o, siw_d, siw_o, g0iw_d, g0iw_o, w_n"
      ]
    },
    {
      "cell_type": "markdown",
      "metadata": {},
      "source": [
        "Insulator\n---------\n\n\n"
      ]
    },
    {
      "cell_type": "code",
      "execution_count": null,
      "metadata": {
        "collapsed": false
      },
      "outputs": [],
      "source": [
        "u_int = 3.5\nBETA = 85.94\ntp = 0.3\ntitle = r'IPT lattice dimer $U={}$, $t_\\perp={}$, $\\beta={}$'.format(\n    u_int, tp, BETA)\ngiw_d, giw_o, siw_d, siw_o, g0iw_d, g0iw_o, w_n = ipt_u_tp(\n    u_int, tp, BETA, 'met')\n\nplt.figure('G')\nplt.plot(w_n, giw_o.real, 's-')\nplt.plot(w_n, giw_d.imag, 'o-')\nplt.title(\"Matsubara Greens function\")\nplt.xlabel(r'$\\omega_n$')\nplt.ylabel(r'$G(\\omega_n)$')\nplt.xlim([0, 5])\n\nplt.figure('G0')\nplt.plot(w_n, g0iw_o.real, 's-')\nplt.plot(w_n, g0iw_d.imag, 'o-')\nplt.title(\"Matsubara Weiss Field\")\nplt.xlabel(r'$\\omega_n$')\nplt.ylabel(r'$G^0(\\omega_n)$')\nplt.xlim([0, 5])\nplt.show()"
      ]
    }
  ],
  "metadata": {
    "kernelspec": {
      "display_name": "Python 3",
      "language": "python",
      "name": "python3"
    },
    "language_info": {
      "codemirror_mode": {
        "name": "ipython",
        "version": 3
      },
      "file_extension": ".py",
      "mimetype": "text/x-python",
      "name": "python",
      "nbconvert_exporter": "python",
      "pygments_lexer": "ipython3",
      "version": "3.6.1"
    }
  },
  "nbformat": 4,
  "nbformat_minor": 0
}