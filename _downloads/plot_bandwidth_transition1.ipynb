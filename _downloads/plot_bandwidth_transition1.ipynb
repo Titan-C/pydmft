{
  "cells": [
    {
      "cell_type": "code",
      "execution_count": null,
      "metadata": {
        "collapsed": false
      },
      "outputs": [],
      "source": [
        "%matplotlib inline"
      ]
    },
    {
      "cell_type": "markdown",
      "metadata": {},
      "source": [
        "\n# Study the behavior of the Dimer Bethe lattice in the Transition\n\n\nSpecific Regions of the phase diagram are reviewed to inspect the\nbehavior of the insulating state \n"
      ]
    },
    {
      "cell_type": "code",
      "execution_count": null,
      "metadata": {
        "collapsed": false
      },
      "outputs": [],
      "source": [
        "import numpy as np\nimport matplotlib.pyplot as plt\nfrom mpl_toolkits.mplot3d import axes3d\nimport dmft.dimer as dimer\nimport dmft.common as gf\nimport dmft.ipt_imag as ipt\n\n\ndef loop_u_tp(Drange, tprange, beta, seed='mott gap'):\n    tau, w_n = gf.tau_wn_setup(dict(BETA=beta, N_MATSUBARA=256))\n    giw_d, giw_o = dimer.gf_met(w_n, 0., 0., 0.5, 0.)\n    if seed == 'mott gap':\n        giw_d, giw_o = 1 / (1j * w_n + 4j / w_n), np.zeros_like(w_n) + 0j\n\n    giw_s = []\n    sigma_iw = []\n    ekin, epot = [], []\n    iterations = []\n    for D, tp in zip(Drange, tprange):\n        giw_d, giw_o, loops = dimer.ipt_dmft_loop(\n            beta, 1, tp, giw_d, giw_o, tau, w_n, t=D / 2)\n        giw_s.append((giw_d, giw_o))\n        iterations.append(loops)\n        g0iw_d, g0iw_o = dimer.self_consistency(\n            1j * w_n, 1j * giw_d.imag, giw_o.real, 0., tp, D**2 / 4)\n        siw_d, siw_o = ipt.dimer_sigma(1, tp, g0iw_d, g0iw_o, tau, w_n)\n        sigma_iw.append((siw_d.copy(), siw_o.copy()))\n\n        ekin.append(dimer.ekin(giw_d, giw_o, w_n, tp, beta))\n\n        epot.append(dimer.epot(giw_d, w_n, beta, 1 / 4 + tp**2, ekin[-1], 1))\n    print(np.array(iterations))\n    # last division in energies because I want per spin epot\n    return np.array(giw_s), np.array(sigma_iw), np.array(ekin) / 4, np.array(epot) / 4, w_n\n\nDrange = np.linspace(0.05, .85, 61)\nDrange = np.concatenate((Drange[::-1], Drange))\ndata = []\nfor beta in [16., 18., 20., 22., 24., 26., 28., 40., 100., 200.]:\n    giw_s, sigma_iw, ekin, epot, w_n = loop_u_tp(\n        Drange, .3 * np.ones_like(Drange), beta, 'met')\n    data.append((giw_s, sigma_iw, ekin, epot, w_n, beta))\n\nfor sim in data:\n    giw_s, sigma_iw, ekin, epot, w_n, beta = sim\n    plt.plot(Drange, 2 * epot, '-', label=beta)\n\nplt.title(r'Double occupation $t_\\perp/U=0.3$')\nplt.ylabel(r'$\\langle n_\\uparrow n_\\downarrow \\rangle$')\nplt.xlabel(r'$D/U$')\nplt.legend()"
      ]
    },
    {
      "cell_type": "code",
      "execution_count": null,
      "metadata": {
        "collapsed": false
      },
      "outputs": [],
      "source": [
        "data = []\nfor beta in [16., 18., 20., 22., 24., 26., 28., 40., 100., 200.]:\n    giw_s, sigma_iw, ekin, epot, w_n = loop_u_tp(\n        Drange, .15 * np.ones_like(Drange), beta, 'met')\n    data.append((giw_s, sigma_iw, ekin, epot, w_n, beta))\n\nfor sim in data:\n    giw_s, sigma_iw, ekin, epot, w_n, beta = sim\n    plt.plot(Drange, 2 * epot, '-', label=beta)\n\nplt.title(r'Double occupation $t_\\perp/U=0.15$')\nplt.ylabel(r'$\\langle n_\\uparrow n_\\downarrow \\rangle$')\nplt.xlabel(r'$D/U$')\nplt.legend()"
      ]
    }
  ],
  "metadata": {
    "kernelspec": {
      "display_name": "Python 3",
      "language": "python",
      "name": "python3"
    },
    "language_info": {
      "codemirror_mode": {
        "name": "ipython",
        "version": 3
      },
      "file_extension": ".py",
      "mimetype": "text/x-python",
      "name": "python",
      "nbconvert_exporter": "python",
      "pygments_lexer": "ipython3",
      "version": "3.6.1"
    }
  },
  "nbformat": 4,
  "nbformat_minor": 0
}