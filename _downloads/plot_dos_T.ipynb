{
  "cells": [
    {
      "cell_type": "code",
      "execution_count": null,
      "metadata": {
        "collapsed": false
      },
      "outputs": [],
      "source": [
        "%matplotlib inline"
      ]
    },
    {
      "cell_type": "markdown",
      "metadata": {},
      "source": [
        "\n# Evolution of DOS as function of temperature\n\n\n\n"
      ]
    },
    {
      "cell_type": "code",
      "execution_count": null,
      "metadata": {
        "collapsed": false
      },
      "outputs": [],
      "source": [
        "# Created Tue Jun 14 15:44:38 2016\n# Author: \u00d3scar N\u00e1jera\n\nfrom __future__ import division, absolute_import, print_function\n\nimport matplotlib.pyplot as plt\nplt.matplotlib.rcParams.update({'axes.labelsize': 22,\n                                'xtick.labelsize': 14, 'ytick.labelsize': 14,\n                                'axes.titlesize': 22})\nimport numpy as np\n\nimport dmft.common as gf\nimport dmft.dimer as dimer\nimport dmft.ipt_imag as ipt\n\n\ndef loop_beta(u_int, tp, betarange, seed='mott gap'):\n    \"\"\"Solves IPT dimer and return Im Sigma_AA, Re Simga_AB\n\n    returns list len(betarange) x 2 Sigma arrays\n\"\"\"\n\n    sigma_iw = []\n    g_iw = []\n    lw_n = []\n    print('U: ', u_int, 'tp: ', tp)\n    for beta in betarange:\n        tau, w_n = gf.tau_wn_setup(dict(BETA=beta, N_MATSUBARA=2**12))\n        lw_n.append(w_n)\n\n        giw_d, giw_o = dimer.gf_met(w_n, 0., 0., 0.5, 0.)\n        if seed == 'mott gap':\n            giw_d, giw_o = 1 / (1j * w_n - 4j / w_n), np.zeros_like(w_n) + 0j\n\n        giw_d, giw_o, loops = dimer.ipt_dmft_loop(\n            beta, u_int, tp, giw_d, giw_o, tau, w_n, 1e-13)\n        g_iw.append((giw_d.imag, giw_o.real))\n        g0iw_d, g0iw_o = dimer.self_consistency(\n            1j * w_n, 1j * giw_d.imag, giw_o.real, 0., tp, 0.25)\n        siw_d, siw_o = ipt.dimer_sigma(u_int, tp, g0iw_d, g0iw_o, tau, w_n)\n        sigma_iw.append((siw_d.imag, siw_o.real))\n\n        print(seed, 'beta:', beta, ' loops: ', loops)\n\n    return np.array(g_iw), np.array(sigma_iw), np.array(lw_n)\n\n\ndef lin_approx(w_n, rf_iwn):\n    \"\"\"Return the linear approximation at low frequency for green function\n\n\n    w_n: real matsubara frequency\n    rf_iwn: real valued function of green function\n\n    return: float tuple (m, c) corresponding y = m*x+c\n\"\"\"\n\n    dy = rf_iwn[1] - rf_iwn[0]\n    dx = 2 * w_n[0]\n    m = dy / dx\n    c = 3 / 2 * rf_iwn[0] - rf_iwn[1] / 2\n\n    return m, c\n\nU = 2.5\ntp = 0.3\n\ntemp = np.linspace(0.002, 0.04, 20)\nbetarange = 1 / temp\n\ngi_iw, sigmai_iw, lw_n = loop_beta(U, tp, betarange)\ngm_iw, sigmam_iw, lw_n = loop_beta(U, tp, betarange, 'met')\n\nfig, ax_sig = plt.subplots(1, 2, sharex=True, sharey=True)\n\nfor (sig_d, sig_o), wn in zip(sigmai_iw, lw_n):\n    ax_sig[0].plot(wn, sig_d, 'o:')\n\nfor (sig_d, sig_o), wn in zip(sigmam_iw, lw_n):\n    ax_sig[1].plot(wn, sig_d, 'o:')\n\nax_sig[1].set_xlim([0, 2])\nax_sig[1].set_ylim([-1, 0])\nax_sig[0].set_xlabel(r'$i\\omega_n$')\nax_sig[1].set_xlabel(r'$i\\omega_n$')\nax_sig[0].set_ylabel(r'$\\Sigma_{11}(i\\omega_n)$')\n\n# Low freq review G\n\nins_mc = -np.array([lin_approx(wn, sig_d)\n                    for (sig_d, sig_o), wn in zip(gi_iw, lw_n)]).T\n\nfih, ax_zw = plt.subplots(2, 1, sharex=True)\nax_zw[0].plot(temp, ins_mc[0])\nax_zw[1].plot(temp, ins_mc[1])\n\nmet_mc = -np.array([lin_approx(wn, sig_d)\n                    for (sig_d, sig_o), wn in zip(gm_iw, lw_n)]).T\nax_zw[0].plot(temp, met_mc[0])\nax_zw[1].plot(temp, met_mc[1])\n\nax_zw[1].set_xlabel('T')\nax_zw[0].set_ylabel(r'$-dG_{11}/dw(0)$')\nax_zw[1].set_ylabel(r'$G_{11}(0)$')\nax_zw[1].set_xlim([0, 0.04])\n# Low freq review sigma\n\nins_mc = -np.array([lin_approx(wn, sig_d)\n                    for (sig_d, sig_o), wn in zip(sigmai_iw, lw_n)]).T\n\nfih, ax_zw = plt.subplots(2, 1, sharex=True)\nax_zw[0].plot(temp, ins_mc[0])\nax_zw[1].plot(temp, ins_mc[1])\n\nmet_mc = -np.array([lin_approx(wn, sig_d)\n                    for (sig_d, sig_o), wn in zip(sigmam_iw, lw_n)]).T\nax_zw[0].plot(temp, met_mc[0])\nax_zw[1].plot(temp, met_mc[1])\n\nax_zw[1].set_xlabel('T')\nax_zw[0].set_ylabel(r'$-d\\Sigma_{11}/dw(0)$')\nax_zw[1].set_ylabel(r'$\\Sigma_{11}(0)$')\nax_zw[1].set_xlim([0, 0.04])\n\n# Pade Continuations\nplt.figure()\nw = np.linspace(-3, 3, 800)\nfor (siw_d, siw_o), wn, beta in zip(sigmam_iw, lw_n, betarange):\n    w_set = 0\n    if 2 * beta < 150:\n        w_set = np.arange(150).astype(int)\n    else:\n        w_set = np.arange(0, 2 * beta, 2 * beta / 150).astype(int)\n    sig_ss, sig_sa = dimer.pade_diag(1j * siw_d, siw_o, wn, w_set, w)\n    plt.plot(w, 70 / beta + np.abs(sig_ss.imag))\n\nfor (siw_d, siw_o), wn, beta in list(zip(sigmai_iw, lw_n, betarange)):\n    w_set = 0\n    if 2 * beta < 150:\n        w_set = np.arange(150).astype(int)\n    else:\n        w_set = np.arange(0, 2 * beta, 2 * beta / 150).astype(int)\n    sig_ss, sig_sa = dimer.pade_diag(1j * siw_d, siw_o, wn, w_set, w)\n\n    plt.figure('si')\n    plt.plot(w, 100 / beta + np.abs(sig_ss.imag))\n    plt.figure('a')\n    gss_w = gf.semi_circle_hiltrans(\n        w - tp - (sig_ss.real - 1j * np.abs(sig_ss.imag)))\n    gsa_w = gf.semi_circle_hiltrans(\n        w + tp - (sig_sa.real - 1j * np.abs(sig_sa.imag)))\n    gss_w = .5 * (gss_w + gsa_w)\n    plt.plot(w, 100 / beta - gss_w.imag / np.pi)\n\nplt.figure('a')\nplt.ylim([0, 5.7])\nplt.xlabel(r'$\\omega$')\nplt.ylabel(r'$A(\\omega)$')\nplt.yticks(100 / betarange[::2], np.around(1 / betarange, 3)[::2])\nplt.figure('si')\nplt.yticks(100 / betarange[::2], np.around(1 / betarange, 3)[::2])\nplt.ylim([0, 7.6])\nplt.ylabel(r'$\\Im \\Sigma_{AB}(\\omega)$')\nplt.xlabel(r'$\\omega$')"
      ]
    }
  ],
  "metadata": {
    "kernelspec": {
      "display_name": "Python 3",
      "language": "python",
      "name": "python3"
    },
    "language_info": {
      "codemirror_mode": {
        "name": "ipython",
        "version": 3
      },
      "file_extension": ".py",
      "mimetype": "text/x-python",
      "name": "python",
      "nbconvert_exporter": "python",
      "pygments_lexer": "ipython3",
      "version": "3.6.1"
    }
  },
  "nbformat": 4,
  "nbformat_minor": 0
}