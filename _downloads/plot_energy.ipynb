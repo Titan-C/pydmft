{
  "cells": [
    {
      "cell_type": "code",
      "execution_count": null,
      "metadata": {
        "collapsed": false
      },
      "outputs": [],
      "source": [
        "%matplotlib inline"
      ]
    },
    {
      "cell_type": "markdown",
      "metadata": {},
      "source": [
        "\nInternal Energy in dimer solutions\n==================================\n\nWithin the coexistence region calculate for various temperatures the\ninternal energy of each solution. In the IPT approximation the\ninsulator always presents itself as the lowest internal energy\nsolution.\n"
      ]
    },
    {
      "cell_type": "code",
      "execution_count": null,
      "metadata": {
        "collapsed": false
      },
      "outputs": [],
      "source": [
        "# Author: \u00d3scar N\u00e1jera\n\nfrom __future__ import division, absolute_import, print_function\nimport numpy as np\nimport matplotlib.pyplot as plt\n\n\nimport dmft.common as gf\nfrom dmft import dimer\n\n\ndef loop_urange(urange, tp, beta):\n    ekin, epot = [], []\n    tau, w_n = gf.tau_wn_setup(dict(BETA=beta, N_MATSUBARA=2**10))\n    giw_d, giw_o = dimer.gf_met(w_n, 0., 0., 0.5, 0.)\n\n    for u_int in urange:\n        giw_d, giw_o, _ = dimer.ipt_dmft_loop(\n            beta, u_int, tp, giw_d, giw_o, tau, w_n, 1e-4)\n\n        ekin.append(dimer.ekin(giw_d, giw_o, w_n, tp, beta))\n        epot.append(dimer.epot(giw_d, w_n, beta,\n                               u_int ** 2 / 4 + tp**2 + 0.25, ekin[-1], u_int))\n\n    return np.array(ekin), np.array(epot)\n\n\ndef plot_energy(beta, tp, urange, ax):\n    met = loop_urange(urange, tp, beta)\n    ins = loop_urange(urange[::-1], tp, beta)\n    ax.plot(urange, np.sum(met, 0))\n    ax.plot(urange, np.sum(ins, 0)[::-1])\n    ax.set_ylabel(r'$\\beta={}$'.format(beta))\n\n\nfig, ax = plt.subplots(3, 1, sharex=True, sharey=True)\n\nURANGE = np.linspace(2, 3.5, 30)\nplot_energy(40., 0.3, URANGE, ax[0])\nplot_energy(80., 0.3, URANGE, ax[1])\nplot_energy(200., 0.3, URANGE, ax[2])\nplt.savefig('IPT_HinU_tp0.3.pdf')\nplt.xlabel(r\"$U/D$\")\nplt.show()"
      ]
    }
  ],
  "metadata": {
    "kernelspec": {
      "display_name": "Python 3",
      "language": "python",
      "name": "python3"
    },
    "language_info": {
      "codemirror_mode": {
        "name": "ipython",
        "version": 3
      },
      "file_extension": ".py",
      "mimetype": "text/x-python",
      "name": "python",
      "nbconvert_exporter": "python",
      "pygments_lexer": "ipython3",
      "version": "3.6.1"
    }
  },
  "nbformat": 4,
  "nbformat_minor": 0
}