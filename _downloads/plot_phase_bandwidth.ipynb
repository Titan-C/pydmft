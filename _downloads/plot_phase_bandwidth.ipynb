{
  "cells": [
    {
      "cell_type": "code",
      "execution_count": null,
      "metadata": {
        "collapsed": false
      },
      "outputs": [],
      "source": [
        "%matplotlib inline"
      ]
    },
    {
      "cell_type": "markdown",
      "metadata": {},
      "source": [
        "\n# Phase diagrams on Bandwidth\n\n\n\n\n"
      ]
    },
    {
      "cell_type": "code",
      "execution_count": null,
      "metadata": {
        "collapsed": false
      },
      "outputs": [],
      "source": [
        "# Author: \u00d3scar N\u00e1jera\n\nfrom __future__ import division, absolute_import, print_function\nimport os\nfrom math import log, ceil\nimport numpy as np\nimport matplotlib.pyplot as plt\nimport dmft.common as gf\nimport dmft.dimer as dimer\nimport dmft.ipt_imag as ipt\n\n\ndef dos_at_fermi_level_fixbeta(xlist, ylist, beta, phasename, datapath):\n    dos_fl = []\n    w_n = gf.matsubara_freq(beta, 3)\n    save_file = 'phase_dimer_ipt_{}.npy'.format(phasename)\n    if os.path.exists(save_file):\n        dos_fl = np.load(save_file)\n        return dos_fl\n\n    for xdat in xlist:\n        filestr = datapath.format(phasename, xdat)\n        gfs = np.load(filestr)\n        dos_fl.append(np.array([gf.fit_gf(w_n, gfs[i][0][:3])(0.)\n                                for i in ylist]))\n\n    dos_fl = -np.array(dos_fl).T\n    np.save(save_file, dos_fl)\n\n    return dos_fl\n\n\ndef plot_phase_diagram_fixbeta(xlist, ylist, phasename, beta, ax, alpha=1):\n\n    x, y = np.meshgrid(xlist, ylist)\n    yrange = list(range(len(ylist)))\n    if alpha < 1:\n        yrange = yrange[::-1]\n\n    ax.pcolormesh(x, y,\n                  dos_at_fermi_level_fixbeta(xlist, yrange, beta, phasename,\n                                             'disk/phase_Dimer_ipt_{}/tp{:.3}/giw.npy'),\n                  cmap=plt.get_cmap(r'viridis'), alpha=alpha, vmin=0, vmax=3)\n    ax.axis([x.min(), x.max(), y.min(), y.max()])\n\n\nTPR = np.arange(0, 1.1, 0.02)\nDrange = np.linspace(0.05, 1.1, 81)\n\nfor beta in [1000., 100., 30.]:\n    f, ax = plt.subplots()\n    plot_phase_diagram_fixbeta(\n        TPR, Drange, 'D_met_B{}'.format(beta), beta, ax, 1)\n    plot_phase_diagram_fixbeta(\n        TPR, Drange, 'D_ins_B{}'.format(beta), beta, ax, .21)\n    ax.set_xlabel(r'$t_\\perp/U$')\n    ax.set_ylabel(r'$D/U$')\n    ax.set_title(\n        'Phase diagram $\\\\beta={}$,\\n color represents $-\\\\Im G_{{AA}}(0)$'.format(beta))\nplt.show()"
      ]
    },
    {
      "cell_type": "code",
      "execution_count": null,
      "metadata": {
        "collapsed": false
      },
      "outputs": [],
      "source": [
        "def dos_at_fermi_level_temp(xlist, temp, phasename, datapath):\n    dos_fl = []\n    save_file = 'phase_dimer_ipt_{}.npy'.format(phasename)\n    if os.path.exists(save_file):\n        dos_fl = np.load(save_file)\n        return dos_fl\n\n    for T in temp:\n        w_n = gf.matsubara_freq(1 / T, 3)\n        filestr = datapath.format(phasename, 1 / T)\n        gfs = np.load(filestr)\n        dos_fl.append(np.array([gf.fit_gf(w_n, gfs[i][0][:3])(0.)\n                                for i in xlist]))\n\n    dos_fl = -np.array(dos_fl)\n    np.save(save_file, dos_fl)\n\n    return dos_fl\n\n\ndef plot_phase_diagram_temp(xlist, temp, phasename, ax, alpha=1):\n\n    x, y = np.meshgrid(xlist, temp)\n    x_range = list(range(len(xlist)))\n    if alpha < 1:\n        x_range = x_range[::-1]\n\n    ax.pcolormesh(x, y, dos_at_fermi_level_temp(x_range, temp, phasename,\n                                                'disk/phase_Dimer_ipt_{}/B{:.5}/giw.npy'),\n                  cmap=plt.get_cmap(r'viridis'), alpha=alpha, vmin=0, vmax=3)\n    ax.axis([x.min(), x.max(), y.min(), y.max()])\n\nTEMP = np.arange(1 / 512., .08, 1 / 400)\nfor tp in [.15, .3, .5]:\n    f, ax = plt.subplots()\n    plot_phase_diagram_temp(Drange, TEMP, 'D_met_tp{}'.format(tp), ax, 1)\n    plot_phase_diagram_temp(Drange, TEMP, 'D_ins_tp{}'.format(tp), ax, 0.2)\n    ax.set_ylabel(r'$T/U$')\n    ax.set_xlabel(r'$D/U$')\n    ax.set_title(\n        'Phase diagram $t_\\\\perp={}$,\\n color represents $-\\\\Im G_{{AA}}(0)$'.format(tp))\n\nplt.show()"
      ]
    }
  ],
  "metadata": {
    "kernelspec": {
      "display_name": "Python 3",
      "language": "python",
      "name": "python3"
    },
    "language_info": {
      "codemirror_mode": {
        "name": "ipython",
        "version": 3
      },
      "file_extension": ".py",
      "mimetype": "text/x-python",
      "name": "python",
      "nbconvert_exporter": "python",
      "pygments_lexer": "ipython3",
      "version": "3.6.1"
    }
  },
  "nbformat": 4,
  "nbformat_minor": 0
}