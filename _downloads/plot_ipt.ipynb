{
  "cells": [
    {
      "cell_type": "code",
      "execution_count": null,
      "metadata": {
        "collapsed": false
      },
      "outputs": [],
      "source": [
        "%matplotlib inline"
      ]
    },
    {
      "cell_type": "markdown",
      "metadata": {},
      "source": [
        "\n# IPT Solver Existence of Metalic and insulating solution\n\n\nWithin the iterative perturbative theory (IPT) the aim is to express the\nself-energy of the impurity problem as\n\n\\begin{align}\\Sigma(\\tau) \\approx U^2 \\mathcal{G}^0(\\tau)^3\\end{align}\n\nthe contribution of the Hartree-term is not included here as it is cancelled\n\n\n"
      ]
    },
    {
      "cell_type": "code",
      "execution_count": null,
      "metadata": {
        "collapsed": false
      },
      "outputs": [],
      "source": [
        "from __future__ import division, absolute_import, print_function\n\nimport numpy as np\nimport matplotlib.pylab as plt\n\n\nfrom dmft.ipt_imag import dmft_loop\nfrom dmft.common import greenF, tau_wn_setup, pade_continuation, fermi_dist\nfrom dmft.utils import optical_conductivity\n\nU = 2.7\nBETA = 100.\ntau, w_n = tau_wn_setup(dict(BETA=BETA, N_MATSUBARA=2**9))\nomega = np.linspace(-4, 4, 600)\neps_k = np.linspace(-1, 1, 61)\ndos = np.exp(-2 * eps_k**2) / np.sqrt(np.pi / 2)\nde = eps_k[1] - eps_k[0]\ndosde = (dos * de).reshape(-1, 1)\nnf = fermi_dist(omega, BETA)"
      ]
    },
    {
      "cell_type": "markdown",
      "metadata": {},
      "source": [
        "Insulator Calculations\n----------------------\n\n"
      ]
    },
    {
      "cell_type": "code",
      "execution_count": null,
      "metadata": {
        "collapsed": false
      },
      "outputs": [],
      "source": [
        "ig_iwn, is_iwn = dmft_loop(\n    U, 0.5, -1.j / (w_n - 1 / w_n), w_n, tau, conv=1e-12)\nigw = pade_continuation(ig_iwn, w_n, omega, np.arange(100))\nisigma_w = pade_continuation(is_iwn, w_n, omega, np.arange(100))\nlat_gf = 1 / (np.add.outer(-eps_k, omega + 4e-2j) - isigma_w)\nlat_Aw = -lat_gf.imag / np.pi\nicond = optical_conductivity(lat_Aw, lat_Aw, nf, omega, dosde)"
      ]
    },
    {
      "cell_type": "markdown",
      "metadata": {},
      "source": [
        "Metal Calculations\n------------------\n\n"
      ]
    },
    {
      "cell_type": "code",
      "execution_count": null,
      "metadata": {
        "collapsed": false
      },
      "outputs": [],
      "source": [
        "mg_iwn, s_iwn = dmft_loop(U, 0.5, greenF(w_n), w_n, tau, conv=1e-10)\nmgw = pade_continuation(mg_iwn, w_n, omega, np.arange(100))\nmsigma_w = omega - 0.25 * mgw - 1 / mgw\nlat_gf = 1 / (np.add.outer(-eps_k, omega + 4e-2j) - msigma_w)\nlat_Aw = -lat_gf.imag / np.pi\nmcond = optical_conductivity(lat_Aw, lat_Aw, nf, omega, dosde)"
      ]
    },
    {
      "cell_type": "markdown",
      "metadata": {},
      "source": [
        "Plots\n-----\n\n"
      ]
    },
    {
      "cell_type": "code",
      "execution_count": null,
      "metadata": {
        "collapsed": false
      },
      "outputs": [],
      "source": [
        "fig_giw, giw_ax = plt.subplots()\nfig_gw, gw_ax = plt.subplots()\nfig_sw, sw_ax = plt.subplots(1, 2, sharex=True)\nfig_cond, cond_ax = plt.subplots()\n\ngiw_ax.plot(w_n, ig_iwn.imag, 's-', label='Insulator Solution')\ngw_ax.plot(omega, -igw.imag / np.pi, label='Insulator Solution')\nsw_ax[0].plot(omega, isigma_w.real, label='Insulator Solution')\nsw_ax[1].plot(omega, isigma_w.imag, label='Insulator Solution')\ncond_ax.plot(omega, icond, label='Insulator Solution')\ngiw_ax.plot(w_n, mg_iwn.imag, 's-', label='Metal Solution')\ngw_ax.plot(omega, -mgw.imag / np.pi, label='Metal Solution')\nsw_ax[0].plot(omega, msigma_w.real, label='Metal Solution')\nsw_ax[1].plot(omega, msigma_w.imag, label='Metal Solution')\ncond_ax.plot(omega, mcond, label='Metal Solution')\n\ngiw_ax.plot(w_n, -1 / w_n, label='$1/w$ tail')\ngiw_ax.plot(w_n, -1 / w_n + U**2 / 4 / w_n**3,\n            label='$w^{-1} + M_3 w^{-3}$ tail')\n\ncut = int(6.5 * BETA / np.pi)\ngiw_ax.set_xlim([0, 6.5])\ngiw_ax.set_ylim([mg_iwn.imag.min() * 1.1, 0])\n\ngiw_ax.set_ylabel(r'$G(i\\omega_n)$')\ngiw_ax.set_xlabel(r'$i\\omega_n$')\ngiw_ax.set_title(r'$G(i\\omega_n)$ at $\\beta= {}$, $U= {}$'.format(BETA, U))\ngiw_ax.legend(loc=0)\n\ngw_ax.set_ylabel(r'$A(\\omega)$')\ngw_ax.set_xlabel(r'$\\omega$')\ngw_ax.set_title(r'Spectral function at $\\beta= {}$, $U= {}$'.format(BETA, U))\ngw_ax.legend(loc=0)\n\nsw_ax[0].set_ylabel(r'$\\Re e \\Sigma(\\omega)$')\nsw_ax[0].set_ylim([-25, 25])\nsw_ax[1].set_ylabel(r'$\\Im m \\Sigma(\\omega)$')\nsw_ax[0].set_xlabel(r'$\\omega$')\nsw_ax[1].set_xlabel(r'$\\omega$')\nsw_ax[0].set_title(r'Self-Energy at $\\beta= {}$, $U= {}$'.format(BETA, U))\nsw_ax[0].legend(loc=0)\nsw_ax[1].legend(loc=0)\n\ncond_ax.legend(loc=0)\ncond_ax.set_xlabel(r'$\\nu$')\ncond_ax.set_ylabel(r'$\\sigma(\\nu)$')\ncond_ax.set_ylim([0, .2])\ncond_ax.set_xlim([0, 4])"
      ]
    }
  ],
  "metadata": {
    "kernelspec": {
      "display_name": "Python 3",
      "language": "python",
      "name": "python3"
    },
    "language_info": {
      "codemirror_mode": {
        "name": "ipython",
        "version": 3
      },
      "file_extension": ".py",
      "mimetype": "text/x-python",
      "name": "python",
      "nbconvert_exporter": "python",
      "pygments_lexer": "ipython3",
      "version": "3.6.1"
    }
  },
  "nbformat": 4,
  "nbformat_minor": 0
}