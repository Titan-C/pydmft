{
  "cells": [
    {
      "cell_type": "code",
      "execution_count": null,
      "metadata": {
        "collapsed": false
      },
      "outputs": [],
      "source": [
        "%matplotlib inline"
      ]
    },
    {
      "cell_type": "markdown",
      "metadata": {},
      "source": [
        "\n# Hubbard III approximation\n\n\nIn this approach the aim is to find the band dispersion of the\ninsulating system but including the effects of the bath. For this one\napproximates the local Green's function by\n\n.. math: G(\\omega) = \\frac{1}{\\mathcal{G}_0^{-1}-\\frac{U^2}{4\\mathcal{G}_0^{-1}}}\n\nAnd the using the self consistency equation of the Bethe lattice\n\n.. math: \\mathcal{G}_0^{-1}=\\omega - t^2G\n\nHere this equation can be solved analytically but for current purposes\n here it will be solved by fixed point iteration.\n\n"
      ]
    },
    {
      "cell_type": "code",
      "execution_count": null,
      "metadata": {
        "collapsed": false
      },
      "outputs": [],
      "source": [
        "# Created Fri Apr  1 14:44:59 2016\n# Author: \u00d3scar N\u00e1jera\n\nfrom __future__ import absolute_import, division, print_function\n\nimport numpy as np\nimport matplotlib.pyplot as plt\n\nimport dmft.common as gf\nfrom dmft.plot import plot_band_dispersion\n\n\nw = np.linspace(-3, 3, 800)\ng0_1 = w + 1e-6j\nU = 2.\n\nfor i in range(2000):\n    g0_1 = w - .25 / (g0_1 - U**2 / 4. / g0_1)"
      ]
    },
    {
      "cell_type": "markdown",
      "metadata": {},
      "source": [
        "The Self-Energy\n---------------\n\n"
      ]
    },
    {
      "cell_type": "code",
      "execution_count": null,
      "metadata": {
        "collapsed": false
      },
      "outputs": [],
      "source": [
        "plt.figure()\nplt.plot(w, (U**2 / 4 / g0_1).real, label=r\"Real\")\nplt.plot(w, (U**2 / 4 / g0_1).imag, label=r\"Imag\")\n\nplt.ylabel(r'$\\Sigma(\\omega)$')\nplt.xlabel(r'$\\omega$')\nplt.title(r'$\\Sigma(\\omega)$ at $U= {}$'.format(U))\nplt.legend(loc=0)\nplt.ylim([-1.5, 1])"
      ]
    },
    {
      "cell_type": "markdown",
      "metadata": {},
      "source": [
        "The Green Function\n------------------\n\n"
      ]
    },
    {
      "cell_type": "code",
      "execution_count": null,
      "metadata": {
        "collapsed": false
      },
      "outputs": [],
      "source": [
        "plt.figure()\nplt.plot(w, (1 / (w - U**2 / 4 / g0_1)).real, label=r\"Real\")\nplt.plot(w, (1 / (w - U**2 / 4 / g0_1)).imag, label=r\"Imag\")\nplt.plot(w, (gf.semi_circle_hiltrans(w - U**2 / 4 / g0_1)).imag, label=r\"Imag\")\n\nplt.ylabel(r'$G(\\omega)$')\nplt.xlabel(r'$\\omega$')\nplt.title(r'$G(\\omega)$ at $U= {}$'.format(U))\nplt.legend(loc=0)"
      ]
    },
    {
      "cell_type": "markdown",
      "metadata": {},
      "source": [
        "The Band Dispersion\n-------------------\n\n"
      ]
    },
    {
      "cell_type": "code",
      "execution_count": null,
      "metadata": {
        "collapsed": false
      },
      "outputs": [],
      "source": [
        "eps_k = np.linspace(-1, 1, 61)\nlat_gf = 1 / (np.add.outer(-eps_k, w + 8e-2j) - U**2 / 4 / g0_1)\nAw = -lat_gf.imag / np.pi\n\nplot_band_dispersion(w, Aw, 'Hubbard III band dispersion', eps_k)"
      ]
    }
  ],
  "metadata": {
    "kernelspec": {
      "display_name": "Python 3",
      "language": "python",
      "name": "python3"
    },
    "language_info": {
      "codemirror_mode": {
        "name": "ipython",
        "version": 3
      },
      "file_extension": ".py",
      "mimetype": "text/x-python",
      "name": "python",
      "nbconvert_exporter": "python",
      "pygments_lexer": "ipython3",
      "version": "3.6.1"
    }
  },
  "nbformat": 4,
  "nbformat_minor": 0
}