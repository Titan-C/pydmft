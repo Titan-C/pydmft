{
  "cells": [
    {
      "cell_type": "code",
      "execution_count": null,
      "metadata": {
        "collapsed": false
      },
      "outputs": [],
      "source": [
        "%matplotlib inline"
      ]
    },
    {
      "cell_type": "markdown",
      "metadata": {},
      "source": [
        "\n# Scattering rates change in Temperature\n\n\nExplore the low energy expansion of the Matsubara self-energy. The\nzero frequency value being the scattering rate.\nFigure is discussed in reference [Najera2017]_\n\n\n.. [Najera2017] O. N\u00e1jera, Civelli, M., V. Dobrosavljevic, & Rozenberg,\n  M. J. (2017). Resolving the VO_2 controversy: Mott mechanism dominates\n  the insulator-to-metal transition. Physical Review B, 95(3),\n  035113. http://dx.doi.org/10.1103/physrevb.95.035113\n\n\n"
      ]
    },
    {
      "cell_type": "code",
      "execution_count": null,
      "metadata": {
        "collapsed": false
      },
      "outputs": [],
      "source": [
        "# Created Mon Mar  7 01:14:02 2016\n# Author: \u00d3scar N\u00e1jera\n\nfrom __future__ import division, absolute_import, print_function\n\nfrom math import log, ceil\nimport numpy as np\nimport matplotlib.pyplot as plt\nimport dmft.dimer as dimer\nimport dmft.common as gf\nimport dmft.ipt_imag as ipt\n\n\ndef loop_beta(u_int, tp, betarange, seed='ins'):\n    \"\"\"Solves IPT dimer and return Im Sigma_AA, Re Simga_AB\n\n    returns list len(betarange) x 2 Sigma arrays \"\"\"\n\n    sigma_iw = []\n    iterations = []\n    for beta in betarange:\n        tau, w_n = gf.tau_wn_setup(\n            dict(BETA=beta, N_MATSUBARA=max(2**ceil(log(4 * beta) / log(2)), 256)))\n        giw_d, giw_o = dimer.gf_met(w_n, 0., 0., 0.5, 0.)\n        if seed == 'ins':\n            giw_d, giw_o = 1 / (1j * w_n - 4j / w_n), np.zeros_like(w_n) + 0j\n\n        giw_d, giw_o, loops = dimer.ipt_dmft_loop(\n            beta, u_int, tp, giw_d, giw_o, tau, w_n, 1e-3)\n        iterations.append(loops)\n        g0iw_d, g0iw_o = dimer.self_consistency(\n            1j * w_n, 1j * giw_d.imag, giw_o.real, 0., tp, 0.25)\n        siw_d, siw_o = ipt.dimer_sigma(u_int, tp, g0iw_d, g0iw_o, tau, w_n)\n        sigma_iw.append((siw_d.imag, siw_o.real))\n\n    print(np.array(iterations))\n\n    return sigma_iw"
      ]
    },
    {
      "cell_type": "markdown",
      "metadata": {},
      "source": [
        "Calculate the dimer solution for Metals up to Uc2 in the in the given\ntemperature range. Include the behavior of 2 insulators inside the\ncoexistence region.\n\n"
      ]
    },
    {
      "cell_type": "code",
      "execution_count": null,
      "metadata": {
        "collapsed": false
      },
      "outputs": [],
      "source": [
        "temp = np.arange(1 / 500., .05, .001)\nBETARANGE = 1 / temp\n\nU_intm = np.linspace(0, 3, 13)\nsigmasM_U = [loop_beta(u_int, .3, BETARANGE, 'met') for u_int in U_intm]\n\nU_inti = [2.5, 3.]\nsigmasI_U = [loop_beta(u_int, .3, BETARANGE, 'ins') for u_int in U_inti]"
      ]
    },
    {
      "cell_type": "markdown",
      "metadata": {},
      "source": [
        "Plot the zero frequency extrapolation of the self-energy. Top panel\nshows for all metals how upon cooling they become more coherent.\nInterestingly enough is the insulators is red showning even higher\ncoherence(lower value of the scattering rate) than the metal. This is\nhow the dimer Mott insulator fundamentally differs from the Single Site\nDMFT Mott insulator. When performing a correct analytical continuation\nof the Self-energy on the insulator it becomes evident that it is gaped\nat zero frequency.\n\nThe lower panel shows the effective hybridization of the dimers. It is\nbarely changed in the metal but is strongly boosted in the insulator.\n\n"
      ]
    },
    {
      "cell_type": "code",
      "execution_count": null,
      "metadata": {
        "collapsed": false
      },
      "outputs": [],
      "source": [
        "def plot_zero_w(function_array, iter_range, tp, betarange, ax, color):\n    \"\"\"Plot the zero frequency extrapolation of a function\n    Parameters\n    ----------\n    function_array: real ndarray\n      contains the function (G, Sigma) to linearly fit over 2 first frequencies\n    iter_range: list floats\n      values of changing variable U or tp\n    berarange: real ndarray 1D, values of beta\n    entry: 0, 1 corresponds to diagonal or off-diagonal entry of function\n    label_head: string for label\n    ax, dx: matplotlib axis to plot in\n    \"\"\"\n\n    sig_11_0 = []\n    rtp = []\n    for j, u in enumerate(iter_range):\n        sig_11_0.append([])\n        rtp.append([])\n        for i, beta in list(enumerate(betarange)):\n            tau, w_n = gf.tau_wn_setup(dict(BETA=beta, N_MATSUBARA=2))\n            sig_11_0[j].append(np.polyfit(\n                w_n, function_array[j][i][0][:2], 1)[1])\n            rtp[j].append(np.polyfit(w_n, function_array[j][i][1][:2], 1)[1])\n\n        ax[0].plot(1 / BETARANGE, -np.array(sig_11_0[j]), color, label=str(u))\n        ax[1].plot(1 / BETARANGE, tp + np.array(rtp[j]), color, label=str(u))\n    ax[0].set_ylabel(r'$-\\Im m \\Sigma_{11}(w=0)$')\n    ax[1].set_ylabel(r'$t_\\perp + \\Re e\\Sigma_{12}(w=0)$')\n    ax[1].set_xlabel('$T/D$')\n    ax[1].set_xlim([min(temp), max(temp)])\n\n    return np.array(sig_11_0)\n\n\nfig, si = plt.subplots(2, 1, sharex=True)\nsig_11_0i = plot_zero_w(sigmasI_U, U_inti, .3, BETARANGE, si, 'r--')\n# fig, si = plt.subplots(2, 1, sharex=True)\nsig_11_0m = plot_zero_w(sigmasM_U, U_intm, .3, BETARANGE, si, 'b')\nsi[0].set_ylim([0, 0.5])\n\nax = fig.add_axes([.2, .65, .2, .25])\nax.plot(U_intm, -sig_11_0m[:, -7])\nax.set_xticks(np.arange(0, 3.1, 1))\nsi[0].axvline(temp[-7], color='k')"
      ]
    },
    {
      "cell_type": "markdown",
      "metadata": {},
      "source": [
        "Plot the derivative at zero frequency of the self-energy\n\n"
      ]
    },
    {
      "cell_type": "code",
      "execution_count": null,
      "metadata": {
        "collapsed": false
      },
      "outputs": [],
      "source": [
        "def plot_der_zero_w(function_array, iter_range, betarange, entry, label_head, ax, dx):\n    \"\"\"Plot the zero frequency extrapolation of a function\n    Parameters\n    ----------\n    function_array: real ndarray\n      contains the function (G, Sigma) to linearly fit over 2 first frequencies\n    iter_range: list floats\n      values of changing variable U or tp\n    berarange: real ndarray 1D, values of beta\n    entry: 0, 1 corresponds to diagonal or off-diagonal entry of function\n    label_head: string for label\n    ax, dx: matplotlib axis to plot in\n    \"\"\"\n\n    for j, u in enumerate(iter_range):\n        dat = []\n        for i, beta in list(enumerate(betarange)):\n            tau, w_n = gf.tau_wn_setup(dict(BETA=beta, N_MATSUBARA=20))\n            dat.append(np.polyfit(\n                w_n[:2], function_array[j][i][entry][:2], 1))\n        ax.plot(1 / BETARANGE, -np.array(dat)\n                [:, 1], label=label_head + str(u))\n        dx.plot(1 / BETARANGE, -np.array(dat)\n                [:, 0], label=label_head + str(u))\n\n\nf, (si, ds) = plt.subplots(2, 2, sharex=True)\nplot_der_zero_w(sigmasI_U, U_inti, BETARANGE, 0, 'INS U=', si[0], ds[0])\nplot_der_zero_w(sigmasM_U, U_intm, BETARANGE, 0, 'MET U=', si[0], ds[0])\n\nplot_der_zero_w(sigmasI_U, U_inti, BETARANGE, 1, 'INS U=', si[1], ds[1])\nplot_der_zero_w(sigmasM_U, U_intm, BETARANGE, 1, 'MET U=', si[1], ds[1])\n\nsi[0].legend(loc=0, prop={'size': 8})\n\nsi[0].set_ylabel(r'-$\\Im \\Sigma_{AA}(w=0)$')\nds[0].set_ylabel(r'-$\\Im d\\Sigma_{AA}(w=0)$')\nsi[1].set_ylabel(r'-$\\Re \\Sigma_{AB}(w=0)$')\nds[1].set_ylabel(r'-$\\Re d\\Sigma_{AB}(w=0)$')\nds[0].set_xlim([0, .06])\n\nds[0].set_xlabel('$T/D$')\nds[1].set_xlabel('$T/D$')"
      ]
    },
    {
      "cell_type": "markdown",
      "metadata": {},
      "source": [
        "Changing tp in the METAL dome for metal and insulator Fix U\n\n"
      ]
    },
    {
      "cell_type": "code",
      "execution_count": null,
      "metadata": {
        "collapsed": false
      },
      "outputs": [],
      "source": [
        "tp_r = [0.2, 0.3, 0.4]\nsigmasM_tp = [loop_beta(2.7, tp, BETARANGE, 'M') for tp in tp_r]\nsigmasI_tp = [loop_beta(2.7, tp, BETARANGE, 'I') for tp in tp_r]\n\nf, (si, ds) = plt.subplots(2, 2, sharex=True)\nplot_der_zero_w(sigmasI_tp, tp_r, BETARANGE, 0, 'INS tp=', si[0], ds[0])\nplot_der_zero_w(sigmasM_tp, tp_r, BETARANGE, 0, 'MET tp=', si[0], ds[0])\n\nplot_der_zero_w(sigmasI_tp, tp_r, BETARANGE, 1, 'INS tp=', si[1], ds[1])\nplot_der_zero_w(sigmasM_tp, tp_r, BETARANGE, 1, 'MET tp=', si[1], ds[1])\n\nsi[0].set_ylabel(r'-$\\Im \\Sigma_{AA}(w=0)$')\nds[0].set_ylabel(r'-$\\Im d\\Sigma_{AA}(w=0)$')\nsi[1].set_ylabel(r'-$\\Re \\Sigma_{AB}(w=0)$')\nds[1].set_ylabel(r'-$\\Re d\\Sigma_{AB}(w=0)$')\nds[0].set_xlim([0, .06])\n\nsi[0].legend(loc=0, prop={'size': 8})\nds[0].set_xlabel('$T/D$')\nds[1].set_xlabel('$T/D$')"
      ]
    },
    {
      "cell_type": "markdown",
      "metadata": {},
      "source": [
        "Fine graphics\n\n"
      ]
    },
    {
      "cell_type": "code",
      "execution_count": null,
      "metadata": {
        "collapsed": false
      },
      "outputs": [],
      "source": [
        "f, (si, ds) = plt.subplots(2, 1, sharex=True)\nplot_der_zero_w([sigmasI_U[1]], [3.], BETARANGE, 0, 'INS', si, ds)\nplot_der_zero_w([sigmasM_U[-1]], [3.], BETARANGE, 0, 'MET', si, ds)\nsi.set_title(r'$\\Im m\\Sigma_{Aa}$ cut and slope tp=0.3, U=3')\nsi.set_ylabel(r'-$\\Im \\Sigma_{AA}(w=0)$')\nds.set_ylabel(r'-$\\Im d\\Sigma_{AA}(w=0)$')\nds.set_xlim([0, .06])\nsi.legend(loc=0, prop={'size': 10})\nds.set_xlabel('$T/D$')\n\nf, (si, ds) = plt.subplots(2, 1, sharex=True)\nplot_der_zero_w([sigmasI_U[1]], [3.], BETARANGE, 1, 'INS', si, ds)\nplot_der_zero_w([sigmasM_U[-1]], [3.], BETARANGE, 1, 'MET', si, ds)\nsi.set_title(r'$\\Re e\\Sigma_{AB}$ cut and slope tp=0.3, U=3')\nsi.set_ylabel(r'-$\\Re e \\Sigma_{AB}(w=0)$')\nds.set_ylabel(r'-$\\Re e d\\Sigma_{AB}(w=0)$')\nds.set_xlim([0, .06])\n\nsi.legend(loc=0, prop={'size': 10})\nds.set_xlabel('$T/D$')"
      ]
    }
  ],
  "metadata": {
    "kernelspec": {
      "display_name": "Python 3",
      "language": "python",
      "name": "python3"
    },
    "language_info": {
      "codemirror_mode": {
        "name": "ipython",
        "version": 3
      },
      "file_extension": ".py",
      "mimetype": "text/x-python",
      "name": "python",
      "nbconvert_exporter": "python",
      "pygments_lexer": "ipython3",
      "version": "3.6.1"
    }
  },
  "nbformat": 4,
  "nbformat_minor": 0
}