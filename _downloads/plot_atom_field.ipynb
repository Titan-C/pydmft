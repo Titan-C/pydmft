{
  "cells": [
    {
      "cell_type": "code",
      "execution_count": null,
      "metadata": {
        "collapsed": false
      },
      "outputs": [],
      "source": [
        "%matplotlib inline"
      ]
    },
    {
      "cell_type": "markdown",
      "metadata": {},
      "source": [
        "\n# Non-interacting atom under external field spectral function\n\n\nAn Isolated atom with non-interacting electrons is set under the\ninfluence of an external magnetic field\n\n"
      ]
    },
    {
      "cell_type": "code",
      "execution_count": null,
      "metadata": {
        "collapsed": false
      },
      "outputs": [],
      "source": [
        "# author: \u00d3scar N\u00e1jera\n\nfrom __future__ import division, absolute_import, print_function\nimport numpy as np\nimport matplotlib.pyplot as plt\nfrom dmft.common import matsubara_freq\nfrom slaveparticles.quantum import fermion\nfrom slaveparticles.quantum.operators import gf_lehmann, diagonalize\n\n\ndef hamiltonian(M, mu):\n    r\"\"\"Generate a single orbital isolated atom Hamiltonian in particle-hole\n    symmetry. Include chemical potential for grand Canonical calculations\n\n    .. math::\n        \\mathcal{H} - \\mu N = M(n_\\uparrow - n_\\downarrow)\n        - \\mu(n_\\uparrow + n_\\downarrow)\n\n    \"\"\"\n    d_up, d_dw = [fermion.destruct(2, sigma) for sigma in range(2)]\n    sigma_z = d_up.T*d_up - d_dw.T*d_dw\n    H = M * sigma_z - mu * (d_up.T*d_up + d_dw.T*d_dw)\n    return H, d_up, d_dw\n\n\ndef gf(w, U, mu, beta):\n    \"\"\"Calculate by Lehmann representation the green function\"\"\"\n    H, d_up, d_dw = hamiltonian(U, mu)\n    e, v = diagonalize(H.todense())\n    g_up = gf_lehmann(e, v, d_up.T, beta, w)\n    g_dw = gf_lehmann(e, v, d_dw.T, beta, w)\n    return g_up, g_dw\n\n\nbeta = 50\nM = 0.5\nmu_v = np.array([0, 0.2, 0.45, 0.5, 0.65])\nc_v = ['b', 'g', 'r', 'k', 'm']\n\nf, axw = plt.subplots(2, sharex=True)\nf.subplots_adjust(hspace=0)\nw = np.linspace(-1.5, 1.5, 500) + 1j*1e-2\nfor mu, c in zip(mu_v, c_v):\n    gws = gf(w, M, mu, beta)\n    for gw in gws:\n        first = np.allclose(gw, gws[0])\n        axw[0].plot(w.real, gw.real, c if first else c+'--',\n                    label=r'$\\mu={}$'.format(mu) if first else None)\n        axw[1].plot(w.real, -1*gw.imag/np.pi, c if first else c+'--')\naxw[0].legend()\naxw[0].set_title(r'Real Frequencies Green functions, $\\beta={}$, $M={}$'.format(beta, M))\naxw[0].set_ylabel(r'$\\Re e G(\\omega)$')\naxw[1].set_ylabel(r'$A(\\omega)$')\naxw[1].set_xlabel(r'$\\omega$')\n\n\ng, axwn = plt.subplots(2, sharex=True)\ng.subplots_adjust(hspace=0)\nwn = matsubara_freq(beta, 32)\nfor mu, c in zip(mu_v, c_v):\n    giw = gf(1j*wn, M, mu, beta)[0]\n    axwn[0].plot(wn, giw.real, c+'s-', label=r'$\\mu={}$'.format(mu))\n    axwn[1].plot(wn, giw.imag, c+'o-')\naxwn[0].legend()\naxwn[0].set_title(r'Matsubara Green functions, $\\beta={}$, $M={}$'.format(beta, M))\naxwn[1].set_xlabel(r'$\\omega_n$')\naxwn[0].set_ylabel(r'$\\Re e G(i\\omega_n)$')\naxwn[1].set_ylabel(r'$\\Im m G(i\\omega_n)$')"
      ]
    }
  ],
  "metadata": {
    "kernelspec": {
      "display_name": "Python 3",
      "language": "python",
      "name": "python3"
    },
    "language_info": {
      "codemirror_mode": {
        "name": "ipython",
        "version": 3
      },
      "file_extension": ".py",
      "mimetype": "text/x-python",
      "name": "python",
      "nbconvert_exporter": "python",
      "pygments_lexer": "ipython3",
      "version": "3.6.1"
    }
  },
  "nbformat": 4,
  "nbformat_minor": 0
}