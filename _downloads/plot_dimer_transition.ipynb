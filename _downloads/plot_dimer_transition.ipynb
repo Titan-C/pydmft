{
  "cells": [
    {
      "cell_type": "code",
      "execution_count": null,
      "metadata": {
        "collapsed": false
      },
      "outputs": [],
      "source": [
        "%matplotlib inline"
      ]
    },
    {
      "cell_type": "markdown",
      "metadata": {},
      "source": [
        "\nDimer Mott transition\n=====================\n\nFollow the spectral function from the correlated metal into the dimer\nMott insulator. The spectral functions is decomposed into the bonding\nand anti-bonding contributions to make it explicit that is is a\nphenomenon of the quasiparticles opening a band gap.\n\nUsing real frequencies solver\n\n.. seealso::\n    `sphx_glr_dimer_lattice_nature_dimer_plot_order_param_transition.py`\n\n"
      ]
    },
    {
      "cell_type": "code",
      "execution_count": null,
      "metadata": {
        "collapsed": false
      },
      "outputs": [],
      "source": [
        "# author: \u00d3scar N\u00e1jera\n\nfrom __future__ import division, absolute_import, print_function\n\nimport numpy as np\nimport matplotlib.pyplot as plt\n\nimport dmft.common as gf\nimport dmft.ipt_real as ipt\n\nw = np.linspace(-4, 4, 2**12)\ndw = w[1] - w[0]\n\nbeta = 800.\nnfp = gf.fermi_dist(w, beta)"
      ]
    },
    {
      "cell_type": "markdown",
      "metadata": {},
      "source": [
        "The $t_\\perp/D=0.3$ scenario\n==================================\n\n\n"
      ]
    },
    {
      "cell_type": "code",
      "execution_count": null,
      "metadata": {
        "collapsed": false
      },
      "outputs": [],
      "source": [
        "tp = 0.3\ngss = gf.semi_circle_hiltrans(w + 5e-3j - tp)\ngsa = gf.semi_circle_hiltrans(w + 5e-3j + tp)\nurange = np.arange(0.2, 3.3, 0.3)\nurange = [0.2, 1., 2., 3., 3.47, 3.5]\nplt.close('all')\nfor i, U in enumerate(urange):\n    (gss, gsa), (ss, sa) = ipt.dimer_dmft(\n        U, tp, nfp, w, dw, gss, gsa, conv=1e-4)\n    shift = -2.1 * i\n    plt.plot(w, shift + -gss.imag, 'C0', lw=0.5)\n    plt.plot(w, shift + -gsa.imag, 'C1', lw=0.5)\n    plt.plot(w, shift + -(gss + gsa).imag / 2, 'k', lw=2.5)\n    plt.axhline(shift, color='k', lw=0.5)\n    plt.text(-2.8, 1.45 + shift, r\"$U/D={}$\".format(U), size=16)\nplt.xlabel(r'$\\omega$')\nplt.xlim([-3, 3])\nplt.ylim([shift, 2.1])\nplt.yticks([])\n# plt.savefig('dimer_transition_spectra.pdf')"
      ]
    },
    {
      "cell_type": "markdown",
      "metadata": {},
      "source": [
        "The $t_\\perp/D=0.8$ scenario\n==================================\n\n\n"
      ]
    },
    {
      "cell_type": "code",
      "execution_count": null,
      "metadata": {
        "collapsed": false
      },
      "outputs": [],
      "source": [
        "w = np.linspace(-8, 8, 2**14)\ndw = w[1] - w[0]\nnfp = gf.fermi_dist(w, beta)\ntp = 0.8\ngss = gf.semi_circle_hiltrans(w + 5e-3j - tp)\ngsa = gf.semi_circle_hiltrans(w + 5e-3j + tp)\nurange = np.linspace(0.2, 1.64, 6)\nurange = [0.5, 1., 1.352, 2.5]\nplt.close('all')\nfor i, U in enumerate(urange):\n    (gss, gsa), (ss, sa) = ipt.dimer_dmft(\n        U, tp, nfp, w, dw, gss, gsa, conv=1e-4)\n    shift = -2.1 * i\n    plt.plot(w, shift + -gss.imag, 'C0', lw=0.5)\n    plt.plot(w, shift + -gsa.imag, 'C1', lw=0.5)\n    plt.plot(w, shift + -(gss + gsa).imag / 2, 'k', lw=2.5)\n    plt.text(-2.8, 1.45 + shift, r\"$U/D={}$\".format(U), size=16)\nplt.xlabel(r'$\\omega$')\nplt.xlim([-3, 3])\nplt.ylim([shift, 2.1])\nplt.yticks([])\n# plt.savefig('dimer_transition_spectra_tp0.8.pdf')"
      ]
    }
  ],
  "metadata": {
    "kernelspec": {
      "display_name": "Python 3",
      "language": "python",
      "name": "python3"
    },
    "language_info": {
      "codemirror_mode": {
        "name": "ipython",
        "version": 3
      },
      "file_extension": ".py",
      "mimetype": "text/x-python",
      "name": "python",
      "nbconvert_exporter": "python",
      "pygments_lexer": "ipython3",
      "version": "3.6.1"
    }
  },
  "nbformat": 4,
  "nbformat_minor": 0
}