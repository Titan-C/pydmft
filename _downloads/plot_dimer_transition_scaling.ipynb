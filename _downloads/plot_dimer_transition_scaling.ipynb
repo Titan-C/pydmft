{
  "cells": [
    {
      "cell_type": "code",
      "execution_count": null,
      "metadata": {
        "collapsed": false
      },
      "outputs": [],
      "source": [
        "%matplotlib inline"
      ]
    },
    {
      "cell_type": "markdown",
      "metadata": {},
      "source": [
        "\nDimer Mott transition Scaled quantities\n=======================================\n\nFollow the spectral function from the correlated metal into the dimer\nMott insulator. The spectral functions is decomposed into the bonding\nand anti-bonding contributions to make it explicit that is is a\nphenomenon of the quasiparticles opening a band gap.\n\n.. seealso::\n    `sphx_glr_dimer_lattice_nature_dimer_plot_order_param_transition.py`\n    `sphx_glr_dimer_lattice_nature_dimer_plot_dimer_transition.py`\n\n"
      ]
    },
    {
      "cell_type": "code",
      "execution_count": null,
      "metadata": {
        "collapsed": false
      },
      "outputs": [],
      "source": [
        "# author: \u00d3scar N\u00e1jera\n\nfrom __future__ import division, absolute_import, print_function\n\nimport numpy as np\nimport matplotlib.pyplot as plt\nfrom scipy.interpolate import splrep, splev\n\nimport dmft.common as gf\nfrom dmft import ipt_imag\nimport dmft.dimer as dimer\n\n\ndef ipt_u_tp(urange, tp, beta, w):\n\n    tau, w_n = gf.tau_wn_setup(dict(BETA=beta, N_MATSUBARA=2**12))\n    giw_d, giw_o = dimer.gf_met(w_n, 0., tp, 0.5, 0.)\n\n    w_set = list(np.arange(0, 20, 1))\n    w_set = w_set + list(np.arange(20, 120, 2))\n    w_set = w_set + list(np.arange(120, 512, 8))\n    lss = []\n\n    for u_int in urange:\n        giw_d, giw_o, loops = dimer.ipt_dmft_loop(\n            beta, u_int, tp, giw_d, giw_o, tau, w_n, 1e-9)\n        g0iw_d, g0iw_o = dimer.self_consistency(\n            1j * w_n, 1j * giw_d.imag, giw_o.real, 0., tp, 0.25)\n        siw_d, siw_o = ipt_imag.dimer_sigma(\n            u_int, tp, g0iw_d, g0iw_o, tau, w_n)\n\n        ss = gf.pade_continuation(\n            1j * siw_d.imag + siw_o.real, w_n, w + 0.0005j, w_set)  # A-bond\n\n        lss.append(ss.real - 1j * np.abs(ss.imag))\n\n    return lss\n\n\ndef low_en_qp(ss):\n    glp = np.array([0.])\n    sigtck = splrep(w, ss.real, s=0)\n    sig_0 = splev(glp, sigtck, der=0)[0]\n    dw_sig0 = splev(glp, sigtck, der=1)[0]\n    quas_z = 1 / (1 - dw_sig0)\n    return quas_z, sig_0, dw_sig0\n\n\nw = np.linspace(-3, 3, 2**12)\nBETA = 512.\ntp = 0.3\nuranget3 = [0.2, 1., 2., 3., 3.45]\nlsst3 = ipt_u_tp(uranget3, tp, BETA, w)\n\n\ndef plot_row(urange, tp, lss, ax, labelx):\n    for i, (U, ss) in enumerate(zip(urange, lss)):\n        gss = gf.semi_circle_hiltrans(w - tp - ss)\n        imgss = -gss.imag\n        imgsa = imgss[::-1]\n        quas_z, sig_0, dw_sig0 = low_en_qp(ss)\n        tpp = (tp + sig_0) * quas_z\n        llg = gf.semi_circle_hiltrans(w + 1e-8j - tpp, quas_z) * quas_z\n\n        ax[i].plot(w / quas_z, imgsa, 'C0', lw=2)\n        ax[i].plot(w / quas_z,  imgss, 'C1-.', lw=2)\n        ax[i].plot(w / quas_z, (imgss + imgsa) / 2, 'k:', lw=0.5)\n        ax[i].plot(w / quas_z, - llg.imag, \"C3--\", lw=1.5)\n        ax[i].text(labelx, 1.7,\n                   \"$Z={:.3}$\".format(quas_z), size=16)\n        ax[i].text(1.5, 1.7,\n                   \"$U={}$\".format(U), size=16)\n        ax[i].set_yticks(np.arange(3))\n        ax[i].set_xticks(np.arange(-3, 4))\n    ax[i].set_xlabel(r'$\\omega/ZD$')\n    ax[i].set_xlim([-2.5, 2.5])\n    ax[i].set_ylim([0, 2.4])\n\n\nplt.rcParams['figure.autolayout'] = False\nplt.rcParams[\"axes.grid\"] = False\nfig, ax = plt.subplots(5, 1, sharex=True, sharey=True)\nplot_row(uranget3, 0.3, lsst3, ax, -2.4)\nax[0].set_title(r'$t_\\perp=0.3$')\nfor a in ax:\n    a.set_ylabel(r'$A(\\omega)$')\nplt.subplots_adjust(hspace=0.09)\n# plt.savefig('dimer_transition_spectra_scaling.pdf')\n# plt.close()"
      ]
    }
  ],
  "metadata": {
    "kernelspec": {
      "display_name": "Python 3",
      "language": "python",
      "name": "python3"
    },
    "language_info": {
      "codemirror_mode": {
        "name": "ipython",
        "version": 3
      },
      "file_extension": ".py",
      "mimetype": "text/x-python",
      "name": "python",
      "nbconvert_exporter": "python",
      "pygments_lexer": "ipython3",
      "version": "3.6.1"
    }
  },
  "nbformat": 4,
  "nbformat_minor": 0
}