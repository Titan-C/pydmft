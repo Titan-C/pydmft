{
  "cells": [
    {
      "cell_type": "code",
      "execution_count": null,
      "metadata": {
        "collapsed": false
      },
      "outputs": [],
      "source": [
        "%matplotlib inline"
      ]
    },
    {
      "cell_type": "markdown",
      "metadata": {},
      "source": [
        "\n# Following the Metal to Mott insulator Transition\n\n\nSequence of plots showing the transfer of spectral weight for a Hubbard\nModel in the Bethe Lattice as the local dopping is increased.\n\n"
      ]
    },
    {
      "cell_type": "code",
      "execution_count": null,
      "metadata": {
        "collapsed": false
      },
      "outputs": [],
      "source": [
        "# Code source: \u00d3scar N\u00e1jera\n# License: BSD 3 clause\n\nfrom __future__ import division, absolute_import, print_function\nimport matplotlib.pyplot as plt\nimport numpy as np\nfrom slaveparticles.quantum import dos\n\naxis = 'real'\nu = 8.0\nbeta = 1e3\ndop = [0.25, 0.5, 0.75, 0.9, 0.99]\nout_file = axis+'_dop_b{}_U{}'.format(beta, u)\nres = np.load(out_file+'.npy')\n\nf, axes = plt.subplots(len(dop), sharex=True)\naxes[0].set_title(r'$A(\\omega)$ under doping U={} at '\n                  '$\\\\beta=${}'.format(u, beta))\naxes[-1].set_xlabel('$\\\\omega / t$')\nf.subplots_adjust(hspace=0)\n\nfor ax, n in zip(axes, dop):\n    ind = np.abs(res[:, 0] - n).argmin()\n    sim = res[ind, 1]\n\n    w = sim.omega\n    s = sim.GF[r'$\\Sigma$']\n    ra = w + sim.mu - s\n    rho = dos.bethe_lattice(ra, sim.t)\n\n    ax.plot(w, rho,\n            label='n={:.2f}'.format(sim.ocupations().sum()))\n    ax.set_xlim([-6, 6])\n    ax.set_ylim([0, 0.36])\n    ax.set_yticks([])\n    ax.set_ylabel('n={:.2f}'.format(sim.ocupations().sum()))\n    ax.legend(loc=0, handlelength=0)"
      ]
    }
  ],
  "metadata": {
    "kernelspec": {
      "display_name": "Python 3",
      "language": "python",
      "name": "python3"
    },
    "language_info": {
      "codemirror_mode": {
        "name": "ipython",
        "version": 3
      },
      "file_extension": ".py",
      "mimetype": "text/x-python",
      "name": "python",
      "nbconvert_exporter": "python",
      "pygments_lexer": "ipython3",
      "version": "3.6.1"
    }
  },
  "nbformat": 4,
  "nbformat_minor": 0
}