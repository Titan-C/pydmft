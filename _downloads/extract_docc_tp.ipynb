{
  "cells": [
    {
      "cell_type": "code",
      "execution_count": null,
      "metadata": {
        "collapsed": false
      },
      "outputs": [],
      "source": [
        "%matplotlib inline"
      ]
    },
    {
      "cell_type": "markdown",
      "metadata": {},
      "source": [
        "\nExtract the double occupation from dimer data files\n===================================================\n\n\n"
      ]
    },
    {
      "cell_type": "code",
      "execution_count": null,
      "metadata": {
        "collapsed": false
      },
      "outputs": [],
      "source": [
        "# Author: \u00d3scar N\u00e1jera\n\nfrom __future__ import division, absolute_import, print_function\n\nimport argparse\nimport re\nfrom glob import glob\nimport numpy as np\nimport py3qs.triqs_dimer as tdm\n\n\ndef density_obs(moments):\n    moments = np.array(moments).T\n    d = (moments[1] + moments[4]) / 2\n    ma = (moments[0] - moments[2] - moments[3] + moments[5])\n    return d, ma\n\n\ndef extract_obs(filelist, u_shift=0):\n    u_list = []\n    temp_list = []\n    d_list = []\n    for filename in filelist:\n        beta = re.findall(r'PM_..._B(\\d+\\.\\d+)', filename)[0]\n        try:\n            nn, u = tdm.extract_density_correlators(filename, 'density')\n            d = density_obs(nn)[0]\n            u_list.append(u + u_shift)\n            temp_list.append(np.ones_like(u) / float(beta))\n            d_list.append(d)\n        except IOError:\n            pass\n    return u_list, temp_list, d_list\n\n\ndef main():\n    parser = argparse.ArgumentParser(description=\"Extract and save the double occupation of all datafiles to construct a phase diagram\",\n                                     formatter_class=argparse.ArgumentDefaultsHelpFormatter)\n    parser.add_argument('-tp', type=float, default=0.3,\n                        help=\"Dimer hybridization strength\")\n    parser.add_argument('workdir', help=\"Data directory\")\n\n    args = parser.parse_args()\n    tp = args.tp\n    workdir = args.workdir\n\n    # metal seeds\n    datafiles = glob(workdir + '/DIMER_PM_met*_B*_tp{}*h5'.format(tp))\n    mu_list, mtemp_list, md_list = extract_obs(datafiles)\n    np.savez('met_tp{}_UTd'.format(tp), u_int=mu_list,\n             temp=mtemp_list, docc=md_list)\n    print(\"Saved data for metallic seed files for tp{}\".format(tp))\n\n    # insulator seeds\n    datafiles = glob(workdir + '/DIMER_PM_ins*_B*_tp{}*h5'.format(tp))\n    iu_list, itemp_list, id_list = extract_obs(datafiles, 1e-5)\n    np.savez('ins_tp{}_UTd'.format(tp), u_int=iu_list,\n             temp=itemp_list, docc=id_list)\n    print(\"Saved data for insulating seed files for tp{}\".format(tp))\n\nif __name__ == '__main__':\n    main()"
      ]
    }
  ],
  "metadata": {
    "kernelspec": {
      "display_name": "Python 3",
      "language": "python",
      "name": "python3"
    },
    "language_info": {
      "codemirror_mode": {
        "name": "ipython",
        "version": 3
      },
      "file_extension": ".py",
      "mimetype": "text/x-python",
      "name": "python",
      "nbconvert_exporter": "python",
      "pygments_lexer": "ipython3",
      "version": "3.6.1"
    }
  },
  "nbformat": 4,
  "nbformat_minor": 0
}