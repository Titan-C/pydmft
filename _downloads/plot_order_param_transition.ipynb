{
  "cells": [
    {
      "cell_type": "code",
      "execution_count": null,
      "metadata": {
        "collapsed": false
      },
      "outputs": [],
      "source": [
        "%matplotlib inline"
      ]
    },
    {
      "cell_type": "markdown",
      "metadata": {},
      "source": [
        "\nThe insulator transition order parameter\n========================================\n\nThe low energy expansion is used to define an order parameter for the\nDimer-Mott transition.  Using the renormalized quantities for the\nHalf-filling Particle-hole Symmetric case.\n\n\\begin{align}Z \\equiv \\left(1-\\frac{\\partial\\Re e \\Sigma_{11} (\\omega)}{\\partial \\omega} \\bigg |_{\\omega=0}\\right)^{-1} \\\\\\end{align}\n\n\\begin{align}\\tilde{t}_\\perp \\equiv  Z\\left[t_\\perp + \\Re e \\Sigma_{12}(0) \\right]\\end{align}\n\nThe order parameter is defined as\n\n\\begin{align}\\eta = Z - \\tilde{t}_\\perp\\end{align}\n\n\n"
      ]
    },
    {
      "cell_type": "code",
      "execution_count": null,
      "metadata": {
        "collapsed": false
      },
      "outputs": [],
      "source": [
        "# Created Mon Mar  7 19:19:04 2016\n# Author: \u00d3scar N\u00e1jera\n\nfrom __future__ import division, absolute_import, print_function\n\n\nimport os\nfrom math import log, ceil\nimport numpy as np\nimport matplotlib.pyplot as plt\nimport dmft.common as gf\nimport dmft.dimer as dimer\nimport dmft.ipt_imag as ipt\n\nplt.matplotlib.rcParams.update({'axes.labelsize': 22,\n                                'xtick.labelsize': 14, 'ytick.labelsize': 14,\n                                'axes.titlesize': 22, 'legend.fontsize': 14,\n                                'mathtext.fontset': 'cm'})\n\n\ndef estimate_zero_w_sigma_U_vs_tp(tpr, u_range, beta, phase):\n    sd_zew, so_zew = [], []\n    tau, w_n = gf.tau_wn_setup(\n        dict(BETA=beta, N_MATSUBARA=max(2**ceil(log(8 * beta) / log(2)), 256)))\n    u_range = u_range if phase == 'met' else u_range[::-1]\n\n    save_file = 'dimer_ipt_{}_Z_B{}.npy'.format(phase, beta)\n    if os.path.exists(save_file):\n        return np.load(save_file)\n\n    for tp in tpr:\n        filestr = 'disk/phase_Dimer_ipt_{}_B{}/tp{:.3}/giw.npy'.format(\n            phase, beta, tp)\n        gfs = np.load(filestr)\n\n        for i, u_int in enumerate(u_range):\n            giw_d, giw_o = 1j * gfs[i][0], gfs[i][1]\n            g0iw_d, g0iw_o = dimer.self_consistency(\n                1j * w_n, giw_d, giw_o, 0., tp, 0.25)\n            siw_d, siw_o = ipt.dimer_sigma(u_int, tp, g0iw_d, g0iw_o, tau, w_n)\n            sd_zew.append(np.polyfit(w_n[:2], siw_d[:2].imag, 1))\n            so_zew.append(np.polyfit(w_n[:2], siw_o[:2].real, 1))\n\n    sd_zew = np.array(sd_zew).reshape(len(tpr), len(u_range), -1)\n    so_zew = np.array(so_zew).reshape(len(tpr), len(u_range), -1)\n    np.save(save_file, (sd_zew, so_zew))\n\n    return sd_zew, so_zew"
      ]
    },
    {
      "cell_type": "markdown",
      "metadata": {},
      "source": [
        "Metal\n-----\n\n"
      ]
    },
    {
      "cell_type": "code",
      "execution_count": null,
      "metadata": {
        "collapsed": false
      },
      "outputs": [],
      "source": [
        "Uc1 = np.array([(0.0, 2.6), (0.05, 2.58), (0.07, 2.55),\n                (0.1, 2.5), (0.12, 2.47), (0.15, 2.42), (0.17, 2.39),\n                (0.2, 2.34), (0.23, 2.29), (0.25, 2.25), (0.27, 2.19),\n                (0.3, 2.135), (0.32, 2.115), (0.35, 2.03),\n                (0.4, 1.93), (0.45, 1.82), (0.47, 1.785),\n                (0.5, 1.73), (0.55, 1.65),\n                (0.6, 1.6), (0.7, 1.5)]).T\nUc = np.array([(0.7, 1.5), (0.75, 1.45),\n               (0.8, 1.32), (0.86, 1.16),\n               (0.9, 1), (0.98, 0.6), (0.99, 0.37), (1, 0)]).T\nUc2 = np.array([(0, 3.41), (0.02, 4), (0.04, 4.2), (0.08, 4.2),\n                (0.12, 4.1), (0.18, 4), (0.3, 3.5), (0.37, 3.15),\n                (0.42, 2.8), (0.61, 1.87), (0.71, 1.52)]).T\nTPR = np.arange(0, 1.1, 0.02)\nUR = np.arange(0, 4.5, 0.1)\nf, ax = plt.subplots()\nx, y = np.meshgrid(TPR, UR)\n\nsd_zew, so_zew = estimate_zero_w_sigma_U_vs_tp(TPR, UR, 1000., 'met')\ndw_sig11 = np.ma.masked_array(sd_zew[:, :, 0], sd_zew[:, :, 1] < -0.1)\nzet = 1 / (1 - dw_sig11.T)\nsig11_0 = np.ma.masked_array(so_zew[:, :, 1], sd_zew[:, :, 1] < -0.1)\ntpp = (TPR + so_zew[:, :, 1].T)\n\norder = zet - tpp * zet\norder = np.abs(zet - tpp * zet)\n# order = np.ma.masked_array(order, order < -0.01)\n# cs = plt.contourf(x, y, order, 31)\nplt.pcolormesh(x, y, order)\n# plt.colorbar()\ncs = plt.contour(x, y, order, 15, colors='k')\nplt.clabel(cs, inline=1, fontsize=10, colors='k')\nplt.xlabel(r'$t_\\perp/D$')\nplt.ylabel(r'$U/D$')\nplt.grid()\nplt.plot(Uc1[0], Uc1[1] + 0.03, lw=4, color='C6')\nplt.plot(Uc2[0], Uc2[1], lw=4, color='C2')\nplt.plot(Uc[0], Uc[1] + 0.03, lw=4, color='C7')\nplt.savefig('IPT_Uc2_orderparameter.png')"
      ]
    },
    {
      "cell_type": "markdown",
      "metadata": {},
      "source": [
        "Insulator\n---------\n\n"
      ]
    },
    {
      "cell_type": "code",
      "execution_count": null,
      "metadata": {
        "collapsed": false
      },
      "outputs": [],
      "source": [
        "sd_zew, so_zew = estimate_zero_w_sigma_U_vs_tp(TPR, UR, 1000., 'ins')\ndw_sig11 = np.ma.masked_array(sd_zew[:, :, 0], sd_zew[:, :, 1] < -0.1)\nzet = 1 / (1 - dw_sig11.T)\nsig11_0 = np.ma.masked_array(so_zew[:, :, 1], sd_zew[:, :, 1] < -0.1)\ntpp = (TPR + so_zew[:, :, 1].T)\n\norder = zet - tpp * zet\norder = np.abs(zet - tpp * zet)\n# order = np.ma.masked_array(order, order < -0.01)\norder = order[::-1]\nplt.figure()\nplt.pcolormesh(x, y, order)\n# plt.colorbar()\ncs = plt.contour(x, y, order, 15, colors='k')\nplt.clabel(cs, inline=1, fontsize=10, colors='k')\nplt.xlabel(r'$t_\\perp/D$')\nplt.ylabel(r'$U/D$')\nplt.grid()\n\nplt.plot(Uc1[0], Uc1[1] + 0.03, lw=4, color='C6')\nplt.plot(Uc2[0], Uc2[1], lw=4, color='C2')\nplt.plot(Uc[0], Uc[1] + 0.03, lw=4, color='C7')\n\nmerge_band = np.array([(0.45, 1.9), (0.5, 2.3), (0.55, 3), (0.58, 3.2)]).T\nplt.plot(merge_band[0], merge_band[1], 'C1o--')\n\nselfenergy = np.array([(0.45, 1.9), (0.55, 2.3), (0.9, 3), (1.08, 3.65)]).T\nplt.plot(selfenergy[0], selfenergy[1], 'C3s--')\n\nW_vanish = np.array([(0.5, 1.73), (0.9, 2.03), (1.08, 2.64)]).T\nplt.plot(W_vanish[0], W_vanish[1], 'C8d--')\n\nplt.savefig('IPT_Uc1_orderparameter_ins.png')"
      ]
    },
    {
      "cell_type": "markdown",
      "metadata": {},
      "source": [
        "The green thick line is $U_{c_2}$. The purple line is\n$U_{c_1}$ and the grey line is $U_c$ The orange dashed line\nmarks when the Hubbard band breaks/joins. The\ndashed red when the pole of the self-energy is visible inside the gap.\nThe dashed yellow when the Hubbard band has the W resonance which can\nnot be parametrized from the Fermi Liquid theory at $\\omega=0$.\n\n"
      ]
    }
  ],
  "metadata": {
    "kernelspec": {
      "display_name": "Python 3",
      "language": "python",
      "name": "python3"
    },
    "language_info": {
      "codemirror_mode": {
        "name": "ipython",
        "version": 3
      },
      "file_extension": ".py",
      "mimetype": "text/x-python",
      "name": "python",
      "nbconvert_exporter": "python",
      "pygments_lexer": "ipython3",
      "version": "3.6.1"
    }
  },
  "nbformat": 4,
  "nbformat_minor": 0
}