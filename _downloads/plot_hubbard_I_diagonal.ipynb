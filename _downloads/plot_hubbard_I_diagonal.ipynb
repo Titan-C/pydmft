{
  "cells": [
    {
      "cell_type": "code",
      "execution_count": null,
      "metadata": {
        "collapsed": false
      },
      "outputs": [],
      "source": [
        "%matplotlib inline"
      ]
    },
    {
      "cell_type": "markdown",
      "metadata": {},
      "source": [
        "\n# Hubbard I for dimer diagonal basis\n\n\nThe atomic self-energy is extracted and plotted into the lattice\nGreen's function to see the behavior of the insulating state.\nUse the anti-bonding function\n\n"
      ]
    },
    {
      "cell_type": "code",
      "execution_count": null,
      "metadata": {
        "collapsed": false
      },
      "outputs": [],
      "source": [
        "# Created Mon Mar 14 13:56:37 2016\n# Author: \u00d3scar N\u00e1jera\n\nfrom __future__ import division, absolute_import, print_function\n\nimport matplotlib.pyplot as plt\nimport numpy as np\nfrom dmft.common import gw_invfouriertrans\nfrom dmft.plot import plot_band_dispersion\nimport dmft.dimer as dimer\nimport slaveparticles.quantum.operators as op"
      ]
    },
    {
      "cell_type": "markdown",
      "metadata": {},
      "source": [
        "Approximating Hubbard I\n=======================\n\nHere I use the molecule self-energy\n\n"
      ]
    },
    {
      "cell_type": "code",
      "execution_count": null,
      "metadata": {
        "collapsed": false
      },
      "outputs": [],
      "source": [
        "def molecule_sigma(omega, U, mu, tp, beta):\n    \"\"\"Return molecule self-energy in the given frequency axis\"\"\"\n\n    h_at, oper = dimer.hamiltonian_diag(U, mu, tp)\n    oper_pair = [[oper[1], oper[1]], [oper[0], oper[0]]]\n\n    eig_e, eig_v = op.diagonalize(h_at.todense())\n    gfsU = np.array([op.gf_lehmann(eig_e, eig_v, c.T, beta, omega, d)\n                     for c, d in oper_pair])\n\n    plt.plot(omega.real, -gfsU[0].imag, label='Anti')\n    plt.plot(omega.real, -gfsU[1].imag, label='Bond')\n    plt.plot(omega.real, -(1 / (omega - tp)).imag, label='Free')\n    plt.xlabel(r'$\\omega$')\n    plt.ylabel(r'$A(\\omega)$')\n    plt.title(r'Isolated dimer $U={}$, $t_\\perp={}$, $\\beta={}$'.format(U, tp, beta))\n    plt.legend(loc=0)\n\n    return [omega - tp - 1 / gfsU[0], omega + tp - 1 / gfsU[1]]"
      ]
    },
    {
      "cell_type": "markdown",
      "metadata": {},
      "source": [
        "The Real axis Self-energy\n-------------------------\n\n"
      ]
    },
    {
      "cell_type": "code",
      "execution_count": null,
      "metadata": {
        "collapsed": false
      },
      "outputs": [],
      "source": [
        "def plot_self_energy(w, sd_w, so_w, U, mu, tp, beta):\n    f, ax = plt.subplots(2, sharex=True)\n    ax[0].plot(w, sd_w.real, label='Real')\n    ax[0].plot(w, sd_w.imag, label='Imag')\n    ax[1].plot(w, so_w.real, label='Real')\n    ax[1].plot(w, so_w.imag, label='Imag')\n    ax[0].legend(loc=0)\n    ax[1].set_xlabel(r'$\\omega$')\n    ax[0].set_ylabel(r'$\\Sigma_{Anti}(\\omega)$')\n    ax[1].set_ylabel(r'$\\Sigma_{Bond}(\\omega)$')\n    ax[0].set_title(\n        r'Isolated dimer $U={}$, $t_\\perp={}$, $\\beta={}$'.format(U, tp, beta))\n\nw = np.linspace(-3, 3, 800)\nU, mu, tp, beta = 2.15, 0., 0.3, 100.\nsd_w, so_w = molecule_sigma(w + 5e-5j, U, mu, tp, beta)\nplot_self_energy(w, sd_w, so_w, U, mu, tp, beta)"
      ]
    },
    {
      "cell_type": "markdown",
      "metadata": {},
      "source": [
        "Hubbard I Band dispersion\n-------------------------\n\n"
      ]
    },
    {
      "cell_type": "code",
      "execution_count": null,
      "metadata": {
        "collapsed": false
      },
      "outputs": [],
      "source": [
        "eps_k = np.linspace(-1, 1, 61)\nlat_gf = 1 / np.add.outer(-eps_k, w + 5e-2j - sd_w)\nAw = -lat_gf.imag / np.pi\n\nplot_band_dispersion(\n    w, Aw, r'Hubbard I dimer $U={}$, $t_\\perp={}$, $\\beta={}$'.format(U, tp, beta), eps_k)"
      ]
    },
    {
      "cell_type": "markdown",
      "metadata": {},
      "source": [
        "The Real axis Self-energy\n-------------------------\n\n"
      ]
    },
    {
      "cell_type": "code",
      "execution_count": null,
      "metadata": {
        "collapsed": false
      },
      "outputs": [],
      "source": [
        "w = np.linspace(-3, 3, 800)\nU, mu, tp, beta = 2.15, 0., 0.3, 5.\nsd_w, so_w = molecule_sigma(w + 5e-5j, U, mu, tp, beta)\nplot_self_energy(w, sd_w, so_w, U, mu, tp, beta)"
      ]
    },
    {
      "cell_type": "markdown",
      "metadata": {},
      "source": [
        "Hubbard I Band dispersion\n-------------------------\n\n"
      ]
    },
    {
      "cell_type": "code",
      "execution_count": null,
      "metadata": {
        "collapsed": false
      },
      "outputs": [],
      "source": [
        "eps_k = np.linspace(-1, 1, 61)\nlat_gf = 1 / np.add.outer(-eps_k, w + 5e-2j - sd_w)\nAw = -lat_gf.imag / np.pi\nplot_band_dispersion(\n    w, Aw, r'Hubbard I dimer $U={}$, $t_\\perp={}$, $\\beta={}$'.format(U, tp, beta), eps_k)"
      ]
    }
  ],
  "metadata": {
    "kernelspec": {
      "display_name": "Python 3",
      "language": "python",
      "name": "python3"
    },
    "language_info": {
      "codemirror_mode": {
        "name": "ipython",
        "version": 3
      },
      "file_extension": ".py",
      "mimetype": "text/x-python",
      "name": "python",
      "nbconvert_exporter": "python",
      "pygments_lexer": "ipython3",
      "version": "3.6.1"
    }
  },
  "nbformat": 4,
  "nbformat_minor": 0
}