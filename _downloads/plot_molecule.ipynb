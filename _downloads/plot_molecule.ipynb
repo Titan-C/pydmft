{
  "cells": [
    {
      "cell_type": "code",
      "execution_count": null,
      "metadata": {
        "collapsed": false
      },
      "outputs": [],
      "source": [
        "%matplotlib inline"
      ]
    },
    {
      "cell_type": "markdown",
      "metadata": {},
      "source": [
        "\n# Isolated molecule spectral function\n\n\nFor the case of contact interaction in the di-atomic molecule case\nspectral function are evaluated by means of the Lehmann representation\n\n"
      ]
    },
    {
      "cell_type": "code",
      "execution_count": null,
      "metadata": {
        "collapsed": false
      },
      "outputs": [],
      "source": [
        "# author: \u00d3scar N\u00e1jera\n\nfrom __future__ import division, absolute_import, print_function\nfrom itertools import product\nimport matplotlib.pyplot as plt\nimport numpy as np\nimport scipy.linalg as LA\nfrom dmft.common import matsubara_freq, gw_invfouriertrans\nimport dmft.dimer as dimer\nimport slaveparticles.quantum.operators as op"
      ]
    },
    {
      "cell_type": "markdown",
      "metadata": {},
      "source": [
        "Real space representation\n=========================\n\n"
      ]
    },
    {
      "cell_type": "code",
      "execution_count": null,
      "metadata": {
        "collapsed": false
      },
      "outputs": [],
      "source": [
        "def plot_real_gf(eig_e, eig_v, oper_pair, c_v, names, beta):\n    _, axw = plt.subplots(2, sharex=True)\n    w = np.linspace(-1.5, 1.5, 500) + 1j * 1e-2\n    gfs = [op.gf_lehmann(eig_e, eig_v, c.T, beta, w, d) for c, d in oper_pair]\n    for gw, color, name in zip(gfs, c_v, names):\n        axw[0].plot(w.real, gw.real, color, label=r'${}$'.format(name))\n        axw[1].plot(w.real, -1 * gw.imag / np.pi, color)\n        axw[0].legend()\n        axw[0].set_title(\n            r'Real Frequencies Green functions, $\\beta={}$'.format(beta))\n        axw[0].set_ylabel(r'$\\Re e G(\\omega)$')\n        axw[1].set_ylabel(r'$-\\Im m(\\omega)/\\pi$')\n        axw[1].set_xlabel(r'$\\omega$')\n\n\ndef plot_eigen_spectra(U, mu, tp):\n    h_at, oper = dimer.hamiltonian(U, mu, tp)\n    eig_e = []\n    eig_e.append(LA.eigvalsh(h_at[1:5, 1:5].todense()))\n    eig_e.append(LA.eigvalsh(h_at[5:11, 5:11].todense()))\n    eig_e.append(LA.eigvalsh(h_at[11:15, 11:15].todense()))\n\n    plt.figure()\n    plt.title('Many particle Energy Spectra U={} $t_\\perp={}$'.format(U, tp))\n    plt.plot(np.concatenate(eig_e), \"o-\")\n    plt.ylabel('Energy')\n    plt.xlabel('Eigenstate by N particle block')\n\n    plt.axvline(x=3.5)\n    plt.axvline(x=9.5)\n\n\ndef plot_matsubara_gf(eig_e, eig_v, oper_pair, c_v, names, beta, U, mu, tp):\n    gwp, axwn = plt.subplots(2, sharex=True)\n    gwp.subplots_adjust(hspace=0)\n    gtp, axt = plt.subplots()\n    wn = matsubara_freq(beta, beta)\n    tau = np.arange(0, beta, .5)\n    gfs = [op.gf_lehmann(eig_e, eig_v, c.T, beta, 1j * wn, d)\n           for c, d in oper_pair]\n    for giw, color, name in zip(gfs, c_v, names):\n        axwn[0].plot(wn, giw.real, color + 's-', label=r'${}$'.format(name))\n        axwn[1].plot(wn, giw.imag, color + 'o-')\n\n        tail = [0., tp, 0.] if name[0] != name[1] else [1., 0., U**2 / 4.]\n        gt = gw_invfouriertrans(giw, tau, wn, tail)\n        axt.plot(tau, gt, label=r'${}$'.format(name))\n\n        axwn[0].legend()\n        axwn[0].set_title(\n            r'Matsubara Green functions, $\\beta={}$'.format(beta))\n        axwn[1].set_xlabel(r'$\\omega_n$')\n        axwn[0].set_ylabel(r'$\\Re e G(i\\omega_n)$')\n        axwn[1].set_ylabel(r'$\\Im m G(i\\omega_n)$')\n\n        axt.set_ylim(top=0.05)\n        axt.legend(loc=0)\n        axt.set_title(\n            r'Imaginary time Green functions, $\\beta={}$'.format(beta))\n        axt.set_xlabel(r'$\\tau$')\n        axt.set_ylabel(r'$G(\\tau)$')\n\n\ndef plot_greenfunctions(beta, U, mu, tp):\n    c_v = ['b', 'g', 'r', 'k']\n    names = [r'a\\uparrow', r'a\\downarrow', r'b\\uparrow', r'b\\downarrow']\n    plot_eigen_spectra(U, mu, tp)\n\n    h_at, oper = dimer.hamiltonian(U, mu, tp)\n    oper_pair = list(product([oper[0], oper[1]], repeat=2))\n    names = list(product('AB', repeat=2))\n\n    eig_e, eig_v = op.diagonalize(h_at.todense())\n    plot_real_gf(eig_e, eig_v, oper_pair, c_v, names, beta)\n    plot_matsubara_gf(eig_e, eig_v, oper_pair, c_v, names, beta, U, mu, tp)"
      ]
    },
    {
      "cell_type": "markdown",
      "metadata": {},
      "source": [
        "The non-interacting case $t_\\perp=0.2$\n--------------------------------------\n\n"
      ]
    },
    {
      "cell_type": "code",
      "execution_count": null,
      "metadata": {
        "collapsed": false
      },
      "outputs": [],
      "source": [
        "plot_greenfunctions(64, 0, 0, 0.2)"
      ]
    },
    {
      "cell_type": "markdown",
      "metadata": {},
      "source": [
        "The non-interacting case $t_\\perp=0.8$\n--------------------------------------\n\n"
      ]
    },
    {
      "cell_type": "code",
      "execution_count": null,
      "metadata": {
        "collapsed": false
      },
      "outputs": [],
      "source": [
        "plot_greenfunctions(64, 0, 0, 0.5)"
      ]
    },
    {
      "cell_type": "markdown",
      "metadata": {},
      "source": [
        "The interacting case $U=1$ $t_\\perp=0.2$\n----------------------------------------\n\n"
      ]
    },
    {
      "cell_type": "code",
      "execution_count": null,
      "metadata": {
        "collapsed": false
      },
      "outputs": [],
      "source": [
        "plot_greenfunctions(64, 1, 0, 0.2)"
      ]
    },
    {
      "cell_type": "markdown",
      "metadata": {},
      "source": [
        "The interacting case $U=1$ $t_\\perp=0.5$\n----------------------------------------\n\n"
      ]
    },
    {
      "cell_type": "code",
      "execution_count": null,
      "metadata": {
        "collapsed": false
      },
      "outputs": [],
      "source": [
        "plot_greenfunctions(64, 1, 0, 0.5)"
      ]
    },
    {
      "cell_type": "markdown",
      "metadata": {},
      "source": [
        "The symmetric and anti-symmetric bands\n======================================\n\n\n"
      ]
    },
    {
      "cell_type": "code",
      "execution_count": null,
      "metadata": {
        "collapsed": false
      },
      "outputs": [],
      "source": [
        "#h_at, oper = dimer.hamiltonian_diag(U, mu, tp)\n#eig_e, eig_v = op.diagonalize(h_at.todense())\n#\n#oper_pair = product([oper[0], oper[1]], repeat=2)\n\n#plot_real_gf(eig_e, eig_v, oper_pair, c_v, names)\n\n# TODO: verify the asy/sym basis scale\n# TODO: view in the local one the of diag terms"
      ]
    }
  ],
  "metadata": {
    "kernelspec": {
      "display_name": "Python 3",
      "language": "python",
      "name": "python3"
    },
    "language_info": {
      "codemirror_mode": {
        "name": "ipython",
        "version": 3
      },
      "file_extension": ".py",
      "mimetype": "text/x-python",
      "name": "python",
      "nbconvert_exporter": "python",
      "pygments_lexer": "ipython3",
      "version": "3.6.1"
    }
  },
  "nbformat": 4,
  "nbformat_minor": 0
}