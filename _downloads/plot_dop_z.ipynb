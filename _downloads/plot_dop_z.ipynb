{
  "cells": [
    {
      "cell_type": "code",
      "execution_count": null,
      "metadata": {
        "collapsed": false
      },
      "outputs": [],
      "source": [
        "%matplotlib inline"
      ]
    },
    {
      "cell_type": "markdown",
      "metadata": {},
      "source": [
        "\n# Quasiparticle decay for different local interaction strenghts\n\n\nPloting the Quasiparticle weight at different local interaction strenghts\nat different doping amounts\n\n"
      ]
    },
    {
      "cell_type": "code",
      "execution_count": null,
      "metadata": {
        "collapsed": false
      },
      "outputs": [],
      "source": [
        "# Code source: \u00d3scar N\u00e1jera\n# License: BSD 3 clause\n\nfrom __future__ import division, absolute_import, print_function\nimport matplotlib.pyplot as plt\nimport numpy as np\nfrom dmft.twosite_dop import dmft_loop_dop\n\n\ndef plot_z(axis='real', beta=1e3, u_int=[2., 4., 5.85, 6., 8., 10., 100.]):\n    fig = plt.figure()\n    for u in u_int:\n        out_file = axis + '_dop_b{}_U{}'.format(beta, u)\n        try:\n            res = np.load(out_file + '.npy')\n        except IOError:\n            res = dmft_loop_dop(u)\n            np.save(out_file, res)\n\n        zet = [sim.imp_z() for sim in res[:, 1]]\n        plt.plot(res[:, 0], zet, '+-', label='$U/t= {}$'.format(u))\n\n    plt.legend(loc=0)\n    plt.title(\n        'Quasiparticle weigth, estimated in real freq at $\\\\beta={}$'.format(beta))\n    plt.ylabel('Z')\n    plt.xlabel('n')\n    plt.xlim([0, 1])\n    fig.savefig(out_file + '_Z.png', format='png',\n                transparent=False, bbox_inches='tight', pad_inches=0.05)\n\nplot_z()"
      ]
    }
  ],
  "metadata": {
    "kernelspec": {
      "display_name": "Python 3",
      "language": "python",
      "name": "python3"
    },
    "language_info": {
      "codemirror_mode": {
        "name": "ipython",
        "version": 3
      },
      "file_extension": ".py",
      "mimetype": "text/x-python",
      "name": "python",
      "nbconvert_exporter": "python",
      "pygments_lexer": "ipython3",
      "version": "3.6.1"
    }
  },
  "nbformat": 4,
  "nbformat_minor": 0
}