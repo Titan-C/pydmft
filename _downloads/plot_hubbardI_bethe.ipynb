{
  "cells": [
    {
      "cell_type": "code",
      "execution_count": null,
      "metadata": {
        "collapsed": false
      },
      "outputs": [],
      "source": [
        "%matplotlib inline"
      ]
    },
    {
      "cell_type": "markdown",
      "metadata": {},
      "source": [
        "\nHubbard I solver Bethe lattice\n==============================\n\nAtomic limit expression of the self-energy\nis described by\n\n\\begin{align}\\Sigma(\\omega) =\\frac{U n}{2} + \\frac{ \\frac{U^{2} n}{2} \\left( 1 - \\frac{n}{2}\\right)}{\\omega + \\mu  - U \\left(1 - \\frac{n}{2}\\right)}\\end{align}\n\nThis approximation is most accurate in the limit of strong coupling,\nas there the atomic case is closer. Nevertheless it is possible to see\nthe formation of the Hubbard Bands and the redistribution of spectral\nweight.\n\n"
      ]
    },
    {
      "cell_type": "code",
      "execution_count": null,
      "metadata": {
        "collapsed": false
      },
      "outputs": [],
      "source": [
        "# Created Mon Sep 28 15:25:30 2015\n# Author: \u00d3scar N\u00e1jera\n\nfrom __future__ import division, absolute_import, print_function\nimport matplotlib.pyplot as plt\nimport numpy as np\nfrom scipy.integrate import trapz\nimport dmft.common as gf\n\n\ndef hubbard_aprox(U, dmu, omega):\n\n    mu = U / 2 + dmu\n    n = 1.\n\n    for _ in range(10):\n        sigma = n * U / 2 + n / 2 * (1 - n / 2) * \\\n            U**2 / (omega + 0.05j + mu - (1 - n / 2) * U)\n        gloc = gf.semi_circle_hiltrans(omega + mu - sigma)\n        dos = -gloc.imag / np.pi\n        n = 2 * trapz(dos * (omega < 0), omega)\n        print('n_new', n)\n\n    plt.plot(omega, -gloc.imag)\n\nomega = np.linspace(-8, 4, 600)\nhubbard_aprox(3, 2.051, omega)\nplt.show()"
      ]
    }
  ],
  "metadata": {
    "kernelspec": {
      "display_name": "Python 3",
      "language": "python",
      "name": "python3"
    },
    "language_info": {
      "codemirror_mode": {
        "name": "ipython",
        "version": 3
      },
      "file_extension": ".py",
      "mimetype": "text/x-python",
      "name": "python",
      "nbconvert_exporter": "python",
      "pygments_lexer": "ipython3",
      "version": "3.6.1"
    }
  },
  "nbformat": 4,
  "nbformat_minor": 0
}