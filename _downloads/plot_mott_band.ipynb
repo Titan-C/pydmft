{
  "cells": [
    {
      "cell_type": "code",
      "execution_count": null,
      "metadata": {
        "collapsed": false
      },
      "outputs": [],
      "source": [
        "%matplotlib inline"
      ]
    },
    {
      "cell_type": "markdown",
      "metadata": {},
      "source": [
        "\nThe Mott and Band insulator Character\n=====================================\n\nAdding the order parameter plus the half-gap\n\n"
      ]
    },
    {
      "cell_type": "code",
      "execution_count": null,
      "metadata": {
        "collapsed": false
      },
      "outputs": [],
      "source": [
        "from __future__ import division, absolute_import, print_function\n\nfrom math import ceil, log\nimport os\n\nimport numpy as np\nimport matplotlib.pyplot as plt\n\nimport dmft.common as gf\nimport dmft.dimer as dimer\nfrom dmft.ipt_imag import dimer_sigma\n\n\ndef measure_gap(gloc, rw):\n    gapped = gloc.imag[rw] > -0.015\n    try:\n        lb = w[rw][gapped][0]\n        ub = w[rw][gapped][-1]\n    except IndexError:\n        return 0\n\n    if gloc.imag[int(len(w) / 2)] < -0.3:\n        return 0\n\n    if lb is not None and ub is not None:\n        gap = ub - lb\n    else:\n        gap = 0\n    return gap\n\n\ndef estimate_gap_U_vs_tp(tpr, u_range, beta, phase):\n    w_n = gf.matsubara_freq(beta, max(2**ceil(log(6 * beta) / log(2)), 256))\n\n    gaps = []\n    for tp in tpr:\n        filestr = 'disk/phase_Dimer_ipt_{}_B{}/tp{:.3}/giw.npy'.format(\n            phase, beta, tp)\n        gfs = np.load(filestr)\n\n        for i, u_int in enumerate(u_range):\n            gf_aa, gf_ab = 1j * gfs[i][0], gfs[i][1]\n            gr_ss, gr_sa = dimer.pade_diag(\n                gf_aa, gf_ab, w_n, np.arange(0, beta + 100, 9, dtype=np.int), w)\n            gloc = (gr_ss + gr_sa) / 2\n\n            gaps.append(measure_gap(gloc, rw))\n            #plt.plot(w, -gloc.imag + i * 0.1)\n            #plt.plot(gaps[-1] / 2, i * 0.1, 'o')\n\n    gaps = np.array(gaps).reshape(len(tpr), len(u_range)).T\n\n    return gaps\n\n\ndef estimate_zero_w_sigma_U_vs_tp(tpr, u_range, beta, phase):\n    sd_zew, so_zew = [], []\n    tau, w_n = gf.tau_wn_setup(\n        dict(BETA=beta, N_MATSUBARA=max(2**ceil(log(8 * beta) / log(2)), 256)))\n\n    for tp in tpr:\n        filestr = 'disk/phase_Dimer_ipt_{}_B{}/tp{:.3}/giw.npy'.format(\n            phase, beta, tp)\n        gfs = np.load(filestr)\n\n        for i, u_int in enumerate(u_range):\n            giw_d, giw_o = 1j * gfs[i][0], gfs[i][1]\n            g0iw_d, g0iw_o = dimer.self_consistency(\n                1j * w_n, giw_d, giw_o, 0., tp, 0.25)\n            siw_d, siw_o = dimer_sigma(u_int, tp, g0iw_d, g0iw_o, tau, w_n)\n            sd_zew.append(np.polyfit(w_n[:2], siw_d[:2].imag, 1))\n            so_zew.append(np.polyfit(w_n[:2], siw_o[:2].real, 1))\n\n    sd_zew = np.array(sd_zew).reshape(len(tpr), len(u_range), -1)\n    so_zew = np.array(so_zew).reshape(len(tpr), len(u_range), -1)\n\n    return sd_zew, so_zew\n\n\nTPR = np.arange(0, 1.1, 0.02)\n#TPR = [1.05]\nUR = np.arange(0, 4.5, 0.1)[::-1]\nx, y = np.meshgrid(TPR, UR)\n\nsd_zew, so_zew = estimate_zero_w_sigma_U_vs_tp(TPR, UR, 1000., 'ins')\ndw_sig11 = np.ma.masked_array(sd_zew[:, :, 0], sd_zew[:, :, 1] < -0.1)\nzet = 1 / (1 - dw_sig11.T)\nsig11_0 = np.ma.masked_array(so_zew[:, :, 1], sd_zew[:, :, 1] < -0.1)\ntpp = (TPR + so_zew[:, :, 1].T)\n\norder = zet - tpp * zet\n#order = np.abs(zet - tpp * zet)\norder = np.ma.masked_array(order, order > 0.01)\n\nw = np.linspace(-5, 5, 2**10)\nrw = np.abs(w) < 1.5\ndw = w[1] - w[0]\n\ngaps = estimate_gap_U_vs_tp(TPR, UR, 1000., 'ins') / 2\n\nplt.figure()\ngaps = np.ma.masked_array(gaps, gaps <= 0)\neta_plus_gap = order + gaps\nplt.pcolormesh(x, y, eta_plus_gap)\ncs = plt.contour(x, y, eta_plus_gap, 15, colors='k')\nplt.clabel(cs, inline=1, fontsize=10, colors='k')\nplt.xlabel(r'$t_\\perp/D$')\nplt.ylabel(r'$U/D$')\nplt.grid()\nplt.xlim(0, 1.0801)\n# plt.savefig('IPT_eta_plus_half_gap.png')"
      ]
    }
  ],
  "metadata": {
    "kernelspec": {
      "display_name": "Python 3",
      "language": "python",
      "name": "python3"
    },
    "language_info": {
      "codemirror_mode": {
        "name": "ipython",
        "version": 3
      },
      "file_extension": ".py",
      "mimetype": "text/x-python",
      "name": "python",
      "nbconvert_exporter": "python",
      "pygments_lexer": "ipython3",
      "version": "3.6.1"
    }
  },
  "nbformat": 4,
  "nbformat_minor": 0
}