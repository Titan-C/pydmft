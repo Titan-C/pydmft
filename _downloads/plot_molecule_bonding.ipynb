{
  "cells": [
    {
      "cell_type": "code",
      "execution_count": null,
      "metadata": {
        "collapsed": false
      },
      "outputs": [],
      "source": [
        "%matplotlib inline"
      ]
    },
    {
      "cell_type": "markdown",
      "metadata": {},
      "source": [
        "\n# Isolated molecule spectral function in symmetric basis\n\n\nFor the case of contact interaction in the di-atomic molecule case\nspectral function are evaluated by means of the Lehmann representation\n\n"
      ]
    },
    {
      "cell_type": "code",
      "execution_count": null,
      "metadata": {
        "collapsed": false
      },
      "outputs": [],
      "source": [
        "# author: \u00d3scar N\u00e1jera\n\nfrom __future__ import division, absolute_import, print_function\nimport numpy as np\nimport scipy.linalg as LA\nimport matplotlib.pyplot as plt\n\nfrom dmft.plot import plot_band_dispersion\nimport dmft.dimer as dimer\nimport slaveparticles.quantum.operators as op\n\nfrom pyutils.latex_print import ket"
      ]
    },
    {
      "cell_type": "markdown",
      "metadata": {},
      "source": [
        "The Dimer alone\n===============\nThe ground state for half filling is defined at superposition of S=0\nstates containing the double occupation of each site plus the\nindividually occupied sites. This allows for the super-exchange\nprocess and makes it the ground state. The first exited state is\nformed by the triplet states S=1 where sites are singly occupied\n\n"
      ]
    },
    {
      "cell_type": "code",
      "execution_count": null,
      "metadata": {
        "collapsed": false
      },
      "outputs": [],
      "source": [
        "def plot_eigen_spectra(U, mu, tp):\n    h_at, oper = dimer.hamiltonian_diag(U, mu, tp)\n    eig_e = []\n    eig_e.append(LA.eigvalsh(h_at[1:5, 1:5].todense()))\n    eig_e.append(LA.eigvalsh(h_at[5:11, 5:11].todense()))\n    eig_e.append(LA.eigvalsh(h_at[11:15, 11:15].todense()))\n\n    plt.figure()\n    plt.title('Many particle Energy Spectra U={} $t_\\perp={}$'.format(U, tp))\n    plt.plot(np.concatenate(eig_e), \"o-\")\n    plt.ylabel('Energy')\n    plt.xlabel('Eigenstate by N particle block')\n\n    plt.axvline(x=3.5)\n    plt.axvline(x=9.5)\nplot_eigen_spectra(1., -1 / 2, 0.5)"
      ]
    },
    {
      "cell_type": "markdown",
      "metadata": {},
      "source": [
        "From the next Spectral functions we see that exitations go from\nground state to the bonding anti-bonding bands. If the ground-state\nis close to the triplet state or reachable by thermal exitation, it\nis also possible to see the exitation from the triplet state to the\nbonding anti-bonding bands.\n\nThe main role in the spetra is played by the local interaction,\nwhich is allowed to grow sufficiently. It split the largely the\nexitation spectra, the inner hopping parameter plays little role,\nonly to lift the ground state degeneracy by super-exchange.\n\n"
      ]
    },
    {
      "cell_type": "markdown",
      "metadata": {},
      "source": [
        "Diagonal basis\n==============\n\n\n"
      ]
    },
    {
      "cell_type": "code",
      "execution_count": null,
      "metadata": {
        "collapsed": false
      },
      "outputs": [],
      "source": [
        "def plot_A_ev_utp(beta, urange, mu, tprange):\n    w = np.linspace(-2, 3.5, 1500) + 1j * 1e-2\n    Aw = []\n    for u_int, tp in zip(urange, tprange):\n        h_at, oper = dimer.hamiltonian_diag(u_int, mu, tp)\n        eig_e, eig_v = op.diagonalize(h_at.todense())\n        gf = op.gf_lehmann(eig_e, eig_v, oper[0].T, beta, w)\n        aw = gf.imag / gf.imag.min()\n        Aw.append(aw)\n    return np.array(Aw)\n\nbeta = 100.\nA = plot_A_ev_utp(beta, np.linspace(0, 1, 51), 0, np.linspace(0, 1, 51)[::-1])\n\nw = np.linspace(-2, 3.5, 1500)\nplot_band_dispersion(w, A, r'Molecule exitation spectral function, $\\beta={}$, $t_\\perp+U=1$'.format(\n    beta), np.linspace(0, 1, 51))\nplt.figure(1)\nplt.ylabel(r'$U+A(\\omega)$')\nplt.xlim([-2, 3.5])\nplt.figure(2)\nplt.xlabel(r'$U$')\nplt.ylabel(r'$\\omega$')\nplt.ylim([-2, 3.5])"
      ]
    },
    {
      "cell_type": "markdown",
      "metadata": {},
      "source": [
        "weights of spectra\n==================\n\n"
      ]
    },
    {
      "cell_type": "code",
      "execution_count": null,
      "metadata": {
        "collapsed": false
      },
      "outputs": [],
      "source": [
        "def exitation_ration(U, tp):\n\n    h_h2, oper = dimer.hamiltonian_diag(U, 0, tp)\n    _, eig_vecs = LA.eigh(h_h2.todense())\n\n    basis_create = np.dot(eig_vecs.T, oper[0].T.dot(eig_vecs))\n    tmat = np.square(basis_create)\n\n    return tmat[:, 0].sum() / tmat[0, :].sum()\n\n\ntpr = np.linspace(0.001, 1.2, 24)\nur = np.linspace(0.0, 1.2, 20)\ntpx, uy = np.meshgrid(tpr, ur)\nex_rat = np.array([[exitation_ration(u_int, tp)\n                    for tp in tpr] for u_int in ur])\nplt.figure()\nplt.pcolormesh(tpx, uy, ex_rat, cmap=plt.get_cmap('inferno'))\nplt.colorbar()\nplt.xlabel(r'$t_\\perp$')\nplt.ylabel(r'$U$')\nplt.title('Intensity ratio of peaks in the bonding basis')"
      ]
    },
    {
      "cell_type": "markdown",
      "metadata": {},
      "source": [
        "Probability of each state\n=========================\n\nIn the next section I study the distribution of states in the\nmolecule. How they relate to the shape of the Hamiltonian and the\ndensity matrix.\n\nFirst I start in the low temperature regime where the ground state\ndominates the behavior of the system. Taking $\\beta=200$ and\n$U=2.15,t_\\perp=0.3$ the Hamiltonian of the system and the\ndensity matrix look as follow.\n\n"
      ]
    },
    {
      "cell_type": "code",
      "execution_count": null,
      "metadata": {
        "collapsed": false
      },
      "outputs": [],
      "source": [
        "basis_names = [r'AS\\uparrow', r'S\\uparrow', 'AS\\downarrow',  'S\\downarrow']\nind = np.array([0, 1, 2, 4, 8, 5, 10, 6, 9, 12, 3, 7, 11, 13, 14, 15])\nchartlab = [r'$' + ket(i, basis_names) + r'$' for i in ind]\n\nbeta = 100\n\nh_at, oper = dimer.hamiltonian_diag(2.15, 0, .3)\nev, evec = LA.eigh(h_at.todense())\nZ = np.sum(np.exp(-beta * (ev - ev[0])))\nwh_at = h_at.todense() - ev[0] * np.eye(16)\n\nplt.figure()\nplt.imshow(h_at.todense(), interpolation='none')\nplt.colorbar()\nplt.yticks(range(16), chartlab)\nplt.title('Hamiltonian')\nplt.tight_layout()\n\nrho = LA.expm(-beta * wh_at) / Z\nplt.figure()\nplt.imshow(rho, interpolation='none')\nplt.yticks(range(16), chartlab)\nplt.colorbar()\nplt.title('Density matrix')\nplt.tight_layout()"
      ]
    },
    {
      "cell_type": "markdown",
      "metadata": {},
      "source": [
        "The weight of each state\n------------------------\n\nThe diagonal elements of the density matrix give the weight of each\nstate the next plot signal in blue the weight of the basis states in\nthe recognizable quantum numbers and the green curve is the density\nmatrix in the diagonal basis where one can follow by decreasing\nweight each state.\n\n"
      ]
    },
    {
      "cell_type": "code",
      "execution_count": null,
      "metadata": {
        "collapsed": false
      },
      "outputs": [],
      "source": [
        "plt.figure()\nplt.plot(np.diag(rho), range(16), 'o-')\nplt.yticks(range(16), chartlab, color='b')\n\ndiagbas = [\"\".join([\"{:+.2}{}\".format(w, ke)\n                    for w, ke in zip(evec.T[i], chartlab) if abs(w) > .1]) for i in range(16)]\nax2 = plt.twinx()\nax2.plot(np.exp(-beta * (ev - ev[0])) / Z, range(16), 'sg-')\nax2.set_yticks(range(16))\nax2.set_yticklabels(diagbas, color='g')\nplt.tight_layout()"
      ]
    },
    {
      "cell_type": "markdown",
      "metadata": {},
      "source": [
        "The weight of each state at B=5\n\n\n"
      ]
    },
    {
      "cell_type": "code",
      "execution_count": null,
      "metadata": {
        "collapsed": false
      },
      "outputs": [],
      "source": [
        "beta = 5\n\nh_at, oper = dimer.hamiltonian_diag(2.15, 0, .3)\nev, evec = LA.eigh(h_at.todense())\nZ = np.sum(np.exp(-beta * (ev - ev[0])))\nwh_at = h_at.todense() - ev[0] * np.eye(16)\n\nrho = LA.expm(-beta * wh_at) / Z\nplt.figure()\nplt.imshow(rho, interpolation='none')\nplt.yticks(range(16), chartlab)\nplt.colorbar()\nplt.title('Density matrix')\nplt.tight_layout()"
      ]
    },
    {
      "cell_type": "markdown",
      "metadata": {},
      "source": [
        "The weight of each state\n------------------------\n\nThe diagonal elements of the density matrix give the weight of each\nstate the next plot signal in blue the weight of the basis states in\nthe recognizable quantum numbers and the green curve is the density\nmatrix in the diagonal basis where one can follow by decreasing\nweight each state.\n\n"
      ]
    },
    {
      "cell_type": "code",
      "execution_count": null,
      "metadata": {
        "collapsed": false
      },
      "outputs": [],
      "source": [
        "plt.figure()\nplt.plot(np.diag(rho), range(16), 'o-')\nplt.yticks(range(16), chartlab, color='b')\n\ndiagbas = [\"\".join([\"{:+.2}{}\".format(w, ke)\n                    for w, ke in zip(evec.T[i], chartlab) if abs(w) > .1]) for i in range(16)]\nax2 = plt.twinx()\nax2.plot(np.exp(-beta * (ev - ev[0])) / Z, range(16), 'sg-')\nax2.set_yticks(range(16))\nax2.set_yticklabels(diagbas, color='g')\nplt.tight_layout()"
      ]
    }
  ],
  "metadata": {
    "kernelspec": {
      "display_name": "Python 3",
      "language": "python",
      "name": "python3"
    },
    "language_info": {
      "codemirror_mode": {
        "name": "ipython",
        "version": 3
      },
      "file_extension": ".py",
      "mimetype": "text/x-python",
      "name": "python",
      "nbconvert_exporter": "python",
      "pygments_lexer": "ipython3",
      "version": "3.6.1"
    }
  },
  "nbformat": 4,
  "nbformat_minor": 0
}