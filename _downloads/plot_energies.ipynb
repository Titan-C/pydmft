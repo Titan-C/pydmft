{
  "cells": [
    {
      "cell_type": "code",
      "execution_count": null,
      "metadata": {
        "collapsed": false
      },
      "outputs": [],
      "source": [
        "%matplotlib inline"
      ]
    },
    {
      "cell_type": "markdown",
      "metadata": {},
      "source": [
        "\n# IPT Hysteresis Energy analysis\n\n\nTo study the stability of the solutions in the coexistence region\n\n\n"
      ]
    },
    {
      "cell_type": "code",
      "execution_count": null,
      "metadata": {
        "collapsed": false
      },
      "outputs": [],
      "source": [
        "from __future__ import division, absolute_import, print_function\nfrom dmft.common import greenF, tau_wn_setup\nfrom dmft.ipt_imag import dmft_loop, n_half, ekin, epot, ekin_tau\nfrom math import log\nfrom mpl_toolkits.axes_grid1.inset_locator import mark_inset\nfrom mpl_toolkits.axes_grid1.inset_locator import zoomed_inset_axes\nfrom scipy.integrate import quad\nfrom scipy.integrate import simps\nfrom scipy.optimize import fsolve\nimport matplotlib.pylab as plt\nimport numpy as np\nimport slaveparticles.quantum.dos as dos"
      ]
    },
    {
      "cell_type": "markdown",
      "metadata": {},
      "source": [
        "Total energy\n------------\n\nOne uses the formula for the `kinetic_energy` and\n`potential_energy` and adds them up.\n\n"
      ]
    },
    {
      "cell_type": "code",
      "execution_count": null,
      "metadata": {
        "collapsed": false
      },
      "outputs": [],
      "source": [
        "def hysteresis(beta, u_range):\n    log_g_sig = []\n    tau, w_n = tau_wn_setup(dict(BETA=beta, N_MATSUBARA=max(6 * beta, 256)))\n    g_iwn = greenF(w_n)\n    for u_int in u_range:\n        g_iwn, sigma = dmft_loop(u_int, 0.5, g_iwn, w_n, tau)\n        log_g_sig.append((g_iwn, sigma))\n    return log_g_sig, w_n, tau\n\n\ndef energy(beta, u_range, g_s_results):\n    g_s_iw_log, w_n, tau = g_s_results\n    g_iwfree = greenF(w_n)\n    mu = fsolve(n_half, 0., beta)[0]\n    e_mean = quad(dos.bethe_fermi_ene, -1., 1., args=(1., mu, 0.5, beta))[0]\n    kin = np.asarray([ekin(g_iw, s_iw, beta, w_n, e_mean, g_iwfree)\n                      for g_iw, s_iw in g_s_iw_log])\n    pot = np.asarray([epot(g_iw, s_iw, u, beta, w_n)\n                      for (g_iw, s_iw), u in zip(g_s_iw_log, u_range)])\n\n    return kin, pot\n\n\nU = np.linspace(2.4, 3.6, 41)\nrU = U[::-1]\n\nE_log = []\nBETARANGE = np.around(\n    np.hstack(([1024., 512.], np.logspace(8, -4.5, 48, base=2))), decimals=2)\n\nfor BETA in BETARANGE:\n    Ti, Vi = energy(BETA, rU, hysteresis(BETA, rU))\n    Tm, Vm = energy(BETA, U, hysteresis(BETA, U))\n    E_log.append((Tm, Vm, Ti[::-1], Vi[::-1]))"
      ]
    },
    {
      "cell_type": "code",
      "execution_count": null,
      "metadata": {
        "collapsed": false
      },
      "outputs": [],
      "source": [
        "fige, axe = plt.subplots(nrows=3, sharex=True)\nfige.subplots_adjust(hspace=0.)\nfor i, j in zip([0, 9, 12], ['b', 'g', 'r']):\n    BETA = BETARANGE[i]\n    Tm, Vm, Ti, Vi = E_log[i]\n    axe[0].plot(U, Tm, j, label=r'$\\beta={:.0f}$'.format(BETA))\n    axe[0].plot(U, Ti, j + '--')\n    axe[1].plot(U, Vm, j)\n    axe[1].plot(U, Vi, j + '--')\n    axe[2].plot(U, (Tm + Vm) - (Ti + Vi), j + '-')\n\naxe[0].set_ylabel(r'$\\langle T \\rangle$')\naxe[1].set_ylabel(r'$\\langle V \\rangle$')\naxe[2].set_ylabel(r'$\\Delta \\langle  H \\rangle$')\naxe[0].legend(loc=0)\naxe[2].set_xlabel('U/D')"
      ]
    },
    {
      "cell_type": "markdown",
      "metadata": {},
      "source": [
        "Change of the internal energy with temperature\n----------------------------------------------\n\nThe next plots show the internal energy. The zoomed insets give\ninsight to the low temperature behavior where the existence of 2\nsolutions becomes evident too. The metallic solution has the\ncharacteristic Fermi liquid behavior with the internal energy being\nproportional to $T^2$. Within the coexistence region, for the\nparticularly selected value of interaction one also sees how the\nmetallic solution at low temperatures has a lower energy than the\ninsulator. The final remark is that the insulating solution remains\nflat in energy at low temperatures.\n\n"
      ]
    },
    {
      "cell_type": "code",
      "execution_count": null,
      "metadata": {
        "collapsed": false
      },
      "outputs": [],
      "source": [
        "E_log = np.rollaxis(np.rollaxis(np.asarray(E_log), 2), 2)\nTm, Vm, Ti, Vi = E_log[0], E_log[1], E_log[2], E_log[3]\nHm = Tm + Vm\nHi = Ti + Vi\nfig, ax = plt.subplots()\naxins = zoomed_inset_axes(ax, 12, loc=4)\n\n\ndef plot_zoom(ul, color):\n    ax.plot(1 / BETARANGE, Hm[ul], label='U=' + str(U[ul]))\n    axins.plot(1 / BETARANGE, Hm[ul], color + '+-')\n    axins.plot(1 / BETARANGE, Hi[ul], color + '+-')\n\nfor u, c in zip([0, 8, 40], ['b', 'g', 'r']):\n    plot_zoom(u, c)\n\nax.set_xlim([0, 8])\naxins.set_xlim([0, .2])\naxins.set_ylim([-.031, -0.005])\nmark_inset(ax, axins, loc1=2, loc2=3, fc=\"none\", ec=\"0.5\")\n\nax.set_xlabel('T/D')\nax.set_ylabel(r'$\\langle  H \\rangle$')\nax.legend(loc=1)"
      ]
    },
    {
      "cell_type": "markdown",
      "metadata": {},
      "source": [
        "The heat Capacity\n-----------------\n\nIs obtained by differentiating the interval Energy by Temperature\n\n\\begin{align}C_v = \\frac{\\partial\\langle  H \\rangle}{\\partial T}\\end{align}\n\nThe discontinuity in the internal energy originated from the\nexistence of two solution cause a sudden jump to negative values in\nthe numerical approximation of the derivative to estimate the Heat\nCapacity. As such those points are replaced by zero. This\napproximation is here justified in the spirit that at the low\ntemperatures where this happens the calculated density of points is\nhigh and as such little information is lost when integrating over\nthe heat capacity if this values are missing.\n\n"
      ]
    },
    {
      "cell_type": "code",
      "execution_count": null,
      "metadata": {
        "collapsed": false
      },
      "outputs": [],
      "source": [
        "def heat_capacity(H, temp):\n    return (np.ediff1d(H) / np.ediff1d(temp)).clip(1e-5)\n\nT = 1 / BETARANGE\nplt.semilogx(T[:-1], heat_capacity(Hm[0], T), label='U=' + str(U[0]))\nplt.semilogx(T[:-1], heat_capacity(Hm[8], T), label='met U=' + str(U[8]))\nplt.semilogx(T[:-1], heat_capacity(Hi[8], T), '--', label='ins U=' + str(U[8]))\nplt.xlim([1 / 1240, 10])\nplt.legend(loc=0)\nplt.xlabel('T/D')\nplt.ylabel('Heat Capacity')"
      ]
    },
    {
      "cell_type": "markdown",
      "metadata": {},
      "source": [
        "The entropy\n-----------\n\n\\begin{align}S(T) = \\ln 2 - \\int_T^\\infty \\frac{C_v}{T'} dT'\\end{align}\n\nThe use of the saturation value of the entropy at high temperatures\nallows to more reliably estimate the entropy as the high temperature\nbehavior of the system is smoother\n\n"
      ]
    },
    {
      "cell_type": "code",
      "execution_count": null,
      "metadata": {
        "collapsed": false
      },
      "outputs": [],
      "source": [
        "def entropy(H, temp):\n    cv_temp = np.hstack((heat_capacity(H, temp) / temp[:-1], 0))\n    S = np.array([simps(cv_temp[i:], T[i:]) for i in range(len(T))])\n    return log(2.) - S\n\nplt.semilogx(T, entropy(Hm[0], T), label='U=' + str(U[0]))\nplt.semilogx(T, entropy(Hm[8], T), label='U=' + str(U[8]))\nplt.semilogx(T, entropy(Hi[8], T), '--', label='U=' + str(U[8]))\nplt.xlim([1 / 1240, 10])\nplt.legend(loc=0)\nplt.xlabel('T/D')\nplt.ylabel('Entropy')"
      ]
    },
    {
      "cell_type": "markdown",
      "metadata": {},
      "source": [
        "The Free Energy landscape\n-------------------------\n\nThe final IPT coexistence region as described by the Free Energy. It\ncan be seen how in general the insulating solution is more favorable\nas the difference in free energy is positive there. The first order\ntransition line can also be seen.\n\n"
      ]
    },
    {
      "cell_type": "code",
      "execution_count": null,
      "metadata": {
        "collapsed": false
      },
      "outputs": [],
      "source": [
        "Sm = np.array([entropy(Hm[i], T) for i in range(len(U))])\nSi = np.array([entropy(Hi[i], T) for i in range(len(U))])\ntwosol = (Hm - Hi - T * (Sm - Si)) * (np.abs((Hm - Hi)) > 1.2e-4)\nrT = T[T < 0.07]\nplt.pcolormesh(U, rT, twosol.T[:len(rT)], cmap=plt.get_cmap('inferno'))\n#plt.axis([x.min(), x.max(), 0, y.max()])\nplt.xlabel(r'$U/D$')\nplt.ylabel(r'$T/D$')\nplt.title(\n    'Phase diagram \\n color represents $-\\\\Im G_{{AA}}(0)$')"
      ]
    }
  ],
  "metadata": {
    "kernelspec": {
      "display_name": "Python 3",
      "language": "python",
      "name": "python3"
    },
    "language_info": {
      "codemirror_mode": {
        "name": "ipython",
        "version": 3
      },
      "file_extension": ".py",
      "mimetype": "text/x-python",
      "name": "python",
      "nbconvert_exporter": "python",
      "pygments_lexer": "ipython3",
      "version": "3.6.1"
    }
  },
  "nbformat": 4,
  "nbformat_minor": 0
}