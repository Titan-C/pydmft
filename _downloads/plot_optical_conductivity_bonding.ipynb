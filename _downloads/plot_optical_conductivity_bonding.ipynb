{
  "cells": [
    {
      "cell_type": "code",
      "execution_count": null,
      "metadata": {
        "collapsed": false
      },
      "outputs": [],
      "source": [
        "%matplotlib inline"
      ]
    },
    {
      "cell_type": "markdown",
      "metadata": {},
      "source": [
        "\n# Optical conductivity of bonding Spectral Function\n\n\n\n"
      ]
    },
    {
      "cell_type": "code",
      "execution_count": null,
      "metadata": {
        "collapsed": false
      },
      "outputs": [],
      "source": [
        "# Author: \u00d3scar N\u00e1jera\n\nfrom __future__ import (absolute_import, division, print_function,\n                        unicode_literals)\n\nimport matplotlib.pyplot as plt\nimport numpy as np\n\nimport dmft.common as gf\nimport dmft.dimer as dimer\nimport dmft.ipt_imag as ipt\nfrom dmft.utils import optical_conductivity\n\n\ndef loop_u_tp(u_range, tprange, beta, seed='mott gap'):\n    tau, w_n = gf.tau_wn_setup(dict(BETA=beta, N_MATSUBARA=max(5 * beta, 256)))\n    giw_d, giw_o = dimer.gf_met(w_n, 0., 0., 0.5, 0.)\n    if seed == 'mott gap':\n        giw_d, giw_o = 1 / (1j * w_n + 4j / w_n), np.zeros_like(w_n) + 0j\n\n    sigma_iw = []\n    for u_int, tp in zip(u_range, tprange):\n        giw_d, giw_o, loops = dimer.ipt_dmft_loop(\n            beta, u_int, tp, giw_d, giw_o, tau, w_n)\n        g0iw_d, g0iw_o = dimer.self_consistency(\n            1j * w_n, 1j * giw_d.imag, giw_o.real, 0., tp, 0.25)\n        siw_d, siw_o = ipt.dimer_sigma(u_int, tp, g0iw_d, g0iw_o, tau, w_n)\n        sigma_iw.append((siw_d.copy(), siw_o.copy()))\n        print(seed, ' U', u_int, ' tp: ', tp, ' loops: ', loops)\n\n    return np.array(sigma_iw), w_n\n\n\ndef plot_optical_cond(sigma_iw, ur, tp, w_n, w, w_set, beta, seed):\n    nuv = w[w > 0]\n    zerofreq = len(nuv)\n    dw = w[1] - w[0]\n    E = np.linspace(-1, 1, 61)\n    dos = np.exp(-2 * E**2) / np.sqrt(np.pi / 2)\n    de = E[1] - E[0]\n    dosde = (dos * de).reshape(-1, 1)\n    nf = gf.fermi_dist(w, beta)\n    eta = 0.8\n\n    for U, (sig_d, sig_o) in zip(ur, sigma_iw):\n        ss, sa = dimer.pade_diag(sig_d, sig_o, w_n, w_set, w)\n\n        lat_Aa = (-1 / np.add.outer(-E, w + tp + 4e-2j - sa)).imag / np.pi\n        lat_As = (-1 / np.add.outer(-E, w - tp + 4e-2j - ss)).imag / np.pi\n        #lat_Aa = .5 * (lat_Aa + lat_As)\n        #lat_As = lat_Aa\n\n        a = optical_conductivity(lat_Aa, lat_Aa, nf, w, dosde)\n        a += optical_conductivity(lat_As, lat_As, nf, w, dosde)\n        b = optical_conductivity(lat_Aa, lat_As, nf, w, dosde)\n        b += optical_conductivity(lat_As, lat_Aa, nf, w, dosde)\n\n        #b *= tp**2 * eta**2 / 2 / .25\n\n        sigma_E_sum_a = .5 * a[w > 0]\n        plt.plot(nuv, sigma_E_sum_a, 'k--')\n        sigma_E_sum_i = .5 * b[w > 0]\n        plt.plot(nuv, sigma_E_sum_i, 'k:')\n        sigma_E_sum = .5 * (a + b)[w > 0]\n        plt.plot(nuv, sigma_E_sum)\n\n        # To save data manually at some point\n        np.savez('opt_cond{}'.format(seed), nuv=nuv, sigma_E_sum=sigma_E_sum)\n\n        return sigma_E_sum_a, sigma_E_sum_i, sigma_E_sum, nuv"
      ]
    },
    {
      "cell_type": "markdown",
      "metadata": {},
      "source": [
        "Metals\n------\n\n\n"
      ]
    },
    {
      "cell_type": "code",
      "execution_count": null,
      "metadata": {
        "collapsed": false
      },
      "outputs": [],
      "source": [
        "urange = [2.5]  # [1.5, 2., 2.175, 2.5, 3.]\nBETA = 100.\ntp = 0.3\nw = np.linspace(-6, 6, 800)\nw_set = np.concatenate((np.arange(100), np.arange(100, 200, 2)))\nsigma_iw, w_n = loop_u_tp(urange, tp * np.ones_like(urange), BETA, \"M\")\n\nsm_a, sm_i, sm, nuv = plot_optical_cond(\n    sigma_iw, urange, tp, w_n, w, w_set, BETA, 'met')\n\nsigma_iw, w_n = loop_u_tp(urange, tp * np.ones_like(urange), BETA)\nsi_a, si_i, si, nuv = plot_optical_cond(\n    sigma_iw, urange, tp, w_n, w, w_set, BETA, 'ins')\n\nfig, ax = plt.subplots(2, 1, sharex=True, sharey=True)\nax[0].plot(nuv, sm_a, '--')\nax[0].plot(nuv, sm_i, ':')\nax[0].plot(nuv, sm, '-')\n\nax[1].plot(nuv, si_a, '--')\nax[1].plot(nuv, si_i, ':')\nax[1].plot(nuv, si, '-')\nax[0].set_xlim([0, 3])\nax[0].set_ylim([0, 0.7])\n\nax[1].set_xlabel(r'$\\omega$')\nax[0].set_ylabel(r'Metal $\\sigma(\\omega)$')\nax[1].set_ylabel(r'Insulator $\\sigma(\\omega)$')\n\nax[0].annotate(r\"MIR $\\omega \\approx 0.22$ eV\",\n               xy=(0.23, 0.62), arrowprops=dict(arrowstyle='->'), xytext=(0.42, 0.6))\nplt.savefig('fig_optcond_decomp.pdf', format='pdf',\n            transparent=False, bbox_inches='tight', pad_inches=0.05)"
      ]
    }
  ],
  "metadata": {
    "kernelspec": {
      "display_name": "Python 3",
      "language": "python",
      "name": "python3"
    },
    "language_info": {
      "codemirror_mode": {
        "name": "ipython",
        "version": 3
      },
      "file_extension": ".py",
      "mimetype": "text/x-python",
      "name": "python",
      "nbconvert_exporter": "python",
      "pygments_lexer": "ipython3",
      "version": "3.6.1"
    }
  },
  "nbformat": 4,
  "nbformat_minor": 0
}