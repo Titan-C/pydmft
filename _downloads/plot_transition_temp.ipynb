{
  "cells": [
    {
      "cell_type": "code",
      "execution_count": null,
      "metadata": {
        "collapsed": false
      },
      "outputs": [],
      "source": [
        "%matplotlib inline"
      ]
    },
    {
      "cell_type": "markdown",
      "metadata": {},
      "source": [
        "\n# Study the behavior of the Dimer Bethe lattice in the Transition\n\n\nSpecific Regions of the phase diagram are reviewed to inspect the\nbehavior of the insulating state \n"
      ]
    },
    {
      "cell_type": "code",
      "execution_count": null,
      "metadata": {
        "collapsed": false
      },
      "outputs": [],
      "source": [
        "import numpy as np\nimport matplotlib.pyplot as plt\nfrom mpl_toolkits.mplot3d import axes3d\nimport dmft.dimer as dimer\nimport dmft.common as gf\nimport dmft.ipt_imag as ipt\n\n\ndef loop_u_tp(u_int, tp, betarange, seed='mott gap'):\n\n    giw_s = []\n    sigma_iw = []\n    ekin, epot = [], []\n    iterations = []\n    lwn = []\n    for beta in betarange:\n        tau, w_n = gf.tau_wn_setup(dict(BETA=beta, N_MATSUBARA=512))\n        lwn.append(w_n)\n\n        giw_d, giw_o = dimer.gf_met(w_n, 0., 0., 0.5, 0.)\n        if seed == 'mott gap':\n            giw_d, giw_o = 1 / (1j * w_n + 4j / w_n), np.zeros_like(w_n) + 0j\n\n        giw_d, giw_o, loops = dimer.ipt_dmft_loop(\n            beta, u_int, tp, giw_d, giw_o, tau, w_n)\n        giw_s.append((giw_d, giw_o))\n        iterations.append(loops)\n        g0iw_d, g0iw_o = dimer.self_consistency(\n            1j * w_n, 1j * giw_d.imag, giw_o.real, 0., tp, 0.25)\n        siw_d, siw_o = ipt.dimer_sigma(u_int, tp, g0iw_d, g0iw_o, tau, w_n)\n        sigma_iw.append((siw_d.copy(), siw_o.copy()))\n\n        ekin.append(dimer.ekin(giw_d, giw_o, w_n, tp, beta))\n\n        epot.append(dimer.epot(giw_d, w_n, beta,\n                               u_int ** 2 / 4 + tp**2, ekin[-1], u_int))\n    print(np.array(iterations))\n    # last division in energies because I want per spin epot\n    return np.array(giw_s), np.array(sigma_iw), np.array(ekin) / 4, np.array(epot) / 4, w_n\n\nurange = np.arange(2.8, 3.4, .1)\ndata = []\ntemp = np.linspace(0.015, 0.06, 90)\nbetarange = 1 / temp\n\nfor u_int in urange:\n    giw_s, sigma_iw, ekin, epot, w_n = loop_u_tp(\n        u_int, .3, betarange, 'mott gap')\n    data.append((giw_s, sigma_iw, ekin, epot, w_n, u_int))\n\nfor u_int in urange:\n    giw_s, sigma_iw, ekin, epot, w_n = loop_u_tp(\n        u_int, .3, betarange, 'met')\n    data.append((giw_s, sigma_iw, ekin, epot, w_n, u_int))\n\nfor sim in data:\n    giw_s, sigma_iw, ekin, epot, w_n, u_int = sim\n    plt.plot(1 / betarange, 2 * epot / u_int, 'x-', label=u_int)\n\nplt.title(r'Double occupation')\nplt.ylabel(r'$\\langle n_\\uparrow n_\\downarrow \\rangle$')\nplt.xlabel(r'$T/D$')\nplt.legend()\nplt.show()"
      ]
    }
  ],
  "metadata": {
    "kernelspec": {
      "display_name": "Python 3",
      "language": "python",
      "name": "python3"
    },
    "language_info": {
      "codemirror_mode": {
        "name": "ipython",
        "version": 3
      },
      "file_extension": ".py",
      "mimetype": "text/x-python",
      "name": "python",
      "nbconvert_exporter": "python",
      "pygments_lexer": "ipython3",
      "version": "3.6.1"
    }
  },
  "nbformat": 4,
  "nbformat_minor": 0
}