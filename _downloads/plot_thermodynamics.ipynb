{
  "cells": [
    {
      "cell_type": "code",
      "execution_count": null,
      "metadata": {
        "collapsed": false
      },
      "outputs": [],
      "source": [
        "%matplotlib inline"
      ]
    },
    {
      "cell_type": "markdown",
      "metadata": {},
      "source": [
        "\nEnergy calculation of the Dimer lattice\n=======================================\n\nClose to the coexistence region the Energy of the system is calculated.\n\n"
      ]
    },
    {
      "cell_type": "code",
      "execution_count": null,
      "metadata": {
        "collapsed": false
      },
      "outputs": [],
      "source": [
        "from math import log, ceil\nimport numpy as np\nfrom scipy.integrate import simps\nimport matplotlib.pyplot as plt\nimport dmft.dimer as dimer\nimport dmft.common as gf\nfrom dmft.utils import differential_weight\n\n\ntpr = np.hstack((np.arange(0, 0.5, 0.02), np.arange(0.5, 1.1, 0.05)))\nur = np.arange(0, 4.5, 0.1)\n\ntpi = 15  # This sets tp in the calculation tpi=15-> tp=0.3\n\nBETARANGE = np.round(\n    np.hstack(([768, 512], np.logspace(8, -4.5, 41, base=2))), 2)\ntemp = 1 / np.array(BETARANGE)\nTux, Ty = np.meshgrid(ur, temp)\ntpx, uy = np.meshgrid(tpr, ur)\n\nf, ax = plt.subplots(1, 2, figsize=(18, 7))\nfl_d = np.load('disk/dimer_07_2015/Dimer_ipt_metal_seed_FL_DOS_BUt.npy')\nfli_d = np.load(\n    'disk/dimer_07_2015/Dimer_ipt_insulator_seed_FL_DOS_BUt.npy')\n\ns0 = ax[1].pcolormesh(tpx, uy, fl_d[1], cmap=plt.get_cmap('viridis'))\nm = ax[0].pcolormesh(Tux, Ty, fl_d[:, :, tpi], cmap=plt.get_cmap('viridis'))\n\n\ns0 = ax[1].pcolormesh(tpx, uy, fli_d[1], alpha=0.2,\n                      cmap=plt.get_cmap('viridis'))\nm = ax[0].pcolormesh(Tux, Ty, fli_d[:, :, tpi], alpha=0.2,\n                     cmap=plt.get_cmap('viridis'))\n\nax[1].axis([tpx.min(), tpx.max(), uy.min(), uy.max()])\nax[0].axis([Tux.min(), Tux.max(), 0, .14])\n\nplt.colorbar(m, ax=ax[0])\nplt.colorbar(s0, ax=ax[1])\n\nax[0].set_ylabel('$T/D$')\nax[0].set_xlabel('U/D')\nax[0].set_title('Phase Diagram $t_\\\\perp={}$\\n'\n                'color represents $-\\\\Im G_{{AA}}(0)$'.format(tpr[tpi]))\nax[1].set_xlabel(r'$t_\\perp$')\nax[1].set_ylabel('U/D')\nax[1].set_title('Phase Diagram $\\\\beta={}$\\n'\n                'color represents $-\\\\Im G_{{AA}}(0)$'.format(BETARANGE[1]))\n\nU_int = [1.8, 2.5, 3.5, 4.3]\nfor u_int in U_int:\n    ax[0].axvline(u_int, lw=2, color='r')\n\nax[1].plot([tpr[tpi]] * 4, U_int, 'ro', ms=10)"
      ]
    },
    {
      "cell_type": "code",
      "execution_count": null,
      "metadata": {
        "collapsed": false
      },
      "outputs": [],
      "source": [
        "def loop_beta(u_int, tp, betarange, seed):\n    avgH = []\n    for beta in betarange:\n        tau, w_n = gf.tau_wn_setup(\n            dict(BETA=beta, N_MATSUBARA=max(2**ceil(log(8 * beta) / log(2)), 256)))\n        giw_d, giw_o = dimer.gf_met(w_n, 0., 0., 0.5, 0.)\n        if seed == 'I':\n            giw_d, giw_o = 1 / (1j * w_n - 4j / w_n), np.zeros_like(w_n) + 0j\n\n        giw_d, giw_o, _ = dimer.ipt_dmft_loop(\n            beta, u_int, tp, giw_d, giw_o, tau, w_n, 1e-6)\n\n        ekin = dimer.ekin(giw_d[:int(8 * beta)], giw_o[:int(8 * beta)],\n                          w_n[:int(8 * beta)], tp, beta)\n\n        epot = dimer.epot(giw_d[:int(8 * beta)], w_n[:int(8 * beta)],\n                          beta, u_int ** 2 / 4 + tp**2 + 0.25, ekin, u_int)\n        avgH.append(ekin + epot)\n\n    return np.array(avgH)\n\nfac = np.arctan(25 * np.sqrt(3) / 0.4)\ntemp = np.tan(np.linspace(5e-3, fac, 195)) * 0.4 / np.sqrt(3)\nBETARANGE = 1 / temp\n\n\nstart = ['M', 'M', 'I', 'I']\navgH = [loop_beta(u_int, tpr[tpi], BETARANGE, seed)\n        for u_int, seed in zip(U_int, start)]"
      ]
    },
    {
      "cell_type": "markdown",
      "metadata": {},
      "source": [
        "Internal Energy\n---------------\n\nThe internal energy decreases and upon cooling but in the insulator it\nfinds two energy plateaus\n\n"
      ]
    },
    {
      "cell_type": "code",
      "execution_count": null,
      "metadata": {
        "collapsed": false
      },
      "outputs": [],
      "source": [
        "plt.figure()\ntemp_cut = sum(temp < 3)\nfor u, sol in zip(U_int, avgH):\n    plt.plot(temp[:temp_cut], sol[:temp_cut], label='U={}'.format(u))\n\nplt.xlim(0, 2.5)\nplt.title('Internal Energy')\nplt.xlabel('$T/D$')\nplt.ylabel(r'$\\langle  H \\rangle$')\nplt.legend(loc=0)"
      ]
    },
    {
      "cell_type": "markdown",
      "metadata": {},
      "source": [
        "Specific Heat\n-------------\n\nIn the heat capacity it is very noticeable how close one is to the\nQuantum Critical Point as the Heat capacity is almost diverging for the\nsmallest $U$ insulator\n\n"
      ]
    },
    {
      "cell_type": "code",
      "execution_count": null,
      "metadata": {
        "collapsed": false
      },
      "outputs": [],
      "source": [
        "plt.figure()\nCV = [differential_weight(H) / differential_weight(temp) for H in avgH]\nfor u, cv in zip(U_int, CV):\n    plt.plot(temp[:temp_cut], cv[:temp_cut], label='U={}'.format(u))\n\nplt.xlim(-0.1, 2.)\nplt.ylim(-0.1, 8.5)\nplt.title('Heat Capacity')\nplt.xlabel('$T/D$')\nplt.ylabel(r'$C_V$')"
      ]
    },
    {
      "cell_type": "markdown",
      "metadata": {},
      "source": [
        "Entropy\n-------\n\nEntropy again find two plateaus as first evidenced by the internal\nenergy, it is also noteworthy that entropy seems to remain finite for\nthis insulator and would seem that is the same value for all cases being\nnumerical uncertainties to blame for the curves not matching at zero\ntemperature. It still remains unknown what the finite entropy value\ncorresponds to. In this particula case is $\\sim \\ln(1.6)$\n\n"
      ]
    },
    {
      "cell_type": "code",
      "execution_count": null,
      "metadata": {
        "collapsed": false
      },
      "outputs": [],
      "source": [
        "ENDS = []\nfor cv in CV:\n    cv_temp = np.clip(cv, 0, 1) / temp\n    s_t = np.array([simps(cv_temp[i:], temp[i:], even='last')\n                    for i in range(len(temp))])\n    ENDS.append(log(16.) - s_t)\n\nplt.figure()\nfor u, s in zip(U_int, ENDS):\n    plt.plot(temp[:temp_cut], s[:temp_cut], label='U={}'.format(u))\n\nplt.title('Entropy')\nplt.xlabel('$T/D$')\nplt.ylabel(r'$S$')\n\nplt.xlim(-0.01, 0.9)\nplt.yticks([0, log(2), log(2) * 2, log(2) * 4],\n           [0, r'$\\ln 2$', r'$2\\ln 2$', r'$4\\ln 2$'])\n\nplt.show()"
      ]
    }
  ],
  "metadata": {
    "kernelspec": {
      "display_name": "Python 3",
      "language": "python",
      "name": "python3"
    },
    "language_info": {
      "codemirror_mode": {
        "name": "ipython",
        "version": 3
      },
      "file_extension": ".py",
      "mimetype": "text/x-python",
      "name": "python",
      "nbconvert_exporter": "python",
      "pygments_lexer": "ipython3",
      "version": "3.6.1"
    }
  },
  "nbformat": 4,
  "nbformat_minor": 0
}