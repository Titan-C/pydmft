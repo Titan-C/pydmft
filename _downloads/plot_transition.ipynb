{
  "cells": [
    {
      "cell_type": "code",
      "execution_count": null,
      "metadata": {
        "collapsed": false
      },
      "outputs": [],
      "source": [
        "%matplotlib inline"
      ]
    },
    {
      "cell_type": "markdown",
      "metadata": {},
      "source": [
        "\nLandau Theory of the Mott transition\n====================================\n\nPerform a fit of the order parameter, linked to double occupation to\nmatch a Landau theory formulation in correspondence to Kotliar, G.,\nLange, E., & Rozenberg, M. J. (2000). Landau Theory of the Finite\nTemperature Mott Transition. Phys. Rev. Lett., 84(22),\n5180\u20135183. http://dx.doi.org/10.1103/PhysRevLett.84.5180\n\n<div class=\"alert alert-danger\"><h4>Warning</h4><p>Not reproduced for the moment</p></div>\n\n\n"
      ]
    },
    {
      "cell_type": "code",
      "execution_count": null,
      "metadata": {
        "collapsed": false
      },
      "outputs": [],
      "source": [
        "from scipy.optimize import curve_fit\nimport numpy as np\nimport matplotlib.pyplot as plt\nfrom mpl_toolkits.mplot3d import axes3d\nimport dmft.dimer as dimer\nimport dmft.common as gf\nimport dmft.ipt_imag as ipt\nfrom dmft.utils import differential_weight as diff\n\n\ndef extract_double_occupation(beta, u_range):\n    docc = []\n    tau, w_n = gf.tau_wn_setup(dict(BETA=beta, N_MATSUBARA=beta))\n    g_iwn = gf.greenF(w_n)\n    for u_int in u_range:\n        g_iwn, sigma = ipt.dmft_loop(u_int, 0.5, g_iwn, w_n, tau, conv=1e-4)\n        docc.append(ipt.epot(g_iwn, sigma, u_int, beta, w_n) * 2 / u_int)\n    return np.array(docc)\n\n\n# calculating multiple regions\nfac = np.arctan(.15 * np.sqrt(3) / .10)\nudelta = np.tan(np.linspace(-fac, fac, 91)) * .10 / np.sqrt(3)\ndudelta = diff(udelta)\ndata = []\nbet_uc = [(18, 2.312),\n          (19, 2.339),\n          (20, 2.3638),\n          (20.5, 2.375),\n          (21, 2.386)]\n\nfor beta, uc in bet_uc:\n    urange = udelta + uc + .07\n    data.append(extract_double_occupation(beta, urange) - 0.003)\n\nplt.figure()\nbc = [b for b, _ in bet_uc]\nd_c = [dc[int(len(udelta) / 2)] for dc in data]\nfor dd, dc, (beta, uc) in zip(data, d_c, bet_uc):\n    plt.plot(uc + udelta, dd, '+-', label=beta)\n\nplt.plot([uc for _, uc in bet_uc], [dc[45] for dc in data], 'o')\n\nfor dd, (beta, uc) in zip(data, bet_uc):\n    chi = diff(dd) / dudelta\n    plt.plot(uc + udelta, chi / np.min(chi) * .035, ':')"
      ]
    },
    {
      "cell_type": "markdown",
      "metadata": {},
      "source": [
        "effective scaling\n\n"
      ]
    },
    {
      "cell_type": "code",
      "execution_count": null,
      "metadata": {
        "collapsed": false
      },
      "outputs": [],
      "source": [
        "plt.close()\nplt.figure()\nd_c = [dc[45] for dc in data]\nfor dd, dc, (beta, uc) in zip(data, d_c, bet_uc):\n    plt.plot(udelta, dd - dc, lw=2)\n\n\ndef fit_cube(eta, c):\n    return c * eta**3\n\n\nplt.gca().set_color_cycle(None)\nfor dd, dc, (beta, uc) in zip(data, d_c, bet_uc):\n    rd = dd - dc\n    bound = 35\n    popt, pcov = curve_fit(fit_cube, rd[bound:-bound], udelta[bound:-bound])\n    ft = fit_cube(rd, *popt)\n    plt.plot(ft, rd)\n    print(popt)\n\nplt.xlim([-.15, .15])"
      ]
    },
    {
      "cell_type": "markdown",
      "metadata": {},
      "source": [
        "cubic + linear\n\n"
      ]
    },
    {
      "cell_type": "code",
      "execution_count": null,
      "metadata": {
        "collapsed": false
      },
      "outputs": [],
      "source": [
        "def fit_cube_lin(eta, c, p):\n    return c * eta**3 + p * eta\n\n\nfor dd, dc, (beta, uc) in zip(data, d_c, bet_uc):\n    plt.plot(udelta, dd - dc, lw=2)\n\nplt.gca().set_color_cycle(None)\nbb = [23, 27, 33, 33, 36]\nfor dd, dc, bound, (beta, uc) in zip(data, d_c, bb, bet_uc):\n    rd = dd - dc\n    popt, pcov = curve_fit(\n        fit_cube_lin, rd[bound:-bound], udelta[bound:-bound])\n    ft = fit_cube_lin(rd, *popt)\n    plt.plot(ft, rd)\n    plt.plot(ft[bound:-bound], rd[bound:-bound], \"k+\")\n    print(popt)\n\nplt.xlim([-.15, .15])"
      ]
    },
    {
      "cell_type": "markdown",
      "metadata": {},
      "source": [
        "cubic + linear over constant + linear\n\n"
      ]
    },
    {
      "cell_type": "code",
      "execution_count": null,
      "metadata": {
        "collapsed": false
      },
      "outputs": [],
      "source": [
        "plt.figure()\n\n\ndef fit_cube_lin(eta, c, p, q, s):\n    return (c * eta**3 + p * eta + s) / (1 + q * eta)\n\n\nfor dd, dc, (beta, uc) in zip(data, d_c, bet_uc):\n    plt.plot(udelta, dd - dc, lw=2)\n\nplt.gca().set_color_cycle(None)\nbb = [20, 26, 33, 33, 37]\nfor dd, dc, bound, (beta, uc) in zip(data, d_c, bb, bet_uc):\n    rd = dd - dc\n    popt, pcov = curve_fit(\n        fit_cube_lin, rd[bound:-bound], udelta[bound:-bound], p0=[4e4, 0, 3, -.3])\n    ft = fit_cube_lin(rd, *popt)\n    plt.plot(ft, rd)\n    plt.plot(ft[bound:-bound], rd[bound:-bound], \"k+\")\n    print(popt)\n\nplt.xlim([-.15, .15])"
      ]
    },
    {
      "cell_type": "markdown",
      "metadata": {},
      "source": [
        "Beta 21 study\n\n"
      ]
    },
    {
      "cell_type": "code",
      "execution_count": null,
      "metadata": {
        "collapsed": false
      },
      "outputs": [],
      "source": [
        "def fitchi(urange, a, uc, x0):\n    return a * np.abs(urange - uc)**(-2 / 3) + x0\n\n\nulim = 44\npopt, pcov = curve_fit(fitchi, urange[:ulim], chi[\n                       :ulim], p0=[-0.01, 2.391, -0.01])\nft = fitchi(urange, *popt)\nplt.plot(urange, ft)\nplt.plot(urange[:ulim], ft[:ulim], lw=2)\nprint(popt)\n\nulim += 4\npopt, pcov = curve_fit(\n    fitchi, urange[ulim:], chi[ulim:], p0=[-0.01, 2.391, 0])\nft = fitchi(urange, *popt)\nplt.plot(urange, ft)\nplt.plot(urange[ulim:], ft[ulim:], lw=2)\nprint(popt)"
      ]
    }
  ],
  "metadata": {
    "kernelspec": {
      "display_name": "Python 3",
      "language": "python",
      "name": "python3"
    },
    "language_info": {
      "codemirror_mode": {
        "name": "ipython",
        "version": 3
      },
      "file_extension": ".py",
      "mimetype": "text/x-python",
      "name": "python",
      "nbconvert_exporter": "python",
      "pygments_lexer": "ipython3",
      "version": "3.6.1"
    }
  },
  "nbformat": 4,
  "nbformat_minor": 0
}