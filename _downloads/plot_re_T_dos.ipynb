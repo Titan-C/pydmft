{
  "cells": [
    {
      "cell_type": "code",
      "execution_count": null,
      "metadata": {
        "collapsed": false
      },
      "outputs": [],
      "source": [
        "%matplotlib inline"
      ]
    },
    {
      "cell_type": "markdown",
      "metadata": {},
      "source": [
        "\n# Evolution of DOS as function of temperature\n\n\nUsing a real frequency solver in the IPT scheme the Density of states\nis tracked through the first orders transition.\n\n"
      ]
    },
    {
      "cell_type": "code",
      "execution_count": null,
      "metadata": {
        "collapsed": false
      },
      "outputs": [],
      "source": [
        "# Created Tue Jun 14 15:44:38 2016\n# Author: \u00d3scar N\u00e1jera\n\nfrom __future__ import division, absolute_import, print_function\n\nimport numpy as np\nimport scipy.signal as signal\nfrom scipy.integrate import trapz\nimport matplotlib.pyplot as plt\n\nimport dmft.common as gf\nimport dmft.ipt_real as ipt\nfrom dmft.utils import optical_conductivity\n\n\nimport slaveparticles.quantum.dos as dos\n\nplt.matplotlib.rcParams.update({'axes.labelsize': 22,\n                                'xtick.labelsize': 14, 'ytick.labelsize': 14,\n                                'axes.titlesize': 22})\n\n\ndef loop_beta(u_int, tp, betarange, seed='mott gap'):\n    \"\"\"Solves IPT dimer and return Im Sigma_AA, Re Simga_AB\n\n    returns list len(betarange) x 2 Sigma arrays\n\"\"\"\n\n    s = []\n    g = []\n    w = np.linspace(-6, 6, 2**13)\n    dw = w[1] - w[0]\n    gss = gf.semi_circle_hiltrans(w + 5e-3j - tp - 1)\n    gsa = gf.semi_circle_hiltrans(w + 5e-3j + tp + 1)\n    for beta in betarange:\n        print('U: ', u_int, 'tp: ', tp, 'Beta', beta)\n        nfp = dos.fermi_dist(w, beta)\n        (gss, gsa), (ss, sa) = ipt.dimer_dmft(u_int, tp, nfp, w, dw, gss, gsa)\n        g.append((gss, gsa))\n        s.append((ss, sa))\n\n    return np.array(g), np.array(s)\n\n\ndef simulation(U, tp, betarange):\n    try:\n        storage = np.load('dimer_Tevol_U{}tp{}.npz'.format(U, tp))\n        betarange = storage['betarange']\n        gwi = storage['gwi']\n        swi = storage['swi']\n    except FileNotFoundError:\n        gwi, swi = loop_beta(U, tp, betarange)\n        np.savez('dimer_Tevol_U{}tp{}.npz'.format(U, tp),\n                 betarange=betarange, gwi=gwi, swi=swi)\n    return gwi, swi, betarange\n\n\ndef plot_spectralfunc(gwi, betarange, yshift=False):\n    plt.figure()\n    shift = 0\n    for (gss, gsa), beta in zip(gwi, betarange):\n        gloc = .5 * (gss + gsa)\n        if yshift:\n            shift = 100 / beta\n        plt.plot(w, shift - gloc.imag / np.pi)\n\n    plt.xlabel(r'$\\omega$')\n    plt.ylabel(r'$A(\\omega)$')\n    plt.xlim([-3, 3])"
      ]
    },
    {
      "cell_type": "markdown",
      "metadata": {},
      "source": [
        "Polarization Bubble and optical conductivity\n--------------------------------------------\n\n\n"
      ]
    },
    {
      "cell_type": "code",
      "execution_count": null,
      "metadata": {
        "collapsed": false
      },
      "outputs": [],
      "source": [
        "def optical_cond(ss, sa, tp, w, beta):\n    E = np.linspace(-1, 1, 61)\n    dos = np.exp(-2 * E**2) / np.sqrt(np.pi / 2)\n    de = E[1] - E[0]\n    dosde = (dos * de).reshape(-1, 1)\n    nf = gf.fermi_dist(w, beta)\n\n    lat_Aa = (-1 / np.add.outer(-E, w + tp - sa)).imag / np.pi\n    lat_As = (-1 / np.add.outer(-E, w - tp - ss)).imag / np.pi\n\n    a = optical_conductivity(lat_Aa, lat_Aa, nf, w, dosde)\n    b = optical_conductivity(lat_As, lat_As, nf, w, dosde)\n    c = optical_conductivity(lat_Aa, lat_As, nf, w, dosde)\n    d = optical_conductivity(lat_As, lat_Aa, nf, w, dosde)\n\n    return np.sum((a, b, c, d), axis=0)"
      ]
    },
    {
      "cell_type": "markdown",
      "metadata": {},
      "source": [
        "s-SNIM Experiment\n-----------------\n\n\n"
      ]
    },
    {
      "cell_type": "code",
      "execution_count": null,
      "metadata": {
        "collapsed": false
      },
      "outputs": [],
      "source": [
        "def permitivity(real_sig, betarange, unit_weight):\n    dw = w[1] - w[0]\n    epsilon = []\n    for res, beta in zip(real_sig, betarange):\n        sig = signal.hilbert(res, len(res) * 4)[:len(res)]\n        ep = 1 + 1j * sig / \\\n            (w - dw / 2) * unit_weight * 0.0074  # final unit conversion in SI\n        epsilon.append(ep)\n    return epsilon\n\n\ndef plot_epsilon(epsilon, w):\n    plt.figure()\n    for ep in epsilon:\n        plt.plot(w, ep.real, '-', w, ep.imag, ':')\n    plt.xlabel(r'$\\omega$')\n    plt.ylabel(r'$\\varepsilon$')\n\n\ndef aal_ef(eps_sample, t, e_tip=-1300 + 960j, a=20):\n    beta = (eps_sample - 1) / (eps_sample + 1)\n    alpha = 4 * np.pi * a ** 3 * (e_tip - 1) / (e_tip + 2)\n    return alpha * (1 + beta) / (1 - alpha * beta / (16 * np.pi * (3 * a + 2 * a * np.cos(t))**3))"
      ]
    },
    {
      "cell_type": "markdown",
      "metadata": {},
      "source": [
        "Spectral function Dispersion\n\n"
      ]
    },
    {
      "cell_type": "code",
      "execution_count": null,
      "metadata": {
        "collapsed": false
      },
      "outputs": [],
      "source": [
        "# eps_k = np.linspace(-1., 1., 61)\n\n# ss, sa = swi[18]\n# lat_gfs = 1 / np.add.outer(-eps_k, w - tp + 5e-2j - ss)\n# lat_gfa = 1 / np.add.outer(-eps_k, w + tp + 5e-2j - sa)\n# Aw = np.clip(-.5 * (lat_gfa + lat_gfs).imag / np.pi, 0, 8)\n# plot_band_dispersion(w, Aw, 'Local ', eps_k, 'intensity')\n# plot_band_dispersion(w, -lat_gfa.imag / np.pi, 'Local ', eps_k, 'intensity')\n# plt.ylim([-3, 3])"
      ]
    },
    {
      "cell_type": "code",
      "execution_count": null,
      "metadata": {
        "collapsed": false
      },
      "outputs": [],
      "source": [
        "w = np.linspace(-6, 6, 2**13)\nt = np.linspace(-np.pi, np.pi, 600)\ncos2 = np.cos(2 * t)\n\n# Reference insulator data from http://dx.doi.org/10.1126/science.1150124\ns_ins = np.loadtxt(\n    '/home/oscar/Dropbox/org/phd/dimer_lattice/optical conductivity/ins_340.csv', comments='x', delimiter=',').T\ns_exp_weight = trapz(s_ins[1], x=s_ins[0] / 8056.54)"
      ]
    },
    {
      "cell_type": "markdown",
      "metadata": {},
      "source": [
        "U = 2.8\ntp = 0.3\nhigb = np.array([100., 70., 60., 50.])\ntemp = np.linspace(0.023, 0.035, 30)\n\n"
      ]
    },
    {
      "cell_type": "code",
      "execution_count": null,
      "metadata": {
        "collapsed": false
      },
      "outputs": [],
      "source": [
        "sig_wei = 20"
      ]
    },
    {
      "cell_type": "code",
      "execution_count": null,
      "metadata": {
        "collapsed": false
      },
      "outputs": [],
      "source": [
        "U = 2.5\ntp = 0.3\nhigb = np.array([100., 80., 70.])\ntemp = np.linspace(0.017, 0.021, 30)\nsig_wei = 3"
      ]
    },
    {
      "cell_type": "markdown",
      "metadata": {},
      "source": [
        "temp = np.linspace(0.04, 0.05, 30)\ntemp = np.linspace(0.023, 0.035, 30)\n\n"
      ]
    },
    {
      "cell_type": "code",
      "execution_count": null,
      "metadata": {
        "collapsed": false
      },
      "outputs": [],
      "source": [
        "betarange = np.concatenate((higb, 1 / temp, 1 / temp[::-1], higb[::-1]))\n\ngwi, swi, betarange = simulation(U, tp, betarange)\nresi = [optical_cond(ss, sa, tp, w, beta)\n        for (ss, sa), beta in zip(swi, betarange)]"
      ]
    },
    {
      "cell_type": "markdown",
      "metadata": {},
      "source": [
        "Plots\n-----\n\n"
      ]
    },
    {
      "cell_type": "code",
      "execution_count": null,
      "metadata": {
        "collapsed": false
      },
      "outputs": [],
      "source": [
        "temp_set = [0, 1, 2, 3, 4, len(temp)]\nplot_spectralfunc(gwi, betarange, yshift=True)\nplt.yticks(100 / betarange[temp_set], np.around(1 / betarange, 3)[temp_set])\nplt.title(r'$U={}$ $t_\\perp={}$'.format(U, tp))\nplt.savefig('dimer_sig_Tevo_U{}tp{}_iptre_yshift.pdf'.format(U, tp))\n\nplot_spectralfunc(gwi, betarange, yshift=False)\nplt.title(r'$U={}$ $t_\\perp={}$'.format(U, tp))\nplt.savefig('dimer_dos_Tevo_U{}tp{}_iptre_ontop.pdf'.format(U, tp))\nplt.xlim([-.6, .6])\nplt.ylim([0, 0.11])\nplt.savefig('dimer_dos_Tevo_U{}tp{}_iptre_gapzoom.pdf'.format(U, tp))\nplt.xlim([.6, 1.8])\nplt.ylim([0.11, 0.45])\nplt.savefig('dimer_dos_Tevo_U{}tp{}_iptre_qp_zoom.pdf'.format(U, tp))\n\nrdw = (w > 0) * (w < s_ins[0][-1] / 8056.54)\nsim_weight = trapz(resi[sig_wei][rdw], x=w[rdw])\nunit_weight = s_exp_weight / sim_weight\n\nplt.figure()\nfor res, beta in zip(resi, betarange):\n    plt.plot(w, unit_weight * res)\n\nplt.plot(w, unit_weight * resi[sig_wei], lw=2,\n         label=r'$T={:.3}$'.format(1 / betarange[sig_wei]))\nplt.plot(w, unit_weight * resi[len(temp) + 1], lw=2,\n         label=r'$T={:.3}$'.format(1 / betarange[len(temp) + 1]))\nplt.xlabel(r'$\\omega$')\nplt.ylabel(r'$\\Re \\sigma(\\omega)[\\Omega cm]^{-1}$')\nplt.axvline(s_ins[0][-1] / 8056.54)\nplt.ylim([0, 8000])\nplt.xlim([0, 2])\nplt.legend(loc=0)\nplt.title(r'$U={}$ $t_\\perp={}$'.format(U, tp))\nplt.savefig('dimer_resigma_Tevo_U{}tp{}_iptre.pdf'.format(U, tp))\n\nepsilon = permitivity(resi, betarange, unit_weight)\nplot_epsilon(epsilon, w)\nplt.axvline(w[4174])\nplt.axvline(w[4247])\nplt.ylim([-40, 110])\n#plt.ylim([-1, 10])\nplt.xlim([0.01, .6])\nplt.title(r'$U={}$ $t_\\perp={}$'.format(U, tp))\nplt.savefig('dimer_epsilon_Tevo_U{}tp{}_iptre.pdf'.format(U, tp))"
      ]
    },
    {
      "cell_type": "code",
      "execution_count": null,
      "metadata": {
        "collapsed": false
      },
      "outputs": [],
      "source": [
        "plt.figure()\nepr = np.array([ep[4174] for ep in epsilon])\nepp = np.array([ep[4247] for ep in epsilon])\nplt.plot(1 / betarange, epr.real, 'g', label=r'$\\omega=0.115$')\nplt.plot(1 / betarange, epr.imag, \"g--\")\nplt.plot(1 / betarange, epp.real, 'r', label=r'$\\omega=0.222$')\nplt.plot(1 / betarange, epp.imag, \"r--\")\nplt.xlabel('T')\nplt.ylabel(r'$\\varepsilon_r$')\nplt.legend(loc=0)\nplt.title(r'$U={}$ $t_\\perp={}$'.format(U, tp))\nplt.savefig('dimer_epsilon_Tevo_U{}tp{}_iptre_fixfreq.pdf'.format(U, tp))"
      ]
    },
    {
      "cell_type": "code",
      "execution_count": null,
      "metadata": {
        "collapsed": false
      },
      "outputs": [],
      "source": [
        "# This normalization because this is an intensity measure so just to have\n# readable numbers\nsam = np.array([abs(trapz(aal_ef(ep, t) * cos2, t)) for ep in epr]) / 1e4\nsap = np.array([abs(trapz(aal_ef(ep, t) * cos2, t, -474.41 + 248.61j))\n                for ep in epp]) / 1e4\n\nplt.figure()\nplt.plot(1 / betarange, sam, 'x-', label=r'$\\omega=0.115$')\nplt.plot(1 / betarange, sap, 'r', label=r'$\\omega=0.222$')\nplt.xlabel('T')\nplt.ylabel('2$^{nd}$ harmonic amplitude')\nplt.title(r'$U={}$ $t_\\perp={}$'.format(U, tp))\nplt.legend(loc=0)\nplt.savefig('dimer_s2_Tevo_U{}tp{}_iptre_fixfreq.pdf'.format(U, tp))"
      ]
    }
  ],
  "metadata": {
    "kernelspec": {
      "display_name": "Python 3",
      "language": "python",
      "name": "python3"
    },
    "language_info": {
      "codemirror_mode": {
        "name": "ipython",
        "version": 3
      },
      "file_extension": ".py",
      "mimetype": "text/x-python",
      "name": "python",
      "nbconvert_exporter": "python",
      "pygments_lexer": "ipython3",
      "version": "3.6.1"
    }
  },
  "nbformat": 4,
  "nbformat_minor": 0
}