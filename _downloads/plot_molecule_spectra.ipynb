{
  "cells": [
    {
      "cell_type": "code",
      "execution_count": null,
      "metadata": {
        "collapsed": false
      },
      "outputs": [],
      "source": [
        "%matplotlib inline"
      ]
    },
    {
      "cell_type": "markdown",
      "metadata": {},
      "source": [
        "\n# Isolated molecule spectral function 2\n\n\nFor the case of contact interaction in the di-atomic molecule case\nspectral function are evaluated by means of the Lehmann representation\n\n"
      ]
    },
    {
      "cell_type": "code",
      "execution_count": null,
      "metadata": {
        "collapsed": false
      },
      "outputs": [],
      "source": [
        "# author: \u00d3scar N\u00e1jera\n\nfrom __future__ import division, absolute_import, print_function\nfrom itertools import product, combinations\nimport matplotlib.pyplot as plt\nimport numpy as np\nimport scipy.linalg as LA\nfrom dmft.common import matsubara_freq, gw_invfouriertrans\nimport dmft.dimer as dimer\nimport slaveparticles.quantum.operators as op"
      ]
    },
    {
      "cell_type": "markdown",
      "metadata": {},
      "source": [
        "The Dimer alone\n===============\nThe ground state for half filling is defined at superposition of S=0\nstates containing the double occupation of each site plus the\nindividually occupied sites. This allows for the super-exchange\nprocess and makes it the ground state. The first exited state is\nformed by the triplet states S=1 where sites are singly occupied\n\n"
      ]
    },
    {
      "cell_type": "code",
      "execution_count": null,
      "metadata": {
        "collapsed": false
      },
      "outputs": [],
      "source": [
        "def plot_eigen_spectra(U, mu, tp):\n    h_at, oper = dimer.hamiltonian(U, mu, tp)\n    eig_e = []\n    eig_e.append(LA.eigvalsh(h_at[1:5, 1:5].todense()))\n    eig_e.append(LA.eigvalsh(h_at[5:11, 5:11].todense()))\n    eig_e.append(LA.eigvalsh(h_at[11:15, 11:15].todense()))\n\n    plt.figure()\n    plt.title('Many particle Energy Spectra U={} $t_\\perp={}$'.format(U, tp))\n    plt.plot(np.concatenate(eig_e), \"o-\")\n    plt.ylabel('Energy')\n    plt.xlabel('Eigenstate by N particle block')\n\n    plt.axvline(x=3.5)\n    plt.axvline(x=9.5)\nplot_eigen_spectra(1., 0, 0.2)"
      ]
    },
    {
      "cell_type": "markdown",
      "metadata": {},
      "source": [
        "From the next Spectral functions we see that exitations go from\nground state to the bonding anti-bonding bands. If the ground-state\nis close to the triplet state or reachable by thermal exitation, it\nis also possible to see the exitation from the triplet state to the\nbonding anti-bonding bands.\n\nThe main role in the spetra is played by the local interaction,\nwhich is allowed to grow sufficiently. It split the largely the\nexitation spectra, the inner hopping parameter plays little role,\nonly to lift the ground state degeneracy by super-exchange.\n\n"
      ]
    },
    {
      "cell_type": "code",
      "execution_count": null,
      "metadata": {
        "collapsed": false
      },
      "outputs": [],
      "source": [
        "def plot_A_ev_ru(beta, urange, mu, tp):\n    w = np.linspace(0, 2, 500) + 1j * 5e-3\n    for u_int in urange:\n        h_at, oper = dimer.hamiltonian(u_int, mu, tp)\n        eig_e, eig_v = op.diagonalize(h_at.todense())\n        gf = op.gf_lehmann(eig_e, eig_v, oper[0].T, beta, w)\n        plt.plot(w.real, u_int + gf.imag / gf.imag.min())\n    plt.plot(0.5 * np.sqrt(urange**2 + 16 * tp**2) - tp, urange, '*:',\n             label=r'$|GS\\rangle \\rightarrow \\pm t_\\perp + 1/2(U^2+16t^2_\\perp)^{1/2}$')\n    plt.plot(0.5 * np.sqrt(urange**2 + 16 * tp**2) + tp, urange, '*:')\n    plt.plot(urange / 2 - tp, urange, 'x:',\n             label=r'$|T\\rangle \\rightarrow \\pm t_\\perp + U/2$')\n    plt.plot(urange / 2 + tp, urange, 'x:')\n    plt.xlim([min(w.real), max(w.real)])\nplt.figure()\nbeta, tp = 50., .2\nplot_A_ev_ru(beta, np.arange(0.0, 3.1, 0.5), 0, tp)\nplt.title(\n    r'Molecule exitation spectral function, $\\beta={}$, $t_\\perp={}$'.format(beta, tp))\nplt.xlabel(r'$\\omega$')\nplt.ylabel(r'$U+A(\\omega)$')\nplt.legend(loc=0)\n\n\ndef plot_A_ev_rtp(beta, u_int, mu, tprange):\n    w = np.linspace(-4, 4, 5500) + 1j * 5e-3\n    for tp in tprange:\n        h_at, oper = dimer.hamiltonian(u_int, mu, tp)\n        eig_e, eig_v = op.diagonalize(h_at.todense())\n        gfd = op.gf_lehmann(eig_e, eig_v, oper[0].T, beta, w)\n        gfo = op.gf_lehmann(eig_e, eig_v, oper[0].T, beta, w, oper[1])\n        gf = gfd + gfo\n\n        plt.plot(w.real, tp + gf.imag / gf.imag.min())\n    plt.title('Molecule exitation spectral function')\n    plt.xlabel(r'$\\omega$')\n    plt.plot(0.5 * np.sqrt(u_int**2 + 16 * tprange**2) - tprange, tprange, '*:',\n             label=r'$|GS\\rangle \\rightarrow \\pm t_\\perp + 1/2(U^2+16t^2_\\perp)^{1/2}$')\n    plt.plot(0.5 * np.sqrt(u_int**2 + 16 * tprange**2) + tprange, tprange, '*:')\n    plt.plot(u_int / 2 - tprange, tprange, 'x:',\n             label=r'$|T\\rangle \\rightarrow \\pm t_\\perp + U/2$')\n    plt.plot(u_int / 2 + tprange, tprange, 'x:')\n    plt.xlim([min(w.real), max(w.real)])\n\nplt.figure()\nbeta, U = 150., 1\nplot_A_ev_rtp(beta, 1, 0, np.arange(0.0, 1, 0.1))\nplt.title(r'Molecule exitation spectral function, $\\beta={}$, $U={}$'.format(beta, U))\nplt.xlabel(r'$\\omega$')\nplt.ylabel(r'$t_\\perp+A(\\omega)$')\nplt.legend(loc=0)\n\n\ndef plot_A_ev_utp(beta, urange, mu, tprange):\n    w = np.linspace(-2, 2, 1500) + 1j * 5e-3\n    for u_int, tp in zip(urange, tprange):\n        h_at, oper = dimer.hamiltonian(u_int, mu, tp)\n        eig_e, eig_v = op.diagonalize(h_at.todense())\n        gf = op.gf_lehmann(eig_e, eig_v, oper[0].T, beta, w)\n        plt.plot(w.real, u_int + gf.imag / gf.imag.min(), 'k-')\n\nplt.figure()\nbeta, tp = 155., .2\nplot_A_ev_utp(beta, np.arange(0.0, 1, 0.05), 0, np.arange(1, 0, -0.05))\nplt.title(\n    r'Molecule exitation spectral function, $\\beta={}$, $t_\\perp+U=1$'.format(beta))\nplt.xlabel(r'$\\omega$')\nplt.ylabel(r'$U+A(\\omega)$')\nplt.legend(loc=0)"
      ]
    },
    {
      "cell_type": "markdown",
      "metadata": {},
      "source": [
        "Diagonal basis\n==============\n\n\n"
      ]
    },
    {
      "cell_type": "code",
      "execution_count": null,
      "metadata": {
        "collapsed": false
      },
      "outputs": [],
      "source": [
        "def plot_A_ev_utp(beta, urange, mu, tprange):\n    w = np.linspace(-2, 3.5, 1500) + 1j * 1e-2\n    Aw = []\n    for u_int, tp in zip(urange, tprange):\n        h_at, oper = dimer.hamiltonian_diag(u_int, mu, tp)\n        eig_e, eig_v = op.diagonalize(h_at.todense())\n        gf = op.gf_lehmann(eig_e, eig_v, oper[0].T, beta, w)\n        aw = gf.imag / gf.imag.min()\n        Aw.append(aw)\n    return np.array(Aw)\n\nbeta = 100.\nA = plot_A_ev_utp(beta, np.linspace(0, 1, 51), 0, np.linspace(0, 1, 51)[::-1])\n\nw = np.linspace(-2, 3.5, 1500)\n#plot_band_dispersion(w, A, r'Molecule exitation spectral function, $\\beta={}$, $t_\\perp+U=1$'.format(beta), np.linspace(0, 1, 51))\nplt.figure(1)\nplt.ylabel(r'$U+A(\\omega)$')\nplt.xlim([-2, 3.5])\nplt.figure(2)\nplt.xlabel(r'$\\omega$')\nplt.ylabel(r'$U$')\nplt.ylim([-2, 3.5])"
      ]
    }
  ],
  "metadata": {
    "kernelspec": {
      "display_name": "Python 3",
      "language": "python",
      "name": "python3"
    },
    "language_info": {
      "codemirror_mode": {
        "name": "ipython",
        "version": 3
      },
      "file_extension": ".py",
      "mimetype": "text/x-python",
      "name": "python",
      "nbconvert_exporter": "python",
      "pygments_lexer": "ipython3",
      "version": "3.6.1"
    }
  },
  "nbformat": 4,
  "nbformat_minor": 0
}