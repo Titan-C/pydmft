{
  "cells": [
    {
      "cell_type": "code",
      "execution_count": null,
      "metadata": {
        "collapsed": false
      },
      "outputs": [],
      "source": [
        "%matplotlib inline"
      ]
    },
    {
      "cell_type": "markdown",
      "metadata": {},
      "source": [
        "\nSpectral dispersion of insulator\n================================\n\nWhat does the insulator show for Hubbard bands. They are sharp as in\nthe Hubbard I approximation.\n\n\n"
      ]
    },
    {
      "cell_type": "code",
      "execution_count": null,
      "metadata": {
        "collapsed": false
      },
      "outputs": [],
      "source": [
        "# Author: \u00d3scar N\u00e1jera\n# License: BSD 3 clause\n\nfrom __future__ import division, absolute_import, print_function\nimport matplotlib.pyplot as plt\nimport numpy as np\nfrom dmft.twosite import TwoSite_Real\nfrom slaveparticles.quantum import dos\nimport dmft.common as gf\n\nfig = plt.figure()\n\nsolver = TwoSite_Real\nU = 4\nbeta = 1e5\nsim = solver(beta, 0.5)\nsim.mu = U / 2\nconvergence = False\nhyb = 0.4\nwhile not convergence:\n    old = hyb\n    sim.solve(U / 2, U, old)\n    hyb = sim.hyb_V()\n    hyb = (hyb + old) / 2\n    convergence = np.abs(old - hyb) < 1e-5\n\nprint(U, hyb, sim.ocupations())\nsim.solve(U / 2, U, hyb)\nhyb = sim.hyb_V()\n\nplt.plot(sim.omega, sim.GF[r'$\\Sigma$'])\nplt.plot(sim.omega, sim.GF[r'Imp G'])\n\nw = sim.omega\ns = sim.GF[r'$\\Sigma$']\ng = sim.GF['Imp G']\nra = w + sim.mu - s\nrho = dos.bethe_lattice(ra, sim.t)\nplt.plot(w, rho)\ng = gf.semi_circle_hiltrans(ra + 0.01j)\nplt.plot(w, g.imag)\n\nplt.figure()\neps_k = np.linspace(-1., 1., 61)\nlat_gfs = 1 / np.add.outer(-eps_k, ra + 0.01j)\nAw = np.clip(-lat_gfs.imag / np.pi, 0, 2,)\nx, y = np.meshgrid(eps_k, w)\nplt.pcolormesh(x, y, Aw.T, cmap=plt.get_cmap(r'viridis'), vmin=0, vmax=2)"
      ]
    }
  ],
  "metadata": {
    "kernelspec": {
      "display_name": "Python 3",
      "language": "python",
      "name": "python3"
    },
    "language_info": {
      "codemirror_mode": {
        "name": "ipython",
        "version": 3
      },
      "file_extension": ".py",
      "mimetype": "text/x-python",
      "name": "python",
      "nbconvert_exporter": "python",
      "pygments_lexer": "ipython3",
      "version": "3.6.1"
    }
  },
  "nbformat": 4,
  "nbformat_minor": 0
}