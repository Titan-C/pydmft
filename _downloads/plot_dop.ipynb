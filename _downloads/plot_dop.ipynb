{
  "cells": [
    {
      "cell_type": "code",
      "execution_count": null,
      "metadata": {
        "collapsed": false
      },
      "outputs": [],
      "source": [
        "%matplotlib inline"
      ]
    },
    {
      "cell_type": "markdown",
      "metadata": {},
      "source": [
        "\nParameter space result for the doped case\n=========================================\n\nIn this case one solves the two site problem for all doping cases\nat various local interaction values. The most prevalent differnce\nis the behavior of the hybridization to the bath site.\n\n"
      ]
    },
    {
      "cell_type": "code",
      "execution_count": null,
      "metadata": {
        "collapsed": false
      },
      "outputs": [],
      "source": [
        "from __future__ import division, absolute_import, print_function\nimport matplotlib.pyplot as plt\nimport numpy as np\nfrom dmft.twosite_dop import dmft_loop_dop\n\n\ndef doping_config(res, u, name):\n    fig, axes = plt.subplots(3, sharex=True)\n    axes[-1].set_xlabel('$<N>_{imp}$')\n    fill = res[:, 0]\n    axes[0].set_xlim([0, 1])\n    e_c = [sim.e_c for sim in res[:, 1]]\n    V = [sim.hyb_V() for sim in res[:, 1]]\n    mu = [sim.mu for sim in res[:, 1]]\n    for feat, ax, lab in zip([e_c, V, mu], axes, ['$\\\\epsilon_c$', 'V', '$\\\\mu$']):\n        ax.plot(fill, feat, label=lab)\n        ax.set_ylabel(lab)\n    axes[0].set_title('Two site DMFT parameters at U={}'.format(u))\n    fig.savefig(name + '_bathparam.png', format='png',\n                transparent=False, bbox_inches='tight', pad_inches=0.05)\n\n\ndef plot_doping_param(axis='real', beta=1e3, u_int=[4.]):\n    for u in u_int:\n        out_file = axis + '_dop_b{}_U{}'.format(beta, u)\n        try:\n            res = np.load(out_file + '.npy')\n        except IOError:\n            res = dmft_loop_dop(u)\n            np.save(out_file, res)\n\n        doping_config(res, u, out_file)\n\nplot_doping_param(u_int=[2., 4., 5.85, 6., 8., 10., 100.])"
      ]
    }
  ],
  "metadata": {
    "kernelspec": {
      "display_name": "Python 3",
      "language": "python",
      "name": "python3"
    },
    "language_info": {
      "codemirror_mode": {
        "name": "ipython",
        "version": 3
      },
      "file_extension": ".py",
      "mimetype": "text/x-python",
      "name": "python",
      "nbconvert_exporter": "python",
      "pygments_lexer": "ipython3",
      "version": "3.6.1"
    }
  },
  "nbformat": 4,
  "nbformat_minor": 0
}