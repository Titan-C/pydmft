{
  "cells": [
    {
      "cell_type": "code",
      "execution_count": null,
      "metadata": {
        "collapsed": false
      },
      "outputs": [],
      "source": [
        "%matplotlib inline"
      ]
    },
    {
      "cell_type": "markdown",
      "metadata": {},
      "source": [
        "\n# IPT Solver for a dimer\n\n\nSimple IPT solver for a dimer\n\nFor symmetry reason only the imaginary diagonal and the real\noff-diagonal parts of the block green function are stored in\ndisk. Keep that in mind when dealing with files\n\n"
      ]
    },
    {
      "cell_type": "code",
      "execution_count": null,
      "metadata": {
        "collapsed": false
      },
      "outputs": [],
      "source": [
        "# Created Thu Nov 12 17:55:48 2015\n# Author: \u00d3scar N\u00e1jera\n\nfrom __future__ import division, absolute_import, print_function\nfrom math import ceil, log\nimport itertools\nimport json\nimport os\nimport numpy as np\nfrom joblib import Parallel, delayed\nimport dmft.dimer as dimer\nimport dmft.common as gf\n\n\ndef loop_tp_u(tprange, Drange, beta, filestr, seed='mott gap'):\n\n    save_dir = filestr.format(beta)\n    if np.allclose(tprange, tprange[0]) and 'tp' not in save_dir:\n        save_dir = os.path.join(save_dir, 'tp' + str(tprange[0]))\n    elif np.allclose(Drange, Drange[0]):\n        save_dir = os.path.join(save_dir, 'D' + str(Drange[0]))\n\n    if not os.path.exists(save_dir):\n        os.makedirs(save_dir)\n\n    setup = {'beta': beta, 'tprange': tprange.tolist(),\n             'Drange': Drange.tolist()}\n    with open(save_dir + '/setup', 'w') as conf:\n        json.dump(setup, conf, indent=2)"
      ]
    },
    {
      "cell_type": "code",
      "execution_count": null,
      "metadata": {
        "collapsed": false
      },
      "outputs": [],
      "source": [
        "tau, w_n = gf.tau_wn_setup(\n        dict(BETA=beta, N_MATSUBARA=max(2**ceil(log(6 * beta) / log(2)), 256)))\n    giw_d, giw_o = dimer.gf_met(w_n, 0., tprange[0], 0.5, 0.)\n    if seed == 'mott gap':\n        giw_d, giw_o = 1 / (1j * w_n - 4j / w_n), np.zeros_like(w_n) + 0j\n\n    giw_s = []\n    for tp, D in zip(tprange, Drange):\n        giw_d, giw_o, loops = dimer.ipt_dmft_loop(\n            beta, 1, tp, giw_d, giw_o, tau, w_n, 1 / 5 / beta, t=D / 2)\n        giw_s.append((giw_d.imag, giw_o.real))\n    np.save(save_dir + '/giw', np.array(giw_s))\n\n\nif __name__ == \"__main__\":\n\n    Drange = np.linspace(0.05, 1.1, 81)\n    tpr = np.arange(0, 1.1, 0.02)\n    BETARANGE = [100., 30.]\n    jobs = [(job.T[0], job.T[1], BETA, 'disk/phase_Dimer_ipt_D_met_B{:.5}', 'metal')\n            for BETA in BETARANGE\n            for job in np.array(list(itertools.product(tpr, Drange))).reshape(len(tpr), len(Drange), 2)]\n    jobs += [(job.T[0], job.T[1][::-1], BETA, 'disk/phase_Dimer_ipt_D_ins_B{:.5}')\n             for BETA in BETARANGE\n             for job in np.array(list(itertools.product(tpr, Drange))).reshape(len(tpr), len(Drange), 2)]\n\n    Parallel(n_jobs=-1, verbose=5)(delayed(loop_tp_u)(*job) for job in jobs)\n\n    tpr = [.15, .3, .5]\n    BETARANGE = 1 / np.arange(1 / 512., .4, 1 / 400)\n    Drange = np.linspace(0.05, 1.1, 81)\n    jobs = [(job.T[0], job.T[1], BETA, 'disk/phase_Dimer_ipt_D_met_tp{}/B{{:.5}}'.format(job[0][0]), 'metal')\n            for BETA in BETARANGE\n            for job in np.array(list(itertools.product(tpr, Drange))).reshape(len(tpr), len(Drange), 2)]\n    jobs += [(job.T[0], job.T[1][::-1], BETA, 'disk/phase_Dimer_ipt_D_ins_tp{}/B{{:.5}}'.format(job[0][0]))\n             for BETA in BETARANGE\n             for job in np.array(list(itertools.product(tpr, Drange))).reshape(len(tpr), len(Drange), 2)]\n\n    Parallel(n_jobs=-1, verbose=5)(delayed(loop_tp_u)(*job) for job in jobs)"
      ]
    }
  ],
  "metadata": {
    "kernelspec": {
      "display_name": "Python 3",
      "language": "python",
      "name": "python3"
    },
    "language_info": {
      "codemirror_mode": {
        "name": "ipython",
        "version": 3
      },
      "file_extension": ".py",
      "mimetype": "text/x-python",
      "name": "python",
      "nbconvert_exporter": "python",
      "pygments_lexer": "ipython3",
      "version": "3.6.1"
    }
  },
  "nbformat": 4,
  "nbformat_minor": 0
}