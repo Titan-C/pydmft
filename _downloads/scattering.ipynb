{
  "cells": [
    {
      "cell_type": "code",
      "execution_count": null,
      "metadata": {
        "collapsed": false
      },
      "outputs": [],
      "source": [
        "%matplotlib inline"
      ]
    },
    {
      "cell_type": "markdown",
      "metadata": {},
      "source": [
        "\n# Studying the scattering rate in the dimer\n\n\nDo the zero frequency extrapolation of the Self-Energy to find the\nscattering rate in the metal and the renormalized intra site hopping\n\n\n"
      ]
    },
    {
      "cell_type": "code",
      "execution_count": null,
      "metadata": {
        "collapsed": false
      },
      "outputs": [],
      "source": [
        "# Created Mon May  9 11:30:14 2016\n# Author: \u00d3scar N\u00e1jera\n\nfrom __future__ import division, absolute_import, print_function\nimport os\nimport matplotlib.pyplot as plt\nimport numpy as np\nimport dmft.common as gf\nimport py3qs.triqs_dimer as tdp\n\nplt.matplotlib.rcParams.update({'axes.labelsize': 22,\n                                'xtick.labelsize': 18, 'ytick.labelsize': 18,\n                                'axes.titlesize': 22})\nos.chdir('/home/oscar/orlando/dev/dmft-learn/examples/dimer_bethe/tp03f/')\n\n\ndef processing(BETA, U, tp, ax):\n    with tdp.HDFArchive('DIMER_PM_B{}_tp0.3.h5'.format(BETA)) as data:\n        # print(data)\n        giw = tdp.get_giw(data['U' + str(U)], slice(-1, -3, -1))\n\n    giw_s = np.squeeze(.5 * (giw['sym_up'].data + giw['sym_dw'].data))\n    giw_s = giw_s[len(giw_s) / 2:len(giw_s) / 2 + 300]\n    w_n = gf.matsubara_freq(BETA, len(giw_s))\n\n    giw_a = np.squeeze(.5 * (giw['asym_up'].data + giw['asym_dw'].data))\n    giw_a = giw_a[len(giw_a) / 2:len(giw_a) / 2 + 300]\n\n    # more Avgs\n    giw_s = 0.5j * (giw_s + giw_a).imag + 0.5 * (giw_s - giw_a).real\n\n    x = int(.9 * BETA)\n    der1 = (giw_s.real * w_n**2)[x:int(1.2 * BETA)].mean()\n    der2 = ((giw_s.imag + 1 / w_n) * w_n**3)[x:int(1.2 * BETA)].mean()\n    tails = -1j / w_n + der1 / w_n**2 + der2 * 1j / w_n**3\n    giw_s[x:] = tails[x:]\n\n    sidab = 1j * w_n - tp - .25 * giw_s - 1 / giw_s\n    w = np.linspace(0, 1, 40)\n    swa = gf.pade_continuation(sidab, w_n[:int(1.8 * BETA)], 1j * w)\n    ax[0].plot(w_n, sidab.imag)\n    ax[0].plot(w, swa.imag, \"k:\")\n    ax[1].plot(w_n, sidab.real)\n    ax[1].plot(w, swa.real, \"k:\")\n\n    sig_11_0 = np.polyfit(w_n[:2], sidab.imag[:2], 1)[1]\n    rtp = np.polyfit(w_n[:2], sidab.real[:2], 1)[1]\n\n    return swa.imag[0], swa.real[0], sig_11_0, rtp"
      ]
    },
    {
      "cell_type": "markdown",
      "metadata": {},
      "source": [
        "Fit of the Self-Energy by Pad\u00e9 and linear fit from the first 2 frequencies\nWork on metallic case at U=2.5, tp=0.3\n\n"
      ]
    },
    {
      "cell_type": "code",
      "execution_count": null,
      "metadata": {
        "collapsed": false
      },
      "outputs": [],
      "source": [
        "BETARANGE = np.array([20., 24., 30., 40., 50., 62., 75., 100., 150.])\nfig, si = plt.subplots(2, 1, sharex=True)\nzero_wp = np.array([processing(BETA, 2.15, .3, si) for BETA in BETARANGE])\nsi[0].set_ylabel(r'$\\Im m \\Sigma_{11}$')\nsi[1].set_ylabel(r'$\\Re e\\Sigma_{12}$')\nsi[1].set_xlabel(r'$i\\omega_n$')\nsi[1].set_xlim([0, 1])\nsi[1].set_ylim([0.1, 0.26])\n#fig.savefig('CT_QMC-Sigma_zero_w.pdf', format='pdf', transparent=False, bbox_inches='tight', pad_inches=0.05)"
      ]
    },
    {
      "cell_type": "markdown",
      "metadata": {},
      "source": [
        "Blues are by Pad\u00e9, Greens are linear. Not to much difference\n\n"
      ]
    },
    {
      "cell_type": "code",
      "execution_count": null,
      "metadata": {
        "collapsed": false
      },
      "outputs": [],
      "source": [
        "fig, si = plt.subplots(2, 1, sharex=True)\nsi[0].plot(1 / BETARANGE, - zero_wp[:, 0])\nsi[0].plot(1 / BETARANGE, - zero_wp[:, 2])\nsi[1].plot(1 / BETARANGE, .3 + zero_wp[:, 1])\nsi[1].plot(1 / BETARANGE, .3 + zero_wp[:, 3])\nsi[0].set_ylabel(r'$-\\Im m \\Sigma_{11}(w=0)$')\nsi[0].grid()\nsi[1].set_ylabel(r'$t_\\perp + \\Re e\\Sigma_{12}(w=0)$')\nsi[1].set_xlabel('$T/D$')\nsi[1].grid()\n#fig.savefig('CT_QMC-Sigma_scattering.pdf', format='pdf', transparent=False, bbox_inches='tight', pad_inches=0.05)"
      ]
    }
  ],
  "metadata": {
    "kernelspec": {
      "display_name": "Python 3",
      "language": "python",
      "name": "python3"
    },
    "language_info": {
      "codemirror_mode": {
        "name": "ipython",
        "version": 3
      },
      "file_extension": ".py",
      "mimetype": "text/x-python",
      "name": "python",
      "nbconvert_exporter": "python",
      "pygments_lexer": "ipython3",
      "version": "3.6.1"
    }
  },
  "nbformat": 4,
  "nbformat_minor": 0
}