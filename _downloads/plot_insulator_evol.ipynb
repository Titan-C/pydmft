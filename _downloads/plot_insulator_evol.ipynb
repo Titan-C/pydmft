{
  "cells": [
    {
      "cell_type": "code",
      "execution_count": null,
      "metadata": {
        "collapsed": false
      },
      "outputs": [],
      "source": [
        "%matplotlib inline"
      ]
    },
    {
      "cell_type": "markdown",
      "metadata": {},
      "source": [
        "\nShow the evolution of spectral Function and Self-energy in the insulator\n========================================================================\n\nStudy the change of increasing dimerization to tame the Mott insulator into\na Peierls insulator. Then from the Peierls insulator increase correlation\nto recover Mottness.\n\n"
      ]
    },
    {
      "cell_type": "code",
      "execution_count": null,
      "metadata": {
        "collapsed": false
      },
      "outputs": [],
      "source": [
        "from __future__ import division, absolute_import, print_function\n\nimport numpy as np\nimport matplotlib.pyplot as plt\nfrom scipy.interpolate import splrep, splev\n\nimport dmft.common as gf\nimport dmft.ipt_imag as ipt\nimport dmft.dimer as dimer\n\n# When True, automatically adjust subplot\nplt.rcParams['figure.autolayout'] = False\nplt.rcParams[\"axes.grid\"] = False\n\n\ndef ipt_u_tp(u_int, tp, beta, seed='ins'):\n\n    tau, w_n = gf.tau_wn_setup(dict(BETA=beta, N_MATSUBARA=2**12))\n    giw_d, giw_o = dimer.gf_met(w_n, 0., 0., 0.5, 0.)\n\n    if 'ins' in seed:\n        giw_d, giw_o = 1 / (1j * w_n + 4j / w_n), np.zeros_like(w_n) + 0j\n\n    giw_d, giw_o, loops = dimer.ipt_dmft_loop(\n        beta, u_int, tp, giw_d, giw_o, tau, w_n, 1e-9)\n    g0iw_d, g0iw_o = dimer.self_consistency(\n        1j * w_n, 1j * giw_d.imag, giw_o.real, 0., tp, 0.25)\n    siw_d, siw_o = ipt.dimer_sigma(u_int, tp, g0iw_d, g0iw_o, tau, w_n)\n\n    return giw_d, giw_o, siw_d, siw_o, w_n\n\n\ndef ipt_co_s(u_int, tp, BETA, seed, w):\n    giw_d, giw_o, siw_d, siw_o, w_n = ipt_u_tp(u_int, tp, BETA, seed)\n\n    w_set = list(np.arange(0, 20, 1))\n    w_set = w_set + list(np.arange(20, 120, 2))\n    w_set = w_set + list(np.arange(120, 512, 8))\n    sa = gf.pade_continuation(\n        1j * siw_d.imag - siw_o.real, w_n, w + 0.0005j, w_set)  # A-bond\n\n    sa = sa.real - 1j * np.abs(sa.imag)\n    return sa\n\n\ndef low_en_qp(sa):\n    glp = np.array([0.])\n    sigtck = splrep(w, sa.real, s=0)\n    sig_0 = splev(glp, sigtck, der=0)[0]\n    dw_sig0 = splev(glp, sigtck, der=1)[0]\n    quas_z = 1 / (1 - dw_sig0)\n    return quas_z, sig_0, dw_sig0\n\n\ndef plot_spectral(omega, tp, sa, axes, ylim):\n\n    (axgf, axsg) = axes\n    quas_z, sig_0, dw_sig0 = low_en_qp(sa)\n    tpp = (tp - sig_0) * quas_z\n    gsa = gf.semi_circle_hiltrans(w + tp - sa)\n    axgf.plot(omega, -gsa.imag / np.pi, 'C0')\n    llg = gf.semi_circle_hiltrans(omega + 1e-8j + tpp, quas_z) * quas_z\n    axgf.plot(omega, -llg.imag / np.pi,  \"C3--\", lw=2)\n    axgf.tick_params(left='on', right='on')\n\n    # plt.plot(omega, gst.real)\n    axsg.plot(omega, sa.real,  'C4', label=r'$\\Re e$')\n    axsg.plot(omega, sa.imag,  'C2-.', label=r'$\\Im m$')\n    axsg.legend(loc=2, ncol=2)\n    axsg.set_ylim(*ylim)\n    axsg.tick_params(left='on', right='on')\n    axsg.axhline(0, color='k', lw=0.2)"
      ]
    },
    {
      "cell_type": "markdown",
      "metadata": {},
      "source": [
        "Change from Mott insulator to Peierls by increasing dimerization\n----------------------------------------------------------------\n\n"
      ]
    },
    {
      "cell_type": "code",
      "execution_count": null,
      "metadata": {
        "collapsed": false
      },
      "outputs": [],
      "source": [
        "BETA = 512.\n\nw = np.linspace(-4, 4, 2**12)\nplt.close('all')\nplot_points = [0.3, 0.5, 0.7, 0.85, 1.1]\nU = 2.3\nfig_g, axg = plt.subplots(\n    len(plot_points), 1, sharex=True, figsize=(6, 1.7 * len(plot_points)))\nfig_s, axs = plt.subplots(\n    len(plot_points), 1, sharex=True, figsize=(6, 1.7 * len(plot_points)))\n\nfor i, tp in enumerate(plot_points):\n    sa = ipt_co_s(U, tp, BETA, 'ins', w)\n    plot_spectral(w, tp, sa, (axg[i], axs[i]), (-3, 3))\n    axg[i].set_ylabel(r'$t_\\perp={}$'.format(tp), size=15)\n    axs[i].set_ylabel(r'$t_\\perp={}$'.format(tp), size=15)\n\naxg[0].set_title(r'$A_B(w)$ @ $U={}$'.format(U))\naxs[0].set_title(r'$\\Sigma_B(w)$ @ $U={}$'.format(U))\naxg[-1].set_xlabel(r'$\\omega$')\naxs[-1].set_xlabel(r'$\\omega$')\naxs[-1].set_xlim(-2.5, 2.5)\naxg[-1].set_xlim(-2.5, 2.5)\n\nfig_g.subplots_adjust(hspace=0.06)\nfig_s.subplots_adjust(hspace=0.06)\n# fig_g.savefig('IPT_EF_qp_DOS_tpevol_ins.pdf')\n# fig_s.savefig('IPT_EF_qp_sigma_tpevol_ins.pdf')\n# plt.close('all')"
      ]
    },
    {
      "cell_type": "markdown",
      "metadata": {},
      "source": [
        "Change from Peierls to Mott insulator by increasing correlation\n---------------------------------------------------------------\n\n"
      ]
    },
    {
      "cell_type": "code",
      "execution_count": null,
      "metadata": {
        "collapsed": false
      },
      "outputs": [],
      "source": [
        "BETA = 512.\n\nw = np.linspace(-4, 4, 2**12)\nplt.close('all')\nplot_points = [\n    (1.4, (-1, 1)),\n    (2.4,  (-3, 3)),\n    (3.3,  (-8, 8)),\n    (4.3,  (-12, 12))]\ntp = 0.8\n\nfig_g, axg = plt.subplots(\n    len(plot_points), 1, sharex=True, figsize=(6, 1.7 * len(plot_points)))\nfig_s, axs = plt.subplots(\n    len(plot_points), 1, sharex=True, figsize=(6, 1.7 * len(plot_points)))\n\nfor i, (U, ylim) in enumerate(plot_points):\n    sa = ipt_co_s(U, tp, BETA, 'ins', w)\n    plot_spectral(w, tp, sa, (axg[i], axs[i]), ylim)\n    axg[i].set_ylabel(r'$U={}$'.format(U), size=15)\n    axs[i].set_ylabel(r'$U={}$'.format(U), size=15)\n\naxg[0].set_title(r'$A_B(w)$ @ $t_\\perp={}$'.format(tp))\naxs[0].set_title(r'$\\Sigma_B(w)$ @ $t_\\perp={}$'.format(tp))\naxg[-1].set_xlabel(r'$\\omega$')\naxs[-1].set_xlabel(r'$\\omega$')\naxs[-1].set_xlim(-4, 4)\naxg[-1].set_xlim(-4, 4)\nfig_g.subplots_adjust(hspace=0.06)\nfig_s.subplots_adjust(hspace=0.06)\n# fig_g.savefig('IPT_EF_qp_DOS_Uevol_ins_tp.pdf')\n# fig_s.savefig('IPT_EF_qp_sigma_Uevol_ins_tp.pdf')\n# plt.close('all')"
      ]
    }
  ],
  "metadata": {
    "kernelspec": {
      "display_name": "Python 3",
      "language": "python",
      "name": "python3"
    },
    "language_info": {
      "codemirror_mode": {
        "name": "ipython",
        "version": 3
      },
      "file_extension": ".py",
      "mimetype": "text/x-python",
      "name": "python",
      "nbconvert_exporter": "python",
      "pygments_lexer": "ipython3",
      "version": "3.6.1"
    }
  },
  "nbformat": 4,
  "nbformat_minor": 0
}