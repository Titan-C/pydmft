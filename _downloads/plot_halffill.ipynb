{
  "cells": [
    {
      "cell_type": "code",
      "execution_count": null,
      "metadata": {
        "collapsed": false
      },
      "outputs": [],
      "source": [
        "%matplotlib inline"
      ]
    },
    {
      "cell_type": "markdown",
      "metadata": {},
      "source": [
        "\n# Following the Metal to Mott insulator Transition\n\n\nSequence of plots showing the transfer of spectral weight for a Hubbard\nModel in the Bethe Lattice as the local interaction is raised.\n\n"
      ]
    },
    {
      "cell_type": "code",
      "execution_count": null,
      "metadata": {
        "collapsed": false
      },
      "outputs": [],
      "source": [
        "# Code source: \u00d3scar N\u00e1jera\n# License: BSD 3 clause\nfrom __future__ import division, absolute_import, print_function\nimport matplotlib.pyplot as plt\nimport numpy as np\nfrom slaveparticles.quantum import dos\n\naxis = 'real'\ndu = 0.05\nbeta = 1e3\nu_int = [0.5, 2., 4.5, 5.85, 6.]\nout_file = axis+'_halffill_b{}_dU{}'.format(beta, du)\nres = np.load(out_file+'.npy')\n\nfor u in u_int:\n    ind = np.where(np.abs(res[:, 0] - u) < 1e-3)[0][0]\n\n    f, (ax1, ax2, ax3) = plt.subplots(3, sharex=True)\n    ax1.set_title('Transition to Mott Insulator at '\n                  '$\\\\beta=${} and U/D={}'.format(beta, u/2))\n    f.subplots_adjust(hspace=0)\n\n    w = res[ind, 2].omega\n    s = res[ind, 2].GF[r'$\\Sigma$']\n    g = res[ind, 2].GF['Imp G']\n    ra = w+u/2.-s\n    rho = dos.bethe_lattice(ra, res[ind, 2].t)\n\n    ax1.plot(w, rho)\n    ax1.set_xlim([-6, 6])\n    ax1.set_ylim([0, 0.36])\n\n    ax2.plot(w, s)\n    ax2.set_ylim([-6, 9])\n\n    ax3.plot(w, g)\n    ax3.set_ylim([-6, 6])\n\n    ax1.set_ylabel(r'$A(\\omega)$')\n    ax2.set_ylabel(r'$\\Sigma(\\omega)$')\n    ax3.set_ylabel(r'$G_{imp}(\\omega)$')\n    ax3.set_xlabel('$\\\\omega / t$')"
      ]
    }
  ],
  "metadata": {
    "kernelspec": {
      "display_name": "Python 3",
      "language": "python",
      "name": "python3"
    },
    "language_info": {
      "codemirror_mode": {
        "name": "ipython",
        "version": 3
      },
      "file_extension": ".py",
      "mimetype": "text/x-python",
      "name": "python",
      "nbconvert_exporter": "python",
      "pygments_lexer": "ipython3",
      "version": "3.6.1"
    }
  },
  "nbformat": 4,
  "nbformat_minor": 0
}