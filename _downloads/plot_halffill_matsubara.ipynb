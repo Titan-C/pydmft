{
  "cells": [
    {
      "cell_type": "code",
      "execution_count": null,
      "metadata": {
        "collapsed": false
      },
      "outputs": [],
      "source": [
        "%matplotlib inline"
      ]
    },
    {
      "cell_type": "markdown",
      "metadata": {},
      "source": [
        "\n# Following the Metal to Mott insulator Transition\n\n\nSequence of plots showing the transfer of spectral weight for a Hubbard\nModel in the Bethe Lattice as the local interaction is raised.\n\n"
      ]
    },
    {
      "cell_type": "code",
      "execution_count": null,
      "metadata": {
        "collapsed": false
      },
      "outputs": [],
      "source": [
        "# Code source: \u00d3scar N\u00e1jera\n# License: BSD 3 clause\nfrom __future__ import division, absolute_import, print_function\nimport matplotlib.pyplot as plt\nimport numpy as np\nfrom dmft.twosite import refine_mat_solution\n\naxis = 'matsubara'\ndu = 0.05\nbeta = 50\nu_int = [2., 4.5, 5.85, 6.]\n\nout_file = axis+'_halffill_b{}_dU{}'.format(beta, du)\nres = np.load(out_file+'.npy')\n\nfor u in u_int:\n    ind = np.abs(res[:, 0] - u).argmin()\n\n    f, (ax1, ax2) = plt.subplots(2, sharex=True)\n    ax1.set_title('Transition to Mott Insulator at '\n                  '$\\\\beta=${} and U/D={}'.format(beta, u/2))\n\n    sim = refine_mat_solution(res[ind, 2], u)\n\n    w = sim.omega.imag\n    s = sim.GF[r'$\\Sigma$']\n    g = sim.GF['Imp G']\n\n    ax1.plot(w, g.imag, 'b+')\n    ax1.set_xlim([w.min(), w.max()])\n\n    ax2.plot(w, s.imag, 'b+')\n    bound = s.imag.min() * 1.2\n    ax2.set_ylim([np.max([bound, -25]), 0])\n\n    ax1.set_ylabel(r'$\\Im m G_{imp}(\\omega)$', color='b')\n    ax2.set_ylabel(r'$\\Im m \\Sigma(\\omega)$', color='b')\n    ax2.set_xlabel('$i\\\\omega_n / t$')"
      ]
    }
  ],
  "metadata": {
    "kernelspec": {
      "display_name": "Python 3",
      "language": "python",
      "name": "python3"
    },
    "language_info": {
      "codemirror_mode": {
        "name": "ipython",
        "version": 3
      },
      "file_extension": ".py",
      "mimetype": "text/x-python",
      "name": "python",
      "nbconvert_exporter": "python",
      "pygments_lexer": "ipython3",
      "version": "3.6.1"
    }
  },
  "nbformat": 4,
  "nbformat_minor": 0
}