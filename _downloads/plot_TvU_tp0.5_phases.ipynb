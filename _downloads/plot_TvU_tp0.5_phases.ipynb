{
  "cells": [
    {
      "cell_type": "code",
      "execution_count": null,
      "metadata": {
        "collapsed": false
      },
      "outputs": [],
      "source": [
        "%matplotlib inline"
      ]
    },
    {
      "cell_type": "markdown",
      "metadata": {},
      "source": [
        "\nThe Dimer $t_\\perp/D=0.5$ phase diagram on temperature\n============================================================\n\nCollect data on double occupation and plot the phase diagram\n\n.. seealso::\n     `sphx_glr_dimer_lattice_cthyb_extract_docc_tp.py`\n\n"
      ]
    },
    {
      "cell_type": "code",
      "execution_count": null,
      "metadata": {
        "collapsed": false
      },
      "outputs": [],
      "source": [
        "# Author: \u00d3scar N\u00e1jera\n\nfrom __future__ import division, absolute_import, print_function\n\nimport argparse\nimport re\nfrom glob import glob\nimport numpy as np\nfrom matplotlib.mlab import griddata\nimport matplotlib.pyplot as plt\n\ndata = np.load('met_tp0.5_UTd.npz', encoding='bytes')\nmd_list, mtemp_list, mu_list = data['docc'], data['temp'], data['u_int']\n\ndata = np.load('ins_tp0.5_UTd.npz', encoding='bytes')\nid_list, itemp_list, iu_list = data['docc'], data['temp'], data['u_int']\n\n# Join double occupation results\nx = np.concatenate(list(mu_list) + list(iu_list))\ny = np.concatenate(list(mtemp_list) + list(itemp_list))\nz = np.concatenate(list(md_list) + list(id_list))\n# define plot grid.\nxi = np.linspace(1.4, 2.2, 150)\nyi = np.linspace(0, 0.04, 150)\n# Grid the data\nzi = griddata(x, y, z, xi, yi, interp='nn')\nCS = plt.contourf(xi, yi, zi, 15, cmap=plt.get_cmap('viridis'))\nplt.colorbar()  # draw colorbar\n\nplt.scatter(np.concatenate(mu_list), np.concatenate(mtemp_list),\n            c=np.concatenate(md_list), s=70, vmin=0.036, vmax=0.12,\n            cmap=plt.get_cmap('viridis'), marker='o', edgecolor='k')\n\nplt.scatter(np.concatenate(iu_list), np.concatenate(itemp_list),\n            c=np.concatenate(id_list), s=30, vmin=0.036, vmax=0.12,\n            cmap=plt.get_cmap('viridis'), marker='o', edgecolor='k')\n\n\nplt.xlim([min(xi), max(xi)])\nplt.ylim([min(yi), max(yi)])\n\nplt.xlabel(r'$U/D$')\nplt.ylabel(r'$T/D$')"
      ]
    }
  ],
  "metadata": {
    "kernelspec": {
      "display_name": "Python 3",
      "language": "python",
      "name": "python3"
    },
    "language_info": {
      "codemirror_mode": {
        "name": "ipython",
        "version": 3
      },
      "file_extension": ".py",
      "mimetype": "text/x-python",
      "name": "python",
      "nbconvert_exporter": "python",
      "pygments_lexer": "ipython3",
      "version": "3.6.1"
    }
  },
  "nbformat": 4,
  "nbformat_minor": 0
}