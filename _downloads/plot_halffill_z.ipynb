{
  "cells": [
    {
      "cell_type": "code",
      "execution_count": null,
      "metadata": {
        "collapsed": false
      },
      "outputs": [],
      "source": [
        "%matplotlib inline"
      ]
    },
    {
      "cell_type": "markdown",
      "metadata": {},
      "source": [
        "\n# Following the Metal to Mott insulator Transition\n\n\nPlot of the Quasiparticle weigth decay for the Hubbard\nModel in the Bethe Lattice as the local interaction is raised.\n\n"
      ]
    },
    {
      "cell_type": "code",
      "execution_count": null,
      "metadata": {
        "collapsed": false
      },
      "outputs": [],
      "source": [
        "# Code source: \u00d3scar N\u00e1jera\n# License: BSD 3 clause\n\nfrom __future__ import division, absolute_import, print_function\nimport matplotlib.pyplot as plt\nimport numpy as np\nfrom dmft.twosite import dmft_loop\n\n\ndef plot_z(axis='matsubara', du=0.05):\n    fig = plt.figure()\n    u_int = np.arange(0, 6.2, du)\n    for beta in [6, 10, 20, 30, 50, 100, 1e3]:\n        out_file = axis + '_halffill_b{}_dU{}'.format(beta, du)\n        try:\n            res = np.load(out_file + '.npy')\n        except IOError:\n            res = dmft_loop(u_int, axis, beta=beta, hop=1)\n            np.save(out_file, res)\n\n        plt.plot(res[:, 0] / 2, res[:, 1], '+-',\n                 label='$\\\\beta = {}$'.format(beta))\n\n    plt.legend(loc=0)\n    plt.title('Quasiparticle weigth, estimated in {} frequencies'.format(axis))\n    plt.ylabel('Z')\n    plt.xlabel('U/D')\n    fig.savefig(out_file + '_Z.png', format='png',\n                transparent=False, bbox_inches='tight', pad_inches=0.05)\n\n\nplot_z('real')\nplot_z('matsubara')"
      ]
    }
  ],
  "metadata": {
    "kernelspec": {
      "display_name": "Python 3",
      "language": "python",
      "name": "python3"
    },
    "language_info": {
      "codemirror_mode": {
        "name": "ipython",
        "version": 3
      },
      "file_extension": ".py",
      "mimetype": "text/x-python",
      "name": "python",
      "nbconvert_exporter": "python",
      "pygments_lexer": "ipython3",
      "version": "3.6.1"
    }
  },
  "nbformat": 4,
  "nbformat_minor": 0
}