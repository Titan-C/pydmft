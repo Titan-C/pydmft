{
  "cells": [
    {
      "cell_type": "code",
      "execution_count": null,
      "metadata": {
        "collapsed": false
      },
      "outputs": [],
      "source": [
        "%matplotlib inline"
      ]
    },
    {
      "cell_type": "markdown",
      "metadata": {},
      "source": [
        "\n# IPT Hysteresis loop\n\n\nWithin the iterative perturbative theory (IPT) the aim is to find the\ncoexistance regions.\n\n\n"
      ]
    },
    {
      "cell_type": "code",
      "execution_count": null,
      "metadata": {
        "collapsed": false
      },
      "outputs": [],
      "source": [
        "from __future__ import division, absolute_import, print_function\n\nfrom dmft.ipt_imag import dmft_loop\nfrom dmft.common import greenF, tau_wn_setup, fit_gf\nfrom dmft.twosite import matsubara_Z\n\nimport numpy as np\nimport matplotlib.pylab as plt\n\n\ndef hysteresis(beta, u_range):\n    log_g_sig = []\n    tau, w_n = tau_wn_setup(dict(BETA=beta, N_MATSUBARA=beta))\n    g_iwn = greenF(w_n)\n    for u_int in u_range:\n        g_iwn, sigma = dmft_loop(u_int, 0.5, g_iwn, w_n, tau)\n        log_g_sig.append((g_iwn, sigma))\n    return log_g_sig\n\n\nU = np.linspace(0.1, 3.8, 41)\nU = np.concatenate((U, np.linspace(3.6, 2.4, 16)-0.05))\nresults = []\nbetarange = [16, 25, 50, 100, 200, 512]\nfor beta in betarange:\n    results.append(hysteresis(beta, U))"
      ]
    },
    {
      "cell_type": "markdown",
      "metadata": {},
      "source": [
        "Quasiparticle weight\n--------------------\n\n"
      ]
    },
    {
      "cell_type": "code",
      "execution_count": null,
      "metadata": {
        "collapsed": false
      },
      "outputs": [],
      "source": [
        "figz, axz = plt.subplots()\nfor beta, result in zip(betarange, results):\n    u_zet = [matsubara_Z(sigma.imag, beta) for _, sigma in result]\n    axz.plot(U, u_zet, '+-', label='$\\\\beta={}$'.format(beta))\n    axz.set_title('Hysteresis loop of the quasiparticle weigth')\n    axz.legend(loc=0)\n    axz.set_ylabel('Z')\n    axz.set_xlabel('U/D')\n    axz.set_title('Hysteresis loop of the Density of states')"
      ]
    },
    {
      "cell_type": "markdown",
      "metadata": {},
      "source": [
        "Spectral density at Fermi level\n-------------------------------\n\n"
      ]
    },
    {
      "cell_type": "code",
      "execution_count": null,
      "metadata": {
        "collapsed": false
      },
      "outputs": [],
      "source": [
        "figf, axf = plt.subplots()\nfor beta, result in zip(betarange, results):\n    tau, w_n = tau_wn_setup(dict(BETA=beta, N_MATSUBARA=3))\n    u_fl = [-fit_gf(w_n, g_iwn.imag)(0.)for g_iwn, _ in result]\n    axf.plot(U, u_fl, 'x:', label='$\\\\beta={}$'.format(beta))\n\naxf.set_ylabel('Dos(0)')\naxf.set_xlabel('U/D')"
      ]
    },
    {
      "cell_type": "markdown",
      "metadata": {},
      "source": [
        "Double occupation\n-----------------\n\nIs proportional to the Potential energy by the relation\n\n\\begin{align}\\langle n_\\uparrow n_\\downarrow \\rangle = \\frac{2}{U}\\langle V \\rangle+\\frac{1}{4}\\end{align}\n\ntaking the expression from `potential_energy`\n\n\\begin{align}\\langle V \\rangle = \\frac{1}{\\beta} \\sum_{n} \\frac{1}{2}\n    Tr(\\Sigma(i\\omega_n)G(i\\omega_n))\\end{align}\n\nWhich tail behaves as\n\n\\begin{align}\\Sigma G(i\\omega_n\\rightarrow \\infty) = \\frac{U^2}{4(i\\omega_n)^2}\\end{align}\n\nUpon which one can perform the sum including the tail\nanalytically. The trace for the single band does not influence in\nthis case. The required numerical expression becomes:\n\n\\begin{align}\\langle V \\rangle = \\frac{1}{\\beta} \\sum_{n=1}^{n_{max}}\\Re e \\left( \\Sigma(i\\omega_n)G(i\\omega_n) + \\frac{U^2}{4\\omega_n^2} \\right)-\\frac{U^2\\beta}{32}\\end{align}\n\n\n"
      ]
    },
    {
      "cell_type": "code",
      "execution_count": null,
      "metadata": {
        "collapsed": false
      },
      "outputs": [],
      "source": [
        "figd, axd = plt.subplots()\nfor beta, result in zip(betarange, results):\n    tau, w_n = tau_wn_setup(dict(BETA=beta, N_MATSUBARA=beta))\n    V = np.asarray([(s*g+u**2/4./w_n**2).real.sum()/beta\n                    for (g, s), u in zip(result, U)]) - beta*U**2/32.\n\n    D = 2./U*V + 0.25\n    axd.plot(U, D, '-', label='$\\\\beta={}$'.format(beta))\n\naxd.set_title('Hysteresis loop of the double occupation')\naxd.legend(loc=0)\naxd.set_ylabel(r'$\\langle n_\\uparrow n_\\downarrow \\rangle$')\naxd.set_xlabel('U/D')"
      ]
    }
  ],
  "metadata": {
    "kernelspec": {
      "display_name": "Python 3",
      "language": "python",
      "name": "python3"
    },
    "language_info": {
      "codemirror_mode": {
        "name": "ipython",
        "version": 3
      },
      "file_extension": ".py",
      "mimetype": "text/x-python",
      "name": "python",
      "nbconvert_exporter": "python",
      "pygments_lexer": "ipython3",
      "version": "3.6.1"
    }
  },
  "nbformat": 4,
  "nbformat_minor": 0
}