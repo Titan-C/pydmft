{
  "cells": [
    {
      "cell_type": "code",
      "execution_count": null,
      "metadata": {
        "collapsed": false
      },
      "outputs": [],
      "source": [
        "%matplotlib inline"
      ]
    },
    {
      "cell_type": "markdown",
      "metadata": {},
      "source": [
        "\n# Stability of the solutions in the coexistence region\n\n\nAs the Energy calculations from IPT source is not reliable enough\nanother methods is also tested to find about the first order line in\nthe transition.\n\n"
      ]
    },
    {
      "cell_type": "code",
      "execution_count": null,
      "metadata": {
        "collapsed": false
      },
      "outputs": [],
      "source": [
        "# Author: \u00d3scar N\u00e1jera\n\nfrom __future__ import division, absolute_import, print_function\nfrom math import ceil, log\nfrom functools import partial\nimport numpy as np\nimport matplotlib.pylab as plt\nfrom dmft.ipt_imag import dmft_loop\nfrom dmft.common import greenF, tau_wn_setup, fit_gf\n\n\ndef hysteresis(beta, u_range):\n    log_g = []\n    tau, w_n = tau_wn_setup(\n        dict(BETA=beta, N_MATSUBARA=max(2**ceil(log(2 * beta) / log(2)), 256)))\n    g_iwn = greenF(w_n)\n    for u_int in u_range:\n        g_iwn = dmft_loop(u_int, 0.5, g_iwn, w_n, tau, conv=1e-4)[0]\n        log_g.append(g_iwn)\n    dos = np.array([fit_gf(w_n[:3], gfs[:3].imag)(0.) for gfs in log_g])\n    return log_g, dos\n\n\ndef point_stability(g_met, g_ins, U, w_n, tau, c):\n    mixture = (1 - c) * g_ins + c * g_met\n    g_iwn_end, _ = dmft_loop(U, 0.5, mixture, w_n, tau, conv=1e-4)\n    return np.dot(g_iwn_end - mixture, mixture)\n\n\ndef stability(beta, metal_g, insulator_g, urange):\n    shift = []\n    tau, w_n = tau_wn_setup(\n        dict(BETA=beta, N_MATSUBARA=max(2**ceil(log(2 * beta) / log(2)), 256)))\n    for g_met, g_ins, U in zip(metal_g, insulator_g, urange):\n        stab = partial(point_stability, g_met, g_ins, U, w_n, tau)\n        shift.append(0.1 * np.sum([stab(c) for c in np.arange(0, 1, .1)]))\n\n    return np.array(shift)\n\nurange = np.linspace(2.4, 3.6, 41)\n\nTEMP = np.arange(1 / 512., .06, 1 / 256)\nshift_log = []\ndos_log = []\nfor BETA in 1 / TEMP:\n    metalG, Mdos = hysteresis(BETA, urange)\n    insulatorG, Idos = hysteresis(BETA, urange[::-1])\n    shift_log.append(stability(BETA, metalG, insulatorG[::-1], urange))\n    dos_log.append((Mdos, Idos))"
      ]
    },
    {
      "cell_type": "markdown",
      "metadata": {},
      "source": [
        "Functional cost for transitioning from insulator to metal\n---------------------------------------------------------\n\nFollowing Moeller, G., Dobrosavljevi\\'c, V., & Ruckenstein,\nA. (1999). RKKY interactions and the Mott transition. Physical\nReview B, 59(10), 6846\u20136854. I formulate the expense of\ntransitioning from one solution to the other.\n\n"
      ]
    },
    {
      "cell_type": "code",
      "execution_count": null,
      "metadata": {
        "collapsed": false
      },
      "outputs": [],
      "source": [
        "Deltas = np.array(shift_log).real\n\nplt.figure()\nfor t, df in zip(TEMP, Deltas):\n    plt.plot(urange, df + t, 'k')\n\n\ncrossing = [3.39, 3.33, 3.24, 3.12, 3.01,\n            2.92, 2.82, 2.73, 2.65, 2.6, 2.54, 2.52]\nUC1 = np.array([2.57, 2.57, 2.57, 2.57, 2.55, 2.55,\n                2.55, 2.52, 2.52, 2.49, 2.49, 2.49]) + .02\nUC2 = np.array([3.39, 3.33, 3.24, 3.18, 3.06, 2.97,\n                2.88, 2.78, 2.7, 2.6, 2.54, 2.52])\n\nplt.plot(crossing, TEMP[:len(crossing)], lw=2)\nplt.plot(UC1, TEMP[:len(crossing)], lw=2)\nplt.plot(UC2, TEMP[:len(crossing)], lw=2)\nplt.xlabel(r'$U/D$')\nplt.ylabel(r'$F$ + $T/D$')\nplt.title('Functional cost to transition to metal')\nx, y = np.meshgrid(urange, TEMP)\nplt.axis([x.min(), x.max(), 0, y.max()])"
      ]
    },
    {
      "cell_type": "markdown",
      "metadata": {},
      "source": [
        "Colorful phase diagram with density of states at Fermi level\n------------------------------------------------------------\n\n"
      ]
    },
    {
      "cell_type": "code",
      "execution_count": null,
      "metadata": {
        "collapsed": false
      },
      "outputs": [],
      "source": [
        "metal_dos = np.array(dos_log)[:, 0]\ninsulator_dos = np.array(dos_log)[:, 1]\n\n\nplt.figure(1)\nplt.pcolormesh(x, y, -metal_dos, cmap=plt.get_cmap(r'viridis'), vmin=0, vmax=2)\nplt.colorbar()\n\nz = np.ma.masked_array(-insulator_dos, -insulator_dos > .25)\nplt.pcolormesh(x, y, z, alpha=.15, cmap=plt.get_cmap(\n    r'viridis'), vmin=0, vmax=2)\n\nplt.axis([x.min(), x.max(), 0, y.max()])\nplt.xlabel(r'$U/D$')\nplt.ylabel(r'$T/D$')\nplt.title(\n    'Phase diagram \\n color represents $-\\\\Im G_{{AA}}(0)$')\nplt.plot(crossing, TEMP[:len(crossing)], lw=2)\nplt.plot(UC1, TEMP[:len(crossing)], lw=2)\nplt.plot(UC2, TEMP[:len(crossing)], lw=2)"
      ]
    }
  ],
  "metadata": {
    "kernelspec": {
      "display_name": "Python 3",
      "language": "python",
      "name": "python3"
    },
    "language_info": {
      "codemirror_mode": {
        "name": "ipython",
        "version": 3
      },
      "file_extension": ".py",
      "mimetype": "text/x-python",
      "name": "python",
      "nbconvert_exporter": "python",
      "pygments_lexer": "ipython3",
      "version": "3.6.1"
    }
  },
  "nbformat": 4,
  "nbformat_minor": 0
}