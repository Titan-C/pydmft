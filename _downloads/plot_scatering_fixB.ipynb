{
  "cells": [
    {
      "cell_type": "code",
      "execution_count": null,
      "metadata": {
        "collapsed": false
      },
      "outputs": [],
      "source": [
        "%matplotlib inline"
      ]
    },
    {
      "cell_type": "markdown",
      "metadata": {},
      "source": [
        "\nScattering rates change across the Metal Insulator Transition\n=============================================================\n\nExplore the low energy expansion of the Matsubara self-energy. The\nzero frequency value being the scattering rate.\n"
      ]
    },
    {
      "cell_type": "code",
      "execution_count": null,
      "metadata": {
        "collapsed": false
      },
      "outputs": [],
      "source": [
        "# Created Mon Mar  7 01:14:02 2016\n# Author: \u00d3scar N\u00e1jera\n\nfrom __future__ import division, absolute_import, print_function\n\nfrom math import log, ceil\nimport numpy as np\nimport matplotlib.pyplot as plt\nimport dmft.dimer as dimer\nimport dmft.common as gf\nimport dmft.ipt_imag as ipt\nplt.matplotlib.rcParams.update({'axes.labelsize': 22,\n                                'xtick.labelsize': 14, 'ytick.labelsize': 14,\n                                'axes.titlesize': 22})\n\n\ndef loop_u_tp(u_range, tp_range, beta, seed='mott gap'):\n    \"\"\"Solves IPT dimer and return Im Sigma_AA, Re Simga_AB\n\n    returns list len(betarange) x 2 Sigma arrays\n\"\"\"\n    tau, w_n = gf.tau_wn_setup(\n        dict(BETA=beta, N_MATSUBARA=max(2**ceil(log(4 * beta) / log(2)), 256)))\n    giw_d, giw_o = dimer.gf_met(w_n, 0., 0., 0.5, 0.)\n    if seed == 'I':\n        giw_d, giw_o = 1 / (1j * w_n - 4j / w_n), np.zeros_like(w_n) + 0j\n\n    sigma_iw = []\n    iterations = []\n    for tp, u_int in zip(tp_range, u_range):\n        giw_d, giw_o, loops = dimer.ipt_dmft_loop(\n            beta, u_int, tp, giw_d, giw_o, tau, w_n, 1e-3)\n        iterations.append(loops)\n        g0iw_d, g0iw_o = dimer.self_consistency(\n            1j * w_n, 1j * giw_d.imag, giw_o.real, 0., tp, 0.25)\n        siw_d, siw_o = ipt.dimer_sigma(u_int, tp, g0iw_d, g0iw_o, tau, w_n)\n        sigma_iw.append((siw_d.imag, siw_o.real))\n\n    print(np.array(iterations))\n\n    return sigma_iw\n\nU_int = np.arange(.5, 4.5, 0.1)\nsigmasM_Ur = loop_u_tp(U_int, .3 * np.ones_like(U_int), 200., 'M')\nsigmasI_Ur = loop_u_tp(U_int[::-1], .3 * np.ones_like(U_int), 200., 'I')[::-1]"
      ]
    },
    {
      "cell_type": "code",
      "execution_count": null,
      "metadata": {
        "collapsed": false
      },
      "outputs": [],
      "source": [
        "def plot_zero_w(function_array, iter_range, beta, entry, label_head, ax, dx):\n    \"\"\"Plot the zero frequency extrapolation of a function\n    Parameters\n    ----------\n    function_array: real ndarray\n      contains the function (G, Sigma) to linearly fit over 2 first frequencies\n    iter_range: list floats\n      values of changing variable U or tp\n    berarange: real ndarray 1D, values of beta\n    entry: 0, 1 corresponds to diagonal or off-diagonal entry of function\n    label_head: string for label\n    ax, dx: matplotlib axis to plot in\n    \"\"\"\n    tau, w_n = gf.tau_wn_setup(dict(BETA=beta, N_MATSUBARA=20))\n\n    dat = []\n    for j, u in enumerate(iter_range):\n        dat.append(np.polyfit(w_n[:2], function_array[j][entry][:2], 1))\n    ax.plot(iter_range, -np.array(dat)[:, 1], label=label_head)\n    dx.plot(iter_range, -np.array(dat)[:, 0], label=label_head)\n\n\nf, (si, ds) = plt.subplots(2, 2, sharex=True)\nplot_zero_w(sigmasI_Ur, U_int, 100., 0, 'INS', si[0], ds[0])\nplot_zero_w(sigmasM_Ur, U_int, 100., 0, 'MET', si[0], ds[0])\nplot_zero_w(sigmasI_Ur, U_int, 100., 1, 'INS', si[1], ds[1])\nplot_zero_w(sigmasM_Ur, U_int, 100., 1, 'MET', si[1], ds[1])\n\nsi[0].legend(loc=0, prop={'size': 8})\n\nsi[0].set_ylabel(r'-$\\Im \\Sigma_{AA}(w=0)$')\nds[0].set_ylabel(r'-$\\Im d\\Sigma_{AA}(w=0)$')\nsi[1].set_ylabel(r'-$\\Re \\Sigma_{AB}(w=0)$')\nds[1].set_ylabel(r'-$\\Re d\\Sigma_{AB}(w=0)$')\n\nds[0].set_xlabel('$U/D$')\nds[1].set_xlabel('$U/D$')"
      ]
    }
  ],
  "metadata": {
    "kernelspec": {
      "display_name": "Python 3",
      "language": "python",
      "name": "python3"
    },
    "language_info": {
      "codemirror_mode": {
        "name": "ipython",
        "version": 3
      },
      "file_extension": ".py",
      "mimetype": "text/x-python",
      "name": "python",
      "nbconvert_exporter": "python",
      "pygments_lexer": "ipython3",
      "version": "3.6.1"
    }
  },
  "nbformat": 4,
  "nbformat_minor": 0
}